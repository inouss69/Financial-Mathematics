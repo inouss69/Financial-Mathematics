{
 "cells": [
  {
   "cell_type": "markdown",
   "id": "9b2adf92-a689-4788-a509-e8b873eedce2",
   "metadata": {},
   "source": [
    "<header style=\"background-color: rgb(0, 62, 92); color: white; margin-top: 20px; padding:28px; \">\n",
    "  <img src=\"Xlogo.png\" alt=\"Transposition of a vector\" title=\"Vector transposition\" width=\"115\" style=\"float: left;\">\n",
    "  <p style=\" text-align: center; font-size: 32px;\">   \n",
    "  <strong> Prédiction de prix de BITCOIN avec Deep Learning  </strong></p>\n",
    "  <p style=\" text-align: center; font-size: 25px;\"><strong> </strong></p>\n",
    "  <p style=\" text-align: center; font-size: 20px;\">YELPOUGDOU INOUSSA   </p>\n",
    "</header>"
   ]
  },
  {
   "cell_type": "code",
   "execution_count": 1,
   "id": "c07e6a0d",
   "metadata": {},
   "outputs": [],
   "source": [
    "import numpy as np\n",
    "import pandas as pd\n",
    "import seaborn as sns\n",
    "import matplotlib.pyplot as plt\n",
    "import tensorflow as tf\n",
    "\n",
    "from keras.models import Sequential\n",
    "from keras.layers import Dense, SimpleRNN, Dropout, LSTM\n",
    "from sklearn.preprocessing import MinMaxScaler, StandardScaler\n",
    "from sklearn.metrics import mean_absolute_error, mean_squared_error, mean_absolute_percentage_error"
   ]
  },
  {
   "cell_type": "markdown",
   "id": "0e9bef5c",
   "metadata": {},
   "source": [
    "# Introduction:"
   ]
  },
  {
   "cell_type": "markdown",
   "id": "b1eb4984",
   "metadata": {},
   "source": [
    "La cryptomonnaie est devenue un sujet crucial dans le monde des investissements car les fluctuations constantes de ces devises numériques ont rendu difficile la tâche des traders pour prendre des décisions éclairées sur l'achat ou la vente de ces actifs, si bien que la prédiction des prix des cryptomonnaies est une question qui préoccupe beaucoup les investisseurs. La technologie de Deep Learning est une approche prometteuse pour résoudre ce problème et prédire avec précision le prix des cryptomonnaies.\n",
    "\n",
    "Dans le cadre de notre projet de prédiction de cryptomonnaies, nous avons utilisé des méthodes de Deep Learning pour prédire le prix du Bitcoin. Notre objectif était de créer un modèle de prédiction robuste qui pourrait prédire avec précision le prix futur du Bitcoin en utilisant les données historiques de la cryptomonnaie.\n",
    "\n",
    "Nos modèles utilisent plusieurs architectures de réseaux de neurones (LSTM, Conv1D, N-BEATS) qui sont des architectures de réseau de neurones capable de traiter et de prédire des séquences de données complexes. Nous avons formé notre modèle en utilisant des données historiques du prix du Bitcoin et avons testé son efficacité en utilisant des données en temps réel.\n",
    "\n",
    "Méthodes de prédictions des crytomonnaies\n",
    "\n",
    "Il existe plusieurs approches pour prédire le prix des crypto monnaies, notamment l'analyse technique, l'analyse fondamentale, l'apprentissage automatique et le Deep Learning. L'analyse technique consiste à étudier les graphiques de prix passés pour identifier des tendances et des modèles qui pourraient indiquer les mouvements futurs des prix. L'analyse fondamentale, quant à elle, consiste à étudier les fondamentaux économiques de la cryptomonnaie, tels que les facteurs économiques, politiques et sociaux, pour déterminer la valeur fondamentale de la cryptomonnaie.\n",
    "\n",
    "L'apprentissage automatique et le Deep Learning sont des approches plus avancées pour prédire le prix des crypto monnaies. L'apprentissage automatique utilise des algorithmes d'apprentissage pour analyser les données historiques et identifier des modèles qui peuvent être utilisés pour prédire le prix futur. Le Deep Learning est une forme avancée d'apprentissage automatique qui utilise des réseaux de neurones artificiels pour apprendre et prédire des séquences de données complexes.\n",
    "\n",
    "Dans cet projet, nous allons discuter en détail du processus de prédiction du prix des cryptomonnaies en utilisant un modèle de deep learning. Nous allons également explorer les meilleures expériences pour entraîner les modèles de deep learning, ainsi que les techniques d'analyse des données qui peuvent être utilisées pour améliorer la précision de la prédiction des prix.\n",
    "\n",
    "Nous avons utilisé le Bitcoin qui est la cryptomonnaie de référence sur les marchés financiers . Pour ce faire, nous avons téléchargé le jeu de données historiqes du BTC depuis sa première cotation jusqu'au 12 février 2023.\n",
    "\n",
    "Sans plus tarder, importons nos données et manipulons les dans le but de prédire le prix du Bitcoin."
   ]
  },
  {
   "cell_type": "code",
   "execution_count": 2,
   "id": "293079d3",
   "metadata": {},
   "outputs": [],
   "source": [
    "bitcoin_price=pd.read_csv('BTC-EUR.csv')"
   ]
  },
  {
   "cell_type": "code",
   "execution_count": 3,
   "id": "9f94db19",
   "metadata": {},
   "outputs": [
    {
     "data": {
      "text/html": [
       "<div>\n",
       "<style scoped>\n",
       "    .dataframe tbody tr th:only-of-type {\n",
       "        vertical-align: middle;\n",
       "    }\n",
       "\n",
       "    .dataframe tbody tr th {\n",
       "        vertical-align: top;\n",
       "    }\n",
       "\n",
       "    .dataframe thead th {\n",
       "        text-align: right;\n",
       "    }\n",
       "</style>\n",
       "<table border=\"1\" class=\"dataframe\">\n",
       "  <thead>\n",
       "    <tr style=\"text-align: right;\">\n",
       "      <th></th>\n",
       "      <th>Date</th>\n",
       "      <th>Open</th>\n",
       "      <th>High</th>\n",
       "      <th>Low</th>\n",
       "      <th>Close</th>\n",
       "      <th>Adj Close</th>\n",
       "      <th>Volume</th>\n",
       "    </tr>\n",
       "  </thead>\n",
       "  <tbody>\n",
       "    <tr>\n",
       "      <th>0</th>\n",
       "      <td>2023-02-22</td>\n",
       "      <td>22942.826172</td>\n",
       "      <td>22972.332031</td>\n",
       "      <td>22263.158203</td>\n",
       "      <td>22807.732422</td>\n",
       "      <td>22807.732422</td>\n",
       "      <td>28475667565</td>\n",
       "    </tr>\n",
       "    <tr>\n",
       "      <th>1</th>\n",
       "      <td>2023-02-23</td>\n",
       "      <td>22809.501953</td>\n",
       "      <td>23132.164063</td>\n",
       "      <td>22337.939453</td>\n",
       "      <td>22597.166016</td>\n",
       "      <td>22597.166016</td>\n",
       "      <td>28757798964</td>\n",
       "    </tr>\n",
       "    <tr>\n",
       "      <th>2</th>\n",
       "      <td>2023-02-24</td>\n",
       "      <td>22595.763672</td>\n",
       "      <td>22725.429688</td>\n",
       "      <td>21807.943359</td>\n",
       "      <td>21916.640625</td>\n",
       "      <td>21916.640625</td>\n",
       "      <td>25330637326</td>\n",
       "    </tr>\n",
       "    <tr>\n",
       "      <th>3</th>\n",
       "      <td>2023-02-25</td>\n",
       "      <td>21918.527344</td>\n",
       "      <td>21926.546875</td>\n",
       "      <td>21623.605469</td>\n",
       "      <td>21920.429688</td>\n",
       "      <td>21920.429688</td>\n",
       "      <td>15228867492</td>\n",
       "    </tr>\n",
       "    <tr>\n",
       "      <th>4</th>\n",
       "      <td>2023-02-26</td>\n",
       "      <td>21919.269531</td>\n",
       "      <td>22421.406250</td>\n",
       "      <td>21834.210938</td>\n",
       "      <td>22325.521484</td>\n",
       "      <td>22325.521484</td>\n",
       "      <td>15771595568</td>\n",
       "    </tr>\n",
       "  </tbody>\n",
       "</table>\n",
       "</div>"
      ],
      "text/plain": [
       "         Date          Open          High           Low         Close  \\\n",
       "0  2023-02-22  22942.826172  22972.332031  22263.158203  22807.732422   \n",
       "1  2023-02-23  22809.501953  23132.164063  22337.939453  22597.166016   \n",
       "2  2023-02-24  22595.763672  22725.429688  21807.943359  21916.640625   \n",
       "3  2023-02-25  21918.527344  21926.546875  21623.605469  21920.429688   \n",
       "4  2023-02-26  21919.269531  22421.406250  21834.210938  22325.521484   \n",
       "\n",
       "      Adj Close       Volume  \n",
       "0  22807.732422  28475667565  \n",
       "1  22597.166016  28757798964  \n",
       "2  21916.640625  25330637326  \n",
       "3  21920.429688  15228867492  \n",
       "4  22325.521484  15771595568  "
      ]
     },
     "execution_count": 3,
     "metadata": {},
     "output_type": "execute_result"
    }
   ],
   "source": [
    "bitcoin_price.head()"
   ]
  },
  {
   "cell_type": "markdown",
   "id": "c17b0532",
   "metadata": {},
   "source": [
    "# Preprocessing des données"
   ]
  },
  {
   "cell_type": "markdown",
   "id": "6e2b6393",
   "metadata": {},
   "source": [
    "Fonctions de preprocessing des données\n",
    "\n",
    "Convertion de la colonne date dans la dataframe en type datetime avec pd.to_datetime() : cela permet a pandas de convertir une chaine de caractère censée représenter une date en type DatetimeIndex qui est le format standard de pandas en python pour stocker et manipuler les dates.\n",
    "\n",
    "Nous allons trier la colonne date par odre croissant depuis le début de la première cotation du BTC jusqu'à maintenant . Cela nous permettra de représenter graphiquement l'évolution du BTC au travers du temps de manière chronologique.\n",
    "\n",
    "Nous allons fixer la colonne date qui, rappelons le est de type DatetimeIndex en indice. Cela nous permet de retrouver ou d'indexer comme dans Excel une ligne non plus au travers de son numéro mais au travers de la date. Cele nous assure que l'on travaille bien avec une série temporelle et que les données sont bien indexées par le temps. Cela peut etre fait au travers de la fonction nom_du_dataframe.set_index() .\n",
    "\n",
    "Lorsque nous avons une série temporelle de prix, une étape crucuiale est de définir sa fréquence d'observation. La fréquence peut etre définie comme le nombre d'observation par unité de temps. Vu que le BTC est échangé sur les exchanges et que les exchanges n'ouvrent pas les weeks-ends, il est important de définir une fréquence d'observation des données qui prend en compte les jours de marchés ou non. Dans notre cas, nous avons utilisé une fréquence de de 'B' qui signifie Business Day ( littéralement jour de travail ). "
   ]
  },
  {
   "cell_type": "code",
   "execution_count": 4,
   "id": "33b00d4b",
   "metadata": {},
   "outputs": [
    {
     "data": {
      "text/html": [
       "<div>\n",
       "<style scoped>\n",
       "    .dataframe tbody tr th:only-of-type {\n",
       "        vertical-align: middle;\n",
       "    }\n",
       "\n",
       "    .dataframe tbody tr th {\n",
       "        vertical-align: top;\n",
       "    }\n",
       "\n",
       "    .dataframe thead th {\n",
       "        text-align: right;\n",
       "    }\n",
       "</style>\n",
       "<table border=\"1\" class=\"dataframe\">\n",
       "  <thead>\n",
       "    <tr style=\"text-align: right;\">\n",
       "      <th></th>\n",
       "      <th>Date</th>\n",
       "      <th>Open</th>\n",
       "      <th>High</th>\n",
       "      <th>Low</th>\n",
       "      <th>Close</th>\n",
       "      <th>Adj Close</th>\n",
       "      <th>Volume</th>\n",
       "    </tr>\n",
       "  </thead>\n",
       "  <tbody>\n",
       "    <tr>\n",
       "      <th>0</th>\n",
       "      <td>2023-02-22</td>\n",
       "      <td>22942.826172</td>\n",
       "      <td>22972.332031</td>\n",
       "      <td>22263.158203</td>\n",
       "      <td>22807.732422</td>\n",
       "      <td>22807.732422</td>\n",
       "      <td>28475667565</td>\n",
       "    </tr>\n",
       "    <tr>\n",
       "      <th>1</th>\n",
       "      <td>2023-02-23</td>\n",
       "      <td>22809.501953</td>\n",
       "      <td>23132.164063</td>\n",
       "      <td>22337.939453</td>\n",
       "      <td>22597.166016</td>\n",
       "      <td>22597.166016</td>\n",
       "      <td>28757798964</td>\n",
       "    </tr>\n",
       "    <tr>\n",
       "      <th>2</th>\n",
       "      <td>2023-02-24</td>\n",
       "      <td>22595.763672</td>\n",
       "      <td>22725.429688</td>\n",
       "      <td>21807.943359</td>\n",
       "      <td>21916.640625</td>\n",
       "      <td>21916.640625</td>\n",
       "      <td>25330637326</td>\n",
       "    </tr>\n",
       "    <tr>\n",
       "      <th>3</th>\n",
       "      <td>2023-02-25</td>\n",
       "      <td>21918.527344</td>\n",
       "      <td>21926.546875</td>\n",
       "      <td>21623.605469</td>\n",
       "      <td>21920.429688</td>\n",
       "      <td>21920.429688</td>\n",
       "      <td>15228867492</td>\n",
       "    </tr>\n",
       "    <tr>\n",
       "      <th>4</th>\n",
       "      <td>2023-02-26</td>\n",
       "      <td>21919.269531</td>\n",
       "      <td>22421.406250</td>\n",
       "      <td>21834.210938</td>\n",
       "      <td>22325.521484</td>\n",
       "      <td>22325.521484</td>\n",
       "      <td>15771595568</td>\n",
       "    </tr>\n",
       "  </tbody>\n",
       "</table>\n",
       "</div>"
      ],
      "text/plain": [
       "         Date          Open          High           Low         Close  \\\n",
       "0  2023-02-22  22942.826172  22972.332031  22263.158203  22807.732422   \n",
       "1  2023-02-23  22809.501953  23132.164063  22337.939453  22597.166016   \n",
       "2  2023-02-24  22595.763672  22725.429688  21807.943359  21916.640625   \n",
       "3  2023-02-25  21918.527344  21926.546875  21623.605469  21920.429688   \n",
       "4  2023-02-26  21919.269531  22421.406250  21834.210938  22325.521484   \n",
       "\n",
       "      Adj Close       Volume  \n",
       "0  22807.732422  28475667565  \n",
       "1  22597.166016  28757798964  \n",
       "2  21916.640625  25330637326  \n",
       "3  21920.429688  15228867492  \n",
       "4  22325.521484  15771595568  "
      ]
     },
     "execution_count": 4,
     "metadata": {},
     "output_type": "execute_result"
    }
   ],
   "source": [
    "bitcoin_price.head()"
   ]
  },
  {
   "cell_type": "code",
   "execution_count": 5,
   "id": "499a73ec",
   "metadata": {},
   "outputs": [
    {
     "data": {
      "text/html": [
       "<div>\n",
       "<style scoped>\n",
       "    .dataframe tbody tr th:only-of-type {\n",
       "        vertical-align: middle;\n",
       "    }\n",
       "\n",
       "    .dataframe tbody tr th {\n",
       "        vertical-align: top;\n",
       "    }\n",
       "\n",
       "    .dataframe thead th {\n",
       "        text-align: right;\n",
       "    }\n",
       "</style>\n",
       "<table border=\"1\" class=\"dataframe\">\n",
       "  <thead>\n",
       "    <tr style=\"text-align: right;\">\n",
       "      <th></th>\n",
       "      <th>Date</th>\n",
       "      <th>Open</th>\n",
       "      <th>High</th>\n",
       "      <th>Low</th>\n",
       "      <th>Close</th>\n",
       "      <th>Adj Close</th>\n",
       "      <th>Volume</th>\n",
       "    </tr>\n",
       "  </thead>\n",
       "  <tbody>\n",
       "    <tr>\n",
       "      <th>361</th>\n",
       "      <td>2024-02-18</td>\n",
       "      <td>48401.339844</td>\n",
       "      <td>48429.398438</td>\n",
       "      <td>47016.890625</td>\n",
       "      <td>47938.609375</td>\n",
       "      <td>47938.609375</td>\n",
       "      <td>18566635635</td>\n",
       "    </tr>\n",
       "    <tr>\n",
       "      <th>362</th>\n",
       "      <td>2024-02-19</td>\n",
       "      <td>47937.660156</td>\n",
       "      <td>48567.261719</td>\n",
       "      <td>47540.269531</td>\n",
       "      <td>48333.652344</td>\n",
       "      <td>48333.652344</td>\n",
       "      <td>16316334143</td>\n",
       "    </tr>\n",
       "    <tr>\n",
       "      <th>363</th>\n",
       "      <td>2024-02-20</td>\n",
       "      <td>48345.027344</td>\n",
       "      <td>48653.566406</td>\n",
       "      <td>47961.472656</td>\n",
       "      <td>48051.406250</td>\n",
       "      <td>48051.406250</td>\n",
       "      <td>19824256609</td>\n",
       "    </tr>\n",
       "    <tr>\n",
       "      <th>364</th>\n",
       "      <td>2024-02-21</td>\n",
       "      <td>48050.093750</td>\n",
       "      <td>48954.847656</td>\n",
       "      <td>46978.164063</td>\n",
       "      <td>48367.378906</td>\n",
       "      <td>48367.378906</td>\n",
       "      <td>30854694565</td>\n",
       "    </tr>\n",
       "    <tr>\n",
       "      <th>365</th>\n",
       "      <td>2024-02-22</td>\n",
       "      <td>47923.285156</td>\n",
       "      <td>48053.320313</td>\n",
       "      <td>47031.449219</td>\n",
       "      <td>47718.789063</td>\n",
       "      <td>47718.789063</td>\n",
       "      <td>23819526144</td>\n",
       "    </tr>\n",
       "  </tbody>\n",
       "</table>\n",
       "</div>"
      ],
      "text/plain": [
       "           Date          Open          High           Low         Close  \\\n",
       "361  2024-02-18  48401.339844  48429.398438  47016.890625  47938.609375   \n",
       "362  2024-02-19  47937.660156  48567.261719  47540.269531  48333.652344   \n",
       "363  2024-02-20  48345.027344  48653.566406  47961.472656  48051.406250   \n",
       "364  2024-02-21  48050.093750  48954.847656  46978.164063  48367.378906   \n",
       "365  2024-02-22  47923.285156  48053.320313  47031.449219  47718.789063   \n",
       "\n",
       "        Adj Close       Volume  \n",
       "361  47938.609375  18566635635  \n",
       "362  48333.652344  16316334143  \n",
       "363  48051.406250  19824256609  \n",
       "364  48367.378906  30854694565  \n",
       "365  47718.789063  23819526144  "
      ]
     },
     "execution_count": 5,
     "metadata": {},
     "output_type": "execute_result"
    }
   ],
   "source": [
    "bitcoin_price.tail()"
   ]
  },
  {
   "cell_type": "markdown",
   "id": "1d77ab09",
   "metadata": {},
   "source": [
    "Représentation graphique du jeu de données : Comment le bitcoin a évolué depuis le 22-02-2023 jusqu'au 22-02-2024"
   ]
  },
  {
   "cell_type": "code",
   "execution_count": 6,
   "id": "f4a6b6e8",
   "metadata": {},
   "outputs": [],
   "source": [
    "prix=bitcoin_price[\"Close\"]\n",
    "dates=bitcoin_price[\"Date\"]"
   ]
  },
  {
   "cell_type": "code",
   "execution_count": 7,
   "id": "ca07b2e9",
   "metadata": {},
   "outputs": [
    {
     "data": {
      "image/png": "[encoded data removed]",
      "text/plain": [
       "<Figure size 1200x800 with 1 Axes>"
      ]
     },
     "metadata": {},
     "output_type": "display_data"
    }
   ],
   "source": [
    "import matplotlib.dates as mdates\n",
    "fig , ax = plt.subplots(figsize=(12,8))\n",
    "ax.plot(dates,prix,color='blue')\n",
    "ax.set_xlabel('Date')\n",
    "ax.set_ylabel('Bitcoin Closing Price Time Series Since First Cotation')\n",
    "ax.set_title('Historical Bitcoin Price Over Time')\n",
    "plt.gca().xaxis.set_major_locator(mdates.MonthLocator(interval=3))  # Affiche une étiquette tous les 3 mois\n",
    "#plt.gca().xaxis.set_major_formatter(mdates.DateFormatter('%Y-%m'))  # Format simplifié (AAAA-MM)\n",
    "plt.xticks(rotation=45)\n",
    "ax.grid(False)\n",
    "plt.show()"
   ]
  },
  {
   "cell_type": "markdown",
   "id": "04cba87b",
   "metadata": {},
   "source": [
    "Dans la suite de notre projet, nous allons seulement comme il est de coutume, retenir seulement la colonne Close des données historiques pour effectuer notre modélisation et nos prédictions car cette dernière est pertinente et contient les informations majeures du BTC sur le marché en tant que prix."
   ]
  },
  {
   "cell_type": "code",
   "execution_count": 8,
   "id": "e5c3a8ec",
   "metadata": {},
   "outputs": [],
   "source": [
    "bitcoin_price['Date'] = pd.to_datetime(bitcoin_price['Date'])  # convertion de la date en type datetime "
   ]
  },
  {
   "cell_type": "code",
   "execution_count": 9,
   "id": "84a138de",
   "metadata": {},
   "outputs": [],
   "source": [
    "bitcoin_price = bitcoin_price.sort_values('Date',ascending=True) # trie de la colonne date en ordre croissant "
   ]
  },
  {
   "cell_type": "code",
   "execution_count": 10,
   "id": "31fba4a5",
   "metadata": {},
   "outputs": [],
   "source": [
    "bitcoin_price=bitcoin_price.set_index('Date')"
   ]
  },
  {
   "cell_type": "code",
   "execution_count": 11,
   "id": "11c30aed",
   "metadata": {},
   "outputs": [],
   "source": [
    "bitcoin_price = bitcoin_price.asfreq('B')"
   ]
  },
  {
   "cell_type": "code",
   "execution_count": 12,
   "id": "5ddb6729",
   "metadata": {},
   "outputs": [],
   "source": [
    "bitcoin_price=bitcoin_price.loc[:,['Close']]"
   ]
  },
  {
   "cell_type": "code",
   "execution_count": 13,
   "id": "96de0def",
   "metadata": {},
   "outputs": [
    {
     "data": {
      "text/html": [
       "<div>\n",
       "<style scoped>\n",
       "    .dataframe tbody tr th:only-of-type {\n",
       "        vertical-align: middle;\n",
       "    }\n",
       "\n",
       "    .dataframe tbody tr th {\n",
       "        vertical-align: top;\n",
       "    }\n",
       "\n",
       "    .dataframe thead th {\n",
       "        text-align: right;\n",
       "    }\n",
       "</style>\n",
       "<table border=\"1\" class=\"dataframe\">\n",
       "  <thead>\n",
       "    <tr style=\"text-align: right;\">\n",
       "      <th></th>\n",
       "      <th>Close</th>\n",
       "    </tr>\n",
       "    <tr>\n",
       "      <th>Date</th>\n",
       "      <th></th>\n",
       "    </tr>\n",
       "  </thead>\n",
       "  <tbody>\n",
       "    <tr>\n",
       "      <th>2023-02-22</th>\n",
       "      <td>22807.732422</td>\n",
       "    </tr>\n",
       "    <tr>\n",
       "      <th>2023-02-23</th>\n",
       "      <td>22597.166016</td>\n",
       "    </tr>\n",
       "    <tr>\n",
       "      <th>2023-02-24</th>\n",
       "      <td>21916.640625</td>\n",
       "    </tr>\n",
       "    <tr>\n",
       "      <th>2023-02-27</th>\n",
       "      <td>22171.482422</td>\n",
       "    </tr>\n",
       "    <tr>\n",
       "      <th>2023-02-28</th>\n",
       "      <td>21885.335938</td>\n",
       "    </tr>\n",
       "  </tbody>\n",
       "</table>\n",
       "</div>"
      ],
      "text/plain": [
       "                   Close\n",
       "Date                    \n",
       "2023-02-22  22807.732422\n",
       "2023-02-23  22597.166016\n",
       "2023-02-24  21916.640625\n",
       "2023-02-27  22171.482422\n",
       "2023-02-28  21885.335938"
      ]
     },
     "execution_count": 13,
     "metadata": {},
     "output_type": "execute_result"
    }
   ],
   "source": [
    "bitcoin_price.head()"
   ]
  },
  {
   "cell_type": "markdown",
   "id": "9bcda460",
   "metadata": {},
   "source": [
    "Séparation de la base de données en base d'entrainement et de test\n",
    "\n",
    "Nous allons tenter de subdiviser notre base de données en base d'entrainement et en base de test. Notre objectif étant de prédire le cours du BTC avec de réseaux de neurones, nous devons pour ce faire subdiviser notre base de donnée en deux :\n",
    "\n",
    "Une base d'entrainement : C'est la base sur laquelle nous allons entrainer notre modèle de réseaux de neurones. Nous allons faire apprendre a ce dernier a découvrir le type de relations mathématiques, donc de modèle mathémathique qui existe entre le prix du BTC par exemple le huitème jour sur base des 7 derniers jours avant. Autrement dit, on essaie de trouver la relation mathématique au travers d'un réseau de neurones entre le prix observé le 8ième jour de cotation du BTC (ou le 31ième, ou le 41ième, ou le 51ième jour, etc...) et les 7 derniers jours ( ou les 30, 40 ou 50 derniers ) de cotation historique avant. Cette phase est essentiellement une phase de modélisation.\n",
    "\n",
    "Une base de test : Une fois la relation/l'équation mathématique qui gouverne les prix historiques du BTC est découverte, cette dernière permetterait de prendre historiquement 07 jours observés(ou les 30, ou les 40, ou les 50, etc...) de la base de test du prix du BTC pour prédire le prix du 8ième (ou le 31ième, ou le 41ième, ou le 51ième, etc..) jour correspondant au prix donné par le modèle. Vu que nous travaillons sur des données observées historiquement sur le marché et que de fait nous avons les vrais valeurs, nous allons ainsi quantifier a quel point notre réseau de neurones performe ou pas via des métriques en comparant les résultats que notre modèle nous donne et les observations réalisées sur le marché au travers de la base de test.\n",
    "\n",
    "Pour subdiviser nos données nous allons prendre 80% des données comme base d'entrainement et 20% des données comme la base de test."
   ]
  },
  {
   "cell_type": "code",
   "execution_count": 14,
   "id": "70d3190a",
   "metadata": {},
   "outputs": [
    {
     "data": {
      "text/plain": [
       "(array(['2023-02-22T00:00:00.000000000', '2023-02-23T00:00:00.000000000',\n",
       "        '2023-02-24T00:00:00.000000000', '2023-02-27T00:00:00.000000000',\n",
       "        '2023-02-28T00:00:00.000000000', '2023-03-01T00:00:00.000000000',\n",
       "        '2023-03-02T00:00:00.000000000', '2023-03-03T00:00:00.000000000',\n",
       "        '2023-03-06T00:00:00.000000000', '2023-03-07T00:00:00.000000000'],\n",
       "       dtype='datetime64[ns]'),\n",
       " array([22807.732422, 22597.166016, 21916.640625, 22171.482422,\n",
       "        21885.335938, 22164.501953, 22150.041016, 21014.589844,\n",
       "        20988.779297, 21064.697266]))"
      ]
     },
     "execution_count": 14,
     "metadata": {},
     "output_type": "execute_result"
    }
   ],
   "source": [
    "# Convertissons l'indice du BTC et la colonne de prix sous forme de numpy array\n",
    "timesteps=bitcoin_price.index.to_numpy()\n",
    "prices=bitcoin_price[\"Close\"].to_numpy()\n",
    "timesteps[:10], prices[:10]"
   ]
  },
  {
   "cell_type": "markdown",
   "id": "0f608568",
   "metadata": {},
   "source": [
    "Code de Subdivision de notre base de données en base de données d'entrainement et de test"
   ]
  },
  {
   "cell_type": "code",
   "execution_count": 15,
   "id": "2d42de49",
   "metadata": {},
   "outputs": [
    {
     "data": {
      "text/plain": [
       "(209, 53, 209, 53)"
      ]
     },
     "execution_count": 15,
     "metadata": {},
     "output_type": "execute_result"
    }
   ],
   "source": [
    "split_size = int(0.8 * len(prices))  # 80% pour l'entraînement, 20% pour le test\n",
    "\n",
    "# Création des données d'entraînement et de test\n",
    "X_train, y_train = timesteps[:split_size], prices[:split_size]  # 80% des données\n",
    "X_test, y_test = timesteps[split_size:], prices[split_size:]    # 20% des données restantes\n",
    "\n",
    "# Afficher les longueurs\n",
    "len(X_train), len(X_test), len(y_train), len(y_test)\n"
   ]
  },
  {
   "cell_type": "markdown",
   "id": "6d50a662",
   "metadata": {},
   "source": [
    " Representation graphique de la base d'entrainement et de test "
   ]
  },
  {
   "cell_type": "code",
   "execution_count": 16,
   "id": "5e9e1923",
   "metadata": {},
   "outputs": [
    {
     "data": {
      "image/png": "[encoded data removed]",
      "text/plain": [
       "<Figure size 1000x800 with 1 Axes>"
      ]
     },
     "metadata": {},
     "output_type": "display_data"
    }
   ],
   "source": [
    "plt.figure(figsize=(10,8))\n",
    "plt.scatter(X_train,y_train,s=2, label=\"Base d'entrainement\")\n",
    "plt.scatter(X_test,y_test, s=2,label=\"Base de test\", color='green')\n",
    "plt.xlabel('Date')\n",
    "plt.xlabel('BCT Price')\n",
    "plt.legend(fontsize=14)\n",
    "plt.grid(False)\n",
    "plt.show();"
   ]
  },
  {
   "cell_type": "markdown",
   "id": "78e2d087",
   "metadata": {},
   "source": [
    "Nous allons utilisé un réseau de neurones pour apprendre la relation mathématique sur la partie bleue du graphe et essayer de voir a quel point ce dernier reproduit la partie en vert pour quantifier l'erreur et évaluer le pouvoir prédictif de notre modèle pour pouvoir prédire convenablement le BTC ."
   ]
  },
  {
   "cell_type": "markdown",
   "id": "60bccc41",
   "metadata": {},
   "source": [
    "Nous allons créer une fonction permettant d'afficher les graphes. Cette dernière nous sera utile car il nous suffira d'appeler cette fonction plutot que de réecrire a chaque fois des lignes de code pour plotter les fonctions et prédictions de nos réseaux de neurones. Cela nous permettra de scaler notre code et gagner en productivité."
   ]
  },
  {
   "cell_type": "code",
   "execution_count": 17,
   "id": "6b26e2b6",
   "metadata": {},
   "outputs": [],
   "source": [
    "def plot_time_series(timesteps, values, format='.', start=0, end=None, color=None ,label=None):\n",
    "    plt.plot(timesteps[start:end],values[start:end], format, color=color, label=label)\n",
    "    plt.xlabel('Date')\n",
    "    plt.ylabel('BTC Price')\n",
    "    if label:\n",
    "        plt.legend(fontsize=14)\n",
    "    plt.grid(False)"
   ]
  },
  {
   "cell_type": "code",
   "execution_count": 18,
   "id": "be640590",
   "metadata": {},
   "outputs": [
    {
     "data": {
      "image/png": "[encoded data removed]",
      "text/plain": [
       "<Figure size 1200x800 with 1 Axes>"
      ]
     },
     "metadata": {},
     "output_type": "display_data"
    }
   ],
   "source": [
    "plt.figure(figsize=(12,8))\n",
    "plot_time_series(timesteps=X_train, values=y_train,label=\"Base d'entrainement\")\n",
    "plot_time_series(timesteps=X_test,values=y_test,label=\"Base de test\",color ='green')"
   ]
  },
  {
   "cell_type": "markdown",
   "id": "93a4718b",
   "metadata": {},
   "source": [
    "# STRATÉGIE DE MODÉLISATION ET DE PRÉDICTION DU PRIX DU BTC TOUT AU LONG DE NOTRE PROJET"
   ]
  },
  {
   "cell_type": "markdown",
   "id": "906b4a22",
   "metadata": {},
   "source": [
    "Notre stratégie de modélisation et de prédicition du prix du BTC se fera comme suit :"
   ]
  },
  {
   "cell_type": "markdown",
   "id": "395b149d",
   "metadata": {},
   "source": [
    "               Notre projet se veut avant tout de mettre en lumière une diversité de modèle de deep learning que l'on pourraitutiliser pour prédire le jeu de données du prix du BTC. Puis dans un second temps, nous allons comparer la performance globale de chaque modèle de deep learning sur notre jeu de données tout en prenant également le soin de comparer les prédictions de chaque modèle entre eux. "
   ]
  },
  {
   "cell_type": "markdown",
   "id": "e95ddd97",
   "metadata": {},
   "source": [
    "Avant d'entrer cependant dans le vif du sujet, il est important de rappeler deux notions qui seront indispensables lors de nos expériences de deep learning:"
   ]
  },
  {
   "cell_type": "markdown",
   "id": "7a0a2f8a",
   "metadata": {},
   "source": [
    "Le Window : qui représente la fenetre/la quantité de jeu de données historiques que l'on va considérer pour prédire le ième jour correspondant, i étant un jour de cotation du prix du BTC sur le marché. Par exemple, 1 semaine de données pour prédire le 8 ième correspondant, etc....\n",
    "\n",
    "Le Horizon : qui représente la durée de projection de nos prédictionsdu prix du BTC. Autrement dit, sur quelle période voulons-nous projeter nos prédictions ? 1 jour ? , 2 jours ? , 1 semaine ? , etc....\n",
    "\n",
    "Si par exemple nous utilisons 7 jours de données du prix du Bitcoin pour prédire le 8ième jour, alors nous dirons que notre Window sera de 7 jours et notre horizon sera de 1 jour. Intuitivement, plus l'horizon de prédictions est grand, moins les valeurs observées seront fiables. Il est plus facile de prédire sur 1 jour le prix du Bitcoin que 1 semaine entière ......            "
   ]
  },
  {
   "cell_type": "markdown",
   "id": "effc14fc",
   "metadata": {},
   "source": [
    "# Voici comment nous allons procéder globalement pour prédire le prix du __BTC__ dans notre projet :\n",
    "\n",
    "Dans une première phase, nous allons implémenter plusieurs modèles de DL ayant pour but justement de modéliser notre série temporelle de prix du __BTC__ et comparer leurs performances entre elles via des métriques que nous aurons pris le soin nous meme de recoder ;\n",
    "\n",
    "Dans une seconde phase, nous allons utiliser tous nos modèles concus pour prédire proprement dit le prix futur du __BTC__ a partir du 13 janvier 2023 et comparer la prédiction de chaque modèle avec les autres et tirer une conclusion globale sur notre proje\n",
    "\n",
    "Ainsi la toute première partie de notre projet se veut une partie de test et de découverte des modèles de DL que l'on peut utiliser pour tacler ce genre de problèmes. En effet, la première partie aura pour objectif majeur de voir quels sont les possibilités qui nous sont offertes par l'intelligence artificielle pour prédire une série temporelle puis via des métriques, nous allons quantifier la performance de chacun d'eux et leurs validités d'utilisation . La seconde partie se veut une partie de comparaison et de vraisemblance de la prédiction de chaque modèle préalablement concu. Cette dernière nous montrera la capacité que ces modèles ont a imaginer le futur d'un système ouvert comme le __BTC__ .\n",
    "\n",
    "Sans plus tarder, nous allons passer a notre tout premier modèle.....\n"
   ]
  },
  {
   "cell_type": "markdown",
   "id": "167f4f34",
   "metadata": {},
   "source": [
    "# Modèle 0: Le modèle Naif"
   ]
  },
  {
   "cell_type": "markdown",
   "id": "daac02ef",
   "metadata": {},
   "source": [
    "Le modèle Naif est un modèle qui est très utilisé dans la predictions des series temporelles financières.\n",
    " principe est le suivant : La meilleure estimation que l'on a du future est la toute dernière valeur observée sur le marché. Nous allons donc de ce fait, utiliser ce modèle qui représentera notre tout premier pour essayer de prédire le prix du BTC.\n",
    " \n",
    " \n",
    " Mathématiquement cela donne : ât=ât-1"
   ]
  },
  {
   "cell_type": "code",
   "execution_count": 19,
   "id": "6532be27",
   "metadata": {},
   "outputs": [],
   "source": [
    "prediction_naive=y_test[:-1] # la prediction naive consiste à prendre toutes les valeurs sauf la dernière\n"
   ]
  },
  {
   "cell_type": "code",
   "execution_count": 20,
   "id": "de7641b7",
   "metadata": {},
   "outputs": [
    {
     "data": {
      "image/png": "[encoded data removed]",
      "text/plain": [
       "<Figure size 1200x800 with 1 Axes>"
      ]
     },
     "metadata": {},
     "output_type": "display_data"
    }
   ],
   "source": [
    "plt.figure(figsize=(12,8))\n",
    "offset=2\n",
    "plot_time_series(timesteps=X_test, values=y_test, start=offset,label=\"base de test\" )\n",
    "plot_time_series(timesteps=X_test[1:], values=prediction_naive,format='-', start=offset, label=\"Prediction Naive\")"
   ]
  },
  {
   "cell_type": "markdown",
   "id": "819720fb",
   "metadata": {},
   "source": [
    "# Évaluation de la performance de nos modèles de deep learning\n",
    "\n",
    "Pour quantifier a quel point nos modèles de deep learning performent, nous devons utiliser pour ce faire des métriques qui quantifient l'erreur de prédictions ou d'apprentissage de nos modèles sur nos données. Vu que nous voulons prédire un nombre, nous faisons donc face a un problème de régression. Par conséquent, nous pouvons utiliser sans crainte, toutes les métriques de performance d'un modèle de régression linéaire. Dans notre projet, nous avons utilisé 05 métriques principales :\n",
    "\n",
    "Le MAE ou Mean Absolute Error : Facile à interpréter (une prévision diffère de X montant par rapport à la valeur réelle). C'est la moyenne des valeurs absolues de toutes les érreurs de prévisions entre ce qui est réellement observé \n",
    " et ce qui est prédit par le modèle \n",
    ".\n",
    "\n",
    "Le MSE ou Mean Squared Error : C'est la moyenne du carré de toutes les érreurs de prévisions entre ce qui est réellement observé \n",
    " et ce qui est prédit par le modèle \n",
    ". Le carré aura tendance a amplifier l'effet des plus grandes erreurs. En effet, si nous avons par exemple, mal nettoyé nos données, un très grand MSE doit attirer notre attention qaunt a la validité d'une telle grande erreur. Mais attention, c'est avec le carré des erreurs que nous interprétons la performance de nos modèles en utilisant le MSE et donc potentiellement la qualité du nettoyage de nos données.\n",
    "\n",
    "Le RMSE ou Root Mean Squared Error : C'est la racine carrée du MSE. Elle permet donc de ramener les erreurs sur une meme échelle de mésure que les données et donc d'interpréter non plus le carré des erreurs mais bien les erreurs réelles et donc de ne pas biaiser notre analyse.\n",
    "\n",
    "Le MASE ou Mean Absolute Scaled Error : C'est une métrique utilisée dans les compétitions de prédicition de séries temporelles. Le MASE est égal à 1 pour la prévision naïve (ou très proche de 1). Une prévision qui se comporte mieux que la prévision naïve devrait avoir un MASE inférieur à 1. Comme nous le voyons, le MASE est une mésure qui prend comme benchmark le modèle naif que l'on a précédemment implémenté. En effet, le modèle naif est un modèle très difficile a battre. Pour des systèmes ouverts comme le BTC, nous allons tenter de challenger le modèle naif par d'autres modèles de réseaux de neurones pour voir si ces derniers font mieux ou pas !\n",
    "\n",
    "Le MAPE ou Mean Absolute Percentage Error : C'est une métrique utilisée dans les compétitions de prédiction de séries temporelles. C'est une métrique qui quantifie le pourcentage de performance que l'on gagne ou l'on perd dans nos différentes prédictions pour etre chirurgical dans ces derniers. Généralement dans les compétitions de prédictions de séries temporelles, cette métrique permet de départager les participants et est la principale pour ne pas dire la seule que les participants tentent de minimiser aux maximum.\n",
    "\n",
    "Contrairement a toutes les metriques qui sont déjà implémentées sur Tensorflow, le MASE ne l'est pas. Nous avons pris le soin de l'implémenter sur Tensorflow en utilisant exclusivement cette bibliothèque pour éviter les erreurs de typage en Python."
   ]
  },
  {
   "cell_type": "code",
   "execution_count": 21,
   "id": "f5f11bb2",
   "metadata": {},
   "outputs": [],
   "source": [
    "def mean_absolute_scaled_error(y_true, y_pred):\n",
    "    mae= tf.reduce_mean(tf.abs(y_true-y_pred))\n",
    "    mae_naive_no_season=tf.reduce_mean(tf.abs(y_true[1:]-y_true[:-1]))\n",
    "    return mae/mae_naive_no_season"
   ]
  },
  {
   "cell_type": "markdown",
   "id": "002c30f8",
   "metadata": {},
   "source": [
    "Pour gagner en temps, scaler et faciliter notre analyse, nous allons créer une fonction qui nous retourne toutes les métriques de performance de nos modèles de Deep Learning dont nous aurons besoin. Dans ce projet, nous avons pris le soin de de créer et customiser entièrement nos métriques et modèle de zéro, et de créer des fonctions pythons qui nous permettent justement d'utiliser en une fois, tout ce dont nous aurons besoin."
   ]
  },
  {
   "cell_type": "code",
   "execution_count": 22,
   "id": "f7e2f701",
   "metadata": {},
   "outputs": [],
   "source": [
    "\n",
    "  \n",
    "\n",
    "def evaluate_preds(y_true, y_pred):\n",
    "    y_true = tf.cast(y_true, dtype = tf.float32)\n",
    "    y_pred = tf.cast(y_pred, dtype = tf.float32)\n",
    "    \n",
    "    # Calcul du Mean Absolute Error (MAE)\n",
    "    mae = mean_absolute_error(y_true, y_pred)\n",
    "\n",
    "    # Calcul du Mean Squared Error (MSE)\n",
    "    mse = mean_squared_error(y_true, y_pred)\n",
    "\n",
    "    # Calcul du Root Mean Squared Error (RMSE)\n",
    "    rmse = np.sqrt(mse)\n",
    "\n",
    "    # Calcul du Mean Absolute Percentage Error (MAPE)\n",
    "    mape = mean_absolute_percentage_error(y_true, y_pred)\n",
    "\n",
    "    # Calcul du Mean Absolute Scaled Error (MASE)\n",
    "    mase = mean_absolute_scaled_error(y_true, y_pred)\n",
    "\n",
    "    return {\n",
    "        'mae': mae,\n",
    "        'mse': mse,\n",
    "        'rmse': rmse,\n",
    "        'mape': mape,\n",
    "        'mase': mase.numpy()\n",
    "    }\n"
   ]
  },
  {
   "cell_type": "markdown",
   "id": "651bfb20",
   "metadata": {},
   "source": [
    "En pratique, si nous avons correctement créé la fonction qui calcule le MASE, le modèle naïf devrait obtenir un MASE de 1 (ou très proche de 1). Tout modèle qui se comporte moins bien que la prévision naïve atteindra un MASE supérieur à 1 et tout modèle qui se comporte mieux que la prévision naïve atteindra un MASE inférieur à 1. Testons notre modèle naif sur ces métriques."
   ]
  },
  {
   "cell_type": "code",
   "execution_count": 23,
   "id": "a1ba3ba1",
   "metadata": {},
   "outputs": [
    {
     "data": {
      "text/plain": [
       "{'mae': 835.1884,\n",
       " 'mse': 1350388.6,\n",
       " 'rmse': 1162.0623,\n",
       " 'mape': 0.020621018,\n",
       " 'mase': 0.98243946}"
      ]
     },
     "execution_count": 23,
     "metadata": {},
     "output_type": "execute_result"
    }
   ],
   "source": [
    "resultat_preds_naive=evaluate_preds(y_test[1:],\n",
    "                                   prediction_naive)\n",
    "resultat_preds_naive"
   ]
  },
  {
   "cell_type": "markdown",
   "id": "ac1fd4fd",
   "metadata": {},
   "source": [
    "Comment pouvons nous savoir que notre modèle performe bien ou pas ? En la comparant aux performances des autres modèles de DL que l'on va dévélopper pour voir si dans l'optique de faire la meilleure prévision possible, il n'existe pas un autre modèle qui performe nettement mieux que le modèle naif et qui pourrait nous permettre justement de se projeter avec confiance dans le futur et donc de fait de prédire le prix du bitcoin.\n",
    "\n",
    "Dans le second modèle que nous allons utiliser un jeu de données historique de 1 semaine ou plus pour prédire un jour de BTC price. Donc, notre objectif est d'utiliser une semaine de données ou plus pour prédire 1 jour pour voir si en considérant cette fois un historique de données nous arriverons a performer mieux que le modèle naif et donc par conséquent mieux prédire le prix du BTC."
   ]
  },
  {
   "cell_type": "markdown",
   "id": "1d4765be",
   "metadata": {},
   "source": [
    "Nous allons utiliser dans le second modèle un réseau de neurones denses ou encore les Fully-Connected-Neural-Networks. Dans un tel réseau de neurones, tous les neurones sont totalement et intégralement connectés aux autres neurones des autres couches.\n",
    "\n",
    "\n",
    "Chaque neurone d'une couche est connecté à tous les neurones de la couche précédente : Cela signifie que chaque neurone de la couche cachée reçoit l'entrée de tous les neurones de la couche précédente.\n",
    "Les poids et les biais : Chaque connexion entre les neurones a un poids qui modifie l'information transmise d'un neurone à un autre. Chaque neurone a également un biais qui ajuste la sortie du neurone."
   ]
  },
  {
   "cell_type": "markdown",
   "id": "b716517b",
   "metadata": {},
   "source": [
    "# Modèle 1 : Window = 7, Horizon = 1\n",
    "\n",
    "Avant de se lancer immédiatement dans la modélisation par un réseau de neurones de notre jeu de données du BTC, il est important de faire des étapes de préprocessing complets et robustes qui nous faciliterons la tache dans le futur. Il sera important et crucial de répondre a des problématiques fondamentales qui caractérisent nos données.\n",
    "\n",
    "Le type de solutions que l'on propose : Nous voulons prédire un nombre avons nous dit précedemment. Il s'agit donc d'un problème de régression, donc d'un problème de machine learning supervisé. Or, dans un problème de régression, nous avons une matrice X qui représente l'ensemble des observations et une matrice y qui représente les labels ou résulats afférents aux observations des individus qui représentent chaque ligne de la matrice X.\n",
    "\n",
    "Comment alors transformer/pré-processer nos données de telle sorte que ces dernières soient compatibles avec un réseau de neurones ? Cette phase est appelée Fenêtrage de notre ensemble de données. C'est le processus par lequel nous allons transformer notre jeu de données séquentielles en données compatibles avec du machine learning supervisé.\n",
    "\n",
    "Le fenêtrage découpe les données en morceaux de taille fixe.\n",
    "\n",
    "Chaque fenêtre sert d'entrée au réseau de neurones.\n",
    "\n",
    "La cible est la valeur à prédire à partir de la fenêtre.\n",
    "\n",
    "C'est super utile pour les séries temporelles, les signaux, ou toute donnée séquentielle."
   ]
  },
  {
   "cell_type": "markdown",
   "id": "fc2fe747",
   "metadata": {},
   "source": [
    "# Notre méthode nous assure une chose importante : nous allons pouvoir comparer ce que notre modèle de deep learning nous donne et ce qui a été observé sur le marché. Donc voir a quel point notre modèle de DL peut prédire ce qui s'est déjà réalisé sur le marché."
   ]
  },
  {
   "cell_type": "code",
   "execution_count": 24,
   "id": "2018fa64",
   "metadata": {},
   "outputs": [],
   "source": [
    "HORIZON = 1 # horizon de prédiction\n",
    "WINDOW = 7 # utilisation de 1 semaine de données historiques"
   ]
  },
  {
   "cell_type": "code",
   "execution_count": 25,
   "id": "47f79cf9",
   "metadata": {},
   "outputs": [],
   "source": [
    "def get_labelled_windows(x,horizon=HORIZON):\n",
    "    return x[:,:-horizon], x[:,-horizon:]"
   ]
  },
  {
   "cell_type": "code",
   "execution_count": 26,
   "id": "ff4489ac",
   "metadata": {},
   "outputs": [
    {
     "name": "stdout",
     "output_type": "stream",
     "text": [
      "Window: [1 2 3 4 5 6 7] -> Label: 8\n"
     ]
    }
   ],
   "source": [
    "test_window, test_label = get_labelled_windows(tf.expand_dims(tf.range(8)+1, axis=0), horizon=HORIZON)\n",
    "print(f\"Window: {tf.squeeze(test_window).numpy()} -> Label: {tf.squeeze(test_label).numpy()}\")"
   ]
  },
  {
   "cell_type": "markdown",
   "id": "61c614c4",
   "metadata": {},
   "source": [
    "Cette fonction est utilisée pour créer des fenêtres à partir d'une séquence de données (comme une série temporelle), en vue de les utiliser pour entraîner un modèle de machine learning.\n",
    "window_indexes est une matrice où chaque ligne correspond aux indices d'une fenêtre dans la séquence x.\n",
    "\n",
    "\n",
    "window_step : Crée un tableau d'indices pour une fenêtre.\n",
    "\n",
    "window_indexes : Génère les indices pour toutes les fenêtres possibles.\n",
    "\n",
    "windowed_array : Extrait les valeurs de x correspondant à chaque fenêtre.\n",
    "\n",
    "get_labelled_windows : Sépare les fenêtres en entrées (windows) et étiquettes (labels).\n",
    "\n",
    "Retourne les fenêtres et les étiquettes."
   ]
  },
  {
   "cell_type": "code",
   "execution_count": 27,
   "id": "38393adc",
   "metadata": {},
   "outputs": [],
   "source": [
    "def make_windows(x, window_size= WINDOW,horizon=HORIZON):\n",
    "    window_step=np.expand_dims(np.arange(window_size+horizon),axis=0)#np.expand_dims est une fonction qui ajoute une nouvelle dimension à un tableau NumPy\n",
    "    \n",
    "    window_indexes=window_step + np.expand_dims(np.arange(len(x)-(window_size+ horizon -1)),axis=0).T\n",
    "    \n",
    "    windowed_array=x[window_indexes]\n",
    "    \n",
    "    windows,labels=get_labelled_windows(windowed_array,horizon=horizon)\n",
    "    return windows, labels\n",
    "    \n",
    "    "
   ]
  },
  {
   "cell_type": "code",
   "execution_count": 28,
   "id": "9e3bf313",
   "metadata": {},
   "outputs": [
    {
     "data": {
      "text/plain": [
       "(255, 255)"
      ]
     },
     "execution_count": 28,
     "metadata": {},
     "output_type": "execute_result"
    }
   ],
   "source": [
    "full_windows, full_labels=make_windows(prices, window_size=WINDOW,horizon=HORIZON)\n",
    "len(full_windows), len(full_labels)"
   ]
  },
  {
   "cell_type": "markdown",
   "id": "d345d975",
   "metadata": {},
   "source": [
    "A cette étape, full_windows et full_labels contiennent les données nécessaires a notre problème. full_windows représente la matrice X et chaque ligne représente 1 semaine de données historique et les full_labels représentent la matrice y et correspondent aux prix observés de 8ième jour correspondant."
   ]
  },
  {
   "cell_type": "code",
   "execution_count": 29,
   "id": "d64448f2",
   "metadata": {},
   "outputs": [
    {
     "data": {
      "text/plain": [
       "array([[27802.660156, 27279.845703, 28044.089844, 26939.876953,\n",
       "        26828.544922, 26590.166016, 26696.830078],\n",
       "       [27279.845703, 28044.089844, 26939.876953, 26828.544922,\n",
       "        26590.166016, 26696.830078, 26756.269531],\n",
       "       [28044.089844, 26939.876953, 26828.544922, 26590.166016,\n",
       "        26696.830078, 26756.269531, 27041.066406],\n",
       "       [26939.876953, 26828.544922, 26590.166016, 26696.830078,\n",
       "        26756.269531, 27041.066406, 26373.333984],\n",
       "       [26828.544922, 26590.166016, 26696.830078, 26756.269531,\n",
       "        27041.066406, 26373.333984, 26449.912109],\n",
       "       [26590.166016, 26696.830078, 26756.269531, 27041.066406,\n",
       "        26373.333984, 26449.912109, 26498.292969],\n",
       "       [26696.830078, 26756.269531, 27041.066406, 26373.333984,\n",
       "        26449.912109, 26498.292969, 26607.666016],\n",
       "       [26756.269531, 27041.066406, 26373.333984, 26449.912109,\n",
       "        26498.292969, 26607.666016, 26556.158203],\n",
       "       [27041.066406, 26373.333984, 26449.912109, 26498.292969,\n",
       "        26607.666016, 26556.158203, 26580.546875],\n",
       "       [26373.333984, 26449.912109, 26498.292969, 26607.666016,\n",
       "        26556.158203, 26580.546875, 26958.771484]])"
      ]
     },
     "execution_count": 29,
     "metadata": {},
     "output_type": "execute_result"
    }
   ],
   "source": [
    "full_windows[100:110]"
   ]
  },
  {
   "cell_type": "code",
   "execution_count": 30,
   "id": "6ea6b1ae",
   "metadata": {},
   "outputs": [
    {
     "data": {
      "text/plain": [
       "7"
      ]
     },
     "execution_count": 30,
     "metadata": {},
     "output_type": "execute_result"
    }
   ],
   "source": [
    "len(full_windows[1])"
   ]
  },
  {
   "cell_type": "code",
   "execution_count": 31,
   "id": "58e655b2",
   "metadata": {},
   "outputs": [
    {
     "data": {
      "text/plain": [
       "array([[26756.269531],\n",
       "       [27041.066406],\n",
       "       [26373.333984],\n",
       "       [26449.912109],\n",
       "       [26498.292969],\n",
       "       [26607.666016],\n",
       "       [26556.158203],\n",
       "       [26580.546875],\n",
       "       [26958.771484],\n",
       "       [26638.914063]])"
      ]
     },
     "execution_count": 31,
     "metadata": {},
     "output_type": "execute_result"
    }
   ],
   "source": [
    "full_labels[100:110]"
   ]
  },
  {
   "cell_type": "code",
   "execution_count": 32,
   "id": "27303fef",
   "metadata": {},
   "outputs": [
    {
     "data": {
      "text/plain": [
       "1"
      ]
     },
     "execution_count": 32,
     "metadata": {},
     "output_type": "execute_result"
    }
   ],
   "source": [
    "len(full_labels[1])"
   ]
  },
  {
   "cell_type": "markdown",
   "id": "011ee992",
   "metadata": {},
   "source": [
    "A ce stade de l'exposé, nous tenons a spécifier quelque chose de crucial ! Nous avons entré en paramètre de notre fonction make_windows(), le tableau de prix du __BTC__. Le paramètre x représente dans notre fonction make_windows(), le tableau de prix du BTC converti en numpy_array car numpy est une libraire Python qui est optimisé pour les calculs et la création de tableau. Vu que le deep learning utilise des tenseurs, donc des tableaux multidimenionnels, il est important d'utiliser numpy et d'eviter d'utiliser des boucles pour optimiser le calcul."
   ]
  },
  {
   "cell_type": "code",
   "execution_count": 33,
   "id": "413b79b6",
   "metadata": {},
   "outputs": [
    {
     "data": {
      "text/plain": [
       "(262, 262)"
      ]
     },
     "execution_count": 33,
     "metadata": {},
     "output_type": "execute_result"
    }
   ],
   "source": [
    "(len(prices), \n",
    "len(bitcoin_price))"
   ]
  },
  {
   "cell_type": "code",
   "execution_count": 34,
   "id": "88bb51dd",
   "metadata": {},
   "outputs": [
    {
     "name": "stdout",
     "output_type": "stream",
     "text": [
      "window:[22807.732422 22597.166016 21916.640625 22171.482422 21885.335938\n",
      " 22164.501953 22150.041016]-->label : [21014.589844]\n",
      "window:[22597.166016 21916.640625 22171.482422 21885.335938 22164.501953\n",
      " 22150.041016 21014.589844]-->label : [20988.779297]\n",
      "window:[21916.640625 22171.482422 21885.335938 22164.501953 22150.041016\n",
      " 21014.589844 20988.779297]-->label : [21064.697266]\n"
     ]
    }
   ],
   "source": [
    "for i in range(3):\n",
    "    print(f\"window:{full_windows[i]}-->label : {full_labels[i]}\")"
   ]
  },
  {
   "cell_type": "markdown",
   "id": "7a74ae04",
   "metadata": {},
   "source": [
    "Notre fonction marche parfaitement. Nous voyons concrètement que notre fenetre (Window) est bien de 7 et notre horizon est d'1 jour. Si par exemple, on voulait un historique données de 50 jours et un horizon de prédiction de 1 mois donc se servir des 50 derniers jours de cotation du Bitcoin pour prédire un mois entier !, il nous suffirait de passer en argument de notre fonction 50 et 30. Cela donnerait :"
   ]
  },
  {
   "cell_type": "code",
   "execution_count": 35,
   "id": "513f4663",
   "metadata": {},
   "outputs": [
    {
     "data": {
      "text/plain": [
       "(183, 183)"
      ]
     },
     "execution_count": 35,
     "metadata": {},
     "output_type": "execute_result"
    }
   ],
   "source": [
    "window_50, horizon_30 = make_windows(prices,window_size=50,horizon=30)\n",
    "len(window_50),len(horizon_30)"
   ]
  },
  {
   "cell_type": "code",
   "execution_count": 36,
   "id": "44dcdbd0",
   "metadata": {},
   "outputs": [
    {
     "data": {
      "text/plain": [
       "array([[22807.732422, 22597.166016, 21916.640625, 22171.482422,\n",
       "        21885.335938, 22164.501953, 22150.041016, 21014.589844,\n",
       "        20988.779297, 21064.697266, 20587.609375, 19235.703125,\n",
       "        19235.703125, 20749.800781, 22565.941406, 23069.601563,\n",
       "        23035.966797, 23604.212891, 26251.658203, 25905.304688,\n",
       "        26153.638672, 25124.207031, 26151.009766, 25974.146484,\n",
       "        25114.818359, 25156.841797, 26145.060547, 25708.375   ,\n",
       "        26103.367188, 25479.769531, 25706.507813, 25843.804688,\n",
       "        25681.841797, 25962.480469, 27280.267578, 27697.037109,\n",
       "        27405.621094, 27505.623047, 27598.189453, 26952.845703,\n",
       "        27696.791016, 26317.671875, 25753.052734, 25101.648438,\n",
       "        24893.007813, 25785.673828, 25732.861328, 26717.722656,\n",
       "        26581.580078, 25610.464844]])"
      ]
     },
     "execution_count": 36,
     "metadata": {},
     "output_type": "execute_result"
    }
   ],
   "source": [
    "window_50[:1] "
   ]
  },
  {
   "cell_type": "markdown",
   "id": "749835aa",
   "metadata": {},
   "source": [
    "Puisque nous travaillons avec des modèles de machine learning, une étape cruciale est donc de séparer nos données en données d'entrainement et en données de test. Cette étape permet de pouvoir quantifier la performance de notre modèle. Mais attention ! Vu que nous travaillons avec des données séquentielles, utiliser la fonction habituelle de train_test_split en Python s'avère fallacieux. En effet, bien que nous ayons représenté sous forme de matrice X et y la série temporelle des données, nous devons garder en tete que nous travaillons avec des données séquentielles et donc par conséquent les subdiviser de manière temporelle en deux jeux de données :\n",
    "\n",
    "Un jeu de données d'entrainement : qui va représenter notre historique sur lequel va s'entrainer notre modèle\n",
    "\n",
    "Une jeu de données de test qui représente le pseudo-futur avec lequel on va comparer le futur donné par notre modèle ( ce a quoi va ressembler le Bitcoin dans le futur selon le modèle ) et le pseudo-futur ( ce qui s'est vraiment réalisé sur les marchés ) du jeu de test.\n",
    "\n",
    "L'idée est simple. On se place dans un environnement comme si on a une matrice X et des labels y. Vu que ces matrices sont le résultats d'une série temporelle donc de données séquentielles, nous devons créer une fonction de splitting des données de telle sorte a conserver l'ordre chronologique du temps ! Tout comme un modèle de machine learning ordinaire, mais sauf que ici on split les données de manière séquentielle sur base de la matrice X et y."
   ]
  },
  {
   "cell_type": "code",
   "execution_count": 37,
   "id": "ddea6a80",
   "metadata": {},
   "outputs": [],
   "source": [
    "def make_train_test_split(windows,labels,test_split=0.2):\n",
    "    \n",
    "    split_size=int(len(windows)*(1-test_split))\n",
    "    train_windows=windows[:split_size]\n",
    "    train_labels=labels[:split_size]\n",
    "    \n",
    "    test_windows=windows[split_size:]\n",
    "    test_labels=labels[split_size:]\n",
    "    return train_windows,test_windows,train_labels,test_labels"
   ]
  },
  {
   "cell_type": "code",
   "execution_count": 38,
   "id": "0b2596cb",
   "metadata": {},
   "outputs": [
    {
     "data": {
      "text/plain": [
       "(204, 51, 204, 51)"
      ]
     },
     "execution_count": 38,
     "metadata": {},
     "output_type": "execute_result"
    }
   ],
   "source": [
    "train_windows, test_windows, train_labels,test_labels=make_train_test_split(full_windows,full_labels)\n",
    "len(train_windows), len(test_windows),len(train_labels), len(test_labels)"
   ]
  },
  {
   "cell_type": "markdown",
   "id": "bc282898",
   "metadata": {},
   "source": [
    "Notre fonction prend en entrée les matrices X (full_windows) et y (full_labels), elles memes obtenues via une fonction sur notre série temporelle de prix."
   ]
  },
  {
   "cell_type": "markdown",
   "id": "1122d4fd",
   "metadata": {},
   "source": [
    "Il est temps de passer a la modélisation de nos données par un réseau de neurones. Mais avant cela, il est important de vérifier une dernière chose indispensable a notre modélisation et dans l'étape de pré-processing."
   ]
  },
  {
   "cell_type": "markdown",
   "id": "a1ed278c",
   "metadata": {},
   "source": [
    "# Tracking des checkpoints de notre modèle de Deep Learning\n",
    "\n",
    "Comme les performances de notre modèle fluctueront d'une expérience à l'autre, nous voudrons nous assurer que nous comparons des pommes avec des pommes.\n",
    "\n",
    "Ce que nous voulons dire par là, c'est que pour une comparaison équitable, nous voulons comparer les meilleures performances de chaque modèle que l'on cosntruira entre elles.\n",
    "\n",
    "Par exemple, si le modèle_1 a très bien performé à l'itération 55 mais que ses performances ont diminué vers l'itération 100, nous voulons que la version du modèle de l'itération 55 soit comparée à d'autres modèles plutôt que la version du modèle de l'itération 100.\n",
    "\n",
    "Et la même chose s'applique à chacun de nos autres modèles : comparer les meilleurs contre les meilleurs.\n",
    "\n",
    "Pour cela, nous allons mettre en place un rappel (callback) ModelCheckpoint en Tensorflow.\n",
    "\n",
    "Le callback ModelCheckpoint surveillera les performances de notre modèle pendant l'entraînement et sauvegardera le meilleur modèle dans un fichier en définissant le paramètre save_best_only=True.\n",
    "\n",
    "Ainsi, lors de l'évaluation de notre modèle, nous pourrons restaurer sa configuration de meilleure performance à partir du fichier.\n",
    "\n",
    "Comme nous allons exécuter plusieurs expériences, il est judicieux de les suivre en enregistrant les modèles dans des fichiers sous des noms différents.\n",
    "\n",
    "Pour cela, nous allons écrire une petite fonction pour créer un callback ModelCheckpoint qui enregistre un modèle dans un fichier spécifié par son nom de fichier."
   ]
  },
  {
   "cell_type": "code",
   "execution_count": 39,
   "id": "ad2cb92c",
   "metadata": {},
   "outputs": [],
   "source": [
    "import os\n",
    "import tensorflow as tf\n",
    "\n",
    "def create_model_checkpoint(model_name, save_path='model_experiments'):\n",
    "    # Vérifie si le dossier existe, sinon le crée\n",
    "    if not os.path.exists(save_path):\n",
    "        os.makedirs(save_path)\n",
    "    # Ajoute l'extension .keras à la sauvegarde du modèle\n",
    "    return tf.keras.callbacks.ModelCheckpoint(\n",
    "        filepath=os.path.join(save_path, model_name + \".keras\"),  # Ajouter \".keras\"\n",
    "        verbose=0,\n",
    "        save_best_only=True\n",
    "    )"
   ]
  },
  {
   "cell_type": "markdown",
   "id": "b3caa9ec",
   "metadata": {},
   "source": [
    "# Model 1 : Réseaux de neurones Dense ( window=7, horizon=1 )"
   ]
  },
  {
   "cell_type": "markdown",
   "id": "5d286848",
   "metadata": {},
   "source": [
    "Voici les caractéristiques de notre premier modèle de DL:\n",
    "\n",
    "Une seule couche dense avec 128 unités cachées et une activation ReLU (Rectified Linear Unit).\n",
    "Une couche de sortie avec une activation linéaire (ou sans activation).\n",
    "L'optimiseur Adam et la fonction de perte MAE (erreur absolue moyenne).\n",
    "Taille de lot (batch size) de 128.\n",
    "100 epochs"
   ]
  },
  {
   "cell_type": "code",
   "execution_count": 40,
   "id": "ed118b62",
   "metadata": {},
   "outputs": [
    {
     "name": "stdout",
     "output_type": "stream",
     "text": [
      "Epoch 1/100\n",
      "\u001b[1m2/2\u001b[0m \u001b[32m━━━━━━━━━━━━━━━━━━━━\u001b[0m\u001b[37m\u001b[0m \u001b[1m3s\u001b[0m 463ms/step - loss: 38668.1562 - mae: 38668.1562 - val_loss: 53020.6797 - val_mae: 53020.6797\n",
      "Epoch 2/100\n",
      "\u001b[1m2/2\u001b[0m \u001b[32m━━━━━━━━━━━━━━━━━━━━\u001b[0m\u001b[37m\u001b[0m \u001b[1m0s\u001b[0m 79ms/step - loss: 34863.7305 - mae: 34863.7305 - val_loss: 47291.0898 - val_mae: 47291.0898\n",
      "Epoch 3/100\n",
      "\u001b[1m2/2\u001b[0m \u001b[32m━━━━━━━━━━━━━━━━━━━━\u001b[0m\u001b[37m\u001b[0m \u001b[1m0s\u001b[0m 105ms/step - loss: 31015.1738 - mae: 31015.1738 - val_loss: 41560.2812 - val_mae: 41560.2812\n",
      "Epoch 4/100\n",
      "\u001b[1m2/2\u001b[0m \u001b[32m━━━━━━━━━━━━━━━━━━━━\u001b[0m\u001b[37m\u001b[0m \u001b[1m0s\u001b[0m 83ms/step - loss: 27182.7344 - mae: 27182.7344 - val_loss: 35845.7812 - val_mae: 35845.7812\n",
      "Epoch 5/100\n",
      "\u001b[1m2/2\u001b[0m \u001b[32m━━━━━━━━━━━━━━━━━━━━\u001b[0m\u001b[37m\u001b[0m \u001b[1m0s\u001b[0m 93ms/step - loss: 23359.4355 - mae: 23359.4355 - val_loss: 30120.4414 - val_mae: 30120.4414\n",
      "Epoch 6/100\n",
      "\u001b[1m2/2\u001b[0m \u001b[32m━━━━━━━━━━━━━━━━━━━━\u001b[0m\u001b[37m\u001b[0m \u001b[1m0s\u001b[0m 88ms/step - loss: 19527.9473 - mae: 19527.9473 - val_loss: 24408.2812 - val_mae: 24408.2812\n",
      "Epoch 7/100\n",
      "\u001b[1m2/2\u001b[0m \u001b[32m━━━━━━━━━━━━━━━━━━━━\u001b[0m\u001b[37m\u001b[0m \u001b[1m0s\u001b[0m 93ms/step - loss: 15709.6602 - mae: 15709.6602 - val_loss: 18732.1074 - val_mae: 18732.1074\n",
      "Epoch 8/100\n",
      "\u001b[1m2/2\u001b[0m \u001b[32m━━━━━━━━━━━━━━━━━━━━\u001b[0m\u001b[37m\u001b[0m \u001b[1m0s\u001b[0m 120ms/step - loss: 11911.9004 - mae: 11911.9004 - val_loss: 13115.4854 - val_mae: 13115.4854\n",
      "Epoch 9/100\n",
      "\u001b[1m2/2\u001b[0m \u001b[32m━━━━━━━━━━━━━━━━━━━━\u001b[0m\u001b[37m\u001b[0m \u001b[1m0s\u001b[0m 138ms/step - loss: 8152.9624 - mae: 8152.9624 - val_loss: 7562.3726 - val_mae: 7562.3726\n",
      "Epoch 10/100\n",
      "\u001b[1m2/2\u001b[0m \u001b[32m━━━━━━━━━━━━━━━━━━━━\u001b[0m\u001b[37m\u001b[0m \u001b[1m0s\u001b[0m 100ms/step - loss: 4443.3418 - mae: 4443.3418 - val_loss: 2381.8352 - val_mae: 2381.8352\n",
      "Epoch 11/100\n",
      "\u001b[1m2/2\u001b[0m \u001b[32m━━━━━━━━━━━━━━━━━━━━\u001b[0m\u001b[37m\u001b[0m \u001b[1m0s\u001b[0m 80ms/step - loss: 1301.5919 - mae: 1301.5919 - val_loss: 3279.4194 - val_mae: 3279.4194\n",
      "Epoch 12/100\n",
      "\u001b[1m2/2\u001b[0m \u001b[32m━━━━━━━━━━━━━━━━━━━━\u001b[0m\u001b[37m\u001b[0m \u001b[1m0s\u001b[0m 73ms/step - loss: 2601.8274 - mae: 2601.8274 - val_loss: 6087.0454 - val_mae: 6087.0454\n",
      "Epoch 13/100\n",
      "\u001b[1m2/2\u001b[0m \u001b[32m━━━━━━━━━━━━━━━━━━━━\u001b[0m\u001b[37m\u001b[0m \u001b[1m0s\u001b[0m 83ms/step - loss: 4387.0947 - mae: 4387.0947 - val_loss: 7309.1523 - val_mae: 7309.1523\n",
      "Epoch 14/100\n",
      "\u001b[1m2/2\u001b[0m \u001b[32m━━━━━━━━━━━━━━━━━━━━\u001b[0m\u001b[37m\u001b[0m \u001b[1m0s\u001b[0m 72ms/step - loss: 5069.4644 - mae: 5069.4644 - val_loss: 7083.5376 - val_mae: 7083.5376\n",
      "Epoch 15/100\n",
      "\u001b[1m2/2\u001b[0m \u001b[32m━━━━━━━━━━━━━━━━━━━━\u001b[0m\u001b[37m\u001b[0m \u001b[1m0s\u001b[0m 75ms/step - loss: 4821.4136 - mae: 4821.4136 - val_loss: 5746.8315 - val_mae: 5746.8315\n",
      "Epoch 16/100\n",
      "\u001b[1m2/2\u001b[0m \u001b[32m━━━━━━━━━━━━━━━━━━━━\u001b[0m\u001b[37m\u001b[0m \u001b[1m0s\u001b[0m 70ms/step - loss: 3879.5671 - mae: 3879.5671 - val_loss: 3729.4187 - val_mae: 3729.4187\n",
      "Epoch 17/100\n",
      "\u001b[1m2/2\u001b[0m \u001b[32m━━━━━━━━━━━━━━━━━━━━\u001b[0m\u001b[37m\u001b[0m \u001b[1m0s\u001b[0m 102ms/step - loss: 2532.7334 - mae: 2532.7334 - val_loss: 1874.0433 - val_mae: 1874.0433\n",
      "Epoch 18/100\n",
      "\u001b[1m2/2\u001b[0m \u001b[32m━━━━━━━━━━━━━━━━━━━━\u001b[0m\u001b[37m\u001b[0m \u001b[1m0s\u001b[0m 70ms/step - loss: 1240.2766 - mae: 1240.2766 - val_loss: 2233.5034 - val_mae: 2233.5034\n",
      "Epoch 19/100\n",
      "\u001b[1m2/2\u001b[0m \u001b[32m━━━━━━━━━━━━━━━━━━━━\u001b[0m\u001b[37m\u001b[0m \u001b[1m0s\u001b[0m 72ms/step - loss: 1386.0837 - mae: 1386.0837 - val_loss: 3369.9084 - val_mae: 3369.9084\n",
      "Epoch 20/100\n",
      "\u001b[1m2/2\u001b[0m \u001b[32m━━━━━━━━━━━━━━━━━━━━\u001b[0m\u001b[37m\u001b[0m \u001b[1m0s\u001b[0m 112ms/step - loss: 2164.3174 - mae: 2164.3174 - val_loss: 3602.7825 - val_mae: 3602.7825\n",
      "Epoch 21/100\n",
      "\u001b[1m2/2\u001b[0m \u001b[32m━━━━━━━━━━━━━━━━━━━━\u001b[0m\u001b[37m\u001b[0m \u001b[1m0s\u001b[0m 79ms/step - loss: 2232.3193 - mae: 2232.3193 - val_loss: 2885.3650 - val_mae: 2885.3650\n",
      "Epoch 22/100\n",
      "\u001b[1m2/2\u001b[0m \u001b[32m━━━━━━━━━━━━━━━━━━━━\u001b[0m\u001b[37m\u001b[0m \u001b[1m0s\u001b[0m 73ms/step - loss: 1667.2394 - mae: 1667.2396 - val_loss: 1914.2543 - val_mae: 1914.2543\n",
      "Epoch 23/100\n",
      "\u001b[1m2/2\u001b[0m \u001b[32m━━━━━━━━━━━━━━━━━━━━\u001b[0m\u001b[37m\u001b[0m \u001b[1m0s\u001b[0m 101ms/step - loss: 1010.6199 - mae: 1010.6199 - val_loss: 1754.3484 - val_mae: 1754.3484\n",
      "Epoch 24/100\n",
      "\u001b[1m2/2\u001b[0m \u001b[32m━━━━━━━━━━━━━━━━━━━━\u001b[0m\u001b[37m\u001b[0m \u001b[1m0s\u001b[0m 91ms/step - loss: 1251.8148 - mae: 1251.8148 - val_loss: 2156.7119 - val_mae: 2156.7119\n",
      "Epoch 25/100\n",
      "\u001b[1m2/2\u001b[0m \u001b[32m━━━━━━━━━━━━━━━━━━━━\u001b[0m\u001b[37m\u001b[0m \u001b[1m0s\u001b[0m 70ms/step - loss: 1578.7950 - mae: 1578.7950 - val_loss: 2129.4817 - val_mae: 2129.4817\n",
      "Epoch 26/100\n",
      "\u001b[1m2/2\u001b[0m \u001b[32m━━━━━━━━━━━━━━━━━━━━\u001b[0m\u001b[37m\u001b[0m \u001b[1m0s\u001b[0m 75ms/step - loss: 1518.3600 - mae: 1518.3600 - val_loss: 1762.1588 - val_mae: 1762.1588\n",
      "Epoch 27/100\n",
      "\u001b[1m2/2\u001b[0m \u001b[32m━━━━━━━━━━━━━━━━━━━━\u001b[0m\u001b[37m\u001b[0m \u001b[1m0s\u001b[0m 71ms/step - loss: 1174.6198 - mae: 1174.6198 - val_loss: 1767.7397 - val_mae: 1767.7397\n",
      "Epoch 28/100\n",
      "\u001b[1m2/2\u001b[0m \u001b[32m━━━━━━━━━━━━━━━━━━━━\u001b[0m\u001b[37m\u001b[0m \u001b[1m0s\u001b[0m 85ms/step - loss: 996.9974 - mae: 996.9974 - val_loss: 2140.9160 - val_mae: 2140.9160\n",
      "Epoch 29/100\n",
      "\u001b[1m2/2\u001b[0m \u001b[32m━━━━━━━━━━━━━━━━━━━━\u001b[0m\u001b[37m\u001b[0m \u001b[1m0s\u001b[0m 78ms/step - loss: 1204.0011 - mae: 1204.0011 - val_loss: 2226.6401 - val_mae: 2226.6401\n",
      "Epoch 30/100\n",
      "\u001b[1m2/2\u001b[0m \u001b[32m━━━━━━━━━━━━━━━━━━━━\u001b[0m\u001b[37m\u001b[0m \u001b[1m0s\u001b[0m 68ms/step - loss: 1214.6725 - mae: 1214.6725 - val_loss: 1910.0371 - val_mae: 1910.0371\n",
      "Epoch 31/100\n",
      "\u001b[1m2/2\u001b[0m \u001b[32m━━━━━━━━━━━━━━━━━━━━\u001b[0m\u001b[37m\u001b[0m \u001b[1m0s\u001b[0m 115ms/step - loss: 1006.4714 - mae: 1006.4714 - val_loss: 1703.0848 - val_mae: 1703.0848\n",
      "Epoch 32/100\n",
      "\u001b[1m2/2\u001b[0m \u001b[32m━━━━━━━━━━━━━━━━━━━━\u001b[0m\u001b[37m\u001b[0m \u001b[1m0s\u001b[0m 105ms/step - loss: 1024.2504 - mae: 1024.2504 - val_loss: 1702.6591 - val_mae: 1702.6591\n",
      "Epoch 33/100\n",
      "\u001b[1m2/2\u001b[0m \u001b[32m━━━━━━━━━━━━━━━━━━━━\u001b[0m\u001b[37m\u001b[0m \u001b[1m0s\u001b[0m 104ms/step - loss: 1151.4872 - mae: 1151.4872 - val_loss: 1690.2758 - val_mae: 1690.2758\n",
      "Epoch 34/100\n",
      "\u001b[1m2/2\u001b[0m \u001b[32m━━━━━━━━━━━━━━━━━━━━\u001b[0m\u001b[37m\u001b[0m \u001b[1m0s\u001b[0m 86ms/step - loss: 1108.8469 - mae: 1108.8469 - val_loss: 1708.1753 - val_mae: 1708.1753\n",
      "Epoch 35/100\n",
      "\u001b[1m2/2\u001b[0m \u001b[32m━━━━━━━━━━━━━━━━━━━━\u001b[0m\u001b[37m\u001b[0m \u001b[1m0s\u001b[0m 82ms/step - loss: 990.2855 - mae: 990.2855 - val_loss: 1818.9658 - val_mae: 1818.9658\n",
      "Epoch 36/100\n",
      "\u001b[1m2/2\u001b[0m \u001b[32m━━━━━━━━━━━━━━━━━━━━\u001b[0m\u001b[37m\u001b[0m \u001b[1m0s\u001b[0m 77ms/step - loss: 991.9468 - mae: 991.9468 - val_loss: 1903.8376 - val_mae: 1903.8376\n",
      "Epoch 37/100\n",
      "\u001b[1m2/2\u001b[0m \u001b[32m━━━━━━━━━━━━━━━━━━━━\u001b[0m\u001b[37m\u001b[0m \u001b[1m0s\u001b[0m 78ms/step - loss: 1020.7973 - mae: 1020.7973 - val_loss: 1797.1970 - val_mae: 1797.1970\n",
      "Epoch 38/100\n",
      "\u001b[1m2/2\u001b[0m \u001b[32m━━━━━━━━━━━━━━━━━━━━\u001b[0m\u001b[37m\u001b[0m \u001b[1m0s\u001b[0m 44ms/step - loss: 959.9208 - mae: 959.9208 - val_loss: 1715.3235 - val_mae: 1715.3235\n",
      "Epoch 39/100\n",
      "\u001b[1m2/2\u001b[0m \u001b[32m━━━━━━━━━━━━━━━━━━━━\u001b[0m\u001b[37m\u001b[0m \u001b[1m0s\u001b[0m 273ms/step - loss: 981.0059 - mae: 981.0059 - val_loss: 1687.1104 - val_mae: 1687.1104\n",
      "Epoch 40/100\n",
      "\u001b[1m2/2\u001b[0m \u001b[32m━━━━━━━━━━━━━━━━━━━━\u001b[0m\u001b[37m\u001b[0m \u001b[1m0s\u001b[0m 61ms/step - loss: 1002.7735 - mae: 1002.7735 - val_loss: 1705.5128 - val_mae: 1705.5128\n",
      "Epoch 41/100\n",
      "\u001b[1m2/2\u001b[0m \u001b[32m━━━━━━━━━━━━━━━━━━━━\u001b[0m\u001b[37m\u001b[0m \u001b[1m0s\u001b[0m 57ms/step - loss: 979.0977 - mae: 979.0977 - val_loss: 1750.7700 - val_mae: 1750.7700\n",
      "Epoch 42/100\n",
      "\u001b[1m2/2\u001b[0m \u001b[32m━━━━━━━━━━━━━━━━━━━━\u001b[0m\u001b[37m\u001b[0m \u001b[1m0s\u001b[0m 194ms/step - loss: 961.1911 - mae: 961.1911 - val_loss: 1790.5200 - val_mae: 1790.5200\n",
      "Epoch 43/100\n",
      "\u001b[1m2/2\u001b[0m \u001b[32m━━━━━━━━━━━━━━━━━━━━\u001b[0m\u001b[37m\u001b[0m \u001b[1m0s\u001b[0m 74ms/step - loss: 964.5381 - mae: 964.5381 - val_loss: 1776.1566 - val_mae: 1776.1566\n",
      "Epoch 44/100\n",
      "\u001b[1m2/2\u001b[0m \u001b[32m━━━━━━━━━━━━━━━━━━━━\u001b[0m\u001b[37m\u001b[0m \u001b[1m0s\u001b[0m 77ms/step - loss: 954.5801 - mae: 954.5801 - val_loss: 1734.1353 - val_mae: 1734.1353\n",
      "Epoch 45/100\n",
      "\u001b[1m2/2\u001b[0m \u001b[32m━━━━━━━━━━━━━━━━━━━━\u001b[0m\u001b[37m\u001b[0m \u001b[1m0s\u001b[0m 71ms/step - loss: 956.4567 - mae: 956.4567 - val_loss: 1710.0873 - val_mae: 1710.0873\n",
      "Epoch 46/100\n",
      "\u001b[1m2/2\u001b[0m \u001b[32m━━━━━━━━━━━━━━━━━━━━\u001b[0m\u001b[37m\u001b[0m \u001b[1m0s\u001b[0m 60ms/step - loss: 965.8585 - mae: 965.8585 - val_loss: 1702.0040 - val_mae: 1702.0040\n",
      "Epoch 47/100\n",
      "\u001b[1m2/2\u001b[0m \u001b[32m━━━━━━━━━━━━━━━━━━━━\u001b[0m\u001b[37m\u001b[0m \u001b[1m0s\u001b[0m 62ms/step - loss: 968.6381 - mae: 968.6381 - val_loss: 1711.5895 - val_mae: 1711.5895\n",
      "Epoch 48/100\n",
      "\u001b[1m2/2\u001b[0m \u001b[32m━━━━━━━━━━━━━━━━━━━━\u001b[0m\u001b[37m\u001b[0m \u001b[1m0s\u001b[0m 60ms/step - loss: 962.3262 - mae: 962.3262 - val_loss: 1729.3131 - val_mae: 1729.3131\n",
      "Epoch 49/100\n",
      "\u001b[1m2/2\u001b[0m \u001b[32m━━━━━━━━━━━━━━━━━━━━\u001b[0m\u001b[37m\u001b[0m \u001b[1m0s\u001b[0m 64ms/step - loss: 954.3651 - mae: 954.3651 - val_loss: 1751.9481 - val_mae: 1751.9481\n",
      "Epoch 50/100\n",
      "\u001b[1m2/2\u001b[0m \u001b[32m━━━━━━━━━━━━━━━━━━━━\u001b[0m\u001b[37m\u001b[0m \u001b[1m0s\u001b[0m 56ms/step - loss: 949.8983 - mae: 949.8983 - val_loss: 1744.9807 - val_mae: 1744.9807\n",
      "Epoch 51/100\n"
     ]
    },
    {
     "name": "stdout",
     "output_type": "stream",
     "text": [
      "\u001b[1m2/2\u001b[0m \u001b[32m━━━━━━━━━━━━━━━━━━━━\u001b[0m\u001b[37m\u001b[0m \u001b[1m0s\u001b[0m 203ms/step - loss: 946.3903 - mae: 946.3903 - val_loss: 1720.6743 - val_mae: 1720.6743\n",
      "Epoch 52/100\n",
      "\u001b[1m2/2\u001b[0m \u001b[32m━━━━━━━━━━━━━━━━━━━━\u001b[0m\u001b[37m\u001b[0m \u001b[1m0s\u001b[0m 64ms/step - loss: 950.2925 - mae: 950.2925 - val_loss: 1707.5344 - val_mae: 1707.5344\n",
      "Epoch 53/100\n",
      "\u001b[1m2/2\u001b[0m \u001b[32m━━━━━━━━━━━━━━━━━━━━\u001b[0m\u001b[37m\u001b[0m \u001b[1m0s\u001b[0m 61ms/step - loss: 954.3115 - mae: 954.3115 - val_loss: 1704.5291 - val_mae: 1704.5291\n",
      "Epoch 54/100\n",
      "\u001b[1m2/2\u001b[0m \u001b[32m━━━━━━━━━━━━━━━━━━━━\u001b[0m\u001b[37m\u001b[0m \u001b[1m0s\u001b[0m 62ms/step - loss: 954.0541 - mae: 954.0541 - val_loss: 1709.8875 - val_mae: 1709.8875\n",
      "Epoch 55/100\n",
      "\u001b[1m2/2\u001b[0m \u001b[32m━━━━━━━━━━━━━━━━━━━━\u001b[0m\u001b[37m\u001b[0m \u001b[1m0s\u001b[0m 59ms/step - loss: 950.3332 - mae: 950.3332 - val_loss: 1719.2626 - val_mae: 1719.2626\n",
      "Epoch 56/100\n",
      "\u001b[1m2/2\u001b[0m \u001b[32m━━━━━━━━━━━━━━━━━━━━\u001b[0m\u001b[37m\u001b[0m \u001b[1m0s\u001b[0m 62ms/step - loss: 945.5503 - mae: 945.5503 - val_loss: 1728.3743 - val_mae: 1728.3743\n",
      "Epoch 57/100\n",
      "\u001b[1m2/2\u001b[0m \u001b[32m━━━━━━━━━━━━━━━━━━━━\u001b[0m\u001b[37m\u001b[0m \u001b[1m0s\u001b[0m 61ms/step - loss: 942.2019 - mae: 942.2019 - val_loss: 1724.2175 - val_mae: 1724.2175\n",
      "Epoch 58/100\n",
      "\u001b[1m2/2\u001b[0m \u001b[32m━━━━━━━━━━━━━━━━━━━━\u001b[0m\u001b[37m\u001b[0m \u001b[1m0s\u001b[0m 60ms/step - loss: 940.4488 - mae: 940.4488 - val_loss: 1710.4918 - val_mae: 1710.4918\n",
      "Epoch 59/100\n",
      "\u001b[1m2/2\u001b[0m \u001b[32m━━━━━━━━━━━━━━━━━━━━\u001b[0m\u001b[37m\u001b[0m \u001b[1m0s\u001b[0m 43ms/step - loss: 941.8495 - mae: 941.8495 - val_loss: 1700.0126 - val_mae: 1700.0126\n",
      "Epoch 60/100\n",
      "\u001b[1m2/2\u001b[0m \u001b[32m━━━━━━━━━━━━━━━━━━━━\u001b[0m\u001b[37m\u001b[0m \u001b[1m0s\u001b[0m 53ms/step - loss: 944.3516 - mae: 944.3516 - val_loss: 1696.9860 - val_mae: 1696.9860\n",
      "Epoch 61/100\n",
      "\u001b[1m2/2\u001b[0m \u001b[32m━━━━━━━━━━━━━━━━━━━━\u001b[0m\u001b[37m\u001b[0m \u001b[1m0s\u001b[0m 50ms/step - loss: 944.0334 - mae: 944.0334 - val_loss: 1702.8245 - val_mae: 1702.8245\n",
      "Epoch 62/100\n",
      "\u001b[1m2/2\u001b[0m \u001b[32m━━━━━━━━━━━━━━━━━━━━\u001b[0m\u001b[37m\u001b[0m \u001b[1m0s\u001b[0m 64ms/step - loss: 940.5954 - mae: 940.5954 - val_loss: 1710.0389 - val_mae: 1710.0389\n",
      "Epoch 63/100\n",
      "\u001b[1m2/2\u001b[0m \u001b[32m━━━━━━━━━━━━━━━━━━━━\u001b[0m\u001b[37m\u001b[0m \u001b[1m0s\u001b[0m 54ms/step - loss: 936.7247 - mae: 936.7247 - val_loss: 1710.2217 - val_mae: 1710.2217\n",
      "Epoch 64/100\n",
      "\u001b[1m2/2\u001b[0m \u001b[32m━━━━━━━━━━━━━━━━━━━━\u001b[0m\u001b[37m\u001b[0m \u001b[1m0s\u001b[0m 56ms/step - loss: 934.8737 - mae: 934.8737 - val_loss: 1703.0507 - val_mae: 1703.0507\n",
      "Epoch 65/100\n",
      "\u001b[1m2/2\u001b[0m \u001b[32m━━━━━━━━━━━━━━━━━━━━\u001b[0m\u001b[37m\u001b[0m \u001b[1m0s\u001b[0m 52ms/step - loss: 934.3086 - mae: 934.3086 - val_loss: 1693.8761 - val_mae: 1693.8761\n",
      "Epoch 66/100\n",
      "\u001b[1m2/2\u001b[0m \u001b[32m━━━━━━━━━━━━━━━━━━━━\u001b[0m\u001b[37m\u001b[0m \u001b[1m0s\u001b[0m 73ms/step - loss: 935.2733 - mae: 935.2733 - val_loss: 1685.8107 - val_mae: 1685.8107\n",
      "Epoch 67/100\n",
      "\u001b[1m2/2\u001b[0m \u001b[32m━━━━━━━━━━━━━━━━━━━━\u001b[0m\u001b[37m\u001b[0m \u001b[1m0s\u001b[0m 79ms/step - loss: 936.5652 - mae: 936.5652 - val_loss: 1685.0785 - val_mae: 1685.0785\n",
      "Epoch 68/100\n",
      "\u001b[1m2/2\u001b[0m \u001b[32m━━━━━━━━━━━━━━━━━━━━\u001b[0m\u001b[37m\u001b[0m \u001b[1m0s\u001b[0m 52ms/step - loss: 935.4807 - mae: 935.4807 - val_loss: 1690.0444 - val_mae: 1690.0444\n",
      "Epoch 69/100\n",
      "\u001b[1m2/2\u001b[0m \u001b[32m━━━━━━━━━━━━━━━━━━━━\u001b[0m\u001b[37m\u001b[0m \u001b[1m0s\u001b[0m 52ms/step - loss: 932.2130 - mae: 932.2130 - val_loss: 1693.3334 - val_mae: 1693.3334\n",
      "Epoch 70/100\n",
      "\u001b[1m2/2\u001b[0m \u001b[32m━━━━━━━━━━━━━━━━━━━━\u001b[0m\u001b[37m\u001b[0m \u001b[1m0s\u001b[0m 71ms/step - loss: 929.2776 - mae: 929.2776 - val_loss: 1691.7710 - val_mae: 1691.7710\n",
      "Epoch 71/100\n",
      "\u001b[1m2/2\u001b[0m \u001b[32m━━━━━━━━━━━━━━━━━━━━\u001b[0m\u001b[37m\u001b[0m \u001b[1m0s\u001b[0m 82ms/step - loss: 927.5336 - mae: 927.5336 - val_loss: 1684.2261 - val_mae: 1684.2261\n",
      "Epoch 72/100\n",
      "\u001b[1m2/2\u001b[0m \u001b[32m━━━━━━━━━━━━━━━━━━━━\u001b[0m\u001b[37m\u001b[0m \u001b[1m0s\u001b[0m 79ms/step - loss: 927.7020 - mae: 927.7020 - val_loss: 1677.4670 - val_mae: 1677.4670\n",
      "Epoch 73/100\n",
      "\u001b[1m2/2\u001b[0m \u001b[32m━━━━━━━━━━━━━━━━━━━━\u001b[0m\u001b[37m\u001b[0m \u001b[1m0s\u001b[0m 77ms/step - loss: 928.1111 - mae: 928.1111 - val_loss: 1672.8903 - val_mae: 1672.8903\n",
      "Epoch 74/100\n",
      "\u001b[1m2/2\u001b[0m \u001b[32m━━━━━━━━━━━━━━━━━━━━\u001b[0m\u001b[37m\u001b[0m \u001b[1m0s\u001b[0m 77ms/step - loss: 927.8158 - mae: 927.8158 - val_loss: 1670.1016 - val_mae: 1670.1016\n",
      "Epoch 75/100\n",
      "\u001b[1m2/2\u001b[0m \u001b[32m━━━━━━━━━━━━━━━━━━━━\u001b[0m\u001b[37m\u001b[0m \u001b[1m0s\u001b[0m 139ms/step - loss: 926.9409 - mae: 926.9409 - val_loss: 1668.7764 - val_mae: 1668.7764\n",
      "Epoch 76/100\n",
      "\u001b[1m2/2\u001b[0m \u001b[32m━━━━━━━━━━━━━━━━━━━━\u001b[0m\u001b[37m\u001b[0m \u001b[1m0s\u001b[0m 149ms/step - loss: 925.5899 - mae: 925.5899 - val_loss: 1668.6514 - val_mae: 1668.6514\n",
      "Epoch 77/100\n",
      "\u001b[1m2/2\u001b[0m \u001b[32m━━━━━━━━━━━━━━━━━━━━\u001b[0m\u001b[37m\u001b[0m \u001b[1m0s\u001b[0m 52ms/step - loss: 923.8456 - mae: 923.8456 - val_loss: 1669.5109 - val_mae: 1669.5109\n",
      "Epoch 78/100\n",
      "\u001b[1m2/2\u001b[0m \u001b[32m━━━━━━━━━━━━━━━━━━━━\u001b[0m\u001b[37m\u001b[0m \u001b[1m0s\u001b[0m 55ms/step - loss: 921.8657 - mae: 921.8657 - val_loss: 1669.3986 - val_mae: 1669.3986\n",
      "Epoch 79/100\n",
      "\u001b[1m2/2\u001b[0m \u001b[32m━━━━━━━━━━━━━━━━━━━━\u001b[0m\u001b[37m\u001b[0m \u001b[1m0s\u001b[0m 77ms/step - loss: 919.8925 - mae: 919.8925 - val_loss: 1666.8772 - val_mae: 1666.8772\n",
      "Epoch 80/100\n",
      "\u001b[1m2/2\u001b[0m \u001b[32m━━━━━━━━━━━━━━━━━━━━\u001b[0m\u001b[37m\u001b[0m \u001b[1m0s\u001b[0m 80ms/step - loss: 918.6097 - mae: 918.6097 - val_loss: 1662.3761 - val_mae: 1662.3761\n",
      "Epoch 81/100\n",
      "\u001b[1m2/2\u001b[0m \u001b[32m━━━━━━━━━━━━━━━━━━━━\u001b[0m\u001b[37m\u001b[0m \u001b[1m0s\u001b[0m 81ms/step - loss: 917.8922 - mae: 917.8922 - val_loss: 1656.2469 - val_mae: 1656.2469\n",
      "Epoch 82/100\n",
      "\u001b[1m2/2\u001b[0m \u001b[32m━━━━━━━━━━━━━━━━━━━━\u001b[0m\u001b[37m\u001b[0m \u001b[1m0s\u001b[0m 78ms/step - loss: 917.7642 - mae: 917.7642 - val_loss: 1650.6014 - val_mae: 1650.6014\n",
      "Epoch 83/100\n",
      "\u001b[1m2/2\u001b[0m \u001b[32m━━━━━━━━━━━━━━━━━━━━\u001b[0m\u001b[37m\u001b[0m \u001b[1m0s\u001b[0m 77ms/step - loss: 917.7131 - mae: 917.7131 - val_loss: 1646.9978 - val_mae: 1646.9978\n",
      "Epoch 84/100\n",
      "\u001b[1m2/2\u001b[0m \u001b[32m━━━━━━━━━━━━━━━━━━━━\u001b[0m\u001b[37m\u001b[0m \u001b[1m0s\u001b[0m 69ms/step - loss: 917.0008 - mae: 917.0008 - val_loss: 1645.0641 - val_mae: 1645.0641\n",
      "Epoch 85/100\n",
      "\u001b[1m2/2\u001b[0m \u001b[32m━━━━━━━━━━━━━━━━━━━━\u001b[0m\u001b[37m\u001b[0m \u001b[1m0s\u001b[0m 70ms/step - loss: 915.7458 - mae: 915.7458 - val_loss: 1644.4969 - val_mae: 1644.4969\n",
      "Epoch 86/100\n",
      "\u001b[1m2/2\u001b[0m \u001b[32m━━━━━━━━━━━━━━━━━━━━\u001b[0m\u001b[37m\u001b[0m \u001b[1m0s\u001b[0m 53ms/step - loss: 914.0440 - mae: 914.0440 - val_loss: 1645.0497 - val_mae: 1645.0497\n",
      "Epoch 87/100\n",
      "\u001b[1m2/2\u001b[0m \u001b[32m━━━━━━━━━━━━━━━━━━━━\u001b[0m\u001b[37m\u001b[0m \u001b[1m0s\u001b[0m 52ms/step - loss: 912.0010 - mae: 912.0010 - val_loss: 1644.6357 - val_mae: 1644.6357\n",
      "Epoch 88/100\n",
      "\u001b[1m2/2\u001b[0m \u001b[32m━━━━━━━━━━━━━━━━━━━━\u001b[0m\u001b[37m\u001b[0m \u001b[1m0s\u001b[0m 76ms/step - loss: 910.0045 - mae: 910.0045 - val_loss: 1641.7307 - val_mae: 1641.7307\n",
      "Epoch 89/100\n",
      "\u001b[1m2/2\u001b[0m \u001b[32m━━━━━━━━━━━━━━━━━━━━\u001b[0m\u001b[37m\u001b[0m \u001b[1m0s\u001b[0m 80ms/step - loss: 908.7234 - mae: 908.7234 - val_loss: 1636.7781 - val_mae: 1636.7781\n",
      "Epoch 90/100\n",
      "\u001b[1m2/2\u001b[0m \u001b[32m━━━━━━━━━━━━━━━━━━━━\u001b[0m\u001b[37m\u001b[0m \u001b[1m0s\u001b[0m 65ms/step - loss: 908.1122 - mae: 908.1122 - val_loss: 1632.0587 - val_mae: 1632.0587\n",
      "Epoch 91/100\n",
      "\u001b[1m2/2\u001b[0m \u001b[32m━━━━━━━━━━━━━━━━━━━━\u001b[0m\u001b[37m\u001b[0m \u001b[1m0s\u001b[0m 67ms/step - loss: 907.6777 - mae: 907.6777 - val_loss: 1629.2571 - val_mae: 1629.2571\n",
      "Epoch 92/100\n",
      "\u001b[1m2/2\u001b[0m \u001b[32m━━━━━━━━━━━━━━━━━━━━\u001b[0m\u001b[37m\u001b[0m \u001b[1m0s\u001b[0m 75ms/step - loss: 906.6223 - mae: 906.6223 - val_loss: 1628.0234 - val_mae: 1628.0234\n",
      "Epoch 93/100\n",
      "\u001b[1m2/2\u001b[0m \u001b[32m━━━━━━━━━━━━━━━━━━━━\u001b[0m\u001b[37m\u001b[0m \u001b[1m0s\u001b[0m 59ms/step - loss: 905.0563 - mae: 905.0563 - val_loss: 1628.0720 - val_mae: 1628.0720\n",
      "Epoch 94/100\n",
      "\u001b[1m2/2\u001b[0m \u001b[32m━━━━━━━━━━━━━━━━━━━━\u001b[0m\u001b[37m\u001b[0m \u001b[1m0s\u001b[0m 169ms/step - loss: 903.1306 - mae: 903.1306 - val_loss: 1627.2104 - val_mae: 1627.2104\n",
      "Epoch 95/100\n",
      "\u001b[1m2/2\u001b[0m \u001b[32m━━━━━━━━━━━━━━━━━━━━\u001b[0m\u001b[37m\u001b[0m \u001b[1m0s\u001b[0m 172ms/step - loss: 901.1802 - mae: 901.1802 - val_loss: 1623.8336 - val_mae: 1623.8336\n",
      "Epoch 96/100\n",
      "\u001b[1m2/2\u001b[0m \u001b[32m━━━━━━━━━━━━━━━━━━━━\u001b[0m\u001b[37m\u001b[0m \u001b[1m0s\u001b[0m 150ms/step - loss: 899.9514 - mae: 899.9514 - val_loss: 1618.3936 - val_mae: 1618.3936\n",
      "Epoch 97/100\n",
      "\u001b[1m2/2\u001b[0m \u001b[32m━━━━━━━━━━━━━━━━━━━━\u001b[0m\u001b[37m\u001b[0m \u001b[1m0s\u001b[0m 107ms/step - loss: 899.3989 - mae: 899.3989 - val_loss: 1613.2504 - val_mae: 1613.2504\n",
      "Epoch 98/100\n",
      "\u001b[1m2/2\u001b[0m \u001b[32m━━━━━━━━━━━━━━━━━━━━\u001b[0m\u001b[37m\u001b[0m \u001b[1m0s\u001b[0m 77ms/step - loss: 899.0248 - mae: 899.0248 - val_loss: 1610.1410 - val_mae: 1610.1410\n",
      "Epoch 99/100\n",
      "\u001b[1m2/2\u001b[0m \u001b[32m━━━━━━━━━━━━━━━━━━━━\u001b[0m\u001b[37m\u001b[0m \u001b[1m0s\u001b[0m 94ms/step - loss: 897.9918 - mae: 897.9918 - val_loss: 1608.6953 - val_mae: 1608.6953\n",
      "Epoch 100/100\n",
      "\u001b[1m2/2\u001b[0m \u001b[32m━━━━━━━━━━━━━━━━━━━━\u001b[0m\u001b[37m\u001b[0m \u001b[1m0s\u001b[0m 86ms/step - loss: 896.4188 - mae: 896.4188 - val_loss: 1608.6078 - val_mae: 1608.6078\n"
     ]
    },
    {
     "data": {
      "text/plain": [
       "<keras.src.callbacks.history.History at 0x1a70ffb63d0>"
      ]
     },
     "execution_count": 40,
     "metadata": {},
     "output_type": "execute_result"
    }
   ],
   "source": [
    "from tensorflow.keras import layers\n",
    "\n",
    "tf.random.set_seed(42)\n",
    "\n",
    "modele_1=tf.keras.Sequential([\n",
    "    layers.Dense(128,activation='relu'),\n",
    "    layers.Dense(HORIZON, activation='linear')\n",
    "    \n",
    "],name=\"modele_1_dense\")\n",
    "\n",
    "\n",
    "modele_1.compile(loss='mae',\n",
    "                optimizer=tf.keras.optimizers.Adam(),\n",
    "                metrics=[\"mae\"])\n",
    "\n",
    "\n",
    "modele_1.fit(x=train_windows,\n",
    "            y=train_labels,\n",
    "            epochs=100,\n",
    "            verbose=1,\n",
    "            batch_size=128,\n",
    "            validation_data=(test_windows,test_labels),\n",
    "            callbacks=[create_model_checkpoint(model_name=modele_1.name)]\n",
    "            )\n"
   ]
  },
  {
   "cell_type": "markdown",
   "id": "49dfa6f0",
   "metadata": {},
   "source": [
    "Évaluons la performance de notre modèle. Pour ce faire, nous allons ré-importer l'itération pour laquelle notre modèle performe le plus. Nous remarquons que notre modèle a un MAE de 1062.3967. Un modèle de DL qui utilise 7 jours de données historiques pour prédire 1 jour fait moins bien que notre modèle naif qui suppose que la meilleure estimation des observations futures est la toute dernière.\n",
    "\n",
    "Mais comment réellement comparer la vraie performance de notre modèle ? Pour ce faire, nous allons utiliser notre fonction customisée de calcul des 05 métrics indispensables pour la prédiction de nos données. Vu que notre fonction de calcul des métriques prend en entrée les prédictions des valeurs par notre modèle de DL, nous allons écrire une fonction qui, pour toutes nos autres expériences nous servira de base de prédictions de valeurs futures.\n",
    "\n",
    "Cette fonction :\n",
    "\n",
    "Prends un modèle entraîné (comme model_1)\n",
    "Prends des données d'entrée (comme celles sur lesquelles le modèle a été entraîné)\n",
    "Passe ces données d'entrée à la méthode predict() du modèle\n",
    "et retourne la prédiction."
   ]
  },
  {
   "cell_type": "code",
   "execution_count": 41,
   "id": "17c1d5ce",
   "metadata": {},
   "outputs": [
    {
     "name": "stdout",
     "output_type": "stream",
     "text": [
      "\u001b[1m2/2\u001b[0m \u001b[32m━━━━━━━━━━━━━━━━━━━━\u001b[0m\u001b[37m\u001b[0m \u001b[1m0s\u001b[0m 7ms/step - loss: 1507.8333 - mae: 1507.8333  \n"
     ]
    },
    {
     "data": {
      "text/plain": [
       "[1608.6077880859375, 1608.6077880859375]"
      ]
     },
     "execution_count": 41,
     "metadata": {},
     "output_type": "execute_result"
    }
   ],
   "source": [
    "model_1 = tf.keras.models.load_model(\"model_experiments/modele_1_dense.keras\")\n",
    "\n",
    "model_1.evaluate(test_windows,test_labels)"
   ]
  },
  {
   "cell_type": "code",
   "execution_count": 42,
   "id": "23a72d10",
   "metadata": {},
   "outputs": [],
   "source": [
    "\"\"\"\n",
    "tf.squeeze(x):\n",
    "Cette fonction supprime les dimensions de taille 1 dans le tenseur de sortie.\n",
    "\n",
    "Exemple : Si x a la forme (n_samples, 1), alors tf.squeeze le transforme en (n_samples).\n",
    "Cela rend le résultat plus facile à manipuler et à lire.\n",
    "Pourquoi tf.squeeze?\n",
    "\n",
    "Cela est utile si tu as un modèle qui retourne une sortie avec une dimension superflue (par exemple, [10, 1]au lieu de [10]). \n",
    "Cela rend les résultats plus clairs et plus cohérents.\n",
    "\"\"\"\n",
    "\n",
    "def make_preds(model, input_data):\n",
    "    model_pr=model.predict(input_data)\n",
    "    \n",
    "    return tf.squeeze(model_pr)"
   ]
  },
  {
   "cell_type": "code",
   "execution_count": 43,
   "id": "2d5f4912",
   "metadata": {},
   "outputs": [
    {
     "name": "stdout",
     "output_type": "stream",
     "text": [
      "\u001b[1m2/2\u001b[0m \u001b[32m━━━━━━━━━━━━━━━━━━━━\u001b[0m\u001b[37m\u001b[0m \u001b[1m0s\u001b[0m 57ms/step\n"
     ]
    }
   ],
   "source": [
    "model_1_preds=make_preds(model_1,test_windows)"
   ]
  },
  {
   "cell_type": "markdown",
   "id": "5f466ef6",
   "metadata": {},
   "source": [
    "Une fois les prédictions faites par notre modèle, il est temps de comparer ce que notre modèle nous donne et ce qui s'est réellement passé. Donc, calculons les métriques de performance de notre modèle en utilisant notre fonction auparavant implémentée."
   ]
  },
  {
   "cell_type": "code",
   "execution_count": 44,
   "id": "a8be5474",
   "metadata": {},
   "outputs": [
    {
     "data": {
      "text/plain": [
       "{'mae': 1608.6078,\n",
       " 'mse': 4153095.0,\n",
       " 'rmse': 2037.9144,\n",
       " 'mape': 0.038653784,\n",
       " 'mase': 1.9001048}"
      ]
     },
     "execution_count": 44,
     "metadata": {},
     "output_type": "execute_result"
    }
   ],
   "source": [
    "model_1_metrics=evaluate_preds(y_true=tf.squeeze(test_labels),y_pred=model_1_preds)\n",
    "model_1_metrics"
   ]
  },
  {
   "cell_type": "markdown",
   "id": "099170a8",
   "metadata": {},
   "source": [
    "Ci-joint un résumé final de la performance de nosdeux premiers modèles quant à leurs exactitudes sur leurs capacités prédictives :"
   ]
  },
  {
   "cell_type": "code",
   "execution_count": 45,
   "id": "f70b7cc2",
   "metadata": {},
   "outputs": [],
   "source": [
    "list_of_dict=[resultat_preds_naive,model_1_metrics]"
   ]
  },
  {
   "cell_type": "code",
   "execution_count": 46,
   "id": "9881f13b",
   "metadata": {},
   "outputs": [
    {
     "data": {
      "text/html": [
       "<div>\n",
       "<style scoped>\n",
       "    .dataframe tbody tr th:only-of-type {\n",
       "        vertical-align: middle;\n",
       "    }\n",
       "\n",
       "    .dataframe tbody tr th {\n",
       "        vertical-align: top;\n",
       "    }\n",
       "\n",
       "    .dataframe thead th {\n",
       "        text-align: right;\n",
       "    }\n",
       "</style>\n",
       "<table border=\"1\" class=\"dataframe\">\n",
       "  <thead>\n",
       "    <tr style=\"text-align: right;\">\n",
       "      <th></th>\n",
       "      <th>mae</th>\n",
       "      <th>mse</th>\n",
       "      <th>rmse</th>\n",
       "      <th>mape</th>\n",
       "      <th>mase</th>\n",
       "    </tr>\n",
       "  </thead>\n",
       "  <tbody>\n",
       "    <tr>\n",
       "      <th>Modèle naif</th>\n",
       "      <td>835.188416</td>\n",
       "      <td>1350388.625</td>\n",
       "      <td>1162.062256</td>\n",
       "      <td>0.020621</td>\n",
       "      <td>0.982439</td>\n",
       "    </tr>\n",
       "    <tr>\n",
       "      <th>Modèle dense (window=7, horizon=1)</th>\n",
       "      <td>1608.607788</td>\n",
       "      <td>4153095.000</td>\n",
       "      <td>2037.914429</td>\n",
       "      <td>0.038654</td>\n",
       "      <td>1.900105</td>\n",
       "    </tr>\n",
       "  </tbody>\n",
       "</table>\n",
       "</div>"
      ],
      "text/plain": [
       "                                            mae          mse         rmse  \\\n",
       "Modèle naif                          835.188416  1350388.625  1162.062256   \n",
       "Modèle dense (window=7, horizon=1)  1608.607788  4153095.000  2037.914429   \n",
       "\n",
       "                                        mape      mase  \n",
       "Modèle naif                         0.020621  0.982439  \n",
       "Modèle dense (window=7, horizon=1)  0.038654  1.900105  "
      ]
     },
     "execution_count": 46,
     "metadata": {},
     "output_type": "execute_result"
    }
   ],
   "source": [
    "pd.DataFrame(list_of_dict,index=['Modèle naif', 'Modèle dense (window=7, horizon=1)'])"
   ]
  },
  {
   "cell_type": "markdown",
   "id": "ea60167e",
   "metadata": {},
   "source": [
    "Il semblerait que le modèle naif bat dans tous les compartiments notre modèle de réseaux de neurones denses. Comme nous le disions auparavant, ce modèle est très difficile a battre de constitue de fait, un benchmark solide sur lequel durant tout notre projet, nous allons baser nos scores et faire des prédictions. Avant cependant de passer au second modèle que l'on veut tester, il est important de **visualiser** ce que nous donne notre modèle de réseaux de neurones denses !"
   ]
  },
  {
   "cell_type": "code",
   "execution_count": 47,
   "id": "c6f090f9",
   "metadata": {},
   "outputs": [
    {
     "data": {
      "image/png": "[encoded data removed]",
      "text/plain": [
       "<Figure size 1200x800 with 1 Axes>"
      ]
     },
     "metadata": {},
     "output_type": "display_data"
    }
   ],
   "source": [
    "offset=10\n",
    "plt.figure(figsize=(12,8))\n",
    "plot_time_series(timesteps=X_test[-len(test_windows):],values=test_labels[:,0],start=offset,label=\"Test data\")\n",
    "plot_time_series(timesteps=X_test[-len(test_windows):],values=model_1_preds,start=offset,format=\"-\",label=\"Neurones Denses(wndow=7,horizon=1)\")\n",
    "plot_time_series(timesteps=X_test[1:], values=prediction_naive, format=\"-\",start=offset,label=\"Predictions Naives\")"
   ]
  },
  {
   "cell_type": "markdown",
   "id": "7ca876b8",
   "metadata": {},
   "source": [
    " Notons que ces prédictions sont seulement sur le jeu de test ! Ce ne sont pas les vrais prédictions ou prédictions actuelles concernant le vrai futur de notre modèle et ce a quoi ressemblerait le __BTC__ en 2023. Ces prédictions ont pour but de **seulement** quantifier la performance de notre modèle. Nous verrons plus tard les prédictions réelles de **tous nos modèles**, et nous allons les comparer.\n",
    "\n",
    "Un modèle de réseaux de neurones denses sur 1 semaine et 1 jour fait moins bien que le modèle naif en terme de précision et de métriques, et si nos données historiques n'étaient pas suffisantes ? Autrement dit, plutot que de prendre 1 semaine de jeu de données de __BTC__, et si l'on prenait 30 jours , donc 1 mois de données hostorique ?"
   ]
  },
  {
   "cell_type": "markdown",
   "id": "b778f379",
   "metadata": {},
   "source": [
    "# Modèle 2 : Réseaux de neurones dense ( window=30, horizon=1)"
   ]
  },
  {
   "cell_type": "markdown",
   "id": "036d1537",
   "metadata": {},
   "source": [
    "Nous allons cette fois ci utiliser une plus grande base de données historiques pour prédire le prix du __BTC__. En effet, intuitivement, en utilisant une plus grande base de données historiques, nous nous attendons a ce que ce nouveau modèle de DL performe mieux que le précédent de 7 jours et 1 jour car elle dispose de plus de données historiques pour la modélisation. "
   ]
  },
  {
   "cell_type": "markdown",
   "id": "3fe17a5e",
   "metadata": {},
   "source": [
    "Les fonction précédemment développées nous permettront de gagner cette fois-ci un temps É-norme dans l'implémentation de ce nouveau modèle. En effet, nous disposons de toutes les fonctions nécessaires a l'établissement d'un nouveau modèle de DL, ce qui nous permet de passer rapidement a la phase de modélisation et de scaler notre code. Nos fonctions de pré-processing nous seront utiles dans tout notre projet, et nous éviterons de ré-écrire le meme code encore et encore. Passons sans plus tarder au second modèle de DL. "
   ]
  },
  {
   "cell_type": "markdown",
   "id": "462d21e7",
   "metadata": {},
   "source": [
    " >Comme précédemment, nous devons avoir la matrice X et y"
   ]
  },
  {
   "cell_type": "code",
   "execution_count": 48,
   "id": "1dcc1593",
   "metadata": {},
   "outputs": [],
   "source": [
    "HORIZON=1\n",
    "WINDOW=30"
   ]
  },
  {
   "cell_type": "code",
   "execution_count": 49,
   "id": "74609ea4",
   "metadata": {},
   "outputs": [
    {
     "data": {
      "text/plain": [
       "(232, 232)"
      ]
     },
     "execution_count": 49,
     "metadata": {},
     "output_type": "execute_result"
    }
   ],
   "source": [
    "full_windows,full_labels =make_windows(prices, window_size=WINDOW, horizon=HORIZON)\n",
    "len(full_windows),len(full_labels)"
   ]
  },
  {
   "cell_type": "markdown",
   "id": "bdfdbbb7",
   "metadata": {},
   "source": [
    "> Splitting des données d'entrainement et de test"
   ]
  },
  {
   "cell_type": "code",
   "execution_count": 50,
   "id": "465c8c1b",
   "metadata": {},
   "outputs": [
    {
     "data": {
      "text/plain": [
       "(185, 47, 185, 47)"
      ]
     },
     "execution_count": 50,
     "metadata": {},
     "output_type": "execute_result"
    }
   ],
   "source": [
    "train_windows, test_windows, train_labels, test_labels = make_train_test_split(windows=full_windows, labels=full_labels)\n",
    "len(train_windows), len(test_windows), len(train_labels), len(test_labels)"
   ]
  },
  {
   "cell_type": "markdown",
   "id": "1e077812",
   "metadata": {},
   "source": [
    ">Nos données sont prêtes pour l'utilisation! Passons a la modelisation"
   ]
  },
  {
   "cell_type": "code",
   "execution_count": 51,
   "id": "4abbf1d7",
   "metadata": {},
   "outputs": [
    {
     "data": {
      "text/plain": [
       "<keras.src.callbacks.history.History at 0x1a7137f40d0>"
      ]
     },
     "execution_count": 51,
     "metadata": {},
     "output_type": "execute_result"
    }
   ],
   "source": [
    "tf.random.set_seed(42)\n",
    "\n",
    "# Création du second modèle ayant exactement la meme architecture que le premier \n",
    "model_2 = tf.keras.Sequential([\n",
    "  layers.Dense(128, activation=\"relu\"),\n",
    "  layers.Dense(HORIZON) \n",
    "], name=\"model_2_dense\")\n",
    "\n",
    "model_2.compile(loss=\"mae\",\n",
    "                optimizer=tf.keras.optimizers.Adam())\n",
    "\n",
    "model_2.fit(train_windows,\n",
    "            train_labels,\n",
    "            epochs=100,\n",
    "            batch_size=128,\n",
    "            verbose=0,\n",
    "            validation_data=(test_windows, test_labels),\n",
    "            callbacks=[create_model_checkpoint(model_name=model_2.name)])"
   ]
  },
  {
   "cell_type": "markdown",
   "id": "8424a487",
   "metadata": {},
   "source": [
    "Verifions sa performance sur la meilleure iteratin sauvegardée"
   ]
  },
  {
   "cell_type": "code",
   "execution_count": 52,
   "id": "42139449",
   "metadata": {},
   "outputs": [
    {
     "name": "stdout",
     "output_type": "stream",
     "text": [
      "\u001b[1m2/2\u001b[0m \u001b[32m━━━━━━━━━━━━━━━━━━━━\u001b[0m\u001b[37m\u001b[0m \u001b[1m0s\u001b[0m 10ms/step - loss: 1936.9590 \n"
     ]
    },
    {
     "data": {
      "text/plain": [
       "2055.835693359375"
      ]
     },
     "execution_count": 52,
     "metadata": {},
     "output_type": "execute_result"
    }
   ],
   "source": [
    "model_2 = tf.keras.models.load_model(\"model_experiments/model_2_dense.keras\")\n",
    "model_2.evaluate(test_windows, test_labels)"
   ]
  },
  {
   "cell_type": "code",
   "execution_count": 53,
   "id": "a43d4bdc",
   "metadata": {},
   "outputs": [
    {
     "name": "stdout",
     "output_type": "stream",
     "text": [
      "\u001b[1m2/2\u001b[0m \u001b[32m━━━━━━━━━━━━━━━━━━━━\u001b[0m\u001b[37m\u001b[0m \u001b[1m0s\u001b[0m 63ms/step\n"
     ]
    }
   ],
   "source": [
    "model_2_preds=make_preds(model_2,input_data=test_windows)"
   ]
  },
  {
   "cell_type": "code",
   "execution_count": 54,
   "id": "05497f89",
   "metadata": {},
   "outputs": [
    {
     "data": {
      "text/plain": [
       "{'mae': 2055.8354,\n",
       " 'mse': 6404762.0,\n",
       " 'rmse': 2530.7632,\n",
       " 'mape': 0.049490567,\n",
       " 'mase': 2.405654}"
      ]
     },
     "execution_count": 54,
     "metadata": {},
     "output_type": "execute_result"
    }
   ],
   "source": [
    "model_2_metrics= evaluate_preds(y_true=tf.squeeze(test_labels),\n",
    "                               y_pred=model_2_preds)\n",
    "model_2_metrics"
   ]
  },
  {
   "cell_type": "code",
   "execution_count": 55,
   "id": "2ca5343f",
   "metadata": {},
   "outputs": [],
   "source": [
    "list_of_dict = [resultat_preds_naive,model_1_metrics,model_2_metrics]"
   ]
  },
  {
   "cell_type": "code",
   "execution_count": 56,
   "id": "e87ea193",
   "metadata": {},
   "outputs": [
    {
     "data": {
      "text/html": [
       "<div>\n",
       "<style scoped>\n",
       "    .dataframe tbody tr th:only-of-type {\n",
       "        vertical-align: middle;\n",
       "    }\n",
       "\n",
       "    .dataframe tbody tr th {\n",
       "        vertical-align: top;\n",
       "    }\n",
       "\n",
       "    .dataframe thead th {\n",
       "        text-align: right;\n",
       "    }\n",
       "</style>\n",
       "<table border=\"1\" class=\"dataframe\">\n",
       "  <thead>\n",
       "    <tr style=\"text-align: right;\">\n",
       "      <th></th>\n",
       "      <th>mae</th>\n",
       "      <th>mse</th>\n",
       "      <th>rmse</th>\n",
       "      <th>mape</th>\n",
       "      <th>mase</th>\n",
       "    </tr>\n",
       "  </thead>\n",
       "  <tbody>\n",
       "    <tr>\n",
       "      <th>Modèle naif</th>\n",
       "      <td>835.188416</td>\n",
       "      <td>1350388.625</td>\n",
       "      <td>1162.062256</td>\n",
       "      <td>0.020621</td>\n",
       "      <td>0.982439</td>\n",
       "    </tr>\n",
       "    <tr>\n",
       "      <th>Modèle dense (window=7, horizon=1)</th>\n",
       "      <td>1608.607788</td>\n",
       "      <td>4153095.000</td>\n",
       "      <td>2037.914429</td>\n",
       "      <td>0.038654</td>\n",
       "      <td>1.900105</td>\n",
       "    </tr>\n",
       "    <tr>\n",
       "      <th>Modèle dense (window=30, horizon=1)</th>\n",
       "      <td>2055.835449</td>\n",
       "      <td>6404762.000</td>\n",
       "      <td>2530.763184</td>\n",
       "      <td>0.049491</td>\n",
       "      <td>2.405654</td>\n",
       "    </tr>\n",
       "  </tbody>\n",
       "</table>\n",
       "</div>"
      ],
      "text/plain": [
       "                                             mae          mse         rmse  \\\n",
       "Modèle naif                           835.188416  1350388.625  1162.062256   \n",
       "Modèle dense (window=7, horizon=1)   1608.607788  4153095.000  2037.914429   \n",
       "Modèle dense (window=30, horizon=1)  2055.835449  6404762.000  2530.763184   \n",
       "\n",
       "                                         mape      mase  \n",
       "Modèle naif                          0.020621  0.982439  \n",
       "Modèle dense (window=7, horizon=1)   0.038654  1.900105  \n",
       "Modèle dense (window=30, horizon=1)  0.049491  2.405654  "
      ]
     },
     "execution_count": 56,
     "metadata": {},
     "output_type": "execute_result"
    }
   ],
   "source": [
    "pd.DataFrame(list_of_dict,index=['Modèle naif',\n",
    "                                 'Modèle dense (window=7, horizon=1)',\n",
    "                                 'Modèle dense (window=30, horizon=1)'])"
   ]
  },
  {
   "cell_type": "markdown",
   "id": "793949f7",
   "metadata": {},
   "source": [
    "Le modèle dense de 30 jours de données historiques et 1 jour de prédiction fait moins bien que le modèle de 7 jours qui lui meme fait moins bien que le modèle naif. Par conséquent, avoir un plus grand jeu de données historiques n'améliore pas la capacité que l'on a à prédire le prix du __BTC__ selon les modèles de deep learning.  "
   ]
  },
  {
   "cell_type": "code",
   "execution_count": 57,
   "id": "2a135b64",
   "metadata": {},
   "outputs": [
    {
     "data": {
      "image/png": "[encoded data removed]",
      "text/plain": [
       "<Figure size 1200x800 with 1 Axes>"
      ]
     },
     "metadata": {},
     "output_type": "display_data"
    }
   ],
   "source": [
    "offset = 10\n",
    "plt.figure(figsize=(12, 8))\n",
    "plot_time_series(timesteps=X_test[-len(test_windows):], values=test_labels[:, 0], start=offset, label=\"test_data\")\n",
    "plot_time_series(timesteps=X_test[-len(test_windows)-4:], values=model_1_preds, start=offset, format=\"-\", label=\"Neurones Denses(window=7, horizon=1)\")\n",
    "plot_time_series(timesteps=X_test[-len(test_windows):], values=model_2_preds, start=offset, format=\"-\", label=\"Neurones Denses(window=30, horizon=1)\")\n",
    "plot_time_series(timesteps=X_test[1:], values=prediction_naive, format=\"-\", start=offset, label=\" Prédictions Naives\")"
   ]
  },
  {
   "cell_type": "markdown",
   "id": "368cccee",
   "metadata": {},
   "source": [
    "# Modèle 3 : Réseaux de neurones convolutionnels : Conv1D ( window=7, horizon=1)"
   ]
  },
  {
   "cell_type": "markdown",
   "id": "c0d5c3c8",
   "metadata": {},
   "source": [
    "Nous allons dans cette partie, nous allons utiliser les réseaux de neurones **séquentiel** pour éssayer de prédire le cours du __BTC__. Ce qui justifie ce choix est la forme première des données. Vu que nous sommes en présence de données séquentielles, utiliser un modèle de réseaux de neurones séquentiel ou **seq2seq** pour prédire la **suite de la séquence d'observation de prix que nous avons** savère judicieux et peut nous permettre en conséquence d'améliorer drastiquement les performances de notre modèle. \n",
    "\n",
    "Les réseaux de neurones convolutionnels sont de base utilisé pour prédire le **computer vision** ou les images. Cependant, les réseaux de neurones convolutionnels peuvent etre utilisé pour prédire des **séquences**. La seule différence est la dimension du réseau de neurones. Pour prédire une séquence, on utilise un réseau de neurones convolutionnel a 1 dimension d'ou le terme **conv1D** alors que pour prédire des images, on utilise un réseau de neurones convolutionnels a deux dimensions d'ou le terme **conv2D**. Nous allons essayer de voir a quel point un réseau convolutionnel 1 dimension est performant pour prédire notre jeu de données."
   ]
  },
  {
   "cell_type": "code",
   "execution_count": 58,
   "id": "135f56f6",
   "metadata": {},
   "outputs": [],
   "source": [
    "HORIZON = 1 \n",
    "WINDOW = 7 "
   ]
  },
  {
   "cell_type": "code",
   "execution_count": 59,
   "id": "030bd264",
   "metadata": {},
   "outputs": [
    {
     "data": {
      "text/plain": [
       "(255, 255)"
      ]
     },
     "execution_count": 59,
     "metadata": {},
     "output_type": "execute_result"
    }
   ],
   "source": [
    "full_windows, full_labels = make_windows(prices, window_size=WINDOW, horizon=HORIZON)\n",
    "len(full_windows), len(full_labels)"
   ]
  },
  {
   "cell_type": "code",
   "execution_count": 60,
   "id": "4ba93a80",
   "metadata": {},
   "outputs": [
    {
     "data": {
      "text/plain": [
       "(204, 51, 204, 51)"
      ]
     },
     "execution_count": 60,
     "metadata": {},
     "output_type": "execute_result"
    }
   ],
   "source": [
    "train_windows, test_windows, train_labels, test_labels = make_train_test_split(full_windows, full_labels)\n",
    "len(train_windows), len(test_windows), len(train_labels), len(test_labels)"
   ]
  },
  {
   "cell_type": "code",
   "execution_count": 61,
   "id": "be7fb96d",
   "metadata": {},
   "outputs": [
    {
     "data": {
      "text/plain": [
       "(7,)"
      ]
     },
     "execution_count": 61,
     "metadata": {},
     "output_type": "execute_result"
    }
   ],
   "source": [
    "train_windows[0].shape"
   ]
  },
  {
   "cell_type": "markdown",
   "id": "1e1608ba",
   "metadata": {},
   "source": [
    "Avant de faire entrer la donnée dans un réseau de neurones récurrents, nous devons nous assurer que la dimension des tenseurs coincident parfaitement auquel car Tensorflow va nous retourner des erreurs de dimension et ne pourra pas compiler le modèle. Pour tout modèle de réseaux de neurones récurrents, cela est une étape indispensable."
   ]
  },
  {
   "cell_type": "code",
   "execution_count": 62,
   "id": "b1fec986",
   "metadata": {},
   "outputs": [],
   "source": [
    "x= tf.constant(train_windows[0])\n",
    "expand_dims_layer= layers.Lambda(lambda x:tf.expand_dims(x,axis=1))"
   ]
  },
  {
   "cell_type": "code",
   "execution_count": 72,
   "id": "ac06dd81",
   "metadata": {},
   "outputs": [
    {
     "data": {
      "text/plain": [
       "<keras.src.callbacks.history.History at 0x1a717a65ad0>"
      ]
     },
     "execution_count": 72,
     "metadata": {},
     "output_type": "execute_result"
    }
   ],
   "source": [
    "tf.random.set_seed(42)\n",
    "\n",
    "\n",
    "def expand_input(x):\n",
    "    return tf.expand_dims(x, axis=1)\"\"\"permet d'ajouter une nouvelle dimension\"\"\"\n",
    "\n",
    "model_3 = tf.keras.Sequential([\n",
    "    layers.Lambda(expand_input),  # \n",
    "    layers.Conv1D(filters=128, kernel_size=5, padding=\"causal\", activation=\"relu\"),\n",
    "    layers.Dense(HORIZON)\n",
    "], name=\"model_3_conv1D\")\n",
    "\n",
    "model_3.compile(loss=\"mae\",\n",
    "                optimizer=tf.keras.optimizers.Adam())\n",
    "\n",
    "\n",
    "model_3.fit(train_windows,\n",
    "            train_labels,\n",
    "            batch_size=128, \n",
    "            epochs=100,\n",
    "            verbose=0,\n",
    "            validation_data=(test_windows, test_labels),\n",
    "            callbacks=[create_model_checkpoint(model_name=model_3.name)])"
   ]
  },
  {
   "cell_type": "code",
   "execution_count": 73,
   "id": "44386817",
   "metadata": {},
   "outputs": [
    {
     "data": {
      "text/html": [
       "<pre style=\"white-space:pre;overflow-x:auto;line-height:normal;font-family:Menlo,'DejaVu Sans Mono',consolas,'Courier New',monospace\"><span style=\"font-weight: bold\">Model: \"model_3_conv1D\"</span>\n",
       "</pre>\n"
      ],
      "text/plain": [
       "\u001b[1mModel: \"model_3_conv1D\"\u001b[0m\n"
      ]
     },
     "metadata": {},
     "output_type": "display_data"
    },
    {
     "data": {
      "text/html": [
       "<pre style=\"white-space:pre;overflow-x:auto;line-height:normal;font-family:Menlo,'DejaVu Sans Mono',consolas,'Courier New',monospace\">┏━━━━━━━━━━━━━━━━━━━━━━━━━━━━━━━━━┳━━━━━━━━━━━━━━━━━━━━━━━━┳━━━━━━━━━━━━━━━┓\n",
       "┃<span style=\"font-weight: bold\"> Layer (type)                    </span>┃<span style=\"font-weight: bold\"> Output Shape           </span>┃<span style=\"font-weight: bold\">       Param # </span>┃\n",
       "┡━━━━━━━━━━━━━━━━━━━━━━━━━━━━━━━━━╇━━━━━━━━━━━━━━━━━━━━━━━━╇━━━━━━━━━━━━━━━┩\n",
       "│ lambda_5 (<span style=\"color: #0087ff; text-decoration-color: #0087ff\">Lambda</span>)               │ (<span style=\"color: #00d7ff; text-decoration-color: #00d7ff\">None</span>, <span style=\"color: #00af00; text-decoration-color: #00af00\">1</span>, <span style=\"color: #00af00; text-decoration-color: #00af00\">7</span>)           │             <span style=\"color: #00af00; text-decoration-color: #00af00\">0</span> │\n",
       "├─────────────────────────────────┼────────────────────────┼───────────────┤\n",
       "│ conv1d_3 (<span style=\"color: #0087ff; text-decoration-color: #0087ff\">Conv1D</span>)               │ (<span style=\"color: #00d7ff; text-decoration-color: #00d7ff\">None</span>, <span style=\"color: #00af00; text-decoration-color: #00af00\">1</span>, <span style=\"color: #00af00; text-decoration-color: #00af00\">128</span>)         │         <span style=\"color: #00af00; text-decoration-color: #00af00\">4,608</span> │\n",
       "├─────────────────────────────────┼────────────────────────┼───────────────┤\n",
       "│ dense_7 (<span style=\"color: #0087ff; text-decoration-color: #0087ff\">Dense</span>)                 │ (<span style=\"color: #00d7ff; text-decoration-color: #00d7ff\">None</span>, <span style=\"color: #00af00; text-decoration-color: #00af00\">1</span>, <span style=\"color: #00af00; text-decoration-color: #00af00\">1</span>)           │           <span style=\"color: #00af00; text-decoration-color: #00af00\">129</span> │\n",
       "└─────────────────────────────────┴────────────────────────┴───────────────┘\n",
       "</pre>\n"
      ],
      "text/plain": [
       "┏━━━━━━━━━━━━━━━━━━━━━━━━━━━━━━━━━┳━━━━━━━━━━━━━━━━━━━━━━━━┳━━━━━━━━━━━━━━━┓\n",
       "┃\u001b[1m \u001b[0m\u001b[1mLayer (type)                   \u001b[0m\u001b[1m \u001b[0m┃\u001b[1m \u001b[0m\u001b[1mOutput Shape          \u001b[0m\u001b[1m \u001b[0m┃\u001b[1m \u001b[0m\u001b[1m      Param #\u001b[0m\u001b[1m \u001b[0m┃\n",
       "┡━━━━━━━━━━━━━━━━━━━━━━━━━━━━━━━━━╇━━━━━━━━━━━━━━━━━━━━━━━━╇━━━━━━━━━━━━━━━┩\n",
       "│ lambda_5 (\u001b[38;5;33mLambda\u001b[0m)               │ (\u001b[38;5;45mNone\u001b[0m, \u001b[38;5;34m1\u001b[0m, \u001b[38;5;34m7\u001b[0m)           │             \u001b[38;5;34m0\u001b[0m │\n",
       "├─────────────────────────────────┼────────────────────────┼───────────────┤\n",
       "│ conv1d_3 (\u001b[38;5;33mConv1D\u001b[0m)               │ (\u001b[38;5;45mNone\u001b[0m, \u001b[38;5;34m1\u001b[0m, \u001b[38;5;34m128\u001b[0m)         │         \u001b[38;5;34m4,608\u001b[0m │\n",
       "├─────────────────────────────────┼────────────────────────┼───────────────┤\n",
       "│ dense_7 (\u001b[38;5;33mDense\u001b[0m)                 │ (\u001b[38;5;45mNone\u001b[0m, \u001b[38;5;34m1\u001b[0m, \u001b[38;5;34m1\u001b[0m)           │           \u001b[38;5;34m129\u001b[0m │\n",
       "└─────────────────────────────────┴────────────────────────┴───────────────┘\n"
      ]
     },
     "metadata": {},
     "output_type": "display_data"
    },
    {
     "data": {
      "text/html": [
       "<pre style=\"white-space:pre;overflow-x:auto;line-height:normal;font-family:Menlo,'DejaVu Sans Mono',consolas,'Courier New',monospace\"><span style=\"font-weight: bold\"> Total params: </span><span style=\"color: #00af00; text-decoration-color: #00af00\">14,213</span> (55.52 KB)\n",
       "</pre>\n"
      ],
      "text/plain": [
       "\u001b[1m Total params: \u001b[0m\u001b[38;5;34m14,213\u001b[0m (55.52 KB)\n"
      ]
     },
     "metadata": {},
     "output_type": "display_data"
    },
    {
     "data": {
      "text/html": [
       "<pre style=\"white-space:pre;overflow-x:auto;line-height:normal;font-family:Menlo,'DejaVu Sans Mono',consolas,'Courier New',monospace\"><span style=\"font-weight: bold\"> Trainable params: </span><span style=\"color: #00af00; text-decoration-color: #00af00\">4,737</span> (18.50 KB)\n",
       "</pre>\n"
      ],
      "text/plain": [
       "\u001b[1m Trainable params: \u001b[0m\u001b[38;5;34m4,737\u001b[0m (18.50 KB)\n"
      ]
     },
     "metadata": {},
     "output_type": "display_data"
    },
    {
     "data": {
      "text/html": [
       "<pre style=\"white-space:pre;overflow-x:auto;line-height:normal;font-family:Menlo,'DejaVu Sans Mono',consolas,'Courier New',monospace\"><span style=\"font-weight: bold\"> Non-trainable params: </span><span style=\"color: #00af00; text-decoration-color: #00af00\">0</span> (0.00 B)\n",
       "</pre>\n"
      ],
      "text/plain": [
       "\u001b[1m Non-trainable params: \u001b[0m\u001b[38;5;34m0\u001b[0m (0.00 B)\n"
      ]
     },
     "metadata": {},
     "output_type": "display_data"
    },
    {
     "data": {
      "text/html": [
       "<pre style=\"white-space:pre;overflow-x:auto;line-height:normal;font-family:Menlo,'DejaVu Sans Mono',consolas,'Courier New',monospace\"><span style=\"font-weight: bold\"> Optimizer params: </span><span style=\"color: #00af00; text-decoration-color: #00af00\">9,476</span> (37.02 KB)\n",
       "</pre>\n"
      ],
      "text/plain": [
       "\u001b[1m Optimizer params: \u001b[0m\u001b[38;5;34m9,476\u001b[0m (37.02 KB)\n"
      ]
     },
     "metadata": {},
     "output_type": "display_data"
    }
   ],
   "source": [
    "model_3.summary()"
   ]
  },
  {
   "cell_type": "code",
   "execution_count": 76,
   "id": "0a921ac4",
   "metadata": {},
   "outputs": [
    {
     "name": "stdout",
     "output_type": "stream",
     "text": [
      "\u001b[1m2/2\u001b[0m \u001b[32m━━━━━━━━━━━━━━━━━━━━\u001b[0m\u001b[37m\u001b[0m \u001b[1m0s\u001b[0m 19ms/step - loss: 1472.1691 \n"
     ]
    },
    {
     "data": {
      "text/plain": [
       "1565.4962158203125"
      ]
     },
     "execution_count": 76,
     "metadata": {},
     "output_type": "execute_result"
    }
   ],
   "source": [
    "from keras.saving import register_keras_serializable\n",
    "\n",
    "@register_keras_serializable()\n",
    "def expand_input(x):\n",
    "    return tf.expand_dims(x, axis=1)\n",
    "\n",
    "\n",
    "model_3 = tf.keras.models.load_model(\"model_experiments/model_3_conv1D.keras\")\n",
    "model_3.evaluate(test_windows, test_labels)"
   ]
  },
  {
   "cell_type": "code",
   "execution_count": 77,
   "id": "3c5cd44d",
   "metadata": {},
   "outputs": [
    {
     "name": "stdout",
     "output_type": "stream",
     "text": [
      "WARNING:tensorflow:5 out of the last 5 calls to <function TensorFlowTrainer.make_predict_function.<locals>.one_step_on_data_distributed at 0x000001A717D9F240> triggered tf.function retracing. Tracing is expensive and the excessive number of tracings could be due to (1) creating @tf.function repeatedly in a loop, (2) passing tensors with different shapes, (3) passing Python objects instead of tensors. For (1), please define your @tf.function outside of the loop. For (2), @tf.function has reduce_retracing=True option that can avoid unnecessary retracing. For (3), please refer to https://www.tensorflow.org/guide/function#controlling_retracing and https://www.tensorflow.org/api_docs/python/tf/function for  more details.\n",
      "\u001b[1m1/2\u001b[0m \u001b[32m━━━━━━━━━━\u001b[0m\u001b[37m━━━━━━━━━━\u001b[0m \u001b[1m1s\u001b[0m 1s/stepWARNING:tensorflow:6 out of the last 6 calls to <function TensorFlowTrainer.make_predict_function.<locals>.one_step_on_data_distributed at 0x000001A717D9F240> triggered tf.function retracing. Tracing is expensive and the excessive number of tracings could be due to (1) creating @tf.function repeatedly in a loop, (2) passing tensors with different shapes, (3) passing Python objects instead of tensors. For (1), please define your @tf.function outside of the loop. For (2), @tf.function has reduce_retracing=True option that can avoid unnecessary retracing. For (3), please refer to https://www.tensorflow.org/guide/function#controlling_retracing and https://www.tensorflow.org/api_docs/python/tf/function for  more details.\n",
      "\u001b[1m2/2\u001b[0m \u001b[32m━━━━━━━━━━━━━━━━━━━━\u001b[0m\u001b[37m\u001b[0m \u001b[1m1s\u001b[0m 172ms/step\n"
     ]
    },
    {
     "data": {
      "text/plain": [
       "<tf.Tensor: shape=(10,), dtype=float32, numpy=\n",
       "array([39671.098, 39926.535, 39650.45 , 39398.723, 39211.723, 38839.777,\n",
       "       39052.527, 39474.125, 39274.68 , 39347.594], dtype=float32)>"
      ]
     },
     "execution_count": 77,
     "metadata": {},
     "output_type": "execute_result"
    }
   ],
   "source": [
    "model_3_preds = make_preds(model_3, test_windows)\n",
    "model_3_preds[:10]"
   ]
  },
  {
   "cell_type": "code",
   "execution_count": 80,
   "id": "dc3aa6f3",
   "metadata": {},
   "outputs": [
    {
     "data": {
      "text/plain": [
       "{'mae': 1565.4962,\n",
       " 'mse': 3918349.2,\n",
       " 'rmse': 1979.482,\n",
       " 'mape': 0.03765629,\n",
       " 'mase': 1.8491809}"
      ]
     },
     "execution_count": 80,
     "metadata": {},
     "output_type": "execute_result"
    }
   ],
   "source": [
    "model_3_metrics = evaluate_preds(y_true=tf.squeeze(test_labels),\n",
    "                                 y_pred=model_3_preds)\n",
    "model_3_metrics"
   ]
  },
  {
   "cell_type": "code",
   "execution_count": 81,
   "id": "c32a31fa",
   "metadata": {},
   "outputs": [],
   "source": [
    "list_of_dict = [resultat_preds_naive,model_1_metrics,model_2_metrics,model_3_metrics]"
   ]
  },
  {
   "cell_type": "code",
   "execution_count": 82,
   "id": "8da876ae",
   "metadata": {},
   "outputs": [
    {
     "data": {
      "text/html": [
       "<div>\n",
       "<style scoped>\n",
       "    .dataframe tbody tr th:only-of-type {\n",
       "        vertical-align: middle;\n",
       "    }\n",
       "\n",
       "    .dataframe tbody tr th {\n",
       "        vertical-align: top;\n",
       "    }\n",
       "\n",
       "    .dataframe thead th {\n",
       "        text-align: right;\n",
       "    }\n",
       "</style>\n",
       "<table border=\"1\" class=\"dataframe\">\n",
       "  <thead>\n",
       "    <tr style=\"text-align: right;\">\n",
       "      <th></th>\n",
       "      <th>mae</th>\n",
       "      <th>mse</th>\n",
       "      <th>rmse</th>\n",
       "      <th>mape</th>\n",
       "      <th>mase</th>\n",
       "    </tr>\n",
       "  </thead>\n",
       "  <tbody>\n",
       "    <tr>\n",
       "      <th>Modèle naif</th>\n",
       "      <td>835.188416</td>\n",
       "      <td>1350388.625</td>\n",
       "      <td>1162.062256</td>\n",
       "      <td>0.020621</td>\n",
       "      <td>0.982439</td>\n",
       "    </tr>\n",
       "    <tr>\n",
       "      <th>Modèle dense (window=7, horizon=1)</th>\n",
       "      <td>1608.607788</td>\n",
       "      <td>4153095.000</td>\n",
       "      <td>2037.914429</td>\n",
       "      <td>0.038654</td>\n",
       "      <td>1.900105</td>\n",
       "    </tr>\n",
       "    <tr>\n",
       "      <th>Modèle dense (window=30, horizon=1)</th>\n",
       "      <td>2055.835449</td>\n",
       "      <td>6404762.000</td>\n",
       "      <td>2530.763184</td>\n",
       "      <td>0.049491</td>\n",
       "      <td>2.405654</td>\n",
       "    </tr>\n",
       "    <tr>\n",
       "      <th>Modèle Conv1D (window=7, horizon=1)</th>\n",
       "      <td>1565.496216</td>\n",
       "      <td>3918349.250</td>\n",
       "      <td>1979.482056</td>\n",
       "      <td>0.037656</td>\n",
       "      <td>1.849181</td>\n",
       "    </tr>\n",
       "  </tbody>\n",
       "</table>\n",
       "</div>"
      ],
      "text/plain": [
       "                                             mae          mse         rmse  \\\n",
       "Modèle naif                           835.188416  1350388.625  1162.062256   \n",
       "Modèle dense (window=7, horizon=1)   1608.607788  4153095.000  2037.914429   \n",
       "Modèle dense (window=30, horizon=1)  2055.835449  6404762.000  2530.763184   \n",
       "Modèle Conv1D (window=7, horizon=1)  1565.496216  3918349.250  1979.482056   \n",
       "\n",
       "                                         mape      mase  \n",
       "Modèle naif                          0.020621  0.982439  \n",
       "Modèle dense (window=7, horizon=1)   0.038654  1.900105  \n",
       "Modèle dense (window=30, horizon=1)  0.049491  2.405654  \n",
       "Modèle Conv1D (window=7, horizon=1)  0.037656  1.849181  "
      ]
     },
     "execution_count": 82,
     "metadata": {},
     "output_type": "execute_result"
    }
   ],
   "source": [
    "pd.DataFrame(list_of_dict,index=['Modèle naif',\n",
    "                                 'Modèle dense (window=7, horizon=1)',\n",
    "                                 'Modèle dense (window=30, horizon=1)',\n",
    "                                 'Modèle Conv1D (window=7, horizon=1)'])"
   ]
  },
  {
   "cell_type": "markdown",
   "id": "be221d7a",
   "metadata": {},
   "source": [
    "Nous voyons clairement que notre modèle de réseaux de neurones récurrents performe mieux que le modèle dense de 30 jours et 1 jour et moins bien toujours que le modèle naif. Le modèle naif est un benchmark et constitue par conséquent un socle sur lequel s'appuyer pour evaluer la performance de nos modèles prédictifs.Jusqu'à l'heure actuelle, il performe mieux que les autres.\n",
    "\n",
    "Nous allons a présent, utiliser un autre type de réseaux de neurones récurrents : les **LSTM**. Les LSTM sont des réseaux de neurones qui conservent la mémoire a court terme de données séquentielles. Autrement dit, comment se comporterait un modèle de DL prédictif du prix du __BTC__ sachant que ce dernier se rappelle de son passé court ? Intuitivement, on se dit qu'il devrait performer mieux que le modèle 1 semaine 1 jour pour **suffisamment** se rapprocher du modèle naif. "
   ]
  },
  {
   "cell_type": "markdown",
   "id": "70a569f0",
   "metadata": {},
   "source": [
    "# Modèle 4 : Réseaux de neurones récurrents RNN (LSTM)"
   ]
  },
  {
   "cell_type": "markdown",
   "id": "62dd84bf",
   "metadata": {},
   "source": [
    "Le principe d'un RNN est simple : Utiliser des informations du passé pour nous aider avec l'avenir (c'est là que vient le terme \"récurrent\"). En d'autres termes, prendre une entrée (X) et calculer une sortie (y) en fonction de toutes les entrées précédentes.\n",
    "\n",
    "Ce concept est particulièrement utile lorsqu'il s'agit de séquences telles que des passages de texte en langage naturel (comme des tweets). Vu que notre série temporelle est une suite séquentielle nous pouvons donc utiliser un LSTM."
   ]
  },
  {
   "cell_type": "code",
   "execution_count": 88,
   "id": "197e9b30",
   "metadata": {},
   "outputs": [],
   "source": [
    "HORIZON = 1\n",
    "WINDOW =7"
   ]
  },
  {
   "cell_type": "code",
   "execution_count": 90,
   "id": "82edd3fc",
   "metadata": {},
   "outputs": [
    {
     "data": {
      "text/plain": [
       "<keras.src.callbacks.history.History at 0x1a713acaa90>"
      ]
     },
     "execution_count": 90,
     "metadata": {},
     "output_type": "execute_result"
    }
   ],
   "source": [
    "tf.random.set_seed(42)\n",
    "\n",
    "\n",
    "import tensorflow as tf\n",
    "from tensorflow.keras import layers\n",
    "\n",
    "# Supposons que WINDOW est un entier\n",
    "WINDOW = 7\n",
    "\n",
    "# Définir les entrées avec un tuple\n",
    "inputs = layers.Input(shape=(WINDOW,))  # Note la virgule après WINDOW\n",
    "\n",
    "# Ajouter une dimension pour LSTM\n",
    "x = layers.Lambda(lambda x: tf.expand_dims(x, axis=1))(inputs)\n",
    "\n",
    "# Couche LSTM\n",
    "x = layers.LSTM(128, activation=\"relu\")(x)\n",
    "\n",
    "# Couche de sortie\n",
    "output = layers.Dense(HORIZON)(x)\n",
    "\n",
    "# Créer le modèle\n",
    "model_4 = tf.keras.Model(inputs=inputs, outputs=output, name=\"model_4_lstm\")\n",
    "\n",
    "# Compiler le modèle\n",
    "model_4.compile(loss=\"mae\", optimizer=tf.keras.optimizers.Adam())\n",
    "\n",
    "# Entraîner le modèle\n",
    "model_4.fit(train_windows, train_labels, epochs=100, verbose=0, batch_size=128,\n",
    "            validation_data=(test_windows, test_labels),\n",
    "            callbacks=[create_model_checkpoint(model_name=model_4.name)])"
   ]
  },
  {
   "cell_type": "code",
   "execution_count": 91,
   "id": "3c5bd542",
   "metadata": {},
   "outputs": [
    {
     "name": "stdout",
     "output_type": "stream",
     "text": [
      "\u001b[1m2/2\u001b[0m \u001b[32m━━━━━━━━━━━━━━━━━━━━\u001b[0m\u001b[37m\u001b[0m \u001b[1m1s\u001b[0m 233ms/step\n"
     ]
    }
   ],
   "source": [
    "model_4_preds = make_preds(model_4, test_windows)"
   ]
  },
  {
   "cell_type": "code",
   "execution_count": 92,
   "id": "7d58573f",
   "metadata": {},
   "outputs": [
    {
     "data": {
      "text/plain": [
       "{'mae': 1570.1066,\n",
       " 'mse': 3956185.0,\n",
       " 'rmse': 1989.0161,\n",
       " 'mape': 0.037747946,\n",
       " 'mase': 1.854627}"
      ]
     },
     "execution_count": 92,
     "metadata": {},
     "output_type": "execute_result"
    }
   ],
   "source": [
    "model_4_metrics = evaluate_preds(y_true=tf.squeeze(test_labels),\n",
    "                                 y_pred=model_4_preds)\n",
    "model_4_metrics"
   ]
  },
  {
   "cell_type": "code",
   "execution_count": 94,
   "id": "34d0d3d1",
   "metadata": {},
   "outputs": [],
   "source": [
    "list_of_dict = [resultat_preds_naive,model_1_metrics,model_2_metrics,model_3_metrics,model_4_metrics]"
   ]
  },
  {
   "cell_type": "code",
   "execution_count": 95,
   "id": "365606ff",
   "metadata": {},
   "outputs": [
    {
     "data": {
      "text/html": [
       "<div>\n",
       "<style scoped>\n",
       "    .dataframe tbody tr th:only-of-type {\n",
       "        vertical-align: middle;\n",
       "    }\n",
       "\n",
       "    .dataframe tbody tr th {\n",
       "        vertical-align: top;\n",
       "    }\n",
       "\n",
       "    .dataframe thead th {\n",
       "        text-align: right;\n",
       "    }\n",
       "</style>\n",
       "<table border=\"1\" class=\"dataframe\">\n",
       "  <thead>\n",
       "    <tr style=\"text-align: right;\">\n",
       "      <th></th>\n",
       "      <th>mae</th>\n",
       "      <th>mse</th>\n",
       "      <th>rmse</th>\n",
       "      <th>mape</th>\n",
       "      <th>mase</th>\n",
       "    </tr>\n",
       "  </thead>\n",
       "  <tbody>\n",
       "    <tr>\n",
       "      <th>Modèle naif</th>\n",
       "      <td>835.188416</td>\n",
       "      <td>1350388.625</td>\n",
       "      <td>1162.062256</td>\n",
       "      <td>0.020621</td>\n",
       "      <td>0.982439</td>\n",
       "    </tr>\n",
       "    <tr>\n",
       "      <th>Modèle dense (window=7, horizon=1)</th>\n",
       "      <td>1608.607788</td>\n",
       "      <td>4153095.000</td>\n",
       "      <td>2037.914429</td>\n",
       "      <td>0.038654</td>\n",
       "      <td>1.900105</td>\n",
       "    </tr>\n",
       "    <tr>\n",
       "      <th>Modèle dense (window=30, horizon=1)</th>\n",
       "      <td>2055.835449</td>\n",
       "      <td>6404762.000</td>\n",
       "      <td>2530.763184</td>\n",
       "      <td>0.049491</td>\n",
       "      <td>2.405654</td>\n",
       "    </tr>\n",
       "    <tr>\n",
       "      <th>Modèle Conv1D (window=7, horizon=1)</th>\n",
       "      <td>1565.496216</td>\n",
       "      <td>3918349.250</td>\n",
       "      <td>1979.482056</td>\n",
       "      <td>0.037656</td>\n",
       "      <td>1.849181</td>\n",
       "    </tr>\n",
       "    <tr>\n",
       "      <th>Modèle RNN (LSTM) (window=7, horizon=1)</th>\n",
       "      <td>1570.106567</td>\n",
       "      <td>3956185.000</td>\n",
       "      <td>1989.016113</td>\n",
       "      <td>0.037748</td>\n",
       "      <td>1.854627</td>\n",
       "    </tr>\n",
       "  </tbody>\n",
       "</table>\n",
       "</div>"
      ],
      "text/plain": [
       "                                                 mae          mse  \\\n",
       "Modèle naif                               835.188416  1350388.625   \n",
       "Modèle dense (window=7, horizon=1)       1608.607788  4153095.000   \n",
       "Modèle dense (window=30, horizon=1)      2055.835449  6404762.000   \n",
       "Modèle Conv1D (window=7, horizon=1)      1565.496216  3918349.250   \n",
       "Modèle RNN (LSTM) (window=7, horizon=1)  1570.106567  3956185.000   \n",
       "\n",
       "                                                rmse      mape      mase  \n",
       "Modèle naif                              1162.062256  0.020621  0.982439  \n",
       "Modèle dense (window=7, horizon=1)       2037.914429  0.038654  1.900105  \n",
       "Modèle dense (window=30, horizon=1)      2530.763184  0.049491  2.405654  \n",
       "Modèle Conv1D (window=7, horizon=1)      1979.482056  0.037656  1.849181  \n",
       "Modèle RNN (LSTM) (window=7, horizon=1)  1989.016113  0.037748  1.854627  "
      ]
     },
     "execution_count": 95,
     "metadata": {},
     "output_type": "execute_result"
    }
   ],
   "source": [
    "pd.DataFrame(list_of_dict,index=['Modèle naif',\n",
    "                                 'Modèle dense (window=7, horizon=1)',\n",
    "                                 'Modèle dense (window=30, horizon=1)',\n",
    "                                 'Modèle Conv1D (window=7, horizon=1)',\n",
    "                                 'Modèle RNN (LSTM) (window=7, horizon=1)'])"
   ]
  },
  {
   "cell_type": "markdown",
   "id": "86614996",
   "metadata": {},
   "source": [
    "omme dit précédemment, le LSTM performe nettement bien, se rapproche suffisamment du modèle dense de 1 semaine et 1 jour. On remarque également que ce dernier challenge meme sur certaines mésures le modèle naif. C'est pourquoi il reste par conséquent, l'un des modèles les plus utlisés sur les données séquentielles. Ainsi, le modèle des RNN challenge sérieusement et se rapproche suffisamment du modèle naif. Par conséquent, ce modèle représente un candidat potentiel pour prédire le prix du __BTC__.\n",
    "\n",
    "Tout ce que l'on vient de voir sont des algorithmes de deep learning classiques pour la modélisation des données séquentielles comme les séries temporelles. Comment alors se comportent les algorithmes récents de deep learning qui ont performé dans des compétitons internationales qui sont maintenant des références ?"
   ]
  },
  {
   "cell_type": "code",
   "execution_count": null,
   "id": "b0cf848d",
   "metadata": {},
   "outputs": [],
   "source": []
  }
 ],
 "metadata": {
  "kernelspec": {
   "display_name": "Python (env_stable)",
   "language": "python",
   "name": "env_stable"
  },
  "language_info": {
   "codemirror_mode": {
    "name": "ipython",
    "version": 3
   },
   "file_extension": ".py",
   "mimetype": "text/x-python",
   "name": "python",
   "nbconvert_exporter": "python",
   "pygments_lexer": "ipython3",
   "version": "3.10.16"
  }
 },
 "nbformat": 4,
 "nbformat_minor": 5
}
