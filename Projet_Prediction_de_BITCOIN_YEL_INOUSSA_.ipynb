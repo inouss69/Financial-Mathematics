{
  "cells": [
    {
      "cell_type": "markdown",
      "id": "9b2adf92-a689-4788-a509-e8b873eedce2",
      "metadata": {
        "id": "9b2adf92-a689-4788-a509-e8b873eedce2"
      },
      "source": [
        "<header style=\"background-color: rgb(0, 62, 92); color: white; margin-top: 20px; padding:28px; \">\n",
        "  <img src=\"Xlogo.png\" alt=\"Transposition of a vector\" title=\"Vector transposition\" width=\"115\" style=\"float: left;\">\n",
        "  <p style=\" text-align: center; font-size: 32px;\">   \n",
        "  <strong> Prédiction de prix de BITCOIN avec Deep Learning  </strong></p>\n",
        "  <p style=\" text-align: center; font-size: 25px;\"><strong> </strong></p>\n",
        "  <p style=\" text-align: center; font-size: 20px;\">YELPOUGDOU INOUSSA   </p>\n",
        "</header>"
      ]
    },
    {
      "cell_type": "code",
      "execution_count": 1,
      "id": "c07e6a0d",
      "metadata": {
        "id": "c07e6a0d"
      },
      "outputs": [],
      "source": [
        "import numpy as np\n",
        "import pandas as pd\n",
        "import seaborn as sns\n",
        "import matplotlib.pyplot as plt\n",
        "import tensorflow as tf\n",
        "\n",
        "from keras.models import Sequential\n",
        "from keras.layers import Dense, SimpleRNN, Dropout, LSTM\n",
        "from sklearn.preprocessing import MinMaxScaler, StandardScaler\n",
        "from sklearn.metrics import mean_absolute_error, mean_squared_error, mean_absolute_percentage_error"
      ]
    },
    {
      "cell_type": "markdown",
      "id": "0e9bef5c",
      "metadata": {
        "id": "0e9bef5c"
      },
      "source": [
        "# Introduction:"
      ]
    },
    {
      "cell_type": "markdown",
      "id": "b1eb4984",
      "metadata": {
        "id": "b1eb4984"
      },
      "source": [
        "La cryptomonnaie est devenue un sujet crucial dans le monde des investissements car les fluctuations constantes de ces devises numériques ont rendu difficile la tâche des traders pour prendre des décisions éclairées sur l'achat ou la vente de ces actifs, si bien que la prédiction des prix des cryptomonnaies est une question qui préoccupe beaucoup les investisseurs. La technologie de Deep Learning est une approche prometteuse pour résoudre ce problème et prédire avec précision le prix des cryptomonnaies.\n",
        "\n",
        "Dans le cadre de notre projet de prédiction de cryptomonnaies, nous avons utilisé des méthodes de Deep Learning pour prédire le prix du Bitcoin. Notre objectif était de créer un modèle de prédiction robuste qui pourrait prédire avec précision le prix futur du Bitcoin en utilisant les données historiques de la cryptomonnaie.\n",
        "\n",
        "Nos modèles utilisent plusieurs architectures de réseaux de neurones (LSTM, Conv1D) qui sont des architectures de réseau de neurones capable de traiter et de prédire des séquences de données complexes. Nous avons formé notre modèle en utilisant des données historiques du prix du Bitcoin et avons testé son efficacité en utilisant des données en temps réel.\n",
        "\n",
        "Méthodes de prédictions des crytomonnaies\n",
        "\n",
        "Il existe plusieurs approches pour prédire le prix des crypto monnaies, notamment l'analyse technique, l'analyse fondamentale, l'apprentissage automatique et le Deep Learning. L'analyse technique consiste à étudier les graphiques de prix passés pour identifier des tendances et des modèles qui pourraient indiquer les mouvements futurs des prix. L'analyse fondamentale, quant à elle, consiste à étudier les fondamentaux économiques de la cryptomonnaie, tels que les facteurs économiques, politiques et sociaux, pour déterminer la valeur fondamentale de la cryptomonnaie.\n",
        "\n",
        "L'apprentissage automatique et le Deep Learning sont des approches plus avancées pour prédire le prix des crypto monnaies. L'apprentissage automatique utilise des algorithmes d'apprentissage pour analyser les données historiques et identifier des modèles qui peuvent être utilisés pour prédire le prix futur. Le Deep Learning est une forme avancée d'apprentissage automatique qui utilise des réseaux de neurones artificiels pour apprendre et prédire des séquences de données complexes.\n",
        "\n",
        "Dans cet projet, nous allons discuter en détail du processus de prédiction du prix des cryptomonnaies en utilisant un modèle de deep learning. Nous allons également explorer les meilleures expériences pour entraîner les modèles de deep learning, ainsi que les techniques d'analyse des données qui peuvent être utilisées pour améliorer la précision de la prédiction des prix.\n",
        "\n",
        "Nous avons utilisé le Bitcoin qui est la cryptomonnaie de référence sur les marchés financiers .\n",
        "\n",
        "Sans plus tarder, importons nos données et manipulons les dans le but de prédire le prix du Bitcoin."
      ]
    },
    {
      "cell_type": "code",
      "execution_count": 2,
      "id": "293079d3",
      "metadata": {
        "colab": {
          "base_uri": "https://localhost:8080/"
        },
        "id": "293079d3",
        "outputId": "25206c22-eac8-4f5d-dbd7-ca133614b596"
      },
      "outputs": [
        {
          "output_type": "stream",
          "name": "stderr",
          "text": [
            "\r[*********************100%***********************]  1 of 1 completed"
          ]
        },
        {
          "output_type": "stream",
          "name": "stdout",
          "text": [
            "        Date         Open         High          Low        Close    Adj Close  \\\n",
            "0 2020-01-01  6412.612793  6469.861816  6420.140137  6417.781738  6417.781738   \n",
            "1 2020-01-02  6419.900391  6425.734863  6206.927734  6252.938477  6252.938477   \n",
            "2 2020-01-03  6252.006348  6634.896973  6187.711426  6581.735840  6581.735840   \n",
            "3 2020-01-04  6582.176270  6655.665527  6550.041016  6640.674316  6640.674316   \n",
            "4 2020-01-05  6640.490723  6760.608398  6628.504395  6640.666504  6640.666504   \n",
            "\n",
            "        Volume  \n",
            "0  16548264141  \n",
            "1  18620672983  \n",
            "2  25190641930  \n",
            "3  16527874601  \n",
            "4  17674001715  \n"
          ]
        },
        {
          "output_type": "stream",
          "name": "stderr",
          "text": [
            "\n"
          ]
        }
      ],
      "source": [
        "import yfinance as yf\n",
        "import pandas as pd\n",
        "\n",
        "# Télécharger les données sans MultiIndex\n",
        "bitcoin_price = yf.download('BTC-EUR', start='2020-01-01', end='2025-08-01', interval='1d',auto_adjust=False, group_by='column')\n",
        "\n",
        "# Supprimer le MultiIndex des colonnes si jamais il y en a un\n",
        "if isinstance(bitcoin_price.columns, pd.MultiIndex):\n",
        "    bitcoin_price.columns = bitcoin_price.columns.get_level_values(0)\n",
        "# Supprimer le nom du niveau de colonne (qui affiche \"Price\")\n",
        "bitcoin_price.columns.name = None\n",
        "# Remettre la date en colonne\n",
        "bitcoin_price.reset_index(inplace=True)\n",
        "\n",
        "# Réorganiser les colonnes\n",
        "bitcoin_price = bitcoin_price[['Date', 'Open', 'High', 'Low', 'Close', 'Adj Close', 'Volume']]\n",
        "\n",
        "# Afficher les 5 premières lignes\n",
        "print(bitcoin_price.head())\n",
        "\n"
      ]
    },
    {
      "cell_type": "code",
      "execution_count": 3,
      "id": "9f94db19",
      "metadata": {
        "colab": {
          "base_uri": "https://localhost:8080/",
          "height": 206
        },
        "id": "9f94db19",
        "outputId": "6c91b473-d3d5-44da-df62-a349df010cb1"
      },
      "outputs": [
        {
          "output_type": "execute_result",
          "data": {
            "text/plain": [
              "        Date         Open         High          Low        Close    Adj Close  \\\n",
              "0 2020-01-01  6412.612793  6469.861816  6420.140137  6417.781738  6417.781738   \n",
              "1 2020-01-02  6419.900391  6425.734863  6206.927734  6252.938477  6252.938477   \n",
              "2 2020-01-03  6252.006348  6634.896973  6187.711426  6581.735840  6581.735840   \n",
              "3 2020-01-04  6582.176270  6655.665527  6550.041016  6640.674316  6640.674316   \n",
              "4 2020-01-05  6640.490723  6760.608398  6628.504395  6640.666504  6640.666504   \n",
              "\n",
              "        Volume  \n",
              "0  16548264141  \n",
              "1  18620672983  \n",
              "2  25190641930  \n",
              "3  16527874601  \n",
              "4  17674001715  "
            ],
            "text/html": [
              "\n",
              "  <div id=\"df-3bce4088-1973-477d-b98a-48987dbc35ac\" class=\"colab-df-container\">\n",
              "    <div>\n",
              "<style scoped>\n",
              "    .dataframe tbody tr th:only-of-type {\n",
              "        vertical-align: middle;\n",
              "    }\n",
              "\n",
              "    .dataframe tbody tr th {\n",
              "        vertical-align: top;\n",
              "    }\n",
              "\n",
              "    .dataframe thead th {\n",
              "        text-align: right;\n",
              "    }\n",
              "</style>\n",
              "<table border=\"1\" class=\"dataframe\">\n",
              "  <thead>\n",
              "    <tr style=\"text-align: right;\">\n",
              "      <th></th>\n",
              "      <th>Date</th>\n",
              "      <th>Open</th>\n",
              "      <th>High</th>\n",
              "      <th>Low</th>\n",
              "      <th>Close</th>\n",
              "      <th>Adj Close</th>\n",
              "      <th>Volume</th>\n",
              "    </tr>\n",
              "  </thead>\n",
              "  <tbody>\n",
              "    <tr>\n",
              "      <th>0</th>\n",
              "      <td>2020-01-01</td>\n",
              "      <td>6412.612793</td>\n",
              "      <td>6469.861816</td>\n",
              "      <td>6420.140137</td>\n",
              "      <td>6417.781738</td>\n",
              "      <td>6417.781738</td>\n",
              "      <td>16548264141</td>\n",
              "    </tr>\n",
              "    <tr>\n",
              "      <th>1</th>\n",
              "      <td>2020-01-02</td>\n",
              "      <td>6419.900391</td>\n",
              "      <td>6425.734863</td>\n",
              "      <td>6206.927734</td>\n",
              "      <td>6252.938477</td>\n",
              "      <td>6252.938477</td>\n",
              "      <td>18620672983</td>\n",
              "    </tr>\n",
              "    <tr>\n",
              "      <th>2</th>\n",
              "      <td>2020-01-03</td>\n",
              "      <td>6252.006348</td>\n",
              "      <td>6634.896973</td>\n",
              "      <td>6187.711426</td>\n",
              "      <td>6581.735840</td>\n",
              "      <td>6581.735840</td>\n",
              "      <td>25190641930</td>\n",
              "    </tr>\n",
              "    <tr>\n",
              "      <th>3</th>\n",
              "      <td>2020-01-04</td>\n",
              "      <td>6582.176270</td>\n",
              "      <td>6655.665527</td>\n",
              "      <td>6550.041016</td>\n",
              "      <td>6640.674316</td>\n",
              "      <td>6640.674316</td>\n",
              "      <td>16527874601</td>\n",
              "    </tr>\n",
              "    <tr>\n",
              "      <th>4</th>\n",
              "      <td>2020-01-05</td>\n",
              "      <td>6640.490723</td>\n",
              "      <td>6760.608398</td>\n",
              "      <td>6628.504395</td>\n",
              "      <td>6640.666504</td>\n",
              "      <td>6640.666504</td>\n",
              "      <td>17674001715</td>\n",
              "    </tr>\n",
              "  </tbody>\n",
              "</table>\n",
              "</div>\n",
              "    <div class=\"colab-df-buttons\">\n",
              "\n",
              "  <div class=\"colab-df-container\">\n",
              "    <button class=\"colab-df-convert\" onclick=\"convertToInteractive('df-3bce4088-1973-477d-b98a-48987dbc35ac')\"\n",
              "            title=\"Convert this dataframe to an interactive table.\"\n",
              "            style=\"display:none;\">\n",
              "\n",
              "  <svg xmlns=\"http://www.w3.org/2000/svg\" height=\"24px\" viewBox=\"0 -960 960 960\">\n",
              "    <path d=\"M120-120v-720h720v720H120Zm60-500h600v-160H180v160Zm220 220h160v-160H400v160Zm0 220h160v-160H400v160ZM180-400h160v-160H180v160Zm440 0h160v-160H620v160ZM180-180h160v-160H180v160Zm440 0h160v-160H620v160Z\"/>\n",
              "  </svg>\n",
              "    </button>\n",
              "\n",
              "  <style>\n",
              "    .colab-df-container {\n",
              "      display:flex;\n",
              "      gap: 12px;\n",
              "    }\n",
              "\n",
              "    .colab-df-convert {\n",
              "      background-color: #E8F0FE;\n",
              "      border: none;\n",
              "      border-radius: 50%;\n",
              "      cursor: pointer;\n",
              "      display: none;\n",
              "      fill: #1967D2;\n",
              "      height: 32px;\n",
              "      padding: 0 0 0 0;\n",
              "      width: 32px;\n",
              "    }\n",
              "\n",
              "    .colab-df-convert:hover {\n",
              "      background-color: #E2EBFA;\n",
              "      box-shadow: 0px 1px 2px rgba(60, 64, 67, 0.3), 0px 1px 3px 1px rgba(60, 64, 67, 0.15);\n",
              "      fill: #174EA6;\n",
              "    }\n",
              "\n",
              "    .colab-df-buttons div {\n",
              "      margin-bottom: 4px;\n",
              "    }\n",
              "\n",
              "    [theme=dark] .colab-df-convert {\n",
              "      background-color: #3B4455;\n",
              "      fill: #D2E3FC;\n",
              "    }\n",
              "\n",
              "    [theme=dark] .colab-df-convert:hover {\n",
              "      background-color: #434B5C;\n",
              "      box-shadow: 0px 1px 3px 1px rgba(0, 0, 0, 0.15);\n",
              "      filter: drop-shadow(0px 1px 2px rgba(0, 0, 0, 0.3));\n",
              "      fill: #FFFFFF;\n",
              "    }\n",
              "  </style>\n",
              "\n",
              "    <script>\n",
              "      const buttonEl =\n",
              "        document.querySelector('#df-3bce4088-1973-477d-b98a-48987dbc35ac button.colab-df-convert');\n",
              "      buttonEl.style.display =\n",
              "        google.colab.kernel.accessAllowed ? 'block' : 'none';\n",
              "\n",
              "      async function convertToInteractive(key) {\n",
              "        const element = document.querySelector('#df-3bce4088-1973-477d-b98a-48987dbc35ac');\n",
              "        const dataTable =\n",
              "          await google.colab.kernel.invokeFunction('convertToInteractive',\n",
              "                                                    [key], {});\n",
              "        if (!dataTable) return;\n",
              "\n",
              "        const docLinkHtml = 'Like what you see? Visit the ' +\n",
              "          '<a target=\"_blank\" href=https://colab.research.google.com/notebooks/data_table.ipynb>data table notebook</a>'\n",
              "          + ' to learn more about interactive tables.';\n",
              "        element.innerHTML = '';\n",
              "        dataTable['output_type'] = 'display_data';\n",
              "        await google.colab.output.renderOutput(dataTable, element);\n",
              "        const docLink = document.createElement('div');\n",
              "        docLink.innerHTML = docLinkHtml;\n",
              "        element.appendChild(docLink);\n",
              "      }\n",
              "    </script>\n",
              "  </div>\n",
              "\n",
              "\n",
              "    <div id=\"df-cceae92b-5be1-4cab-b6d6-def51f20e426\">\n",
              "      <button class=\"colab-df-quickchart\" onclick=\"quickchart('df-cceae92b-5be1-4cab-b6d6-def51f20e426')\"\n",
              "                title=\"Suggest charts\"\n",
              "                style=\"display:none;\">\n",
              "\n",
              "<svg xmlns=\"http://www.w3.org/2000/svg\" height=\"24px\"viewBox=\"0 0 24 24\"\n",
              "     width=\"24px\">\n",
              "    <g>\n",
              "        <path d=\"M19 3H5c-1.1 0-2 .9-2 2v14c0 1.1.9 2 2 2h14c1.1 0 2-.9 2-2V5c0-1.1-.9-2-2-2zM9 17H7v-7h2v7zm4 0h-2V7h2v10zm4 0h-2v-4h2v4z\"/>\n",
              "    </g>\n",
              "</svg>\n",
              "      </button>\n",
              "\n",
              "<style>\n",
              "  .colab-df-quickchart {\n",
              "      --bg-color: #E8F0FE;\n",
              "      --fill-color: #1967D2;\n",
              "      --hover-bg-color: #E2EBFA;\n",
              "      --hover-fill-color: #174EA6;\n",
              "      --disabled-fill-color: #AAA;\n",
              "      --disabled-bg-color: #DDD;\n",
              "  }\n",
              "\n",
              "  [theme=dark] .colab-df-quickchart {\n",
              "      --bg-color: #3B4455;\n",
              "      --fill-color: #D2E3FC;\n",
              "      --hover-bg-color: #434B5C;\n",
              "      --hover-fill-color: #FFFFFF;\n",
              "      --disabled-bg-color: #3B4455;\n",
              "      --disabled-fill-color: #666;\n",
              "  }\n",
              "\n",
              "  .colab-df-quickchart {\n",
              "    background-color: var(--bg-color);\n",
              "    border: none;\n",
              "    border-radius: 50%;\n",
              "    cursor: pointer;\n",
              "    display: none;\n",
              "    fill: var(--fill-color);\n",
              "    height: 32px;\n",
              "    padding: 0;\n",
              "    width: 32px;\n",
              "  }\n",
              "\n",
              "  .colab-df-quickchart:hover {\n",
              "    background-color: var(--hover-bg-color);\n",
              "    box-shadow: 0 1px 2px rgba(60, 64, 67, 0.3), 0 1px 3px 1px rgba(60, 64, 67, 0.15);\n",
              "    fill: var(--button-hover-fill-color);\n",
              "  }\n",
              "\n",
              "  .colab-df-quickchart-complete:disabled,\n",
              "  .colab-df-quickchart-complete:disabled:hover {\n",
              "    background-color: var(--disabled-bg-color);\n",
              "    fill: var(--disabled-fill-color);\n",
              "    box-shadow: none;\n",
              "  }\n",
              "\n",
              "  .colab-df-spinner {\n",
              "    border: 2px solid var(--fill-color);\n",
              "    border-color: transparent;\n",
              "    border-bottom-color: var(--fill-color);\n",
              "    animation:\n",
              "      spin 1s steps(1) infinite;\n",
              "  }\n",
              "\n",
              "  @keyframes spin {\n",
              "    0% {\n",
              "      border-color: transparent;\n",
              "      border-bottom-color: var(--fill-color);\n",
              "      border-left-color: var(--fill-color);\n",
              "    }\n",
              "    20% {\n",
              "      border-color: transparent;\n",
              "      border-left-color: var(--fill-color);\n",
              "      border-top-color: var(--fill-color);\n",
              "    }\n",
              "    30% {\n",
              "      border-color: transparent;\n",
              "      border-left-color: var(--fill-color);\n",
              "      border-top-color: var(--fill-color);\n",
              "      border-right-color: var(--fill-color);\n",
              "    }\n",
              "    40% {\n",
              "      border-color: transparent;\n",
              "      border-right-color: var(--fill-color);\n",
              "      border-top-color: var(--fill-color);\n",
              "    }\n",
              "    60% {\n",
              "      border-color: transparent;\n",
              "      border-right-color: var(--fill-color);\n",
              "    }\n",
              "    80% {\n",
              "      border-color: transparent;\n",
              "      border-right-color: var(--fill-color);\n",
              "      border-bottom-color: var(--fill-color);\n",
              "    }\n",
              "    90% {\n",
              "      border-color: transparent;\n",
              "      border-bottom-color: var(--fill-color);\n",
              "    }\n",
              "  }\n",
              "</style>\n",
              "\n",
              "      <script>\n",
              "        async function quickchart(key) {\n",
              "          const quickchartButtonEl =\n",
              "            document.querySelector('#' + key + ' button');\n",
              "          quickchartButtonEl.disabled = true;  // To prevent multiple clicks.\n",
              "          quickchartButtonEl.classList.add('colab-df-spinner');\n",
              "          try {\n",
              "            const charts = await google.colab.kernel.invokeFunction(\n",
              "                'suggestCharts', [key], {});\n",
              "          } catch (error) {\n",
              "            console.error('Error during call to suggestCharts:', error);\n",
              "          }\n",
              "          quickchartButtonEl.classList.remove('colab-df-spinner');\n",
              "          quickchartButtonEl.classList.add('colab-df-quickchart-complete');\n",
              "        }\n",
              "        (() => {\n",
              "          let quickchartButtonEl =\n",
              "            document.querySelector('#df-cceae92b-5be1-4cab-b6d6-def51f20e426 button');\n",
              "          quickchartButtonEl.style.display =\n",
              "            google.colab.kernel.accessAllowed ? 'block' : 'none';\n",
              "        })();\n",
              "      </script>\n",
              "    </div>\n",
              "\n",
              "    </div>\n",
              "  </div>\n"
            ],
            "application/vnd.google.colaboratory.intrinsic+json": {
              "type": "dataframe",
              "variable_name": "bitcoin_price",
              "summary": "{\n  \"name\": \"bitcoin_price\",\n  \"rows\": 2039,\n  \"fields\": [\n    {\n      \"column\": \"Date\",\n      \"properties\": {\n        \"dtype\": \"date\",\n        \"min\": \"2020-01-01 00:00:00\",\n        \"max\": \"2025-07-31 00:00:00\",\n        \"num_unique_values\": 2039,\n        \"samples\": [\n          \"2023-08-08 00:00:00\",\n          \"2022-09-24 00:00:00\",\n          \"2022-12-03 00:00:00\"\n        ],\n        \"semantic_type\": \"\",\n        \"description\": \"\"\n      }\n    },\n    {\n      \"column\": \"Open\",\n      \"properties\": {\n        \"dtype\": \"number\",\n        \"std\": 25288.3468979766,\n        \"min\": 4482.42529296875,\n        \"max\": 103108.078125,\n        \"num_unique_values\": 2038,\n        \"samples\": [\n          26392.7265625,\n          74259.421875,\n          34502.3828125\n        ],\n        \"semantic_type\": \"\",\n        \"description\": \"\"\n      }\n    },\n    {\n      \"column\": \"High\",\n      \"properties\": {\n        \"dtype\": \"number\",\n        \"std\": 25735.68386568243,\n        \"min\": 4825.00732421875,\n        \"max\": 105812.4140625,\n        \"num_unique_values\": 2038,\n        \"samples\": [\n          26572.435546875,\n          75267.859375,\n          34753.734375\n        ],\n        \"semantic_type\": \"\",\n        \"description\": \"\"\n      }\n    },\n    {\n      \"column\": \"Low\",\n      \"properties\": {\n        \"dtype\": \"number\",\n        \"std\": 24842.359170045762,\n        \"min\": 3672.950927734375,\n        \"max\": 101722.84375,\n        \"num_unique_values\": 2038,\n        \"samples\": [\n          26126.47265625,\n          74173.765625,\n          34433.921875\n        ],\n        \"semantic_type\": \"\",\n        \"description\": \"\"\n      }\n    },\n    {\n      \"column\": \"Close\",\n      \"properties\": {\n        \"dtype\": \"number\",\n        \"std\": 25316.773715487707,\n        \"min\": 4444.2373046875,\n        \"max\": 103105.9453125,\n        \"num_unique_values\": 2038,\n        \"samples\": [\n          26521.001953125,\n          74798.046875,\n          34625.015625\n        ],\n        \"semantic_type\": \"\",\n        \"description\": \"\"\n      }\n    },\n    {\n      \"column\": \"Adj Close\",\n      \"properties\": {\n        \"dtype\": \"number\",\n        \"std\": 25316.773715487707,\n        \"min\": 4444.2373046875,\n        \"max\": 103105.9453125,\n        \"num_unique_values\": 2038,\n        \"samples\": [\n          26521.001953125,\n          74798.046875,\n          34625.015625\n        ],\n        \"semantic_type\": \"\",\n        \"description\": \"\"\n      }\n    },\n    {\n      \"column\": \"Volume\",\n      \"properties\": {\n        \"dtype\": \"number\",\n        \"std\": 17891405244,\n        \"min\": 5038757973,\n        \"max\": 290727102068,\n        \"num_unique_values\": 2038,\n        \"samples\": [\n          12376977033,\n          13417823311,\n          16632736550\n        ],\n        \"semantic_type\": \"\",\n        \"description\": \"\"\n      }\n    }\n  ]\n}"
            }
          },
          "metadata": {},
          "execution_count": 3
        }
      ],
      "source": [
        "bitcoin_price.head()"
      ]
    },
    {
      "cell_type": "markdown",
      "id": "c17b0532",
      "metadata": {
        "id": "c17b0532"
      },
      "source": [
        "# Preprocessing des données"
      ]
    },
    {
      "cell_type": "markdown",
      "id": "6e2b6393",
      "metadata": {
        "id": "6e2b6393"
      },
      "source": [
        "Fonctions de preprocessing des données\n",
        "\n",
        "Convertion de la colonne date dans la dataframe en type datetime avec pd.to_datetime() : cela permet a pandas de convertir une chaine de caractère censée représenter une date en type DatetimeIndex qui est le format standard de pandas en python pour stocker et manipuler les dates.\n",
        "\n",
        "Nous allons trier la colonne date par odre croissant depuis le début de la première cotation du BTC jusqu'à maintenant . Cela nous permettra de représenter graphiquement l'évolution du BTC au travers du temps de manière chronologique.\n",
        "\n",
        "Nous allons fixer la colonne date qui, rappelons le est de type DatetimeIndex en indice. Cela nous permet de retrouver ou d'indexer comme dans Excel une ligne non plus au travers de son numéro mais au travers de la date. Cele nous assure que l'on travaille bien avec une série temporelle et que les données sont bien indexées par le temps. Cela peut etre fait au travers de la fonction nom_du_dataframe.set_index() .\n",
        "\n",
        "Lorsque nous avons une série temporelle de prix, une étape crucuiale est de définir sa fréquence d'observation. La fréquence peut etre définie comme le nombre d'observation par unité de temps. Vu que le BTC est échangé sur les exchanges et que les exchanges n'ouvrent pas les weeks-ends, il est important de définir une fréquence d'observation des données qui prend en compte les jours de marchés ou non. Dans notre cas, nous avons utilisé une fréquence de de 'B' qui signifie Business Day ( littéralement jour de travail )."
      ]
    },
    {
      "cell_type": "code",
      "execution_count": 4,
      "id": "33b00d4b",
      "metadata": {
        "colab": {
          "base_uri": "https://localhost:8080/",
          "height": 206
        },
        "id": "33b00d4b",
        "outputId": "0657ba09-00bd-49c0-8df9-db2728ab625d"
      },
      "outputs": [
        {
          "output_type": "execute_result",
          "data": {
            "text/plain": [
              "        Date         Open         High          Low        Close    Adj Close  \\\n",
              "0 2020-01-01  6412.612793  6469.861816  6420.140137  6417.781738  6417.781738   \n",
              "1 2020-01-02  6419.900391  6425.734863  6206.927734  6252.938477  6252.938477   \n",
              "2 2020-01-03  6252.006348  6634.896973  6187.711426  6581.735840  6581.735840   \n",
              "3 2020-01-04  6582.176270  6655.665527  6550.041016  6640.674316  6640.674316   \n",
              "4 2020-01-05  6640.490723  6760.608398  6628.504395  6640.666504  6640.666504   \n",
              "\n",
              "        Volume  \n",
              "0  16548264141  \n",
              "1  18620672983  \n",
              "2  25190641930  \n",
              "3  16527874601  \n",
              "4  17674001715  "
            ],
            "text/html": [
              "\n",
              "  <div id=\"df-a45282b8-c61b-4b1b-bf57-20aeb8a52d0d\" class=\"colab-df-container\">\n",
              "    <div>\n",
              "<style scoped>\n",
              "    .dataframe tbody tr th:only-of-type {\n",
              "        vertical-align: middle;\n",
              "    }\n",
              "\n",
              "    .dataframe tbody tr th {\n",
              "        vertical-align: top;\n",
              "    }\n",
              "\n",
              "    .dataframe thead th {\n",
              "        text-align: right;\n",
              "    }\n",
              "</style>\n",
              "<table border=\"1\" class=\"dataframe\">\n",
              "  <thead>\n",
              "    <tr style=\"text-align: right;\">\n",
              "      <th></th>\n",
              "      <th>Date</th>\n",
              "      <th>Open</th>\n",
              "      <th>High</th>\n",
              "      <th>Low</th>\n",
              "      <th>Close</th>\n",
              "      <th>Adj Close</th>\n",
              "      <th>Volume</th>\n",
              "    </tr>\n",
              "  </thead>\n",
              "  <tbody>\n",
              "    <tr>\n",
              "      <th>0</th>\n",
              "      <td>2020-01-01</td>\n",
              "      <td>6412.612793</td>\n",
              "      <td>6469.861816</td>\n",
              "      <td>6420.140137</td>\n",
              "      <td>6417.781738</td>\n",
              "      <td>6417.781738</td>\n",
              "      <td>16548264141</td>\n",
              "    </tr>\n",
              "    <tr>\n",
              "      <th>1</th>\n",
              "      <td>2020-01-02</td>\n",
              "      <td>6419.900391</td>\n",
              "      <td>6425.734863</td>\n",
              "      <td>6206.927734</td>\n",
              "      <td>6252.938477</td>\n",
              "      <td>6252.938477</td>\n",
              "      <td>18620672983</td>\n",
              "    </tr>\n",
              "    <tr>\n",
              "      <th>2</th>\n",
              "      <td>2020-01-03</td>\n",
              "      <td>6252.006348</td>\n",
              "      <td>6634.896973</td>\n",
              "      <td>6187.711426</td>\n",
              "      <td>6581.735840</td>\n",
              "      <td>6581.735840</td>\n",
              "      <td>25190641930</td>\n",
              "    </tr>\n",
              "    <tr>\n",
              "      <th>3</th>\n",
              "      <td>2020-01-04</td>\n",
              "      <td>6582.176270</td>\n",
              "      <td>6655.665527</td>\n",
              "      <td>6550.041016</td>\n",
              "      <td>6640.674316</td>\n",
              "      <td>6640.674316</td>\n",
              "      <td>16527874601</td>\n",
              "    </tr>\n",
              "    <tr>\n",
              "      <th>4</th>\n",
              "      <td>2020-01-05</td>\n",
              "      <td>6640.490723</td>\n",
              "      <td>6760.608398</td>\n",
              "      <td>6628.504395</td>\n",
              "      <td>6640.666504</td>\n",
              "      <td>6640.666504</td>\n",
              "      <td>17674001715</td>\n",
              "    </tr>\n",
              "  </tbody>\n",
              "</table>\n",
              "</div>\n",
              "    <div class=\"colab-df-buttons\">\n",
              "\n",
              "  <div class=\"colab-df-container\">\n",
              "    <button class=\"colab-df-convert\" onclick=\"convertToInteractive('df-a45282b8-c61b-4b1b-bf57-20aeb8a52d0d')\"\n",
              "            title=\"Convert this dataframe to an interactive table.\"\n",
              "            style=\"display:none;\">\n",
              "\n",
              "  <svg xmlns=\"http://www.w3.org/2000/svg\" height=\"24px\" viewBox=\"0 -960 960 960\">\n",
              "    <path d=\"M120-120v-720h720v720H120Zm60-500h600v-160H180v160Zm220 220h160v-160H400v160Zm0 220h160v-160H400v160ZM180-400h160v-160H180v160Zm440 0h160v-160H620v160ZM180-180h160v-160H180v160Zm440 0h160v-160H620v160Z\"/>\n",
              "  </svg>\n",
              "    </button>\n",
              "\n",
              "  <style>\n",
              "    .colab-df-container {\n",
              "      display:flex;\n",
              "      gap: 12px;\n",
              "    }\n",
              "\n",
              "    .colab-df-convert {\n",
              "      background-color: #E8F0FE;\n",
              "      border: none;\n",
              "      border-radius: 50%;\n",
              "      cursor: pointer;\n",
              "      display: none;\n",
              "      fill: #1967D2;\n",
              "      height: 32px;\n",
              "      padding: 0 0 0 0;\n",
              "      width: 32px;\n",
              "    }\n",
              "\n",
              "    .colab-df-convert:hover {\n",
              "      background-color: #E2EBFA;\n",
              "      box-shadow: 0px 1px 2px rgba(60, 64, 67, 0.3), 0px 1px 3px 1px rgba(60, 64, 67, 0.15);\n",
              "      fill: #174EA6;\n",
              "    }\n",
              "\n",
              "    .colab-df-buttons div {\n",
              "      margin-bottom: 4px;\n",
              "    }\n",
              "\n",
              "    [theme=dark] .colab-df-convert {\n",
              "      background-color: #3B4455;\n",
              "      fill: #D2E3FC;\n",
              "    }\n",
              "\n",
              "    [theme=dark] .colab-df-convert:hover {\n",
              "      background-color: #434B5C;\n",
              "      box-shadow: 0px 1px 3px 1px rgba(0, 0, 0, 0.15);\n",
              "      filter: drop-shadow(0px 1px 2px rgba(0, 0, 0, 0.3));\n",
              "      fill: #FFFFFF;\n",
              "    }\n",
              "  </style>\n",
              "\n",
              "    <script>\n",
              "      const buttonEl =\n",
              "        document.querySelector('#df-a45282b8-c61b-4b1b-bf57-20aeb8a52d0d button.colab-df-convert');\n",
              "      buttonEl.style.display =\n",
              "        google.colab.kernel.accessAllowed ? 'block' : 'none';\n",
              "\n",
              "      async function convertToInteractive(key) {\n",
              "        const element = document.querySelector('#df-a45282b8-c61b-4b1b-bf57-20aeb8a52d0d');\n",
              "        const dataTable =\n",
              "          await google.colab.kernel.invokeFunction('convertToInteractive',\n",
              "                                                    [key], {});\n",
              "        if (!dataTable) return;\n",
              "\n",
              "        const docLinkHtml = 'Like what you see? Visit the ' +\n",
              "          '<a target=\"_blank\" href=https://colab.research.google.com/notebooks/data_table.ipynb>data table notebook</a>'\n",
              "          + ' to learn more about interactive tables.';\n",
              "        element.innerHTML = '';\n",
              "        dataTable['output_type'] = 'display_data';\n",
              "        await google.colab.output.renderOutput(dataTable, element);\n",
              "        const docLink = document.createElement('div');\n",
              "        docLink.innerHTML = docLinkHtml;\n",
              "        element.appendChild(docLink);\n",
              "      }\n",
              "    </script>\n",
              "  </div>\n",
              "\n",
              "\n",
              "    <div id=\"df-128cc9e8-52d7-48f0-a222-c0b4562a181f\">\n",
              "      <button class=\"colab-df-quickchart\" onclick=\"quickchart('df-128cc9e8-52d7-48f0-a222-c0b4562a181f')\"\n",
              "                title=\"Suggest charts\"\n",
              "                style=\"display:none;\">\n",
              "\n",
              "<svg xmlns=\"http://www.w3.org/2000/svg\" height=\"24px\"viewBox=\"0 0 24 24\"\n",
              "     width=\"24px\">\n",
              "    <g>\n",
              "        <path d=\"M19 3H5c-1.1 0-2 .9-2 2v14c0 1.1.9 2 2 2h14c1.1 0 2-.9 2-2V5c0-1.1-.9-2-2-2zM9 17H7v-7h2v7zm4 0h-2V7h2v10zm4 0h-2v-4h2v4z\"/>\n",
              "    </g>\n",
              "</svg>\n",
              "      </button>\n",
              "\n",
              "<style>\n",
              "  .colab-df-quickchart {\n",
              "      --bg-color: #E8F0FE;\n",
              "      --fill-color: #1967D2;\n",
              "      --hover-bg-color: #E2EBFA;\n",
              "      --hover-fill-color: #174EA6;\n",
              "      --disabled-fill-color: #AAA;\n",
              "      --disabled-bg-color: #DDD;\n",
              "  }\n",
              "\n",
              "  [theme=dark] .colab-df-quickchart {\n",
              "      --bg-color: #3B4455;\n",
              "      --fill-color: #D2E3FC;\n",
              "      --hover-bg-color: #434B5C;\n",
              "      --hover-fill-color: #FFFFFF;\n",
              "      --disabled-bg-color: #3B4455;\n",
              "      --disabled-fill-color: #666;\n",
              "  }\n",
              "\n",
              "  .colab-df-quickchart {\n",
              "    background-color: var(--bg-color);\n",
              "    border: none;\n",
              "    border-radius: 50%;\n",
              "    cursor: pointer;\n",
              "    display: none;\n",
              "    fill: var(--fill-color);\n",
              "    height: 32px;\n",
              "    padding: 0;\n",
              "    width: 32px;\n",
              "  }\n",
              "\n",
              "  .colab-df-quickchart:hover {\n",
              "    background-color: var(--hover-bg-color);\n",
              "    box-shadow: 0 1px 2px rgba(60, 64, 67, 0.3), 0 1px 3px 1px rgba(60, 64, 67, 0.15);\n",
              "    fill: var(--button-hover-fill-color);\n",
              "  }\n",
              "\n",
              "  .colab-df-quickchart-complete:disabled,\n",
              "  .colab-df-quickchart-complete:disabled:hover {\n",
              "    background-color: var(--disabled-bg-color);\n",
              "    fill: var(--disabled-fill-color);\n",
              "    box-shadow: none;\n",
              "  }\n",
              "\n",
              "  .colab-df-spinner {\n",
              "    border: 2px solid var(--fill-color);\n",
              "    border-color: transparent;\n",
              "    border-bottom-color: var(--fill-color);\n",
              "    animation:\n",
              "      spin 1s steps(1) infinite;\n",
              "  }\n",
              "\n",
              "  @keyframes spin {\n",
              "    0% {\n",
              "      border-color: transparent;\n",
              "      border-bottom-color: var(--fill-color);\n",
              "      border-left-color: var(--fill-color);\n",
              "    }\n",
              "    20% {\n",
              "      border-color: transparent;\n",
              "      border-left-color: var(--fill-color);\n",
              "      border-top-color: var(--fill-color);\n",
              "    }\n",
              "    30% {\n",
              "      border-color: transparent;\n",
              "      border-left-color: var(--fill-color);\n",
              "      border-top-color: var(--fill-color);\n",
              "      border-right-color: var(--fill-color);\n",
              "    }\n",
              "    40% {\n",
              "      border-color: transparent;\n",
              "      border-right-color: var(--fill-color);\n",
              "      border-top-color: var(--fill-color);\n",
              "    }\n",
              "    60% {\n",
              "      border-color: transparent;\n",
              "      border-right-color: var(--fill-color);\n",
              "    }\n",
              "    80% {\n",
              "      border-color: transparent;\n",
              "      border-right-color: var(--fill-color);\n",
              "      border-bottom-color: var(--fill-color);\n",
              "    }\n",
              "    90% {\n",
              "      border-color: transparent;\n",
              "      border-bottom-color: var(--fill-color);\n",
              "    }\n",
              "  }\n",
              "</style>\n",
              "\n",
              "      <script>\n",
              "        async function quickchart(key) {\n",
              "          const quickchartButtonEl =\n",
              "            document.querySelector('#' + key + ' button');\n",
              "          quickchartButtonEl.disabled = true;  // To prevent multiple clicks.\n",
              "          quickchartButtonEl.classList.add('colab-df-spinner');\n",
              "          try {\n",
              "            const charts = await google.colab.kernel.invokeFunction(\n",
              "                'suggestCharts', [key], {});\n",
              "          } catch (error) {\n",
              "            console.error('Error during call to suggestCharts:', error);\n",
              "          }\n",
              "          quickchartButtonEl.classList.remove('colab-df-spinner');\n",
              "          quickchartButtonEl.classList.add('colab-df-quickchart-complete');\n",
              "        }\n",
              "        (() => {\n",
              "          let quickchartButtonEl =\n",
              "            document.querySelector('#df-128cc9e8-52d7-48f0-a222-c0b4562a181f button');\n",
              "          quickchartButtonEl.style.display =\n",
              "            google.colab.kernel.accessAllowed ? 'block' : 'none';\n",
              "        })();\n",
              "      </script>\n",
              "    </div>\n",
              "\n",
              "    </div>\n",
              "  </div>\n"
            ],
            "application/vnd.google.colaboratory.intrinsic+json": {
              "type": "dataframe",
              "variable_name": "bitcoin_price",
              "summary": "{\n  \"name\": \"bitcoin_price\",\n  \"rows\": 2039,\n  \"fields\": [\n    {\n      \"column\": \"Date\",\n      \"properties\": {\n        \"dtype\": \"date\",\n        \"min\": \"2020-01-01 00:00:00\",\n        \"max\": \"2025-07-31 00:00:00\",\n        \"num_unique_values\": 2039,\n        \"samples\": [\n          \"2023-08-08 00:00:00\",\n          \"2022-09-24 00:00:00\",\n          \"2022-12-03 00:00:00\"\n        ],\n        \"semantic_type\": \"\",\n        \"description\": \"\"\n      }\n    },\n    {\n      \"column\": \"Open\",\n      \"properties\": {\n        \"dtype\": \"number\",\n        \"std\": 25288.3468979766,\n        \"min\": 4482.42529296875,\n        \"max\": 103108.078125,\n        \"num_unique_values\": 2038,\n        \"samples\": [\n          26392.7265625,\n          74259.421875,\n          34502.3828125\n        ],\n        \"semantic_type\": \"\",\n        \"description\": \"\"\n      }\n    },\n    {\n      \"column\": \"High\",\n      \"properties\": {\n        \"dtype\": \"number\",\n        \"std\": 25735.68386568243,\n        \"min\": 4825.00732421875,\n        \"max\": 105812.4140625,\n        \"num_unique_values\": 2038,\n        \"samples\": [\n          26572.435546875,\n          75267.859375,\n          34753.734375\n        ],\n        \"semantic_type\": \"\",\n        \"description\": \"\"\n      }\n    },\n    {\n      \"column\": \"Low\",\n      \"properties\": {\n        \"dtype\": \"number\",\n        \"std\": 24842.359170045762,\n        \"min\": 3672.950927734375,\n        \"max\": 101722.84375,\n        \"num_unique_values\": 2038,\n        \"samples\": [\n          26126.47265625,\n          74173.765625,\n          34433.921875\n        ],\n        \"semantic_type\": \"\",\n        \"description\": \"\"\n      }\n    },\n    {\n      \"column\": \"Close\",\n      \"properties\": {\n        \"dtype\": \"number\",\n        \"std\": 25316.773715487707,\n        \"min\": 4444.2373046875,\n        \"max\": 103105.9453125,\n        \"num_unique_values\": 2038,\n        \"samples\": [\n          26521.001953125,\n          74798.046875,\n          34625.015625\n        ],\n        \"semantic_type\": \"\",\n        \"description\": \"\"\n      }\n    },\n    {\n      \"column\": \"Adj Close\",\n      \"properties\": {\n        \"dtype\": \"number\",\n        \"std\": 25316.773715487707,\n        \"min\": 4444.2373046875,\n        \"max\": 103105.9453125,\n        \"num_unique_values\": 2038,\n        \"samples\": [\n          26521.001953125,\n          74798.046875,\n          34625.015625\n        ],\n        \"semantic_type\": \"\",\n        \"description\": \"\"\n      }\n    },\n    {\n      \"column\": \"Volume\",\n      \"properties\": {\n        \"dtype\": \"number\",\n        \"std\": 17891405244,\n        \"min\": 5038757973,\n        \"max\": 290727102068,\n        \"num_unique_values\": 2038,\n        \"samples\": [\n          12376977033,\n          13417823311,\n          16632736550\n        ],\n        \"semantic_type\": \"\",\n        \"description\": \"\"\n      }\n    }\n  ]\n}"
            }
          },
          "metadata": {},
          "execution_count": 4
        }
      ],
      "source": [
        "bitcoin_price.head()"
      ]
    },
    {
      "cell_type": "code",
      "execution_count": 5,
      "id": "499a73ec",
      "metadata": {
        "colab": {
          "base_uri": "https://localhost:8080/",
          "height": 206
        },
        "id": "499a73ec",
        "outputId": "a2a1a689-5070-4bd7-8dda-60f1624868d6"
      },
      "outputs": [
        {
          "output_type": "execute_result",
          "data": {
            "text/plain": [
              "           Date           Open           High            Low          Close  \\\n",
              "2034 2025-07-27  100408.351562  101928.445312  100335.953125  101609.929688   \n",
              "2035 2025-07-28  101617.617188  101949.031250  101308.742188  101689.218750   \n",
              "2036 2025-07-29  101701.390625  103291.531250  101330.953125  102088.031250   \n",
              "2037 2025-07-30  102087.898438  103461.335938  101394.625000  103105.945312   \n",
              "2038 2025-07-31  103108.078125  103849.609375  101159.585938  101349.085938   \n",
              "\n",
              "          Adj Close       Volume  \n",
              "2034  101609.929688  46516918613  \n",
              "2035  101689.218750  55898444489  \n",
              "2036  102088.031250  59270155219  \n",
              "2037  103105.945312  60286265798  \n",
              "2038  101349.085938  60735402827  "
            ],
            "text/html": [
              "\n",
              "  <div id=\"df-df74bae0-fc32-40a1-8c86-e5394ee00105\" class=\"colab-df-container\">\n",
              "    <div>\n",
              "<style scoped>\n",
              "    .dataframe tbody tr th:only-of-type {\n",
              "        vertical-align: middle;\n",
              "    }\n",
              "\n",
              "    .dataframe tbody tr th {\n",
              "        vertical-align: top;\n",
              "    }\n",
              "\n",
              "    .dataframe thead th {\n",
              "        text-align: right;\n",
              "    }\n",
              "</style>\n",
              "<table border=\"1\" class=\"dataframe\">\n",
              "  <thead>\n",
              "    <tr style=\"text-align: right;\">\n",
              "      <th></th>\n",
              "      <th>Date</th>\n",
              "      <th>Open</th>\n",
              "      <th>High</th>\n",
              "      <th>Low</th>\n",
              "      <th>Close</th>\n",
              "      <th>Adj Close</th>\n",
              "      <th>Volume</th>\n",
              "    </tr>\n",
              "  </thead>\n",
              "  <tbody>\n",
              "    <tr>\n",
              "      <th>2034</th>\n",
              "      <td>2025-07-27</td>\n",
              "      <td>100408.351562</td>\n",
              "      <td>101928.445312</td>\n",
              "      <td>100335.953125</td>\n",
              "      <td>101609.929688</td>\n",
              "      <td>101609.929688</td>\n",
              "      <td>46516918613</td>\n",
              "    </tr>\n",
              "    <tr>\n",
              "      <th>2035</th>\n",
              "      <td>2025-07-28</td>\n",
              "      <td>101617.617188</td>\n",
              "      <td>101949.031250</td>\n",
              "      <td>101308.742188</td>\n",
              "      <td>101689.218750</td>\n",
              "      <td>101689.218750</td>\n",
              "      <td>55898444489</td>\n",
              "    </tr>\n",
              "    <tr>\n",
              "      <th>2036</th>\n",
              "      <td>2025-07-29</td>\n",
              "      <td>101701.390625</td>\n",
              "      <td>103291.531250</td>\n",
              "      <td>101330.953125</td>\n",
              "      <td>102088.031250</td>\n",
              "      <td>102088.031250</td>\n",
              "      <td>59270155219</td>\n",
              "    </tr>\n",
              "    <tr>\n",
              "      <th>2037</th>\n",
              "      <td>2025-07-30</td>\n",
              "      <td>102087.898438</td>\n",
              "      <td>103461.335938</td>\n",
              "      <td>101394.625000</td>\n",
              "      <td>103105.945312</td>\n",
              "      <td>103105.945312</td>\n",
              "      <td>60286265798</td>\n",
              "    </tr>\n",
              "    <tr>\n",
              "      <th>2038</th>\n",
              "      <td>2025-07-31</td>\n",
              "      <td>103108.078125</td>\n",
              "      <td>103849.609375</td>\n",
              "      <td>101159.585938</td>\n",
              "      <td>101349.085938</td>\n",
              "      <td>101349.085938</td>\n",
              "      <td>60735402827</td>\n",
              "    </tr>\n",
              "  </tbody>\n",
              "</table>\n",
              "</div>\n",
              "    <div class=\"colab-df-buttons\">\n",
              "\n",
              "  <div class=\"colab-df-container\">\n",
              "    <button class=\"colab-df-convert\" onclick=\"convertToInteractive('df-df74bae0-fc32-40a1-8c86-e5394ee00105')\"\n",
              "            title=\"Convert this dataframe to an interactive table.\"\n",
              "            style=\"display:none;\">\n",
              "\n",
              "  <svg xmlns=\"http://www.w3.org/2000/svg\" height=\"24px\" viewBox=\"0 -960 960 960\">\n",
              "    <path d=\"M120-120v-720h720v720H120Zm60-500h600v-160H180v160Zm220 220h160v-160H400v160Zm0 220h160v-160H400v160ZM180-400h160v-160H180v160Zm440 0h160v-160H620v160ZM180-180h160v-160H180v160Zm440 0h160v-160H620v160Z\"/>\n",
              "  </svg>\n",
              "    </button>\n",
              "\n",
              "  <style>\n",
              "    .colab-df-container {\n",
              "      display:flex;\n",
              "      gap: 12px;\n",
              "    }\n",
              "\n",
              "    .colab-df-convert {\n",
              "      background-color: #E8F0FE;\n",
              "      border: none;\n",
              "      border-radius: 50%;\n",
              "      cursor: pointer;\n",
              "      display: none;\n",
              "      fill: #1967D2;\n",
              "      height: 32px;\n",
              "      padding: 0 0 0 0;\n",
              "      width: 32px;\n",
              "    }\n",
              "\n",
              "    .colab-df-convert:hover {\n",
              "      background-color: #E2EBFA;\n",
              "      box-shadow: 0px 1px 2px rgba(60, 64, 67, 0.3), 0px 1px 3px 1px rgba(60, 64, 67, 0.15);\n",
              "      fill: #174EA6;\n",
              "    }\n",
              "\n",
              "    .colab-df-buttons div {\n",
              "      margin-bottom: 4px;\n",
              "    }\n",
              "\n",
              "    [theme=dark] .colab-df-convert {\n",
              "      background-color: #3B4455;\n",
              "      fill: #D2E3FC;\n",
              "    }\n",
              "\n",
              "    [theme=dark] .colab-df-convert:hover {\n",
              "      background-color: #434B5C;\n",
              "      box-shadow: 0px 1px 3px 1px rgba(0, 0, 0, 0.15);\n",
              "      filter: drop-shadow(0px 1px 2px rgba(0, 0, 0, 0.3));\n",
              "      fill: #FFFFFF;\n",
              "    }\n",
              "  </style>\n",
              "\n",
              "    <script>\n",
              "      const buttonEl =\n",
              "        document.querySelector('#df-df74bae0-fc32-40a1-8c86-e5394ee00105 button.colab-df-convert');\n",
              "      buttonEl.style.display =\n",
              "        google.colab.kernel.accessAllowed ? 'block' : 'none';\n",
              "\n",
              "      async function convertToInteractive(key) {\n",
              "        const element = document.querySelector('#df-df74bae0-fc32-40a1-8c86-e5394ee00105');\n",
              "        const dataTable =\n",
              "          await google.colab.kernel.invokeFunction('convertToInteractive',\n",
              "                                                    [key], {});\n",
              "        if (!dataTable) return;\n",
              "\n",
              "        const docLinkHtml = 'Like what you see? Visit the ' +\n",
              "          '<a target=\"_blank\" href=https://colab.research.google.com/notebooks/data_table.ipynb>data table notebook</a>'\n",
              "          + ' to learn more about interactive tables.';\n",
              "        element.innerHTML = '';\n",
              "        dataTable['output_type'] = 'display_data';\n",
              "        await google.colab.output.renderOutput(dataTable, element);\n",
              "        const docLink = document.createElement('div');\n",
              "        docLink.innerHTML = docLinkHtml;\n",
              "        element.appendChild(docLink);\n",
              "      }\n",
              "    </script>\n",
              "  </div>\n",
              "\n",
              "\n",
              "    <div id=\"df-01ec106e-1213-45db-9b92-a61545979df8\">\n",
              "      <button class=\"colab-df-quickchart\" onclick=\"quickchart('df-01ec106e-1213-45db-9b92-a61545979df8')\"\n",
              "                title=\"Suggest charts\"\n",
              "                style=\"display:none;\">\n",
              "\n",
              "<svg xmlns=\"http://www.w3.org/2000/svg\" height=\"24px\"viewBox=\"0 0 24 24\"\n",
              "     width=\"24px\">\n",
              "    <g>\n",
              "        <path d=\"M19 3H5c-1.1 0-2 .9-2 2v14c0 1.1.9 2 2 2h14c1.1 0 2-.9 2-2V5c0-1.1-.9-2-2-2zM9 17H7v-7h2v7zm4 0h-2V7h2v10zm4 0h-2v-4h2v4z\"/>\n",
              "    </g>\n",
              "</svg>\n",
              "      </button>\n",
              "\n",
              "<style>\n",
              "  .colab-df-quickchart {\n",
              "      --bg-color: #E8F0FE;\n",
              "      --fill-color: #1967D2;\n",
              "      --hover-bg-color: #E2EBFA;\n",
              "      --hover-fill-color: #174EA6;\n",
              "      --disabled-fill-color: #AAA;\n",
              "      --disabled-bg-color: #DDD;\n",
              "  }\n",
              "\n",
              "  [theme=dark] .colab-df-quickchart {\n",
              "      --bg-color: #3B4455;\n",
              "      --fill-color: #D2E3FC;\n",
              "      --hover-bg-color: #434B5C;\n",
              "      --hover-fill-color: #FFFFFF;\n",
              "      --disabled-bg-color: #3B4455;\n",
              "      --disabled-fill-color: #666;\n",
              "  }\n",
              "\n",
              "  .colab-df-quickchart {\n",
              "    background-color: var(--bg-color);\n",
              "    border: none;\n",
              "    border-radius: 50%;\n",
              "    cursor: pointer;\n",
              "    display: none;\n",
              "    fill: var(--fill-color);\n",
              "    height: 32px;\n",
              "    padding: 0;\n",
              "    width: 32px;\n",
              "  }\n",
              "\n",
              "  .colab-df-quickchart:hover {\n",
              "    background-color: var(--hover-bg-color);\n",
              "    box-shadow: 0 1px 2px rgba(60, 64, 67, 0.3), 0 1px 3px 1px rgba(60, 64, 67, 0.15);\n",
              "    fill: var(--button-hover-fill-color);\n",
              "  }\n",
              "\n",
              "  .colab-df-quickchart-complete:disabled,\n",
              "  .colab-df-quickchart-complete:disabled:hover {\n",
              "    background-color: var(--disabled-bg-color);\n",
              "    fill: var(--disabled-fill-color);\n",
              "    box-shadow: none;\n",
              "  }\n",
              "\n",
              "  .colab-df-spinner {\n",
              "    border: 2px solid var(--fill-color);\n",
              "    border-color: transparent;\n",
              "    border-bottom-color: var(--fill-color);\n",
              "    animation:\n",
              "      spin 1s steps(1) infinite;\n",
              "  }\n",
              "\n",
              "  @keyframes spin {\n",
              "    0% {\n",
              "      border-color: transparent;\n",
              "      border-bottom-color: var(--fill-color);\n",
              "      border-left-color: var(--fill-color);\n",
              "    }\n",
              "    20% {\n",
              "      border-color: transparent;\n",
              "      border-left-color: var(--fill-color);\n",
              "      border-top-color: var(--fill-color);\n",
              "    }\n",
              "    30% {\n",
              "      border-color: transparent;\n",
              "      border-left-color: var(--fill-color);\n",
              "      border-top-color: var(--fill-color);\n",
              "      border-right-color: var(--fill-color);\n",
              "    }\n",
              "    40% {\n",
              "      border-color: transparent;\n",
              "      border-right-color: var(--fill-color);\n",
              "      border-top-color: var(--fill-color);\n",
              "    }\n",
              "    60% {\n",
              "      border-color: transparent;\n",
              "      border-right-color: var(--fill-color);\n",
              "    }\n",
              "    80% {\n",
              "      border-color: transparent;\n",
              "      border-right-color: var(--fill-color);\n",
              "      border-bottom-color: var(--fill-color);\n",
              "    }\n",
              "    90% {\n",
              "      border-color: transparent;\n",
              "      border-bottom-color: var(--fill-color);\n",
              "    }\n",
              "  }\n",
              "</style>\n",
              "\n",
              "      <script>\n",
              "        async function quickchart(key) {\n",
              "          const quickchartButtonEl =\n",
              "            document.querySelector('#' + key + ' button');\n",
              "          quickchartButtonEl.disabled = true;  // To prevent multiple clicks.\n",
              "          quickchartButtonEl.classList.add('colab-df-spinner');\n",
              "          try {\n",
              "            const charts = await google.colab.kernel.invokeFunction(\n",
              "                'suggestCharts', [key], {});\n",
              "          } catch (error) {\n",
              "            console.error('Error during call to suggestCharts:', error);\n",
              "          }\n",
              "          quickchartButtonEl.classList.remove('colab-df-spinner');\n",
              "          quickchartButtonEl.classList.add('colab-df-quickchart-complete');\n",
              "        }\n",
              "        (() => {\n",
              "          let quickchartButtonEl =\n",
              "            document.querySelector('#df-01ec106e-1213-45db-9b92-a61545979df8 button');\n",
              "          quickchartButtonEl.style.display =\n",
              "            google.colab.kernel.accessAllowed ? 'block' : 'none';\n",
              "        })();\n",
              "      </script>\n",
              "    </div>\n",
              "\n",
              "    </div>\n",
              "  </div>\n"
            ],
            "application/vnd.google.colaboratory.intrinsic+json": {
              "type": "dataframe",
              "summary": "{\n  \"name\": \"bitcoin_price\",\n  \"rows\": 5,\n  \"fields\": [\n    {\n      \"column\": \"Date\",\n      \"properties\": {\n        \"dtype\": \"date\",\n        \"min\": \"2025-07-27 00:00:00\",\n        \"max\": \"2025-07-31 00:00:00\",\n        \"num_unique_values\": 5,\n        \"samples\": [\n          \"2025-07-28 00:00:00\",\n          \"2025-07-31 00:00:00\",\n          \"2025-07-29 00:00:00\"\n        ],\n        \"semantic_type\": \"\",\n        \"description\": \"\"\n      }\n    },\n    {\n      \"column\": \"Open\",\n      \"properties\": {\n        \"dtype\": \"number\",\n        \"std\": 971.1399343622098,\n        \"min\": 100408.3515625,\n        \"max\": 103108.078125,\n        \"num_unique_values\": 5,\n        \"samples\": [\n          101617.6171875,\n          103108.078125,\n          101701.390625\n        ],\n        \"semantic_type\": \"\",\n        \"description\": \"\"\n      }\n    },\n    {\n      \"column\": \"High\",\n      \"properties\": {\n        \"dtype\": \"number\",\n        \"std\": 896.9855654334395,\n        \"min\": 101928.4453125,\n        \"max\": 103849.609375,\n        \"num_unique_values\": 5,\n        \"samples\": [\n          101949.03125,\n          103849.609375,\n          103291.53125\n        ],\n        \"semantic_type\": \"\",\n        \"description\": \"\"\n      }\n    },\n    {\n      \"column\": \"Low\",\n      \"properties\": {\n        \"dtype\": \"number\",\n        \"std\": 438.9921218269447,\n        \"min\": 100335.953125,\n        \"max\": 101394.625,\n        \"num_unique_values\": 5,\n        \"samples\": [\n          101308.7421875,\n          101159.5859375,\n          101330.953125\n        ],\n        \"semantic_type\": \"\",\n        \"description\": \"\"\n      }\n    },\n    {\n      \"column\": \"Close\",\n      \"properties\": {\n        \"dtype\": \"number\",\n        \"std\": 688.8965830177312,\n        \"min\": 101349.0859375,\n        \"max\": 103105.9453125,\n        \"num_unique_values\": 5,\n        \"samples\": [\n          101689.21875,\n          101349.0859375,\n          102088.03125\n        ],\n        \"semantic_type\": \"\",\n        \"description\": \"\"\n      }\n    },\n    {\n      \"column\": \"Adj Close\",\n      \"properties\": {\n        \"dtype\": \"number\",\n        \"std\": 688.8965830177312,\n        \"min\": 101349.0859375,\n        \"max\": 103105.9453125,\n        \"num_unique_values\": 5,\n        \"samples\": [\n          101689.21875,\n          101349.0859375,\n          102088.03125\n        ],\n        \"semantic_type\": \"\",\n        \"description\": \"\"\n      }\n    },\n    {\n      \"column\": \"Volume\",\n      \"properties\": {\n        \"dtype\": \"number\",\n        \"std\": 5915306489,\n        \"min\": 46516918613,\n        \"max\": 60735402827,\n        \"num_unique_values\": 5,\n        \"samples\": [\n          55898444489,\n          60735402827,\n          59270155219\n        ],\n        \"semantic_type\": \"\",\n        \"description\": \"\"\n      }\n    }\n  ]\n}"
            }
          },
          "metadata": {},
          "execution_count": 5
        }
      ],
      "source": [
        "bitcoin_price.tail()"
      ]
    },
    {
      "cell_type": "markdown",
      "id": "1d77ab09",
      "metadata": {
        "id": "1d77ab09"
      },
      "source": [
        "Représentation graphique du jeu de données : Comment le bitcoin a évolué depuis le 22-02-2023 jusqu'au 22-02-2024"
      ]
    },
    {
      "cell_type": "code",
      "execution_count": 6,
      "id": "f4a6b6e8",
      "metadata": {
        "id": "f4a6b6e8"
      },
      "outputs": [],
      "source": [
        "prix=bitcoin_price[\"Close\"]\n",
        "dates=bitcoin_price[\"Date\"]"
      ]
    },
    {
      "cell_type": "code",
      "execution_count": 7,
      "id": "ca07b2e9",
      "metadata": {
        "colab": {
          "base_uri": "https://localhost:8080/",
          "height": 755
        },
        "id": "ca07b2e9",
        "outputId": "a695dd4b-c9d7-4761-f57b-b2a157e8bad3"
      },
      "outputs": [
        {
          "output_type": "display_data",
          "data": {
            "text/plain": [
              "<Figure size 1200x800 with 1 Axes>"
            ],
            "image/png": "[encoded data removed]"
          },
          "metadata": {}
        }
      ],
      "source": [
        "import matplotlib.dates as mdates\n",
        "fig , ax = plt.subplots(figsize=(12,8))\n",
        "ax.plot(dates,prix,color='blue')\n",
        "ax.set_xlabel('Date')\n",
        "ax.set_ylabel('Bitcoin Closing Price Time Series Since First Cotation')\n",
        "ax.set_title('Historical Bitcoin Price Over Time')\n",
        "plt.gca().xaxis.set_major_locator(mdates.MonthLocator(interval=3))  # Affiche une étiquette tous les 3 mois\n",
        "#plt.gca().xaxis.set_major_formatter(mdates.DateFormatter('%Y-%m'))  # Format simplifié (AAAA-MM)\n",
        "plt.xticks(rotation=45)\n",
        "ax.grid(False)\n",
        "plt.show()"
      ]
    },
    {
      "cell_type": "markdown",
      "id": "04cba87b",
      "metadata": {
        "id": "04cba87b"
      },
      "source": [
        "Dans la suite de notre projet, nous allons seulement comme il est de coutume, retenir seulement la colonne Close des données historiques pour effectuer notre modélisation et nos prédictions car cette dernière est pertinente et contient les informations majeures du BTC sur le marché en tant que prix."
      ]
    },
    {
      "cell_type": "code",
      "execution_count": 8,
      "id": "e5c3a8ec",
      "metadata": {
        "id": "e5c3a8ec"
      },
      "outputs": [],
      "source": [
        "bitcoin_price['Date'] = pd.to_datetime(bitcoin_price['Date'])  # convertion de la date en type datetime"
      ]
    },
    {
      "cell_type": "code",
      "execution_count": 9,
      "id": "84a138de",
      "metadata": {
        "id": "84a138de"
      },
      "outputs": [],
      "source": [
        "bitcoin_price = bitcoin_price.sort_values('Date',ascending=True) # trie de la colonne date en ordre croissant"
      ]
    },
    {
      "cell_type": "code",
      "execution_count": 10,
      "id": "31fba4a5",
      "metadata": {
        "id": "31fba4a5"
      },
      "outputs": [],
      "source": [
        "bitcoin_price=bitcoin_price.set_index('Date')"
      ]
    },
    {
      "cell_type": "code",
      "execution_count": 11,
      "id": "11c30aed",
      "metadata": {
        "id": "11c30aed"
      },
      "outputs": [],
      "source": [
        "bitcoin_price = bitcoin_price.asfreq('B')"
      ]
    },
    {
      "cell_type": "code",
      "execution_count": 12,
      "id": "5ddb6729",
      "metadata": {
        "id": "5ddb6729"
      },
      "outputs": [],
      "source": [
        "bitcoin_price=bitcoin_price.loc[:,['Close']]"
      ]
    },
    {
      "cell_type": "code",
      "execution_count": 13,
      "id": "96de0def",
      "metadata": {
        "colab": {
          "base_uri": "https://localhost:8080/",
          "height": 238
        },
        "id": "96de0def",
        "outputId": "dd9bc8c3-1243-4c9c-cb94-76fbb2b4de42"
      },
      "outputs": [
        {
          "output_type": "execute_result",
          "data": {
            "text/plain": [
              "                  Close\n",
              "Date                   \n",
              "2020-01-01  6417.781738\n",
              "2020-01-02  6252.938477\n",
              "2020-01-03  6581.735840\n",
              "2020-01-06  6939.714844\n",
              "2020-01-07  7320.774902"
            ],
            "text/html": [
              "\n",
              "  <div id=\"df-1aee09a5-c11a-486a-a235-6416e2c57c98\" class=\"colab-df-container\">\n",
              "    <div>\n",
              "<style scoped>\n",
              "    .dataframe tbody tr th:only-of-type {\n",
              "        vertical-align: middle;\n",
              "    }\n",
              "\n",
              "    .dataframe tbody tr th {\n",
              "        vertical-align: top;\n",
              "    }\n",
              "\n",
              "    .dataframe thead th {\n",
              "        text-align: right;\n",
              "    }\n",
              "</style>\n",
              "<table border=\"1\" class=\"dataframe\">\n",
              "  <thead>\n",
              "    <tr style=\"text-align: right;\">\n",
              "      <th></th>\n",
              "      <th>Close</th>\n",
              "    </tr>\n",
              "    <tr>\n",
              "      <th>Date</th>\n",
              "      <th></th>\n",
              "    </tr>\n",
              "  </thead>\n",
              "  <tbody>\n",
              "    <tr>\n",
              "      <th>2020-01-01</th>\n",
              "      <td>6417.781738</td>\n",
              "    </tr>\n",
              "    <tr>\n",
              "      <th>2020-01-02</th>\n",
              "      <td>6252.938477</td>\n",
              "    </tr>\n",
              "    <tr>\n",
              "      <th>2020-01-03</th>\n",
              "      <td>6581.735840</td>\n",
              "    </tr>\n",
              "    <tr>\n",
              "      <th>2020-01-06</th>\n",
              "      <td>6939.714844</td>\n",
              "    </tr>\n",
              "    <tr>\n",
              "      <th>2020-01-07</th>\n",
              "      <td>7320.774902</td>\n",
              "    </tr>\n",
              "  </tbody>\n",
              "</table>\n",
              "</div>\n",
              "    <div class=\"colab-df-buttons\">\n",
              "\n",
              "  <div class=\"colab-df-container\">\n",
              "    <button class=\"colab-df-convert\" onclick=\"convertToInteractive('df-1aee09a5-c11a-486a-a235-6416e2c57c98')\"\n",
              "            title=\"Convert this dataframe to an interactive table.\"\n",
              "            style=\"display:none;\">\n",
              "\n",
              "  <svg xmlns=\"http://www.w3.org/2000/svg\" height=\"24px\" viewBox=\"0 -960 960 960\">\n",
              "    <path d=\"M120-120v-720h720v720H120Zm60-500h600v-160H180v160Zm220 220h160v-160H400v160Zm0 220h160v-160H400v160ZM180-400h160v-160H180v160Zm440 0h160v-160H620v160ZM180-180h160v-160H180v160Zm440 0h160v-160H620v160Z\"/>\n",
              "  </svg>\n",
              "    </button>\n",
              "\n",
              "  <style>\n",
              "    .colab-df-container {\n",
              "      display:flex;\n",
              "      gap: 12px;\n",
              "    }\n",
              "\n",
              "    .colab-df-convert {\n",
              "      background-color: #E8F0FE;\n",
              "      border: none;\n",
              "      border-radius: 50%;\n",
              "      cursor: pointer;\n",
              "      display: none;\n",
              "      fill: #1967D2;\n",
              "      height: 32px;\n",
              "      padding: 0 0 0 0;\n",
              "      width: 32px;\n",
              "    }\n",
              "\n",
              "    .colab-df-convert:hover {\n",
              "      background-color: #E2EBFA;\n",
              "      box-shadow: 0px 1px 2px rgba(60, 64, 67, 0.3), 0px 1px 3px 1px rgba(60, 64, 67, 0.15);\n",
              "      fill: #174EA6;\n",
              "    }\n",
              "\n",
              "    .colab-df-buttons div {\n",
              "      margin-bottom: 4px;\n",
              "    }\n",
              "\n",
              "    [theme=dark] .colab-df-convert {\n",
              "      background-color: #3B4455;\n",
              "      fill: #D2E3FC;\n",
              "    }\n",
              "\n",
              "    [theme=dark] .colab-df-convert:hover {\n",
              "      background-color: #434B5C;\n",
              "      box-shadow: 0px 1px 3px 1px rgba(0, 0, 0, 0.15);\n",
              "      filter: drop-shadow(0px 1px 2px rgba(0, 0, 0, 0.3));\n",
              "      fill: #FFFFFF;\n",
              "    }\n",
              "  </style>\n",
              "\n",
              "    <script>\n",
              "      const buttonEl =\n",
              "        document.querySelector('#df-1aee09a5-c11a-486a-a235-6416e2c57c98 button.colab-df-convert');\n",
              "      buttonEl.style.display =\n",
              "        google.colab.kernel.accessAllowed ? 'block' : 'none';\n",
              "\n",
              "      async function convertToInteractive(key) {\n",
              "        const element = document.querySelector('#df-1aee09a5-c11a-486a-a235-6416e2c57c98');\n",
              "        const dataTable =\n",
              "          await google.colab.kernel.invokeFunction('convertToInteractive',\n",
              "                                                    [key], {});\n",
              "        if (!dataTable) return;\n",
              "\n",
              "        const docLinkHtml = 'Like what you see? Visit the ' +\n",
              "          '<a target=\"_blank\" href=https://colab.research.google.com/notebooks/data_table.ipynb>data table notebook</a>'\n",
              "          + ' to learn more about interactive tables.';\n",
              "        element.innerHTML = '';\n",
              "        dataTable['output_type'] = 'display_data';\n",
              "        await google.colab.output.renderOutput(dataTable, element);\n",
              "        const docLink = document.createElement('div');\n",
              "        docLink.innerHTML = docLinkHtml;\n",
              "        element.appendChild(docLink);\n",
              "      }\n",
              "    </script>\n",
              "  </div>\n",
              "\n",
              "\n",
              "    <div id=\"df-832f0881-3f01-4e73-8f47-0726da4d363e\">\n",
              "      <button class=\"colab-df-quickchart\" onclick=\"quickchart('df-832f0881-3f01-4e73-8f47-0726da4d363e')\"\n",
              "                title=\"Suggest charts\"\n",
              "                style=\"display:none;\">\n",
              "\n",
              "<svg xmlns=\"http://www.w3.org/2000/svg\" height=\"24px\"viewBox=\"0 0 24 24\"\n",
              "     width=\"24px\">\n",
              "    <g>\n",
              "        <path d=\"M19 3H5c-1.1 0-2 .9-2 2v14c0 1.1.9 2 2 2h14c1.1 0 2-.9 2-2V5c0-1.1-.9-2-2-2zM9 17H7v-7h2v7zm4 0h-2V7h2v10zm4 0h-2v-4h2v4z\"/>\n",
              "    </g>\n",
              "</svg>\n",
              "      </button>\n",
              "\n",
              "<style>\n",
              "  .colab-df-quickchart {\n",
              "      --bg-color: #E8F0FE;\n",
              "      --fill-color: #1967D2;\n",
              "      --hover-bg-color: #E2EBFA;\n",
              "      --hover-fill-color: #174EA6;\n",
              "      --disabled-fill-color: #AAA;\n",
              "      --disabled-bg-color: #DDD;\n",
              "  }\n",
              "\n",
              "  [theme=dark] .colab-df-quickchart {\n",
              "      --bg-color: #3B4455;\n",
              "      --fill-color: #D2E3FC;\n",
              "      --hover-bg-color: #434B5C;\n",
              "      --hover-fill-color: #FFFFFF;\n",
              "      --disabled-bg-color: #3B4455;\n",
              "      --disabled-fill-color: #666;\n",
              "  }\n",
              "\n",
              "  .colab-df-quickchart {\n",
              "    background-color: var(--bg-color);\n",
              "    border: none;\n",
              "    border-radius: 50%;\n",
              "    cursor: pointer;\n",
              "    display: none;\n",
              "    fill: var(--fill-color);\n",
              "    height: 32px;\n",
              "    padding: 0;\n",
              "    width: 32px;\n",
              "  }\n",
              "\n",
              "  .colab-df-quickchart:hover {\n",
              "    background-color: var(--hover-bg-color);\n",
              "    box-shadow: 0 1px 2px rgba(60, 64, 67, 0.3), 0 1px 3px 1px rgba(60, 64, 67, 0.15);\n",
              "    fill: var(--button-hover-fill-color);\n",
              "  }\n",
              "\n",
              "  .colab-df-quickchart-complete:disabled,\n",
              "  .colab-df-quickchart-complete:disabled:hover {\n",
              "    background-color: var(--disabled-bg-color);\n",
              "    fill: var(--disabled-fill-color);\n",
              "    box-shadow: none;\n",
              "  }\n",
              "\n",
              "  .colab-df-spinner {\n",
              "    border: 2px solid var(--fill-color);\n",
              "    border-color: transparent;\n",
              "    border-bottom-color: var(--fill-color);\n",
              "    animation:\n",
              "      spin 1s steps(1) infinite;\n",
              "  }\n",
              "\n",
              "  @keyframes spin {\n",
              "    0% {\n",
              "      border-color: transparent;\n",
              "      border-bottom-color: var(--fill-color);\n",
              "      border-left-color: var(--fill-color);\n",
              "    }\n",
              "    20% {\n",
              "      border-color: transparent;\n",
              "      border-left-color: var(--fill-color);\n",
              "      border-top-color: var(--fill-color);\n",
              "    }\n",
              "    30% {\n",
              "      border-color: transparent;\n",
              "      border-left-color: var(--fill-color);\n",
              "      border-top-color: var(--fill-color);\n",
              "      border-right-color: var(--fill-color);\n",
              "    }\n",
              "    40% {\n",
              "      border-color: transparent;\n",
              "      border-right-color: var(--fill-color);\n",
              "      border-top-color: var(--fill-color);\n",
              "    }\n",
              "    60% {\n",
              "      border-color: transparent;\n",
              "      border-right-color: var(--fill-color);\n",
              "    }\n",
              "    80% {\n",
              "      border-color: transparent;\n",
              "      border-right-color: var(--fill-color);\n",
              "      border-bottom-color: var(--fill-color);\n",
              "    }\n",
              "    90% {\n",
              "      border-color: transparent;\n",
              "      border-bottom-color: var(--fill-color);\n",
              "    }\n",
              "  }\n",
              "</style>\n",
              "\n",
              "      <script>\n",
              "        async function quickchart(key) {\n",
              "          const quickchartButtonEl =\n",
              "            document.querySelector('#' + key + ' button');\n",
              "          quickchartButtonEl.disabled = true;  // To prevent multiple clicks.\n",
              "          quickchartButtonEl.classList.add('colab-df-spinner');\n",
              "          try {\n",
              "            const charts = await google.colab.kernel.invokeFunction(\n",
              "                'suggestCharts', [key], {});\n",
              "          } catch (error) {\n",
              "            console.error('Error during call to suggestCharts:', error);\n",
              "          }\n",
              "          quickchartButtonEl.classList.remove('colab-df-spinner');\n",
              "          quickchartButtonEl.classList.add('colab-df-quickchart-complete');\n",
              "        }\n",
              "        (() => {\n",
              "          let quickchartButtonEl =\n",
              "            document.querySelector('#df-832f0881-3f01-4e73-8f47-0726da4d363e button');\n",
              "          quickchartButtonEl.style.display =\n",
              "            google.colab.kernel.accessAllowed ? 'block' : 'none';\n",
              "        })();\n",
              "      </script>\n",
              "    </div>\n",
              "\n",
              "    </div>\n",
              "  </div>\n"
            ],
            "application/vnd.google.colaboratory.intrinsic+json": {
              "type": "dataframe",
              "variable_name": "bitcoin_price",
              "summary": "{\n  \"name\": \"bitcoin_price\",\n  \"rows\": 1457,\n  \"fields\": [\n    {\n      \"column\": \"Date\",\n      \"properties\": {\n        \"dtype\": \"date\",\n        \"min\": \"2020-01-01 00:00:00\",\n        \"max\": \"2025-07-31 00:00:00\",\n        \"num_unique_values\": 1457,\n        \"samples\": [\n          \"2021-11-26 00:00:00\",\n          \"2024-11-01 00:00:00\",\n          \"2021-07-29 00:00:00\"\n        ],\n        \"semantic_type\": \"\",\n        \"description\": \"\"\n      }\n    },\n    {\n      \"column\": \"Close\",\n      \"properties\": {\n        \"dtype\": \"number\",\n        \"std\": 25334.21309396513,\n        \"min\": 4444.2373046875,\n        \"max\": 103105.9453125,\n        \"num_unique_values\": 1456,\n        \"samples\": [\n          47323.1015625,\n          64512.30859375,\n          33643.08203125\n        ],\n        \"semantic_type\": \"\",\n        \"description\": \"\"\n      }\n    }\n  ]\n}"
            }
          },
          "metadata": {},
          "execution_count": 13
        }
      ],
      "source": [
        "bitcoin_price.head()"
      ]
    },
    {
      "cell_type": "markdown",
      "id": "9bcda460",
      "metadata": {
        "id": "9bcda460"
      },
      "source": [
        "Séparation de la base de données en base d'entrainement et de test\n",
        "\n",
        "Nous allons tenter de subdiviser notre base de données en base d'entrainement et en base de test. Notre objectif étant de prédire le cours du BTC avec de réseaux de neurones, nous devons pour ce faire subdiviser notre base de donnée en deux :\n",
        "\n",
        "Une base d'entrainement : C'est la base sur laquelle nous allons entrainer notre modèle de réseaux de neurones. Nous allons faire apprendre a ce dernier a découvrir le type de relations mathématiques, donc de modèle mathémathique qui existe entre le prix du BTC par exemple le huitème jour sur base des 7 derniers jours avant. Autrement dit, on essaie de trouver la relation mathématique au travers d'un réseau de neurones entre le prix observé le 8ième jour de cotation du BTC (ou le 31ième, ou le 41ième, ou le 51ième jour, etc...) et les 7 derniers jours ( ou les 30, 40 ou 50 derniers ) de cotation historique avant. Cette phase est essentiellement une phase de modélisation.\n",
        "\n",
        "Une base de test : Une fois la relation/l'équation mathématique qui gouverne les prix historiques du BTC est découverte, cette dernière permetterait de prendre historiquement 07 jours observés(ou les 30, ou les 40, ou les 50, etc...) de la base de test du prix du BTC pour prédire le prix du 8ième (ou le 31ième, ou le 41ième, ou le 51ième, etc..) jour correspondant au prix donné par le modèle. Vu que nous travaillons sur des données observées historiquement sur le marché et que de fait nous avons les vrais valeurs, nous allons ainsi quantifier a quel point notre réseau de neurones performe ou pas via des métriques en comparant les résultats que notre modèle nous donne et les observations réalisées sur le marché au travers de la base de test.\n",
        "\n",
        "Pour subdiviser nos données nous allons prendre 80% des données comme base d'entrainement et 20% des données comme la base de test."
      ]
    },
    {
      "cell_type": "code",
      "execution_count": 14,
      "id": "70d3190a",
      "metadata": {
        "colab": {
          "base_uri": "https://localhost:8080/"
        },
        "id": "70d3190a",
        "outputId": "d1198e55-9caf-45f9-ecb8-93b1d18ff849"
      },
      "outputs": [
        {
          "output_type": "execute_result",
          "data": {
            "text/plain": [
              "(array(['2020-01-01T00:00:00.000000000', '2020-01-02T00:00:00.000000000',\n",
              "        '2020-01-03T00:00:00.000000000', '2020-01-06T00:00:00.000000000',\n",
              "        '2020-01-07T00:00:00.000000000', '2020-01-08T00:00:00.000000000',\n",
              "        '2020-01-09T00:00:00.000000000', '2020-01-10T00:00:00.000000000',\n",
              "        '2020-01-13T00:00:00.000000000', '2020-01-14T00:00:00.000000000'],\n",
              "       dtype='datetime64[ns]'),\n",
              " array([6417.78173828, 6252.93847656, 6581.73583984, 6939.71484375,\n",
              "        7320.77490234, 7270.78564453, 7092.74804688, 7343.36572266,\n",
              "        7313.74707031, 7933.51171875]))"
            ]
          },
          "metadata": {},
          "execution_count": 14
        }
      ],
      "source": [
        "# Convertissons l'indice du BTC et la colonne de prix sous forme de numpy array\n",
        "timesteps=bitcoin_price.index.to_numpy()\n",
        "prices=bitcoin_price[\"Close\"].to_numpy()\n",
        "timesteps[:10], prices[:10]"
      ]
    },
    {
      "cell_type": "markdown",
      "id": "0f608568",
      "metadata": {
        "id": "0f608568"
      },
      "source": [
        "Code de Subdivision de notre base de données en base de données d'entrainement et de test"
      ]
    },
    {
      "cell_type": "code",
      "execution_count": 15,
      "id": "2d42de49",
      "metadata": {
        "colab": {
          "base_uri": "https://localhost:8080/"
        },
        "id": "2d42de49",
        "outputId": "3ffaf614-4c61-4a30-ab07-7a32d3de2fdb"
      },
      "outputs": [
        {
          "output_type": "execute_result",
          "data": {
            "text/plain": [
              "(1165, 292, 1165, 292)"
            ]
          },
          "metadata": {},
          "execution_count": 15
        }
      ],
      "source": [
        "split_size = int(0.8 * len(prices))  # 80% pour l'entraînement, 20% pour le test\n",
        "\n",
        "# Création des données d'entraînement et de test\n",
        "X_train, y_train = timesteps[:split_size], prices[:split_size]  # 80% des données\n",
        "X_test, y_test = timesteps[split_size:], prices[split_size:]    # 20% des données restantes\n",
        "\n",
        "# Afficher les longueurs\n",
        "len(X_train), len(X_test), len(y_train), len(y_test)\n"
      ]
    },
    {
      "cell_type": "markdown",
      "id": "6d50a662",
      "metadata": {
        "id": "6d50a662"
      },
      "source": [
        " Representation graphique de la base d'entrainement et de test"
      ]
    },
    {
      "cell_type": "code",
      "execution_count": 16,
      "id": "5e9e1923",
      "metadata": {
        "colab": {
          "base_uri": "https://localhost:8080/",
          "height": 696
        },
        "id": "5e9e1923",
        "outputId": "34cedc5d-eff1-4778-d3ca-9bbce88a8d74"
      },
      "outputs": [
        {
          "output_type": "display_data",
          "data": {
            "text/plain": [
              "<Figure size 1000x800 with 1 Axes>"
            ],
            "image/png": "[encoded data removed]"
          },
          "metadata": {}
        }
      ],
      "source": [
        "plt.figure(figsize=(10,8))\n",
        "plt.scatter(X_train,y_train,s=2, label=\"Base d'entrainement\")\n",
        "plt.scatter(X_test,y_test, s=2,label=\"Base de test\", color='green')\n",
        "plt.xlabel('Date')\n",
        "plt.xlabel('BCT Price')\n",
        "plt.legend(fontsize=14)\n",
        "plt.grid(False)\n",
        "plt.show();"
      ]
    },
    {
      "cell_type": "markdown",
      "id": "78e2d087",
      "metadata": {
        "id": "78e2d087"
      },
      "source": [
        "Nous allons utilisé un réseau de neurones pour apprendre la relation mathématique sur la partie bleue du graphe et essayer de voir a quel point ce dernier reproduit la partie en vert pour quantifier l'erreur et évaluer le pouvoir prédictif de notre modèle pour pouvoir prédire convenablement le BTC ."
      ]
    },
    {
      "cell_type": "markdown",
      "id": "60bccc41",
      "metadata": {
        "id": "60bccc41"
      },
      "source": [
        "Nous allons créer une fonction permettant d'afficher les graphes. Cette dernière nous sera utile car il nous suffira d'appeler cette fonction plutot que de réecrire a chaque fois des lignes de code pour plotter les fonctions et prédictions de nos réseaux de neurones. Cela nous permettra de scaler notre code et gagner en productivité."
      ]
    },
    {
      "cell_type": "code",
      "execution_count": 17,
      "id": "6b26e2b6",
      "metadata": {
        "id": "6b26e2b6"
      },
      "outputs": [],
      "source": [
        "def plot_time_series(timesteps, values, format='.', start=0, end=None, color=None ,label=None):\n",
        "    plt.plot(timesteps[start:end],values[start:end], format, color=color, label=label)\n",
        "    plt.xlabel('Date')\n",
        "    plt.ylabel('BTC Price')\n",
        "    if label:\n",
        "        plt.legend(fontsize=14)\n",
        "    plt.grid(False)"
      ]
    },
    {
      "cell_type": "code",
      "execution_count": 18,
      "id": "be640590",
      "metadata": {
        "colab": {
          "base_uri": "https://localhost:8080/",
          "height": 696
        },
        "id": "be640590",
        "outputId": "71f0ed51-ff95-481a-d441-8eaf926472ad"
      },
      "outputs": [
        {
          "output_type": "display_data",
          "data": {
            "text/plain": [
              "<Figure size 1200x800 with 1 Axes>"
            ],
            "image/png": "[encoded data removed]"
          },
          "metadata": {}
        }
      ],
      "source": [
        "plt.figure(figsize=(12,8))\n",
        "plot_time_series(timesteps=X_train, values=y_train,label=\"Base d'entrainement\")\n",
        "plot_time_series(timesteps=X_test,values=y_test,label=\"Base de test\",color ='green')"
      ]
    },
    {
      "cell_type": "markdown",
      "id": "93a4718b",
      "metadata": {
        "id": "93a4718b"
      },
      "source": [
        "# STRATÉGIE DE MODÉLISATION ET DE PRÉDICTION DU PRIX DU BTC TOUT AU LONG DE NOTRE PROJET"
      ]
    },
    {
      "cell_type": "markdown",
      "id": "906b4a22",
      "metadata": {
        "id": "906b4a22"
      },
      "source": [
        "Notre stratégie de modélisation et de prédicition du prix du BTC se fera comme suit :"
      ]
    },
    {
      "cell_type": "markdown",
      "id": "395b149d",
      "metadata": {
        "id": "395b149d"
      },
      "source": [
        "               Notre projet se veut avant tout de mettre en lumière une diversité de modèle de deep learning que l'on pourraitutiliser pour prédire le jeu de données du prix du BTC. Puis dans un second temps, nous allons comparer la performance globale de chaque modèle de deep learning sur notre jeu de données tout en prenant également le soin de comparer les prédictions de chaque modèle entre eux."
      ]
    },
    {
      "cell_type": "markdown",
      "id": "e95ddd97",
      "metadata": {
        "id": "e95ddd97"
      },
      "source": [
        "Avant d'entrer cependant dans le vif du sujet, il est important de rappeler deux notions qui seront indispensables lors de nos expériences de deep learning:"
      ]
    },
    {
      "cell_type": "markdown",
      "id": "7a0a2f8a",
      "metadata": {
        "id": "7a0a2f8a"
      },
      "source": [
        "Le Window : qui représente la fenetre/la quantité de jeu de données historiques que l'on va considérer pour prédire le ième jour correspondant, i étant un jour de cotation du prix du BTC sur le marché. Par exemple, 1 semaine de données pour prédire le 8 ième correspondant, etc....\n",
        "\n",
        "Le Horizon : qui représente la durée de projection de nos prédictionsdu prix du BTC. Autrement dit, sur quelle période voulons-nous projeter nos prédictions ? 1 jour ? , 2 jours ? , 1 semaine ? , etc....\n",
        "\n",
        "Si par exemple nous utilisons 7 jours de données du prix du Bitcoin pour prédire le 8ième jour, alors nous dirons que notre Window sera de 7 jours et notre horizon sera de 1 jour. Intuitivement, plus l'horizon de prédictions est grand, moins les valeurs observées seront fiables. Il est plus facile de prédire sur 1 jour le prix du Bitcoin que 1 semaine entière ......            "
      ]
    },
    {
      "cell_type": "markdown",
      "id": "effc14fc",
      "metadata": {
        "id": "effc14fc"
      },
      "source": [
        "# Voici comment nous allons procéder globalement pour prédire le prix du __BTC__ dans notre projet :\n",
        "\n",
        "Dans une première phase, nous allons implémenter plusieurs modèles de DL ayant pour but justement de modéliser notre série temporelle de prix du __BTC__ et comparer leurs performances entre elles via des métriques que nous aurons pris le soin nous meme de recoder ;\n",
        "\n",
        "Dans une seconde phase, nous allons utiliser tous nos modèles concus pour prédire proprement dit le prix futur du __BTC__ a partir du 13 janvier 2023 et comparer la prédiction de chaque modèle avec les autres et tirer une conclusion globale sur notre proje\n",
        "\n",
        "Ainsi la toute première partie de notre projet se veut une partie de test et de découverte des modèles de DL que l'on peut utiliser pour tacler ce genre de problèmes. En effet, la première partie aura pour objectif majeur de voir quels sont les possibilités qui nous sont offertes par l'intelligence artificielle pour prédire une série temporelle puis via des métriques, nous allons quantifier la performance de chacun d'eux et leurs validités d'utilisation . La seconde partie se veut une partie de comparaison et de vraisemblance de la prédiction de chaque modèle préalablement concu. Cette dernière nous montrera la capacité que ces modèles ont a imaginer le futur d'un système ouvert comme le __BTC__ .\n",
        "\n",
        "Sans plus tarder, nous allons passer a notre tout premier modèle.....\n"
      ]
    },
    {
      "cell_type": "markdown",
      "id": "167f4f34",
      "metadata": {
        "id": "167f4f34"
      },
      "source": [
        "# Modèle 0: Le modèle Naif"
      ]
    },
    {
      "cell_type": "markdown",
      "id": "daac02ef",
      "metadata": {
        "id": "daac02ef"
      },
      "source": [
        "Le modèle Naif est un modèle qui est très utilisé dans la predictions des series temporelles financières.\n",
        " principe est le suivant : La meilleure estimation que l'on a du future est la toute dernière valeur observée sur le marché. Nous allons donc de ce fait, utiliser ce modèle qui représentera notre tout premier pour essayer de prédire le prix du BTC.\n",
        "\n",
        "\n",
        " Mathématiquement cela donne : ât=ât-1"
      ]
    },
    {
      "cell_type": "code",
      "execution_count": 19,
      "id": "6532be27",
      "metadata": {
        "id": "6532be27"
      },
      "outputs": [],
      "source": [
        "prediction_naive=y_test[:-1] # la prediction naive consiste à prendre toutes les valeurs sauf la dernière\n"
      ]
    },
    {
      "cell_type": "code",
      "execution_count": 20,
      "id": "de7641b7",
      "metadata": {
        "colab": {
          "base_uri": "https://localhost:8080/",
          "height": 696
        },
        "id": "de7641b7",
        "outputId": "73c78830-bd57-40b9-ae6f-072d081e076a"
      },
      "outputs": [
        {
          "output_type": "display_data",
          "data": {
            "text/plain": [
              "<Figure size 1200x800 with 1 Axes>"
            ],
            "image/png": "[encoded data removed]"
          },
          "metadata": {}
        }
      ],
      "source": [
        "plt.figure(figsize=(12,8))\n",
        "offset=2\n",
        "plot_time_series(timesteps=X_test, values=y_test, start=offset,label=\"base de test\" )\n",
        "plot_time_series(timesteps=X_test[1:], values=prediction_naive,format='-', start=offset, label=\"Prediction Naive\")"
      ]
    },
    {
      "cell_type": "markdown",
      "id": "819720fb",
      "metadata": {
        "id": "819720fb"
      },
      "source": [
        "# Évaluation de la performance de nos modèles de deep learning\n",
        "\n",
        "Pour quantifier a quel point nos modèles de deep learning performent, nous devons utiliser pour ce faire des métriques qui quantifient l'erreur de prédictions ou d'apprentissage de nos modèles sur nos données. Vu que nous voulons prédire un nombre, nous faisons donc face a un problème de régression. Par conséquent, nous pouvons utiliser sans crainte, toutes les métriques de performance d'un modèle de régression linéaire. Dans notre projet, nous avons utilisé 05 métriques principales :\n",
        "\n",
        "Le MAE ou Mean Absolute Error : Facile à interpréter (une prévision diffère de X montant par rapport à la valeur réelle). C'est la moyenne des valeurs absolues de toutes les érreurs de prévisions entre ce qui est réellement observé\n",
        " et ce qui est prédit par le modèle\n",
        ".\n",
        "\n",
        "Le MSE ou Mean Squared Error : C'est la moyenne du carré de toutes les érreurs de prévisions entre ce qui est réellement observé\n",
        " et ce qui est prédit par le modèle\n",
        ". Le carré aura tendance a amplifier l'effet des plus grandes erreurs. En effet, si nous avons par exemple, mal nettoyé nos données, un très grand MSE doit attirer notre attention qaunt a la validité d'une telle grande erreur. Mais attention, c'est avec le carré des erreurs que nous interprétons la performance de nos modèles en utilisant le MSE et donc potentiellement la qualité du nettoyage de nos données.\n",
        "\n",
        "Le RMSE ou Root Mean Squared Error : C'est la racine carrée du MSE. Elle permet donc de ramener les erreurs sur une meme échelle de mésure que les données et donc d'interpréter non plus le carré des erreurs mais bien les erreurs réelles et donc de ne pas biaiser notre analyse.\n",
        "\n",
        "Le MASE ou Mean Absolute Scaled Error : C'est une métrique utilisée dans les compétitions de prédicition de séries temporelles. Le MASE est égal à 1 pour la prévision naïve (ou très proche de 1). Une prévision qui se comporte mieux que la prévision naïve devrait avoir un MASE inférieur à 1. Comme nous le voyons, le MASE est une mésure qui prend comme benchmark le modèle naif que l'on a précédemment implémenté. En effet, le modèle naif est un modèle très difficile a battre. Pour des systèmes ouverts comme le BTC, nous allons tenter de challenger le modèle naif par d'autres modèles de réseaux de neurones pour voir si ces derniers font mieux ou pas !\n",
        "\n",
        "Le MAPE ou Mean Absolute Percentage Error : C'est une métrique utilisée dans les compétitions de prédiction de séries temporelles. C'est une métrique qui quantifie le pourcentage de performance que l'on gagne ou l'on perd dans nos différentes prédictions pour etre chirurgical dans ces derniers. Généralement dans les compétitions de prédictions de séries temporelles, cette métrique permet de départager les participants et est la principale pour ne pas dire la seule que les participants tentent de minimiser aux maximum.\n",
        "\n",
        "Contrairement a toutes les metriques qui sont déjà implémentées sur Tensorflow, le MASE ne l'est pas. Nous avons pris le soin de l'implémenter sur Tensorflow en utilisant exclusivement cette bibliothèque pour éviter les erreurs de typage en Python."
      ]
    },
    {
      "cell_type": "code",
      "execution_count": 21,
      "id": "f5f11bb2",
      "metadata": {
        "id": "f5f11bb2"
      },
      "outputs": [],
      "source": [
        "def mean_absolute_scaled_error(y_true, y_pred):\n",
        "    mae= tf.reduce_mean(tf.abs(y_true-y_pred))\n",
        "    mae_naive_no_season=tf.reduce_mean(tf.abs(y_true[1:]-y_true[:-1]))\n",
        "    return mae/mae_naive_no_season"
      ]
    },
    {
      "cell_type": "markdown",
      "id": "002c30f8",
      "metadata": {
        "id": "002c30f8"
      },
      "source": [
        "Pour gagner en temps, scaler et faciliter notre analyse, nous allons créer une fonction qui nous retourne toutes les métriques de performance de nos modèles de Deep Learning dont nous aurons besoin. Dans ce projet, nous avons pris le soin de de créer et customiser entièrement nos métriques et modèle de zéro, et de créer des fonctions pythons qui nous permettent justement d'utiliser en une fois, tout ce dont nous aurons besoin."
      ]
    },
    {
      "cell_type": "code",
      "execution_count": 22,
      "id": "f7e2f701",
      "metadata": {
        "id": "f7e2f701"
      },
      "outputs": [],
      "source": [
        "\n",
        "\n",
        "\n",
        "def evaluate_preds(y_true, y_pred):\n",
        "    # Si y_true est un tenseur TensorFlow, le convertir en tableau NumPy\n",
        "    if isinstance(y_true, tf.Tensor):\n",
        "        y_true = y_true.numpy()\n",
        "\n",
        "    # Si y_pred est un tenseur TensorFlow, le convertir en tableau NumPy\n",
        "    if isinstance(y_pred, tf.Tensor):\n",
        "        y_pred = y_pred.numpy()\n",
        "\n",
        "    # Calcul du Mean Absolute Error (MAE) avec sklearn\n",
        "    mae = mean_absolute_error(y_true, y_pred)\n",
        "\n",
        "    # Calcul du Mean Squared Error (MSE) avec sklearn\n",
        "    mse = mean_squared_error(y_true, y_pred)\n",
        "\n",
        "    # Calcul de la racine carrée du MSE (RMSE) et conversion en float Python natif\n",
        "    rmse = np.sqrt(mse).item()\n",
        "\n",
        "    # Calcul du Mean Absolute Percentage Error (MAPE) avec sklearn\n",
        "    mape = mean_absolute_percentage_error(y_true, y_pred)\n",
        "\n",
        "    # Calcul du Mean Absolute Scaled Error (MASE)\n",
        "    mase = mean_absolute_scaled_error(y_true, y_pred)\n",
        "    # Si le résultat est un tenseur TensorFlow, le convertir en float Python\n",
        "    if isinstance(mase, tf.Tensor):\n",
        "        mase = mase.numpy().item()\n",
        "\n",
        "\n",
        "    return {\n",
        "        'mae': mae,\n",
        "        'mse': mse,\n",
        "        'rmse': rmse,\n",
        "        'mape': mape,\n",
        "        'mase': mase\n",
        "    }\n"
      ]
    },
    {
      "cell_type": "markdown",
      "id": "651bfb20",
      "metadata": {
        "id": "651bfb20"
      },
      "source": [
        "En pratique, si nous avons correctement créé la fonction qui calcule le MASE, le modèle naïf devrait obtenir un MASE de 1 (ou très proche de 1). Tout modèle qui se comporte moins bien que la prévision naïve atteindra un MASE supérieur à 1 et tout modèle qui se comporte mieux que la prévision naïve atteindra un MASE inférieur à 1. Testons notre modèle naif sur ces métriques."
      ]
    },
    {
      "cell_type": "code",
      "execution_count": 23,
      "id": "a1ba3ba1",
      "metadata": {
        "colab": {
          "base_uri": "https://localhost:8080/"
        },
        "id": "a1ba3ba1",
        "outputId": "13a938f6-8eba-4671-8c60-ed1a19f5fede"
      },
      "outputs": [
        {
          "output_type": "execute_result",
          "data": {
            "text/plain": [
              "{'mae': 1697.3713890678694,\n",
              " 'mse': 5585987.822268089,\n",
              " 'rmse': 2363.469446019578,\n",
              " 'mape': 0.022246845536427112,\n",
              " 'mase': 0.9970004418033657}"
            ]
          },
          "metadata": {},
          "execution_count": 23
        }
      ],
      "source": [
        "resultat_preds_naive=evaluate_preds(y_test[1:],\n",
        "                                   prediction_naive)\n",
        "resultat_preds_naive\n"
      ]
    },
    {
      "cell_type": "markdown",
      "id": "ac1fd4fd",
      "metadata": {
        "id": "ac1fd4fd"
      },
      "source": [
        "Comment pouvons nous savoir que notre modèle performe bien ou pas ? En la comparant aux performances des autres modèles de DL que l'on va dévélopper pour voir si dans l'optique de faire la meilleure prévision possible, il n'existe pas un autre modèle qui performe nettement mieux que le modèle naif et qui pourrait nous permettre justement de se projeter avec confiance dans le futur et donc de fait de prédire le prix du bitcoin.\n",
        "\n",
        "Dans le second modèle que nous allons utiliser un jeu de données historique de 1 semaine ou plus pour prédire un jour de BTC price. Donc, notre objectif est d'utiliser une semaine de données ou plus pour prédire 1 jour pour voir si en considérant cette fois un historique de données nous arriverons a performer mieux que le modèle naif et donc par conséquent mieux prédire le prix du BTC."
      ]
    },
    {
      "cell_type": "markdown",
      "id": "1d4765be",
      "metadata": {
        "id": "1d4765be"
      },
      "source": [
        "Nous allons utiliser dans le second modèle un réseau de neurones denses ou encore les Fully-Connected-Neural-Networks. Dans un tel réseau de neurones, tous les neurones sont totalement et intégralement connectés aux autres neurones des autres couches.\n",
        "\n",
        "\n",
        "Chaque neurone d'une couche est connecté à tous les neurones de la couche précédente : Cela signifie que chaque neurone de la couche cachée reçoit l'entrée de tous les neurones de la couche précédente.\n",
        "Les poids et les biais : Chaque connexion entre les neurones a un poids qui modifie l'information transmise d'un neurone à un autre. Chaque neurone a également un biais qui ajuste la sortie du neurone."
      ]
    },
    {
      "cell_type": "markdown",
      "id": "b716517b",
      "metadata": {
        "id": "b716517b"
      },
      "source": [
        "# Modèle 1 : Window = 7, Horizon = 1\n",
        "\n",
        "Avant de se lancer immédiatement dans la modélisation par un réseau de neurones de notre jeu de données du BTC, il est important de faire des étapes de préprocessing complets et robustes qui nous faciliterons la tache dans le futur. Il sera important et crucial de répondre a des problématiques fondamentales qui caractérisent nos données.\n",
        "\n",
        "Le type de solutions que l'on propose : Nous voulons prédire un nombre avons nous dit précedemment. Il s'agit donc d'un problème de régression, donc d'un problème de machine learning supervisé. Or, dans un problème de régression, nous avons une matrice X qui représente l'ensemble des observations et une matrice y qui représente les labels ou résulats afférents aux observations des individus qui représentent chaque ligne de la matrice X.\n",
        "\n",
        "Comment alors transformer/pré-processer nos données de telle sorte que ces dernières soient compatibles avec un réseau de neurones ? Cette phase est appelée Fenêtrage de notre ensemble de données. C'est le processus par lequel nous allons transformer notre jeu de données séquentielles en données compatibles avec du machine learning supervisé.\n",
        "\n",
        "Le fenêtrage découpe les données en morceaux de taille fixe.\n",
        "\n",
        "Chaque fenêtre sert d'entrée au réseau de neurones.\n",
        "\n",
        "La cible est la valeur à prédire à partir de la fenêtre.\n",
        "\n",
        "C'est super utile pour les séries temporelles, les signaux, ou toute donnée séquentielle."
      ]
    },
    {
      "cell_type": "markdown",
      "id": "fc2fe747",
      "metadata": {
        "id": "fc2fe747"
      },
      "source": [
        "# Notre méthode nous assure une chose importante : nous allons pouvoir comparer ce que notre modèle de deep learning nous donne et ce qui a été observé sur le marché. Donc voir a quel point notre modèle de DL peut prédire ce qui s'est déjà réalisé sur le marché."
      ]
    },
    {
      "cell_type": "code",
      "execution_count": 24,
      "id": "2018fa64",
      "metadata": {
        "id": "2018fa64"
      },
      "outputs": [],
      "source": [
        "HORIZON = 1 # horizon de prédiction\n",
        "WINDOW = 7 # utilisation de 1 semaine de données historiques"
      ]
    },
    {
      "cell_type": "code",
      "execution_count": 25,
      "id": "47f79cf9",
      "metadata": {
        "id": "47f79cf9"
      },
      "outputs": [],
      "source": [
        "def get_labelled_windows(x,horizon=HORIZON):\n",
        "    return x[:,:-horizon], x[:,-horizon:]"
      ]
    },
    {
      "cell_type": "code",
      "execution_count": 26,
      "id": "ff4489ac",
      "metadata": {
        "colab": {
          "base_uri": "https://localhost:8080/"
        },
        "id": "ff4489ac",
        "outputId": "d89e3417-bb2b-4fe7-dddc-b0d4dad26481"
      },
      "outputs": [
        {
          "output_type": "stream",
          "name": "stdout",
          "text": [
            "Window: [1 2 3 4 5 6 7] -> Label: 8\n"
          ]
        }
      ],
      "source": [
        "test_window, test_label = get_labelled_windows(tf.expand_dims(tf.range(8)+1, axis=0), horizon=HORIZON)\n",
        "print(f\"Window: {tf.squeeze(test_window).numpy()} -> Label: {tf.squeeze(test_label).numpy()}\")"
      ]
    },
    {
      "cell_type": "markdown",
      "id": "61c614c4",
      "metadata": {
        "id": "61c614c4"
      },
      "source": [
        "Cette fonction est utilisée pour créer des fenêtres à partir d'une séquence de données (comme une série temporelle), en vue de les utiliser pour entraîner un modèle de machine learning.\n",
        "window_indexes est une matrice où chaque ligne correspond aux indices d'une fenêtre dans la séquence x.\n",
        "\n",
        "\n",
        "window_step : Crée un tableau d'indices pour une fenêtre.\n",
        "\n",
        "window_indexes : Génère les indices pour toutes les fenêtres possibles.\n",
        "\n",
        "windowed_array : Extrait les valeurs de x correspondant à chaque fenêtre.\n",
        "\n",
        "get_labelled_windows : Sépare les fenêtres en entrées (windows) et étiquettes (labels).\n",
        "\n",
        "Retourne les fenêtres et les étiquettes."
      ]
    },
    {
      "cell_type": "code",
      "execution_count": 27,
      "id": "38393adc",
      "metadata": {
        "id": "38393adc"
      },
      "outputs": [],
      "source": [
        "def make_windows(x, window_size= WINDOW,horizon=HORIZON):\n",
        "    window_step=np.expand_dims(np.arange(window_size+horizon),axis=0)#np.expand_dims est une fonction qui ajoute une nouvelle dimension à un tableau NumPy\n",
        "\n",
        "    window_indexes=window_step + np.expand_dims(np.arange(len(x)-(window_size+ horizon -1)),axis=0).T\n",
        "\n",
        "    windowed_array=x[window_indexes]\n",
        "\n",
        "    windows,labels=get_labelled_windows(windowed_array,horizon=horizon)\n",
        "    return windows, labels\n",
        "\n"
      ]
    },
    {
      "cell_type": "code",
      "execution_count": 28,
      "id": "9e3bf313",
      "metadata": {
        "colab": {
          "base_uri": "https://localhost:8080/"
        },
        "id": "9e3bf313",
        "outputId": "9160c975-dda7-4fbd-8fd1-43a81a92de56"
      },
      "outputs": [
        {
          "output_type": "execute_result",
          "data": {
            "text/plain": [
              "(1450, 1450)"
            ]
          },
          "metadata": {},
          "execution_count": 28
        }
      ],
      "source": [
        "full_windows, full_labels=make_windows(prices, window_size=WINDOW,horizon=HORIZON)\n",
        "len(full_windows), len(full_labels)"
      ]
    },
    {
      "cell_type": "markdown",
      "id": "d345d975",
      "metadata": {
        "id": "d345d975"
      },
      "source": [
        "A cette étape, full_windows et full_labels contiennent les données nécessaires a notre problème. full_windows représente la matrice X et chaque ligne représente 1 semaine de données historique et les full_labels représentent la matrice y et correspondent aux prix observés de 8ième jour correspondant."
      ]
    },
    {
      "cell_type": "code",
      "execution_count": 29,
      "id": "d64448f2",
      "metadata": {
        "colab": {
          "base_uri": "https://localhost:8080/"
        },
        "id": "d64448f2",
        "outputId": "985368ed-6e60-4233-a659-00339bc3d024"
      },
      "outputs": [
        {
          "output_type": "execute_result",
          "data": {
            "text/plain": [
              "array([[8673.2265625 , 8294.29199219, 8423.99609375, 8170.75      ,\n",
              "        8047.23144531, 8334.06933594, 8599.19042969],\n",
              "       [8294.29199219, 8423.99609375, 8170.75      , 8047.23144531,\n",
              "        8334.06933594, 8599.19042969, 8499.88476562],\n",
              "       [8423.99609375, 8170.75      , 8047.23144531, 8334.06933594,\n",
              "        8599.19042969, 8499.88476562, 9138.78808594],\n",
              "       [8170.75      , 8047.23144531, 8334.06933594, 8599.19042969,\n",
              "        8499.88476562, 9138.78808594, 8519.59765625],\n",
              "       [8047.23144531, 8334.06933594, 8599.19042969, 8499.88476562,\n",
              "        9138.78808594, 8519.59765625, 8595.48339844],\n",
              "       [8334.06933594, 8599.19042969, 8499.88476562, 9138.78808594,\n",
              "        8519.59765625, 8595.48339844, 8642.15234375],\n",
              "       [8599.19042969, 8499.88476562, 9138.78808594, 8519.59765625,\n",
              "        8595.48339844, 8642.15234375, 8560.42382812],\n",
              "       [8499.88476562, 9138.78808594, 8519.59765625, 8595.48339844,\n",
              "        8642.15234375, 8560.42382812, 8644.08398438],\n",
              "       [9138.78808594, 8519.59765625, 8595.48339844, 8642.15234375,\n",
              "        8560.42382812, 8644.08398438, 8643.34375   ],\n",
              "       [8519.59765625, 8595.48339844, 8642.15234375, 8560.42382812,\n",
              "        8644.08398438, 8643.34375   , 8683.81738281]])"
            ]
          },
          "metadata": {},
          "execution_count": 29
        }
      ],
      "source": [
        "full_windows[100:110]"
      ]
    },
    {
      "cell_type": "code",
      "execution_count": 30,
      "id": "6ea6b1ae",
      "metadata": {
        "colab": {
          "base_uri": "https://localhost:8080/"
        },
        "id": "6ea6b1ae",
        "outputId": "590f5e1b-56c7-4650-d8a5-c6b3c6a7d768"
      },
      "outputs": [
        {
          "output_type": "execute_result",
          "data": {
            "text/plain": [
              "7"
            ]
          },
          "metadata": {},
          "execution_count": 30
        }
      ],
      "source": [
        "len(full_windows[1])"
      ]
    },
    {
      "cell_type": "code",
      "execution_count": 31,
      "id": "58e655b2",
      "metadata": {
        "colab": {
          "base_uri": "https://localhost:8080/"
        },
        "id": "58e655b2",
        "outputId": "6fa5a899-4d9f-4dab-bff5-a1d9e5b52900"
      },
      "outputs": [
        {
          "output_type": "execute_result",
          "data": {
            "text/plain": [
              "array([[8499.88476562],\n",
              "       [9138.78808594],\n",
              "       [8519.59765625],\n",
              "       [8595.48339844],\n",
              "       [8642.15234375],\n",
              "       [8560.42382812],\n",
              "       [8644.08398438],\n",
              "       [8643.34375   ],\n",
              "       [8683.81738281],\n",
              "       [8257.70898438]])"
            ]
          },
          "metadata": {},
          "execution_count": 31
        }
      ],
      "source": [
        "full_labels[100:110]"
      ]
    },
    {
      "cell_type": "code",
      "execution_count": 32,
      "id": "27303fef",
      "metadata": {
        "colab": {
          "base_uri": "https://localhost:8080/"
        },
        "id": "27303fef",
        "outputId": "5e83f440-1e03-43f0-c0ec-66ec42d8718d"
      },
      "outputs": [
        {
          "output_type": "execute_result",
          "data": {
            "text/plain": [
              "1"
            ]
          },
          "metadata": {},
          "execution_count": 32
        }
      ],
      "source": [
        "len(full_labels[1])"
      ]
    },
    {
      "cell_type": "markdown",
      "id": "011ee992",
      "metadata": {
        "id": "011ee992"
      },
      "source": [
        "A ce stade de l'exposé, nous tenons a spécifier quelque chose de crucial ! Nous avons entré en paramètre de notre fonction make_windows(), le tableau de prix du __BTC__. Le paramètre x représente dans notre fonction make_windows(), le tableau de prix du BTC converti en numpy_array car numpy est une libraire Python qui est optimisé pour les calculs et la création de tableau. Vu que le deep learning utilise des tenseurs, donc des tableaux multidimenionnels, il est important d'utiliser numpy et d'eviter d'utiliser des boucles pour optimiser le calcul."
      ]
    },
    {
      "cell_type": "code",
      "execution_count": 33,
      "id": "413b79b6",
      "metadata": {
        "colab": {
          "base_uri": "https://localhost:8080/"
        },
        "id": "413b79b6",
        "outputId": "b42af2b0-6fd6-4e46-dac1-6c072d8ef699"
      },
      "outputs": [
        {
          "output_type": "execute_result",
          "data": {
            "text/plain": [
              "(1457, 1457)"
            ]
          },
          "metadata": {},
          "execution_count": 33
        }
      ],
      "source": [
        "(len(prices),\n",
        "len(bitcoin_price))"
      ]
    },
    {
      "cell_type": "code",
      "execution_count": 34,
      "id": "88bb51dd",
      "metadata": {
        "colab": {
          "base_uri": "https://localhost:8080/"
        },
        "id": "88bb51dd",
        "outputId": "ce43b877-7329-4989-ca85-3862c16a9c68"
      },
      "outputs": [
        {
          "output_type": "stream",
          "name": "stdout",
          "text": [
            "window:[6417.78173828 6252.93847656 6581.73583984 6939.71484375 7320.77490234\n",
            " 7270.78564453 7092.74804688]-->label : [7343.36572266]\n",
            "window:[6252.93847656 6581.73583984 6939.71484375 7320.77490234 7270.78564453\n",
            " 7092.74804688 7343.36572266]-->label : [7313.74707031]\n",
            "window:[6581.73583984 6939.71484375 7320.77490234 7270.78564453 7092.74804688\n",
            " 7343.36572266 7313.74707031]-->label : [7933.51171875]\n"
          ]
        }
      ],
      "source": [
        "for i in range(3):\n",
        "    print(f\"window:{full_windows[i]}-->label : {full_labels[i]}\")"
      ]
    },
    {
      "cell_type": "markdown",
      "id": "7a74ae04",
      "metadata": {
        "id": "7a74ae04"
      },
      "source": [
        "Notre fonction marche parfaitement. Nous voyons concrètement que notre fenetre (Window) est bien de 7 et notre horizon est d'1 jour. Si par exemple, on voulait un historique données de 50 jours et un horizon de prédiction de 1 mois donc se servir des 50 derniers jours de cotation du Bitcoin pour prédire un mois entier !, il nous suffirait de passer en argument de notre fonction 50 et 30. Cela donnerait :"
      ]
    },
    {
      "cell_type": "code",
      "execution_count": 35,
      "id": "513f4663",
      "metadata": {
        "colab": {
          "base_uri": "https://localhost:8080/"
        },
        "id": "513f4663",
        "outputId": "48db1600-a4b8-4173-a029-a9d60f9e9321"
      },
      "outputs": [
        {
          "output_type": "execute_result",
          "data": {
            "text/plain": [
              "(1378, 1378)"
            ]
          },
          "metadata": {},
          "execution_count": 35
        }
      ],
      "source": [
        "window_50, horizon_30 = make_windows(prices,window_size=50,horizon=30)\n",
        "len(window_50),len(horizon_30)"
      ]
    },
    {
      "cell_type": "code",
      "execution_count": 36,
      "id": "44dcdbd0",
      "metadata": {
        "colab": {
          "base_uri": "https://localhost:8080/"
        },
        "id": "44dcdbd0",
        "outputId": "879b0843-31db-430b-e3d1-a92797afb89c"
      },
      "outputs": [
        {
          "output_type": "execute_result",
          "data": {
            "text/plain": [
              "array([[6417.78173828, 6252.93847656, 6581.73583984, 6939.71484375,\n",
              "        7320.77490234, 7270.78564453, 7092.74804688, 7343.36572266,\n",
              "        7313.74707031, 7933.51171875, 7896.18945312, 7833.05224609,\n",
              "        8051.00097656, 7802.23339844, 7889.40917969, 7823.07519531,\n",
              "        7604.29882812, 7660.26220703, 8085.50048828, 8490.75      ,\n",
              "        8458.93164062, 8621.29101562, 8427.62304688, 8400.93457031,\n",
              "        8311.94824219, 8739.87207031, 8860.47363281, 8949.75097656,\n",
              "        9034.05761719, 9349.3046875 , 9495.31347656, 9421.15136719,\n",
              "        9521.36230469, 8941.85058594, 9395.3125    , 8911.50878906,\n",
              "        8906.88378906, 8930.47265625, 8895.31835938, 8586.52148438,\n",
              "        8103.85498047, 7986.99365234, 7864.46875   , 7959.35839844,\n",
              "        7862.48535156, 7861.05517578, 8089.78613281, 8082.73974609,\n",
              "        6952.20605469, 6989.2109375 ]])"
            ]
          },
          "metadata": {},
          "execution_count": 36
        }
      ],
      "source": [
        "window_50[:1]"
      ]
    },
    {
      "cell_type": "markdown",
      "id": "749835aa",
      "metadata": {
        "id": "749835aa"
      },
      "source": [
        "Puisque nous travaillons avec des modèles de machine learning, une étape cruciale est donc de séparer nos données en données d'entrainement et en données de test. Cette étape permet de pouvoir quantifier la performance de notre modèle. Mais attention ! Vu que nous travaillons avec des données séquentielles, utiliser la fonction habituelle de train_test_split en Python s'avère fallacieux. En effet, bien que nous ayons représenté sous forme de matrice X et y la série temporelle des données, nous devons garder en tete que nous travaillons avec des données séquentielles et donc par conséquent les subdiviser de manière temporelle en deux jeux de données :\n",
        "\n",
        "Un jeu de données d'entrainement : qui va représenter notre historique sur lequel va s'entrainer notre modèle\n",
        "\n",
        "Une jeu de données de test qui représente le pseudo-futur avec lequel on va comparer le futur donné par notre modèle ( ce a quoi va ressembler le Bitcoin dans le futur selon le modèle ) et le pseudo-futur ( ce qui s'est vraiment réalisé sur les marchés ) du jeu de test.\n",
        "\n",
        "L'idée est simple. On se place dans un environnement comme si on a une matrice X et des labels y. Vu que ces matrices sont le résultats d'une série temporelle donc de données séquentielles, nous devons créer une fonction de splitting des données de telle sorte a conserver l'ordre chronologique du temps ! Tout comme un modèle de machine learning ordinaire, mais sauf que ici on split les données de manière séquentielle sur base de la matrice X et y."
      ]
    },
    {
      "cell_type": "code",
      "execution_count": 37,
      "id": "ddea6a80",
      "metadata": {
        "id": "ddea6a80"
      },
      "outputs": [],
      "source": [
        "def make_train_test_split(windows,labels,test_split=0.2):\n",
        "\n",
        "    split_size=int(len(windows)*(1-test_split))\n",
        "    train_windows=windows[:split_size]\n",
        "    train_labels=labels[:split_size]\n",
        "\n",
        "    test_windows=windows[split_size:]\n",
        "    test_labels=labels[split_size:]\n",
        "    return train_windows,test_windows,train_labels,test_labels"
      ]
    },
    {
      "cell_type": "code",
      "execution_count": 273,
      "id": "0b2596cb",
      "metadata": {
        "colab": {
          "base_uri": "https://localhost:8080/"
        },
        "id": "0b2596cb",
        "outputId": "65410b4f-539c-4e8f-b421-686371a52b79"
      },
      "outputs": [
        {
          "output_type": "execute_result",
          "data": {
            "text/plain": [
              "(1160, 290, 1160, 290)"
            ]
          },
          "metadata": {},
          "execution_count": 273
        }
      ],
      "source": [
        "train_windows, test_windows, train_labels,test_labels=make_train_test_split(full_windows,full_labels)\n",
        "len(train_windows), len(test_windows),len(train_labels), len(test_labels)"
      ]
    },
    {
      "cell_type": "markdown",
      "id": "bc282898",
      "metadata": {
        "id": "bc282898"
      },
      "source": [
        "Notre fonction prend en entrée les matrices X (full_windows) et y (full_labels), elles memes obtenues via une fonction sur notre série temporelle de prix."
      ]
    },
    {
      "cell_type": "markdown",
      "id": "1122d4fd",
      "metadata": {
        "id": "1122d4fd"
      },
      "source": [
        "Il est temps de passer a la modélisation de nos données par un réseau de neurones. Mais avant cela, il est important de vérifier une dernière chose indispensable a notre modélisation et dans l'étape de pré-processing."
      ]
    },
    {
      "cell_type": "markdown",
      "id": "a1ed278c",
      "metadata": {
        "id": "a1ed278c"
      },
      "source": [
        "# Tracking des checkpoints de notre modèle de Deep Learning\n",
        "\n",
        "Comme les performances de notre modèle fluctueront d'une expérience à l'autre, nous voudrons nous assurer que nous comparons des pommes avec des pommes.\n",
        "\n",
        "Ce que nous voulons dire par là, c'est que pour une comparaison équitable, nous voulons comparer les meilleures performances de chaque modèle que l'on cosntruira entre elles.\n",
        "\n",
        "Par exemple, si le modèle_1 a très bien performé à l'itération 55 mais que ses performances ont diminué vers l'itération 100, nous voulons que la version du modèle de l'itération 55 soit comparée à d'autres modèles plutôt que la version du modèle de l'itération 100.\n",
        "\n",
        "Et la même chose s'applique à chacun de nos autres modèles : comparer les meilleurs contre les meilleurs.\n",
        "\n",
        "Pour cela, nous allons mettre en place un rappel (callback) ModelCheckpoint en Tensorflow.\n",
        "\n",
        "Le callback ModelCheckpoint surveillera les performances de notre modèle pendant l'entraînement et sauvegardera le meilleur modèle dans un fichier en définissant le paramètre save_best_only=True.\n",
        "\n",
        "Ainsi, lors de l'évaluation de notre modèle, nous pourrons restaurer sa configuration de meilleure performance à partir du fichier.\n",
        "\n",
        "Comme nous allons exécuter plusieurs expériences, il est judicieux de les suivre en enregistrant les modèles dans des fichiers sous des noms différents.\n",
        "\n",
        "Pour cela, nous allons écrire une petite fonction pour créer un callback ModelCheckpoint qui enregistre un modèle dans un fichier spécifié par son nom de fichier."
      ]
    },
    {
      "cell_type": "code",
      "execution_count": 274,
      "id": "ad2cb92c",
      "metadata": {
        "id": "ad2cb92c"
      },
      "outputs": [],
      "source": [
        "import os\n",
        "import tensorflow as tf\n",
        "\n",
        "def create_model_checkpoint(model_name, save_path='model_experiments'):\n",
        "    # Vérifie si le dossier existe, sinon le crée\n",
        "    if not os.path.exists(save_path):\n",
        "        os.makedirs(save_path)\n",
        "    # Ajoute l'extension .keras à la sauvegarde du modèle\n",
        "    return tf.keras.callbacks.ModelCheckpoint(\n",
        "        filepath=os.path.join(save_path, model_name + \".keras\"),  # Ajouter \".keras\"\n",
        "        verbose=0,\n",
        "        save_best_only=True\n",
        "    )"
      ]
    },
    {
      "cell_type": "markdown",
      "id": "b3caa9ec",
      "metadata": {
        "id": "b3caa9ec"
      },
      "source": [
        "# Model 1 : Réseaux de neurones Dense ( window=7, horizon=1 )"
      ]
    },
    {
      "cell_type": "markdown",
      "id": "5d286848",
      "metadata": {
        "id": "5d286848"
      },
      "source": [
        "Voici les caractéristiques de notre premier modèle de DL:\n",
        "\n",
        "Une seule couche dense avec 128 unités cachées et une activation ReLU (Rectified Linear Unit).\n",
        "Une couche de sortie avec une activation linéaire (ou sans activation).\n",
        "L'optimiseur Adam et la fonction de perte MAE (erreur absolue moyenne).\n",
        "Taille de lot (batch size) de 128.\n",
        "100 epochs"
      ]
    },
    {
      "cell_type": "code",
      "execution_count": 275,
      "id": "ed118b62",
      "metadata": {
        "colab": {
          "base_uri": "https://localhost:8080/"
        },
        "id": "ed118b62",
        "outputId": "9f891e34-7eaf-4447-b445-f17ba00eac34"
      },
      "outputs": [
        {
          "output_type": "stream",
          "name": "stdout",
          "text": [
            "Epoch 1/100\n",
            "\u001b[1m10/10\u001b[0m \u001b[32m━━━━━━━━━━━━━━━━━━━━\u001b[0m\u001b[37m\u001b[0m \u001b[1m2s\u001b[0m 30ms/step - loss: 11124.2500 - mae: 11124.2500 - val_loss: 7991.8179 - val_mae: 7991.8179\n",
            "Epoch 2/100\n",
            "\u001b[1m10/10\u001b[0m \u001b[32m━━━━━━━━━━━━━━━━━━━━\u001b[0m\u001b[37m\u001b[0m \u001b[1m0s\u001b[0m 12ms/step - loss: 3225.6487 - mae: 3225.6487 - val_loss: 4174.6240 - val_mae: 4174.6240\n",
            "Epoch 3/100\n",
            "\u001b[1m10/10\u001b[0m \u001b[32m━━━━━━━━━━━━━━━━━━━━\u001b[0m\u001b[37m\u001b[0m \u001b[1m0s\u001b[0m 12ms/step - loss: 2103.3918 - mae: 2103.3918 - val_loss: 3559.5325 - val_mae: 3559.5325\n",
            "Epoch 4/100\n",
            "\u001b[1m10/10\u001b[0m \u001b[32m━━━━━━━━━━━━━━━━━━━━\u001b[0m\u001b[37m\u001b[0m \u001b[1m0s\u001b[0m 11ms/step - loss: 1665.4971 - mae: 1665.4971 - val_loss: 3762.3323 - val_mae: 3762.3323\n",
            "Epoch 5/100\n",
            "\u001b[1m10/10\u001b[0m \u001b[32m━━━━━━━━━━━━━━━━━━━━\u001b[0m\u001b[37m\u001b[0m \u001b[1m0s\u001b[0m 12ms/step - loss: 1569.0408 - mae: 1569.0408 - val_loss: 3232.1240 - val_mae: 3232.1240\n",
            "Epoch 6/100\n",
            "\u001b[1m10/10\u001b[0m \u001b[32m━━━━━━━━━━━━━━━━━━━━\u001b[0m\u001b[37m\u001b[0m \u001b[1m0s\u001b[0m 13ms/step - loss: 1425.5936 - mae: 1425.5936 - val_loss: 2699.1431 - val_mae: 2699.1431\n",
            "Epoch 7/100\n",
            "\u001b[1m10/10\u001b[0m \u001b[32m━━━━━━━━━━━━━━━━━━━━\u001b[0m\u001b[37m\u001b[0m \u001b[1m0s\u001b[0m 12ms/step - loss: 1325.4183 - mae: 1325.4183 - val_loss: 2631.7476 - val_mae: 2631.7476\n",
            "Epoch 8/100\n",
            "\u001b[1m10/10\u001b[0m \u001b[32m━━━━━━━━━━━━━━━━━━━━\u001b[0m\u001b[37m\u001b[0m \u001b[1m0s\u001b[0m 12ms/step - loss: 1280.5304 - mae: 1280.5304 - val_loss: 2438.4805 - val_mae: 2438.4805\n",
            "Epoch 9/100\n",
            "\u001b[1m10/10\u001b[0m \u001b[32m━━━━━━━━━━━━━━━━━━━━\u001b[0m\u001b[37m\u001b[0m \u001b[1m0s\u001b[0m 12ms/step - loss: 1218.8965 - mae: 1218.8965 - val_loss: 2390.9824 - val_mae: 2390.9824\n",
            "Epoch 10/100\n",
            "\u001b[1m10/10\u001b[0m \u001b[32m━━━━━━━━━━━━━━━━━━━━\u001b[0m\u001b[37m\u001b[0m \u001b[1m0s\u001b[0m 12ms/step - loss: 1160.8469 - mae: 1160.8469 - val_loss: 2269.5083 - val_mae: 2269.5083\n",
            "Epoch 11/100\n",
            "\u001b[1m10/10\u001b[0m \u001b[32m━━━━━━━━━━━━━━━━━━━━\u001b[0m\u001b[37m\u001b[0m \u001b[1m0s\u001b[0m 12ms/step - loss: 1127.0338 - mae: 1127.0338 - val_loss: 2224.9143 - val_mae: 2224.9143\n",
            "Epoch 12/100\n",
            "\u001b[1m10/10\u001b[0m \u001b[32m━━━━━━━━━━━━━━━━━━━━\u001b[0m\u001b[37m\u001b[0m \u001b[1m0s\u001b[0m 12ms/step - loss: 1111.1503 - mae: 1111.1503 - val_loss: 2194.4568 - val_mae: 2194.4568\n",
            "Epoch 13/100\n",
            "\u001b[1m10/10\u001b[0m \u001b[32m━━━━━━━━━━━━━━━━━━━━\u001b[0m\u001b[37m\u001b[0m \u001b[1m0s\u001b[0m 12ms/step - loss: 1091.3275 - mae: 1091.3275 - val_loss: 2163.2969 - val_mae: 2163.2969\n",
            "Epoch 14/100\n",
            "\u001b[1m10/10\u001b[0m \u001b[32m━━━━━━━━━━━━━━━━━━━━\u001b[0m\u001b[37m\u001b[0m \u001b[1m0s\u001b[0m 12ms/step - loss: 1074.5359 - mae: 1074.5359 - val_loss: 2140.7344 - val_mae: 2140.7344\n",
            "Epoch 15/100\n",
            "\u001b[1m10/10\u001b[0m \u001b[32m━━━━━━━━━━━━━━━━━━━━\u001b[0m\u001b[37m\u001b[0m \u001b[1m0s\u001b[0m 12ms/step - loss: 1057.0741 - mae: 1057.0741 - val_loss: 2129.3906 - val_mae: 2129.3906\n",
            "Epoch 16/100\n",
            "\u001b[1m10/10\u001b[0m \u001b[32m━━━━━━━━━━━━━━━━━━━━\u001b[0m\u001b[37m\u001b[0m \u001b[1m0s\u001b[0m 12ms/step - loss: 1042.6833 - mae: 1042.6833 - val_loss: 2088.0803 - val_mae: 2088.0803\n",
            "Epoch 17/100\n",
            "\u001b[1m10/10\u001b[0m \u001b[32m━━━━━━━━━━━━━━━━━━━━\u001b[0m\u001b[37m\u001b[0m \u001b[1m0s\u001b[0m 12ms/step - loss: 1025.2327 - mae: 1025.2327 - val_loss: 2035.7692 - val_mae: 2035.7692\n",
            "Epoch 18/100\n",
            "\u001b[1m10/10\u001b[0m \u001b[32m━━━━━━━━━━━━━━━━━━━━\u001b[0m\u001b[37m\u001b[0m \u001b[1m0s\u001b[0m 13ms/step - loss: 1005.1745 - mae: 1005.1745 - val_loss: 2013.2297 - val_mae: 2013.2297\n",
            "Epoch 19/100\n",
            "\u001b[1m10/10\u001b[0m \u001b[32m━━━━━━━━━━━━━━━━━━━━\u001b[0m\u001b[37m\u001b[0m \u001b[1m0s\u001b[0m 9ms/step - loss: 992.4537 - mae: 992.4537 - val_loss: 2048.9468 - val_mae: 2048.9468\n",
            "Epoch 20/100\n",
            "\u001b[1m10/10\u001b[0m \u001b[32m━━━━━━━━━━━━━━━━━━━━\u001b[0m\u001b[37m\u001b[0m \u001b[1m0s\u001b[0m 9ms/step - loss: 986.1107 - mae: 986.1107 - val_loss: 2039.8933 - val_mae: 2039.8933\n",
            "Epoch 21/100\n",
            "\u001b[1m10/10\u001b[0m \u001b[32m━━━━━━━━━━━━━━━━━━━━\u001b[0m\u001b[37m\u001b[0m \u001b[1m0s\u001b[0m 12ms/step - loss: 957.1327 - mae: 957.1327 - val_loss: 2012.9276 - val_mae: 2012.9276\n",
            "Epoch 22/100\n",
            "\u001b[1m10/10\u001b[0m \u001b[32m━━━━━━━━━━━━━━━━━━━━\u001b[0m\u001b[37m\u001b[0m \u001b[1m0s\u001b[0m 10ms/step - loss: 939.2828 - mae: 939.2828 - val_loss: 2027.8198 - val_mae: 2027.8198\n",
            "Epoch 23/100\n",
            "\u001b[1m10/10\u001b[0m \u001b[32m━━━━━━━━━━━━━━━━━━━━\u001b[0m\u001b[37m\u001b[0m \u001b[1m0s\u001b[0m 10ms/step - loss: 930.3925 - mae: 930.3925 - val_loss: 2022.7781 - val_mae: 2022.7781\n",
            "Epoch 24/100\n",
            "\u001b[1m10/10\u001b[0m \u001b[32m━━━━━━━━━━━━━━━━━━━━\u001b[0m\u001b[37m\u001b[0m \u001b[1m0s\u001b[0m 12ms/step - loss: 916.2621 - mae: 916.2621 - val_loss: 1982.7039 - val_mae: 1982.7039\n",
            "Epoch 25/100\n",
            "\u001b[1m10/10\u001b[0m \u001b[32m━━━━━━━━━━━━━━━━━━━━\u001b[0m\u001b[37m\u001b[0m \u001b[1m0s\u001b[0m 12ms/step - loss: 899.2695 - mae: 899.2695 - val_loss: 1915.4200 - val_mae: 1915.4200\n",
            "Epoch 26/100\n",
            "\u001b[1m10/10\u001b[0m \u001b[32m━━━━━━━━━━━━━━━━━━━━\u001b[0m\u001b[37m\u001b[0m \u001b[1m0s\u001b[0m 12ms/step - loss: 883.4710 - mae: 883.4710 - val_loss: 1894.9280 - val_mae: 1894.9280\n",
            "Epoch 27/100\n",
            "\u001b[1m10/10\u001b[0m \u001b[32m━━━━━━━━━━━━━━━━━━━━\u001b[0m\u001b[37m\u001b[0m \u001b[1m0s\u001b[0m 10ms/step - loss: 873.5869 - mae: 873.5869 - val_loss: 1895.5547 - val_mae: 1895.5547\n",
            "Epoch 28/100\n",
            "\u001b[1m10/10\u001b[0m \u001b[32m━━━━━━━━━━━━━━━━━━━━\u001b[0m\u001b[37m\u001b[0m \u001b[1m0s\u001b[0m 21ms/step - loss: 866.4224 - mae: 866.4224 - val_loss: 1887.0768 - val_mae: 1887.0768\n",
            "Epoch 29/100\n",
            "\u001b[1m10/10\u001b[0m \u001b[32m━━━━━━━━━━━━━━━━━━━━\u001b[0m\u001b[37m\u001b[0m \u001b[1m0s\u001b[0m 18ms/step - loss: 857.9126 - mae: 857.9126 - val_loss: 1863.4299 - val_mae: 1863.4299\n",
            "Epoch 30/100\n",
            "\u001b[1m10/10\u001b[0m \u001b[32m━━━━━━━━━━━━━━━━━━━━\u001b[0m\u001b[37m\u001b[0m \u001b[1m0s\u001b[0m 18ms/step - loss: 848.9495 - mae: 848.9495 - val_loss: 1842.4536 - val_mae: 1842.4536\n",
            "Epoch 31/100\n",
            "\u001b[1m10/10\u001b[0m \u001b[32m━━━━━━━━━━━━━━━━━━━━\u001b[0m\u001b[37m\u001b[0m \u001b[1m0s\u001b[0m 14ms/step - loss: 842.1191 - mae: 842.1191 - val_loss: 1850.2968 - val_mae: 1850.2968\n",
            "Epoch 32/100\n",
            "\u001b[1m10/10\u001b[0m \u001b[32m━━━━━━━━━━━━━━━━━━━━\u001b[0m\u001b[37m\u001b[0m \u001b[1m0s\u001b[0m 21ms/step - loss: 834.4368 - mae: 834.4368 - val_loss: 1821.8843 - val_mae: 1821.8843\n",
            "Epoch 33/100\n",
            "\u001b[1m10/10\u001b[0m \u001b[32m━━━━━━━━━━━━━━━━━━━━\u001b[0m\u001b[37m\u001b[0m \u001b[1m0s\u001b[0m 14ms/step - loss: 828.5302 - mae: 828.5302 - val_loss: 1826.7140 - val_mae: 1826.7140\n",
            "Epoch 34/100\n",
            "\u001b[1m10/10\u001b[0m \u001b[32m━━━━━━━━━━━━━━━━━━━━\u001b[0m\u001b[37m\u001b[0m \u001b[1m0s\u001b[0m 20ms/step - loss: 823.8691 - mae: 823.8691 - val_loss: 1814.3075 - val_mae: 1814.3075\n",
            "Epoch 35/100\n",
            "\u001b[1m10/10\u001b[0m \u001b[32m━━━━━━━━━━━━━━━━━━━━\u001b[0m\u001b[37m\u001b[0m \u001b[1m0s\u001b[0m 12ms/step - loss: 823.4777 - mae: 823.4777 - val_loss: 1814.9651 - val_mae: 1814.9651\n",
            "Epoch 36/100\n",
            "\u001b[1m10/10\u001b[0m \u001b[32m━━━━━━━━━━━━━━━━━━━━\u001b[0m\u001b[37m\u001b[0m \u001b[1m0s\u001b[0m 9ms/step - loss: 815.1746 - mae: 815.1746 - val_loss: 1827.9299 - val_mae: 1827.9299\n",
            "Epoch 37/100\n",
            "\u001b[1m10/10\u001b[0m \u001b[32m━━━━━━━━━━━━━━━━━━━━\u001b[0m\u001b[37m\u001b[0m \u001b[1m0s\u001b[0m 9ms/step - loss: 813.4189 - mae: 813.4189 - val_loss: 1829.6548 - val_mae: 1829.6548\n",
            "Epoch 38/100\n",
            "\u001b[1m10/10\u001b[0m \u001b[32m━━━━━━━━━━━━━━━━━━━━\u001b[0m\u001b[37m\u001b[0m \u001b[1m0s\u001b[0m 13ms/step - loss: 814.7075 - mae: 814.7075 - val_loss: 1796.1576 - val_mae: 1796.1576\n",
            "Epoch 39/100\n",
            "\u001b[1m10/10\u001b[0m \u001b[32m━━━━━━━━━━━━━━━━━━━━\u001b[0m\u001b[37m\u001b[0m \u001b[1m0s\u001b[0m 14ms/step - loss: 811.6849 - mae: 811.6849 - val_loss: 1793.2643 - val_mae: 1793.2643\n",
            "Epoch 40/100\n",
            "\u001b[1m10/10\u001b[0m \u001b[32m━━━━━━━━━━━━━━━━━━━━\u001b[0m\u001b[37m\u001b[0m \u001b[1m0s\u001b[0m 10ms/step - loss: 817.4068 - mae: 817.4068 - val_loss: 1825.9724 - val_mae: 1825.9724\n",
            "Epoch 41/100\n",
            "\u001b[1m10/10\u001b[0m \u001b[32m━━━━━━━━━━━━━━━━━━━━\u001b[0m\u001b[37m\u001b[0m \u001b[1m0s\u001b[0m 10ms/step - loss: 803.2849 - mae: 803.2849 - val_loss: 1887.3416 - val_mae: 1887.3416\n",
            "Epoch 42/100\n",
            "\u001b[1m10/10\u001b[0m \u001b[32m━━━━━━━━━━━━━━━━━━━━\u001b[0m\u001b[37m\u001b[0m \u001b[1m0s\u001b[0m 10ms/step - loss: 812.3235 - mae: 812.3235 - val_loss: 1796.9886 - val_mae: 1796.9886\n",
            "Epoch 43/100\n",
            "\u001b[1m10/10\u001b[0m \u001b[32m━━━━━━━━━━━━━━━━━━━━\u001b[0m\u001b[37m\u001b[0m \u001b[1m0s\u001b[0m 12ms/step - loss: 810.0710 - mae: 810.0710 - val_loss: 1786.6669 - val_mae: 1786.6669\n",
            "Epoch 44/100\n",
            "\u001b[1m10/10\u001b[0m \u001b[32m━━━━━━━━━━━━━━━━━━━━\u001b[0m\u001b[37m\u001b[0m \u001b[1m0s\u001b[0m 9ms/step - loss: 806.0696 - mae: 806.0696 - val_loss: 1829.4677 - val_mae: 1829.4677\n",
            "Epoch 45/100\n",
            "\u001b[1m10/10\u001b[0m \u001b[32m━━━━━━━━━━━━━━━━━━━━\u001b[0m\u001b[37m\u001b[0m \u001b[1m0s\u001b[0m 12ms/step - loss: 801.2878 - mae: 801.2878 - val_loss: 1785.3580 - val_mae: 1785.3580\n",
            "Epoch 46/100\n",
            "\u001b[1m10/10\u001b[0m \u001b[32m━━━━━━━━━━━━━━━━━━━━\u001b[0m\u001b[37m\u001b[0m \u001b[1m0s\u001b[0m 11ms/step - loss: 803.2224 - mae: 803.2224 - val_loss: 1784.4729 - val_mae: 1784.4729\n",
            "Epoch 47/100\n",
            "\u001b[1m10/10\u001b[0m \u001b[32m━━━━━━━━━━━━━━━━━━━━\u001b[0m\u001b[37m\u001b[0m \u001b[1m0s\u001b[0m 13ms/step - loss: 796.8246 - mae: 796.8246 - val_loss: 1784.2061 - val_mae: 1784.2061\n",
            "Epoch 48/100\n",
            "\u001b[1m10/10\u001b[0m \u001b[32m━━━━━━━━━━━━━━━━━━━━\u001b[0m\u001b[37m\u001b[0m \u001b[1m0s\u001b[0m 10ms/step - loss: 795.8994 - mae: 795.8994 - val_loss: 1784.3894 - val_mae: 1784.3894\n",
            "Epoch 49/100\n",
            "\u001b[1m10/10\u001b[0m \u001b[32m━━━━━━━━━━━━━━━━━━━━\u001b[0m\u001b[37m\u001b[0m \u001b[1m0s\u001b[0m 12ms/step - loss: 794.3901 - mae: 794.3901 - val_loss: 1783.5355 - val_mae: 1783.5355\n",
            "Epoch 50/100\n",
            "\u001b[1m10/10\u001b[0m \u001b[32m━━━━━━━━━━━━━━━━━━━━\u001b[0m\u001b[37m\u001b[0m \u001b[1m0s\u001b[0m 12ms/step - loss: 794.6766 - mae: 794.6766 - val_loss: 1781.8352 - val_mae: 1781.8352\n",
            "Epoch 51/100\n",
            "\u001b[1m10/10\u001b[0m \u001b[32m━━━━━━━━━━━━━━━━━━━━\u001b[0m\u001b[37m\u001b[0m \u001b[1m0s\u001b[0m 9ms/step - loss: 793.0220 - mae: 793.0220 - val_loss: 1798.8104 - val_mae: 1798.8104\n",
            "Epoch 52/100\n",
            "\u001b[1m10/10\u001b[0m \u001b[32m━━━━━━━━━━━━━━━━━━━━\u001b[0m\u001b[37m\u001b[0m \u001b[1m0s\u001b[0m 9ms/step - loss: 790.0665 - mae: 790.0665 - val_loss: 1783.9186 - val_mae: 1783.9186\n",
            "Epoch 53/100\n",
            "\u001b[1m10/10\u001b[0m \u001b[32m━━━━━━━━━━━━━━━━━━━━\u001b[0m\u001b[37m\u001b[0m \u001b[1m0s\u001b[0m 12ms/step - loss: 792.0868 - mae: 792.0868 - val_loss: 1778.7266 - val_mae: 1778.7266\n",
            "Epoch 54/100\n",
            "\u001b[1m10/10\u001b[0m \u001b[32m━━━━━━━━━━━━━━━━━━━━\u001b[0m\u001b[37m\u001b[0m \u001b[1m0s\u001b[0m 9ms/step - loss: 792.1485 - mae: 792.1485 - val_loss: 1779.0802 - val_mae: 1779.0802\n",
            "Epoch 55/100\n",
            "\u001b[1m10/10\u001b[0m \u001b[32m━━━━━━━━━━━━━━━━━━━━\u001b[0m\u001b[37m\u001b[0m \u001b[1m0s\u001b[0m 12ms/step - loss: 788.8154 - mae: 788.8154 - val_loss: 1782.2303 - val_mae: 1782.2303\n",
            "Epoch 56/100\n",
            "\u001b[1m10/10\u001b[0m \u001b[32m━━━━━━━━━━━━━━━━━━━━\u001b[0m\u001b[37m\u001b[0m \u001b[1m0s\u001b[0m 12ms/step - loss: 789.6497 - mae: 789.6497 - val_loss: 1777.5712 - val_mae: 1777.5712\n",
            "Epoch 57/100\n",
            "\u001b[1m10/10\u001b[0m \u001b[32m━━━━━━━━━━━━━━━━━━━━\u001b[0m\u001b[37m\u001b[0m \u001b[1m0s\u001b[0m 10ms/step - loss: 790.8824 - mae: 790.8824 - val_loss: 1780.3610 - val_mae: 1780.3610\n",
            "Epoch 58/100\n",
            "\u001b[1m10/10\u001b[0m \u001b[32m━━━━━━━━━━━━━━━━━━━━\u001b[0m\u001b[37m\u001b[0m \u001b[1m0s\u001b[0m 12ms/step - loss: 788.5436 - mae: 788.5436 - val_loss: 1775.6603 - val_mae: 1775.6603\n",
            "Epoch 59/100\n",
            "\u001b[1m10/10\u001b[0m \u001b[32m━━━━━━━━━━━━━━━━━━━━\u001b[0m\u001b[37m\u001b[0m \u001b[1m0s\u001b[0m 12ms/step - loss: 792.7017 - mae: 792.7017 - val_loss: 1774.6281 - val_mae: 1774.6281\n",
            "Epoch 60/100\n",
            "\u001b[1m10/10\u001b[0m \u001b[32m━━━━━━━━━━━━━━━━━━━━\u001b[0m\u001b[37m\u001b[0m \u001b[1m0s\u001b[0m 10ms/step - loss: 787.9731 - mae: 787.9731 - val_loss: 1778.2421 - val_mae: 1778.2421\n",
            "Epoch 61/100\n",
            "\u001b[1m10/10\u001b[0m \u001b[32m━━━━━━━━━━━━━━━━━━━━\u001b[0m\u001b[37m\u001b[0m \u001b[1m0s\u001b[0m 9ms/step - loss: 785.6998 - mae: 785.6998 - val_loss: 1777.4867 - val_mae: 1777.4867\n",
            "Epoch 62/100\n",
            "\u001b[1m10/10\u001b[0m \u001b[32m━━━━━━━━━━━━━━━━━━━━\u001b[0m\u001b[37m\u001b[0m \u001b[1m0s\u001b[0m 10ms/step - loss: 786.0035 - mae: 786.0035 - val_loss: 1776.1422 - val_mae: 1776.1422\n",
            "Epoch 63/100\n",
            "\u001b[1m10/10\u001b[0m \u001b[32m━━━━━━━━━━━━━━━━━━━━\u001b[0m\u001b[37m\u001b[0m \u001b[1m0s\u001b[0m 12ms/step - loss: 787.3484 - mae: 787.3484 - val_loss: 1773.2944 - val_mae: 1773.2944\n",
            "Epoch 64/100\n",
            "\u001b[1m10/10\u001b[0m \u001b[32m━━━━━━━━━━━━━━━━━━━━\u001b[0m\u001b[37m\u001b[0m \u001b[1m0s\u001b[0m 10ms/step - loss: 786.3135 - mae: 786.3135 - val_loss: 1778.2484 - val_mae: 1778.2484\n",
            "Epoch 65/100\n",
            "\u001b[1m10/10\u001b[0m \u001b[32m━━━━━━━━━━━━━━━━━━━━\u001b[0m\u001b[37m\u001b[0m \u001b[1m0s\u001b[0m 10ms/step - loss: 783.8434 - mae: 783.8434 - val_loss: 1806.9230 - val_mae: 1806.9230\n",
            "Epoch 66/100\n",
            "\u001b[1m10/10\u001b[0m \u001b[32m━━━━━━━━━━━━━━━━━━━━\u001b[0m\u001b[37m\u001b[0m \u001b[1m0s\u001b[0m 13ms/step - loss: 793.1529 - mae: 793.1529 - val_loss: 1805.4376 - val_mae: 1805.4376\n",
            "Epoch 67/100\n",
            "\u001b[1m10/10\u001b[0m \u001b[32m━━━━━━━━━━━━━━━━━━━━\u001b[0m\u001b[37m\u001b[0m \u001b[1m0s\u001b[0m 9ms/step - loss: 793.6131 - mae: 793.6131 - val_loss: 1798.9664 - val_mae: 1798.9664\n",
            "Epoch 68/100\n",
            "\u001b[1m10/10\u001b[0m \u001b[32m━━━━━━━━━━━━━━━━━━━━\u001b[0m\u001b[37m\u001b[0m \u001b[1m0s\u001b[0m 12ms/step - loss: 792.4743 - mae: 792.4743 - val_loss: 1771.0361 - val_mae: 1771.0361\n",
            "Epoch 69/100\n",
            "\u001b[1m10/10\u001b[0m \u001b[32m━━━━━━━━━━━━━━━━━━━━\u001b[0m\u001b[37m\u001b[0m \u001b[1m0s\u001b[0m 9ms/step - loss: 784.9808 - mae: 784.9808 - val_loss: 1873.4133 - val_mae: 1873.4133\n",
            "Epoch 70/100\n",
            "\u001b[1m10/10\u001b[0m \u001b[32m━━━━━━━━━━━━━━━━━━━━\u001b[0m\u001b[37m\u001b[0m \u001b[1m0s\u001b[0m 14ms/step - loss: 805.7653 - mae: 805.7653 - val_loss: 1986.5431 - val_mae: 1986.5431\n",
            "Epoch 71/100\n",
            "\u001b[1m10/10\u001b[0m \u001b[32m━━━━━━━━━━━━━━━━━━━━\u001b[0m\u001b[37m\u001b[0m \u001b[1m0s\u001b[0m 9ms/step - loss: 822.9048 - mae: 822.9048 - val_loss: 1894.2202 - val_mae: 1894.2202\n",
            "Epoch 72/100\n",
            "\u001b[1m10/10\u001b[0m \u001b[32m━━━━━━━━━━━━━━━━━━━━\u001b[0m\u001b[37m\u001b[0m \u001b[1m0s\u001b[0m 9ms/step - loss: 804.6862 - mae: 804.6862 - val_loss: 1794.7095 - val_mae: 1794.7095\n",
            "Epoch 73/100\n",
            "\u001b[1m10/10\u001b[0m \u001b[32m━━━━━━━━━━━━━━━━━━━━\u001b[0m\u001b[37m\u001b[0m \u001b[1m0s\u001b[0m 12ms/step - loss: 788.5023 - mae: 788.5023 - val_loss: 1769.0496 - val_mae: 1769.0496\n",
            "Epoch 74/100\n",
            "\u001b[1m10/10\u001b[0m \u001b[32m━━━━━━━━━━━━━━━━━━━━\u001b[0m\u001b[37m\u001b[0m \u001b[1m0s\u001b[0m 11ms/step - loss: 783.0563 - mae: 783.0563 - val_loss: 1769.1427 - val_mae: 1769.1427\n",
            "Epoch 75/100\n",
            "\u001b[1m10/10\u001b[0m \u001b[32m━━━━━━━━━━━━━━━━━━━━\u001b[0m\u001b[37m\u001b[0m \u001b[1m0s\u001b[0m 13ms/step - loss: 782.8595 - mae: 782.8595 - val_loss: 1768.0281 - val_mae: 1768.0281\n",
            "Epoch 76/100\n",
            "\u001b[1m10/10\u001b[0m \u001b[32m━━━━━━━━━━━━━━━━━━━━\u001b[0m\u001b[37m\u001b[0m \u001b[1m1s\u001b[0m 49ms/step - loss: 783.7973 - mae: 783.7973 - val_loss: 1788.0942 - val_mae: 1788.0942\n",
            "Epoch 77/100\n",
            "\u001b[1m10/10\u001b[0m \u001b[32m━━━━━━━━━━━━━━━━━━━━\u001b[0m\u001b[37m\u001b[0m \u001b[1m0s\u001b[0m 9ms/step - loss: 783.3517 - mae: 783.3517 - val_loss: 1802.6318 - val_mae: 1802.6318\n",
            "Epoch 78/100\n",
            "\u001b[1m10/10\u001b[0m \u001b[32m━━━━━━━━━━━━━━━━━━━━\u001b[0m\u001b[37m\u001b[0m \u001b[1m0s\u001b[0m 13ms/step - loss: 787.0880 - mae: 787.0880 - val_loss: 1830.5422 - val_mae: 1830.5422\n",
            "Epoch 79/100\n",
            "\u001b[1m10/10\u001b[0m \u001b[32m━━━━━━━━━━━━━━━━━━━━\u001b[0m\u001b[37m\u001b[0m \u001b[1m0s\u001b[0m 10ms/step - loss: 790.7250 - mae: 790.7250 - val_loss: 1799.1442 - val_mae: 1799.1442\n",
            "Epoch 80/100\n",
            "\u001b[1m10/10\u001b[0m \u001b[32m━━━━━━━━━━━━━━━━━━━━\u001b[0m\u001b[37m\u001b[0m \u001b[1m0s\u001b[0m 10ms/step - loss: 784.1777 - mae: 784.1777 - val_loss: 1789.5011 - val_mae: 1789.5011\n",
            "Epoch 81/100\n",
            "\u001b[1m10/10\u001b[0m \u001b[32m━━━━━━━━━━━━━━━━━━━━\u001b[0m\u001b[37m\u001b[0m \u001b[1m0s\u001b[0m 10ms/step - loss: 783.5610 - mae: 783.5610 - val_loss: 1786.4203 - val_mae: 1786.4203\n",
            "Epoch 82/100\n",
            "\u001b[1m10/10\u001b[0m \u001b[32m━━━━━━━━━━━━━━━━━━━━\u001b[0m\u001b[37m\u001b[0m \u001b[1m0s\u001b[0m 10ms/step - loss: 782.9756 - mae: 782.9756 - val_loss: 1800.4728 - val_mae: 1800.4728\n",
            "Epoch 83/100\n",
            "\u001b[1m10/10\u001b[0m \u001b[32m━━━━━━━━━━━━━━━━━━━━\u001b[0m\u001b[37m\u001b[0m \u001b[1m0s\u001b[0m 9ms/step - loss: 789.7856 - mae: 789.7856 - val_loss: 1857.8438 - val_mae: 1857.8438\n",
            "Epoch 84/100\n",
            "\u001b[1m10/10\u001b[0m \u001b[32m━━━━━━━━━━━━━━━━━━━━\u001b[0m\u001b[37m\u001b[0m \u001b[1m0s\u001b[0m 10ms/step - loss: 799.2063 - mae: 799.2063 - val_loss: 1850.6881 - val_mae: 1850.6881\n",
            "Epoch 85/100\n",
            "\u001b[1m10/10\u001b[0m \u001b[32m━━━━━━━━━━━━━━━━━━━━\u001b[0m\u001b[37m\u001b[0m \u001b[1m0s\u001b[0m 9ms/step - loss: 796.1024 - mae: 796.1024 - val_loss: 1788.5535 - val_mae: 1788.5535\n",
            "Epoch 86/100\n",
            "\u001b[1m10/10\u001b[0m \u001b[32m━━━━━━━━━━━━━━━━━━━━\u001b[0m\u001b[37m\u001b[0m \u001b[1m0s\u001b[0m 12ms/step - loss: 783.1315 - mae: 783.1315 - val_loss: 1763.0005 - val_mae: 1763.0005\n",
            "Epoch 87/100\n",
            "\u001b[1m10/10\u001b[0m \u001b[32m━━━━━━━━━━━━━━━━━━━━\u001b[0m\u001b[37m\u001b[0m \u001b[1m0s\u001b[0m 14ms/step - loss: 782.1737 - mae: 782.1737 - val_loss: 1778.1860 - val_mae: 1778.1860\n",
            "Epoch 88/100\n",
            "\u001b[1m10/10\u001b[0m \u001b[32m━━━━━━━━━━━━━━━━━━━━\u001b[0m\u001b[37m\u001b[0m \u001b[1m0s\u001b[0m 10ms/step - loss: 783.8679 - mae: 783.8679 - val_loss: 1868.1602 - val_mae: 1868.1602\n",
            "Epoch 89/100\n",
            "\u001b[1m10/10\u001b[0m \u001b[32m━━━━━━━━━━━━━━━━━━━━\u001b[0m\u001b[37m\u001b[0m \u001b[1m0s\u001b[0m 9ms/step - loss: 806.4930 - mae: 806.4930 - val_loss: 1864.2000 - val_mae: 1864.2000\n",
            "Epoch 90/100\n",
            "\u001b[1m10/10\u001b[0m \u001b[32m━━━━━━━━━━━━━━━━━━━━\u001b[0m\u001b[37m\u001b[0m \u001b[1m0s\u001b[0m 9ms/step - loss: 798.0788 - mae: 798.0788 - val_loss: 1812.7306 - val_mae: 1812.7306\n",
            "Epoch 91/100\n",
            "\u001b[1m10/10\u001b[0m \u001b[32m━━━━━━━━━━━━━━━━━━━━\u001b[0m\u001b[37m\u001b[0m \u001b[1m0s\u001b[0m 14ms/step - loss: 788.5657 - mae: 788.5657 - val_loss: 1781.9730 - val_mae: 1781.9730\n",
            "Epoch 92/100\n",
            "\u001b[1m10/10\u001b[0m \u001b[32m━━━━━━━━━━━━━━━━━━━━\u001b[0m\u001b[37m\u001b[0m \u001b[1m0s\u001b[0m 9ms/step - loss: 782.3622 - mae: 782.3622 - val_loss: 1766.2877 - val_mae: 1766.2877\n",
            "Epoch 93/100\n",
            "\u001b[1m10/10\u001b[0m \u001b[32m━━━━━━━━━━━━━━━━━━━━\u001b[0m\u001b[37m\u001b[0m \u001b[1m0s\u001b[0m 9ms/step - loss: 783.7795 - mae: 783.7795 - val_loss: 1832.0355 - val_mae: 1832.0355\n",
            "Epoch 94/100\n",
            "\u001b[1m10/10\u001b[0m \u001b[32m━━━━━━━━━━━━━━━━━━━━\u001b[0m\u001b[37m\u001b[0m \u001b[1m0s\u001b[0m 10ms/step - loss: 796.7216 - mae: 796.7216 - val_loss: 1776.4004 - val_mae: 1776.4004\n",
            "Epoch 95/100\n",
            "\u001b[1m10/10\u001b[0m \u001b[32m━━━━━━━━━━━━━━━━━━━━\u001b[0m\u001b[37m\u001b[0m \u001b[1m0s\u001b[0m 13ms/step - loss: 788.6977 - mae: 788.6977 - val_loss: 1761.9146 - val_mae: 1761.9146\n",
            "Epoch 96/100\n",
            "\u001b[1m10/10\u001b[0m \u001b[32m━━━━━━━━━━━━━━━━━━━━\u001b[0m\u001b[37m\u001b[0m \u001b[1m0s\u001b[0m 12ms/step - loss: 781.2764 - mae: 781.2764 - val_loss: 1759.1866 - val_mae: 1759.1866\n",
            "Epoch 97/100\n",
            "\u001b[1m10/10\u001b[0m \u001b[32m━━━━━━━━━━━━━━━━━━━━\u001b[0m\u001b[37m\u001b[0m \u001b[1m0s\u001b[0m 12ms/step - loss: 781.2076 - mae: 781.2076 - val_loss: 1757.3250 - val_mae: 1757.3250\n",
            "Epoch 98/100\n",
            "\u001b[1m10/10\u001b[0m \u001b[32m━━━━━━━━━━━━━━━━━━━━\u001b[0m\u001b[37m\u001b[0m \u001b[1m0s\u001b[0m 10ms/step - loss: 780.8663 - mae: 780.8663 - val_loss: 1770.8706 - val_mae: 1770.8706\n",
            "Epoch 99/100\n",
            "\u001b[1m10/10\u001b[0m \u001b[32m━━━━━━━━━━━━━━━━━━━━\u001b[0m\u001b[37m\u001b[0m \u001b[1m0s\u001b[0m 9ms/step - loss: 782.5424 - mae: 782.5424 - val_loss: 1822.5244 - val_mae: 1822.5244\n",
            "Epoch 100/100\n",
            "\u001b[1m10/10\u001b[0m \u001b[32m━━━━━━━━━━━━━━━━━━━━\u001b[0m\u001b[37m\u001b[0m \u001b[1m0s\u001b[0m 9ms/step - loss: 794.9168 - mae: 794.9168 - val_loss: 1856.8649 - val_mae: 1856.8649\n"
          ]
        },
        {
          "output_type": "execute_result",
          "data": {
            "text/plain": [
              "<keras.src.callbacks.history.History at 0x7ec4c72c6e90>"
            ]
          },
          "metadata": {},
          "execution_count": 275
        }
      ],
      "source": [
        "from tensorflow.keras import layers\n",
        "\n",
        "tf.random.set_seed(42)\n",
        "\n",
        "modele_1=tf.keras.Sequential([\n",
        "    layers.Dense(128,activation='relu'),\n",
        "    layers.Dense(HORIZON, activation='linear')\n",
        "\n",
        "],name=\"modele_1_dense\")\n",
        "\n",
        "\n",
        "modele_1.compile(loss='mae',\n",
        "                optimizer=tf.keras.optimizers.Adam(),\n",
        "                metrics=[\"mae\"])\n",
        "\n",
        "\n",
        "modele_1.fit(x=train_windows,\n",
        "            y=train_labels,\n",
        "            epochs=100,\n",
        "            verbose=1,\n",
        "            batch_size=128,\n",
        "            validation_data=(test_windows,test_labels),\n",
        "            callbacks=[create_model_checkpoint(model_name=modele_1.name)]\n",
        "            )\n"
      ]
    },
    {
      "cell_type": "markdown",
      "id": "49dfa6f0",
      "metadata": {
        "id": "49dfa6f0"
      },
      "source": [
        "Évaluons la performance de notre modèle. Pour ce faire, nous allons ré-importer l'itération pour laquelle notre modèle performe le plus. Nous remarquons que notre modèle a un MAE de 1062.3967. Un modèle de DL qui utilise 7 jours de données historiques pour prédire 1 jour fait moins bien que notre modèle naif qui suppose que la meilleure estimation des observations futures est la toute dernière.\n",
        "\n",
        "Mais comment réellement comparer la vraie performance de notre modèle ? Pour ce faire, nous allons utiliser notre fonction customisée de calcul des 05 métrics indispensables pour la prédiction de nos données. Vu que notre fonction de calcul des métriques prend en entrée les prédictions des valeurs par notre modèle de DL, nous allons écrire une fonction qui, pour toutes nos autres expériences nous servira de base de prédictions de valeurs futures.\n",
        "\n",
        "Cette fonction :\n",
        "\n",
        "Prends un modèle entraîné (comme model_1)\n",
        "Prends des données d'entrée (comme celles sur lesquelles le modèle a été entraîné)\n",
        "Passe ces données d'entrée à la méthode predict() du modèle\n",
        "et retourne la prédiction."
      ]
    },
    {
      "cell_type": "code",
      "execution_count": 276,
      "id": "17c1d5ce",
      "metadata": {
        "colab": {
          "base_uri": "https://localhost:8080/"
        },
        "id": "17c1d5ce",
        "outputId": "85bf2ba9-900e-4ffe-f148-756b005e18bd"
      },
      "outputs": [
        {
          "output_type": "stream",
          "name": "stdout",
          "text": [
            "\u001b[1m10/10\u001b[0m \u001b[32m━━━━━━━━━━━━━━━━━━━━\u001b[0m\u001b[37m\u001b[0m \u001b[1m0s\u001b[0m 4ms/step - loss: 1695.1603 - mae: 1695.1603  \n"
          ]
        },
        {
          "output_type": "execute_result",
          "data": {
            "text/plain": [
              "[1757.324951171875, 1757.324951171875]"
            ]
          },
          "metadata": {},
          "execution_count": 276
        }
      ],
      "source": [
        "model_1 = tf.keras.models.load_model(\"model_experiments/modele_1_dense.keras\")\n",
        "\n",
        "model_1.evaluate(test_windows,test_labels)"
      ]
    },
    {
      "cell_type": "code",
      "execution_count": 277,
      "id": "23a72d10",
      "metadata": {
        "id": "23a72d10"
      },
      "outputs": [],
      "source": [
        "\"\"\"\n",
        "tf.squeeze(x):\n",
        "Cette fonction supprime les dimensions de taille 1 dans le tenseur de sortie.\n",
        "\n",
        "Exemple : Si x a la forme (n_samples, 1), alors tf.squeeze le transforme en (n_samples).\n",
        "Cela rend le résultat plus facile à manipuler et à lire.\n",
        "Pourquoi tf.squeeze?\n",
        "\n",
        "Cela est utile si tu as un modèle qui retourne une sortie avec une dimension superflue (par exemple, [10, 1]au lieu de [10]).\n",
        "Cela rend les résultats plus clairs et plus cohérents.\n",
        "\"\"\"\n",
        "\n",
        "def make_preds(model, input_data):\n",
        "    model_pr=model.predict(input_data)\n",
        "\n",
        "    return tf.squeeze(model_pr)"
      ]
    },
    {
      "cell_type": "code",
      "execution_count": 43,
      "id": "2d5f4912",
      "metadata": {
        "colab": {
          "base_uri": "https://localhost:8080/"
        },
        "id": "2d5f4912",
        "outputId": "459f88b2-a1e1-4fba-ef26-ab48fbca4a36"
      },
      "outputs": [
        {
          "output_type": "stream",
          "name": "stdout",
          "text": [
            "\u001b[1m10/10\u001b[0m \u001b[32m━━━━━━━━━━━━━━━━━━━━\u001b[0m\u001b[37m\u001b[0m \u001b[1m1s\u001b[0m 17ms/step\n"
          ]
        }
      ],
      "source": [
        "model_1_preds=make_preds(model_1,test_windows)"
      ]
    },
    {
      "cell_type": "markdown",
      "id": "5f466ef6",
      "metadata": {
        "id": "5f466ef6"
      },
      "source": [
        "Une fois les prédictions faites par notre modèle, il est temps de comparer ce que notre modèle nous donne et ce qui s'est réellement passé. Donc, calculons les métriques de performance de notre modèle en utilisant notre fonction auparavant implémentée."
      ]
    },
    {
      "cell_type": "code",
      "execution_count": 278,
      "id": "a8be5474",
      "metadata": {
        "colab": {
          "base_uri": "https://localhost:8080/"
        },
        "id": "a8be5474",
        "outputId": "4f468fe9-7f58-42a2-8dc9-78a9f1a486a9"
      },
      "outputs": [
        {
          "output_type": "execute_result",
          "data": {
            "text/plain": [
              "{'mae': 1767.8159617456897,\n",
              " 'mse': 5841421.562900254,\n",
              " 'rmse': 2416.903300279151,\n",
              " 'mape': 0.023121652747796338,\n",
              " 'mase': 1.0350261741284141}"
            ]
          },
          "metadata": {},
          "execution_count": 278
        }
      ],
      "source": [
        "model_1_metrics=evaluate_preds(y_true=tf.squeeze(test_labels),y_pred=model_1_preds)\n",
        "model_1_metrics"
      ]
    },
    {
      "cell_type": "markdown",
      "id": "099170a8",
      "metadata": {
        "id": "099170a8"
      },
      "source": [
        "Ci-joint un résumé final de la performance de nosdeux premiers modèles quant à leurs exactitudes sur leurs capacités prédictives :"
      ]
    },
    {
      "cell_type": "code",
      "execution_count": 279,
      "id": "f70b7cc2",
      "metadata": {
        "id": "f70b7cc2"
      },
      "outputs": [],
      "source": [
        "list_of_dict=[resultat_preds_naive,model_1_metrics]"
      ]
    },
    {
      "cell_type": "code",
      "execution_count": 280,
      "id": "9881f13b",
      "metadata": {
        "colab": {
          "base_uri": "https://localhost:8080/",
          "height": 112
        },
        "id": "9881f13b",
        "outputId": "7005a197-de00-43d8-a890-639b1c591661"
      },
      "outputs": [
        {
          "output_type": "execute_result",
          "data": {
            "text/plain": [
              "                                            mae           mse         rmse  \\\n",
              "Modèle naif                         1697.371389  5.585988e+06  2363.469446   \n",
              "Modèle dense (window=7, horizon=1)  1767.815962  5.841422e+06  2416.903300   \n",
              "\n",
              "                                        mape      mase  \n",
              "Modèle naif                         0.022247  0.997000  \n",
              "Modèle dense (window=7, horizon=1)  0.023122  1.035026  "
            ],
            "text/html": [
              "\n",
              "  <div id=\"df-172474d9-09b1-4bbf-be48-063f5b3d1a48\" class=\"colab-df-container\">\n",
              "    <div>\n",
              "<style scoped>\n",
              "    .dataframe tbody tr th:only-of-type {\n",
              "        vertical-align: middle;\n",
              "    }\n",
              "\n",
              "    .dataframe tbody tr th {\n",
              "        vertical-align: top;\n",
              "    }\n",
              "\n",
              "    .dataframe thead th {\n",
              "        text-align: right;\n",
              "    }\n",
              "</style>\n",
              "<table border=\"1\" class=\"dataframe\">\n",
              "  <thead>\n",
              "    <tr style=\"text-align: right;\">\n",
              "      <th></th>\n",
              "      <th>mae</th>\n",
              "      <th>mse</th>\n",
              "      <th>rmse</th>\n",
              "      <th>mape</th>\n",
              "      <th>mase</th>\n",
              "    </tr>\n",
              "  </thead>\n",
              "  <tbody>\n",
              "    <tr>\n",
              "      <th>Modèle naif</th>\n",
              "      <td>1697.371389</td>\n",
              "      <td>5.585988e+06</td>\n",
              "      <td>2363.469446</td>\n",
              "      <td>0.022247</td>\n",
              "      <td>0.997000</td>\n",
              "    </tr>\n",
              "    <tr>\n",
              "      <th>Modèle dense (window=7, horizon=1)</th>\n",
              "      <td>1767.815962</td>\n",
              "      <td>5.841422e+06</td>\n",
              "      <td>2416.903300</td>\n",
              "      <td>0.023122</td>\n",
              "      <td>1.035026</td>\n",
              "    </tr>\n",
              "  </tbody>\n",
              "</table>\n",
              "</div>\n",
              "    <div class=\"colab-df-buttons\">\n",
              "\n",
              "  <div class=\"colab-df-container\">\n",
              "    <button class=\"colab-df-convert\" onclick=\"convertToInteractive('df-172474d9-09b1-4bbf-be48-063f5b3d1a48')\"\n",
              "            title=\"Convert this dataframe to an interactive table.\"\n",
              "            style=\"display:none;\">\n",
              "\n",
              "  <svg xmlns=\"http://www.w3.org/2000/svg\" height=\"24px\" viewBox=\"0 -960 960 960\">\n",
              "    <path d=\"M120-120v-720h720v720H120Zm60-500h600v-160H180v160Zm220 220h160v-160H400v160Zm0 220h160v-160H400v160ZM180-400h160v-160H180v160Zm440 0h160v-160H620v160ZM180-180h160v-160H180v160Zm440 0h160v-160H620v160Z\"/>\n",
              "  </svg>\n",
              "    </button>\n",
              "\n",
              "  <style>\n",
              "    .colab-df-container {\n",
              "      display:flex;\n",
              "      gap: 12px;\n",
              "    }\n",
              "\n",
              "    .colab-df-convert {\n",
              "      background-color: #E8F0FE;\n",
              "      border: none;\n",
              "      border-radius: 50%;\n",
              "      cursor: pointer;\n",
              "      display: none;\n",
              "      fill: #1967D2;\n",
              "      height: 32px;\n",
              "      padding: 0 0 0 0;\n",
              "      width: 32px;\n",
              "    }\n",
              "\n",
              "    .colab-df-convert:hover {\n",
              "      background-color: #E2EBFA;\n",
              "      box-shadow: 0px 1px 2px rgba(60, 64, 67, 0.3), 0px 1px 3px 1px rgba(60, 64, 67, 0.15);\n",
              "      fill: #174EA6;\n",
              "    }\n",
              "\n",
              "    .colab-df-buttons div {\n",
              "      margin-bottom: 4px;\n",
              "    }\n",
              "\n",
              "    [theme=dark] .colab-df-convert {\n",
              "      background-color: #3B4455;\n",
              "      fill: #D2E3FC;\n",
              "    }\n",
              "\n",
              "    [theme=dark] .colab-df-convert:hover {\n",
              "      background-color: #434B5C;\n",
              "      box-shadow: 0px 1px 3px 1px rgba(0, 0, 0, 0.15);\n",
              "      filter: drop-shadow(0px 1px 2px rgba(0, 0, 0, 0.3));\n",
              "      fill: #FFFFFF;\n",
              "    }\n",
              "  </style>\n",
              "\n",
              "    <script>\n",
              "      const buttonEl =\n",
              "        document.querySelector('#df-172474d9-09b1-4bbf-be48-063f5b3d1a48 button.colab-df-convert');\n",
              "      buttonEl.style.display =\n",
              "        google.colab.kernel.accessAllowed ? 'block' : 'none';\n",
              "\n",
              "      async function convertToInteractive(key) {\n",
              "        const element = document.querySelector('#df-172474d9-09b1-4bbf-be48-063f5b3d1a48');\n",
              "        const dataTable =\n",
              "          await google.colab.kernel.invokeFunction('convertToInteractive',\n",
              "                                                    [key], {});\n",
              "        if (!dataTable) return;\n",
              "\n",
              "        const docLinkHtml = 'Like what you see? Visit the ' +\n",
              "          '<a target=\"_blank\" href=https://colab.research.google.com/notebooks/data_table.ipynb>data table notebook</a>'\n",
              "          + ' to learn more about interactive tables.';\n",
              "        element.innerHTML = '';\n",
              "        dataTable['output_type'] = 'display_data';\n",
              "        await google.colab.output.renderOutput(dataTable, element);\n",
              "        const docLink = document.createElement('div');\n",
              "        docLink.innerHTML = docLinkHtml;\n",
              "        element.appendChild(docLink);\n",
              "      }\n",
              "    </script>\n",
              "  </div>\n",
              "\n",
              "\n",
              "    <div id=\"df-2c64c0ba-a47c-4d1c-85ce-c67abbce343b\">\n",
              "      <button class=\"colab-df-quickchart\" onclick=\"quickchart('df-2c64c0ba-a47c-4d1c-85ce-c67abbce343b')\"\n",
              "                title=\"Suggest charts\"\n",
              "                style=\"display:none;\">\n",
              "\n",
              "<svg xmlns=\"http://www.w3.org/2000/svg\" height=\"24px\"viewBox=\"0 0 24 24\"\n",
              "     width=\"24px\">\n",
              "    <g>\n",
              "        <path d=\"M19 3H5c-1.1 0-2 .9-2 2v14c0 1.1.9 2 2 2h14c1.1 0 2-.9 2-2V5c0-1.1-.9-2-2-2zM9 17H7v-7h2v7zm4 0h-2V7h2v10zm4 0h-2v-4h2v4z\"/>\n",
              "    </g>\n",
              "</svg>\n",
              "      </button>\n",
              "\n",
              "<style>\n",
              "  .colab-df-quickchart {\n",
              "      --bg-color: #E8F0FE;\n",
              "      --fill-color: #1967D2;\n",
              "      --hover-bg-color: #E2EBFA;\n",
              "      --hover-fill-color: #174EA6;\n",
              "      --disabled-fill-color: #AAA;\n",
              "      --disabled-bg-color: #DDD;\n",
              "  }\n",
              "\n",
              "  [theme=dark] .colab-df-quickchart {\n",
              "      --bg-color: #3B4455;\n",
              "      --fill-color: #D2E3FC;\n",
              "      --hover-bg-color: #434B5C;\n",
              "      --hover-fill-color: #FFFFFF;\n",
              "      --disabled-bg-color: #3B4455;\n",
              "      --disabled-fill-color: #666;\n",
              "  }\n",
              "\n",
              "  .colab-df-quickchart {\n",
              "    background-color: var(--bg-color);\n",
              "    border: none;\n",
              "    border-radius: 50%;\n",
              "    cursor: pointer;\n",
              "    display: none;\n",
              "    fill: var(--fill-color);\n",
              "    height: 32px;\n",
              "    padding: 0;\n",
              "    width: 32px;\n",
              "  }\n",
              "\n",
              "  .colab-df-quickchart:hover {\n",
              "    background-color: var(--hover-bg-color);\n",
              "    box-shadow: 0 1px 2px rgba(60, 64, 67, 0.3), 0 1px 3px 1px rgba(60, 64, 67, 0.15);\n",
              "    fill: var(--button-hover-fill-color);\n",
              "  }\n",
              "\n",
              "  .colab-df-quickchart-complete:disabled,\n",
              "  .colab-df-quickchart-complete:disabled:hover {\n",
              "    background-color: var(--disabled-bg-color);\n",
              "    fill: var(--disabled-fill-color);\n",
              "    box-shadow: none;\n",
              "  }\n",
              "\n",
              "  .colab-df-spinner {\n",
              "    border: 2px solid var(--fill-color);\n",
              "    border-color: transparent;\n",
              "    border-bottom-color: var(--fill-color);\n",
              "    animation:\n",
              "      spin 1s steps(1) infinite;\n",
              "  }\n",
              "\n",
              "  @keyframes spin {\n",
              "    0% {\n",
              "      border-color: transparent;\n",
              "      border-bottom-color: var(--fill-color);\n",
              "      border-left-color: var(--fill-color);\n",
              "    }\n",
              "    20% {\n",
              "      border-color: transparent;\n",
              "      border-left-color: var(--fill-color);\n",
              "      border-top-color: var(--fill-color);\n",
              "    }\n",
              "    30% {\n",
              "      border-color: transparent;\n",
              "      border-left-color: var(--fill-color);\n",
              "      border-top-color: var(--fill-color);\n",
              "      border-right-color: var(--fill-color);\n",
              "    }\n",
              "    40% {\n",
              "      border-color: transparent;\n",
              "      border-right-color: var(--fill-color);\n",
              "      border-top-color: var(--fill-color);\n",
              "    }\n",
              "    60% {\n",
              "      border-color: transparent;\n",
              "      border-right-color: var(--fill-color);\n",
              "    }\n",
              "    80% {\n",
              "      border-color: transparent;\n",
              "      border-right-color: var(--fill-color);\n",
              "      border-bottom-color: var(--fill-color);\n",
              "    }\n",
              "    90% {\n",
              "      border-color: transparent;\n",
              "      border-bottom-color: var(--fill-color);\n",
              "    }\n",
              "  }\n",
              "</style>\n",
              "\n",
              "      <script>\n",
              "        async function quickchart(key) {\n",
              "          const quickchartButtonEl =\n",
              "            document.querySelector('#' + key + ' button');\n",
              "          quickchartButtonEl.disabled = true;  // To prevent multiple clicks.\n",
              "          quickchartButtonEl.classList.add('colab-df-spinner');\n",
              "          try {\n",
              "            const charts = await google.colab.kernel.invokeFunction(\n",
              "                'suggestCharts', [key], {});\n",
              "          } catch (error) {\n",
              "            console.error('Error during call to suggestCharts:', error);\n",
              "          }\n",
              "          quickchartButtonEl.classList.remove('colab-df-spinner');\n",
              "          quickchartButtonEl.classList.add('colab-df-quickchart-complete');\n",
              "        }\n",
              "        (() => {\n",
              "          let quickchartButtonEl =\n",
              "            document.querySelector('#df-2c64c0ba-a47c-4d1c-85ce-c67abbce343b button');\n",
              "          quickchartButtonEl.style.display =\n",
              "            google.colab.kernel.accessAllowed ? 'block' : 'none';\n",
              "        })();\n",
              "      </script>\n",
              "    </div>\n",
              "\n",
              "    </div>\n",
              "  </div>\n"
            ],
            "application/vnd.google.colaboratory.intrinsic+json": {
              "type": "dataframe",
              "summary": "{\n  \"name\": \"pd\",\n  \"rows\": 2,\n  \"fields\": [\n    {\n      \"column\": \"mae\",\n      \"properties\": {\n        \"dtype\": \"number\",\n        \"std\": 49.81183503827537,\n        \"min\": 1697.3713890678694,\n        \"max\": 1767.8159617456897,\n        \"num_unique_values\": 2,\n        \"samples\": [\n          1767.8159617456897,\n          1697.3713890678694\n        ],\n        \"semantic_type\": \"\",\n        \"description\": \"\"\n      }\n    },\n    {\n      \"column\": \"mse\",\n      \"properties\": {\n        \"dtype\": \"number\",\n        \"std\": 180618.93014484915,\n        \"min\": 5585987.822268089,\n        \"max\": 5841421.562900254,\n        \"num_unique_values\": 2,\n        \"samples\": [\n          5841421.562900254,\n          5585987.822268089\n        ],\n        \"semantic_type\": \"\",\n        \"description\": \"\"\n      }\n    },\n    {\n      \"column\": \"rmse\",\n      \"properties\": {\n        \"dtype\": \"number\",\n        \"std\": 37.78344069187798,\n        \"min\": 2363.469446019578,\n        \"max\": 2416.903300279151,\n        \"num_unique_values\": 2,\n        \"samples\": [\n          2416.903300279151,\n          2363.469446019578\n        ],\n        \"semantic_type\": \"\",\n        \"description\": \"\"\n      }\n    },\n    {\n      \"column\": \"mape\",\n      \"properties\": {\n        \"dtype\": \"number\",\n        \"std\": 0.0006185821113900731,\n        \"min\": 0.022246845536427112,\n        \"max\": 0.023121652747796338,\n        \"num_unique_values\": 2,\n        \"samples\": [\n          0.023121652747796338,\n          0.022246845536427112\n        ],\n        \"semantic_type\": \"\",\n        \"description\": \"\"\n      }\n    },\n    {\n      \"column\": \"mase\",\n      \"properties\": {\n        \"dtype\": \"number\",\n        \"std\": 0.026888253186626274,\n        \"min\": 0.9970004418033657,\n        \"max\": 1.0350261741284141,\n        \"num_unique_values\": 2,\n        \"samples\": [\n          1.0350261741284141,\n          0.9970004418033657\n        ],\n        \"semantic_type\": \"\",\n        \"description\": \"\"\n      }\n    }\n  ]\n}"
            }
          },
          "metadata": {},
          "execution_count": 280
        }
      ],
      "source": [
        "pd.DataFrame(list_of_dict,index=['Modèle naif', 'Modèle dense (window=7, horizon=1)'])"
      ]
    },
    {
      "cell_type": "markdown",
      "id": "ea60167e",
      "metadata": {
        "id": "ea60167e"
      },
      "source": [
        "Il semblerait que le modèle naif bat dans tous les compartiments notre modèle de réseaux de neurones denses. Comme nous le disions auparavant, ce modèle est très difficile a battre de constitue de fait, un benchmark solide sur lequel durant tout notre projet, nous allons baser nos scores et faire des prédictions. Avant cependant de passer au second modèle que l'on veut tester, il est important de **visualiser** ce que nous donne notre modèle de réseaux de neurones denses !"
      ]
    },
    {
      "cell_type": "code",
      "execution_count": 281,
      "id": "c6f090f9",
      "metadata": {
        "colab": {
          "base_uri": "https://localhost:8080/",
          "height": 696
        },
        "id": "c6f090f9",
        "outputId": "fb182dd3-3a5a-4333-e5e3-a9afc12797e5"
      },
      "outputs": [
        {
          "output_type": "display_data",
          "data": {
            "text/plain": [
              "<Figure size 1200x800 with 1 Axes>"
            ],
            "image/png": "[encoded data removed]"
          },
          "metadata": {}
        }
      ],
      "source": [
        "offset=10\n",
        "plt.figure(figsize=(12,8))\n",
        "plot_time_series(timesteps=X_test[-len(test_windows):],values=test_labels[:,0],start=offset,label=\"Test data\")\n",
        "plot_time_series(timesteps=X_test[-len(test_windows):],values=model_1_preds,start=offset,format=\"-\",label=\"Neurones Denses(wndow=7,horizon=1)\")\n",
        "plot_time_series(timesteps=X_test[1:], values=prediction_naive, format=\"-\",start=offset,label=\"Predictions Naives\")"
      ]
    },
    {
      "cell_type": "markdown",
      "id": "7ca876b8",
      "metadata": {
        "id": "7ca876b8"
      },
      "source": [
        " Notons que ces prédictions sont seulement sur le jeu de test ! Ce ne sont pas les vrais prédictions ou prédictions actuelles concernant le vrai futur de notre modèle et ce a quoi ressemblerait le __BTC__ en 2023. Ces prédictions ont pour but de **seulement** quantifier la performance de notre modèle. Nous verrons plus tard les prédictions réelles de **tous nos modèles**, et nous allons les comparer.\n",
        "\n",
        "Un modèle de réseaux de neurones denses sur 1 semaine et 1 jour fait moins bien que le modèle naif en terme de précision et de métriques, et si nos données historiques n'étaient pas suffisantes ? Autrement dit, plutot que de prendre 1 semaine de jeu de données de __BTC__, et si l'on prenait 30 jours , donc 1 mois de données hostorique ?"
      ]
    },
    {
      "cell_type": "markdown",
      "id": "b778f379",
      "metadata": {
        "id": "b778f379"
      },
      "source": [
        "# Modèle 2 : Réseaux de neurones dense ( window=30, horizon=1)"
      ]
    },
    {
      "cell_type": "markdown",
      "id": "036d1537",
      "metadata": {
        "id": "036d1537"
      },
      "source": [
        "Nous allons cette fois ci utiliser une plus grande base de données historiques pour prédire le prix du __BTC__. En effet, intuitivement, en utilisant une plus grande base de données historiques, nous nous attendons a ce que ce nouveau modèle de DL performe mieux que le précédent de 7 jours et 1 jour car elle dispose de plus de données historiques pour la modélisation."
      ]
    },
    {
      "cell_type": "markdown",
      "id": "3fe17a5e",
      "metadata": {
        "id": "3fe17a5e"
      },
      "source": [
        "Les fonction précédemment développées nous permettront de gagner cette fois-ci un temps É-norme dans l'implémentation de ce nouveau modèle. En effet, nous disposons de toutes les fonctions nécessaires a l'établissement d'un nouveau modèle de DL, ce qui nous permet de passer rapidement a la phase de modélisation et de scaler notre code. Nos fonctions de pré-processing nous seront utiles dans tout notre projet, et nous éviterons de ré-écrire le meme code encore et encore. Passons sans plus tarder au second modèle de DL."
      ]
    },
    {
      "cell_type": "markdown",
      "id": "462d21e7",
      "metadata": {
        "id": "462d21e7"
      },
      "source": [
        " >Comme précédemment, nous devons avoir la matrice X et y"
      ]
    },
    {
      "cell_type": "code",
      "execution_count": 282,
      "id": "1dcc1593",
      "metadata": {
        "id": "1dcc1593"
      },
      "outputs": [],
      "source": [
        "HORIZON=1\n",
        "WINDOW=30"
      ]
    },
    {
      "cell_type": "code",
      "execution_count": 283,
      "id": "74609ea4",
      "metadata": {
        "colab": {
          "base_uri": "https://localhost:8080/"
        },
        "id": "74609ea4",
        "outputId": "2e60c109-454d-44fc-be6c-5863d214f00f"
      },
      "outputs": [
        {
          "output_type": "execute_result",
          "data": {
            "text/plain": [
              "(1427, 1427)"
            ]
          },
          "metadata": {},
          "execution_count": 283
        }
      ],
      "source": [
        "full_windows,full_labels =make_windows(prices, window_size=WINDOW, horizon=HORIZON)\n",
        "len(full_windows),len(full_labels)"
      ]
    },
    {
      "cell_type": "markdown",
      "id": "bdfdbbb7",
      "metadata": {
        "id": "bdfdbbb7"
      },
      "source": [
        "> Splitting des données d'entrainement et de test"
      ]
    },
    {
      "cell_type": "code",
      "execution_count": 284,
      "id": "465c8c1b",
      "metadata": {
        "colab": {
          "base_uri": "https://localhost:8080/"
        },
        "id": "465c8c1b",
        "outputId": "a48d0a16-a3f6-4f22-9ea0-7843153be8cc"
      },
      "outputs": [
        {
          "output_type": "execute_result",
          "data": {
            "text/plain": [
              "(1141, 286, 1141, 286)"
            ]
          },
          "metadata": {},
          "execution_count": 284
        }
      ],
      "source": [
        "train_windows, test_windows, train_labels, test_labels = make_train_test_split(windows=full_windows, labels=full_labels)\n",
        "len(train_windows), len(test_windows), len(train_labels), len(test_labels)"
      ]
    },
    {
      "cell_type": "markdown",
      "id": "1e077812",
      "metadata": {
        "id": "1e077812"
      },
      "source": [
        ">Nos données sont prêtes pour l'utilisation! Passons a la modelisation"
      ]
    },
    {
      "cell_type": "code",
      "execution_count": 285,
      "id": "4abbf1d7",
      "metadata": {
        "colab": {
          "base_uri": "https://localhost:8080/"
        },
        "id": "4abbf1d7",
        "outputId": "0cd387c9-aa17-4ec7-c9aa-14ae4e5d9070"
      },
      "outputs": [
        {
          "output_type": "execute_result",
          "data": {
            "text/plain": [
              "<keras.src.callbacks.history.History at 0x7ec4c705a350>"
            ]
          },
          "metadata": {},
          "execution_count": 285
        }
      ],
      "source": [
        "tf.random.set_seed(42)\n",
        "\n",
        "# Création du second modèle ayant exactement la meme architecture que le premier\n",
        "model_2 = tf.keras.Sequential([\n",
        "  layers.Dense(128, activation=\"relu\"),\n",
        "  layers.Dense(HORIZON)\n",
        "], name=\"model_2_dense\")\n",
        "\n",
        "model_2.compile(loss=\"mae\",\n",
        "                optimizer=tf.keras.optimizers.Adam())\n",
        "\n",
        "model_2.fit(train_windows,\n",
        "            train_labels,\n",
        "            epochs=100,\n",
        "            batch_size=128,\n",
        "            verbose=0,\n",
        "            validation_data=(test_windows, test_labels),\n",
        "            callbacks=[create_model_checkpoint(model_name=model_2.name)])"
      ]
    },
    {
      "cell_type": "markdown",
      "id": "8424a487",
      "metadata": {
        "id": "8424a487"
      },
      "source": [
        "Verifions sa performance sur la meilleure iteratin sauvegardée"
      ]
    },
    {
      "cell_type": "code",
      "execution_count": 286,
      "id": "42139449",
      "metadata": {
        "colab": {
          "base_uri": "https://localhost:8080/"
        },
        "id": "42139449",
        "outputId": "2ff25cc0-4b50-4020-b3eb-2b0aa4490dd0"
      },
      "outputs": [
        {
          "output_type": "stream",
          "name": "stdout",
          "text": [
            "\u001b[1m9/9\u001b[0m \u001b[32m━━━━━━━━━━━━━━━━━━━━\u001b[0m\u001b[37m\u001b[0m \u001b[1m0s\u001b[0m 5ms/step - loss: 1911.4911  \n"
          ]
        },
        {
          "output_type": "execute_result",
          "data": {
            "text/plain": [
              "1967.7427978515625"
            ]
          },
          "metadata": {},
          "execution_count": 286
        }
      ],
      "source": [
        "model_2 = tf.keras.models.load_model(\"model_experiments/model_2_dense.keras\")\n",
        "model_2.evaluate(test_windows, test_labels)"
      ]
    },
    {
      "cell_type": "code",
      "execution_count": 287,
      "id": "a43d4bdc",
      "metadata": {
        "colab": {
          "base_uri": "https://localhost:8080/"
        },
        "id": "a43d4bdc",
        "outputId": "83036d01-74b8-4b89-e700-653d8d3c40c4"
      },
      "outputs": [
        {
          "output_type": "stream",
          "name": "stdout",
          "text": [
            "\u001b[1m9/9\u001b[0m \u001b[32m━━━━━━━━━━━━━━━━━━━━\u001b[0m\u001b[37m\u001b[0m \u001b[1m0s\u001b[0m 7ms/step \n"
          ]
        }
      ],
      "source": [
        "model_2_preds=make_preds(model_2,input_data=test_windows)"
      ]
    },
    {
      "cell_type": "code",
      "execution_count": 288,
      "id": "05497f89",
      "metadata": {
        "colab": {
          "base_uri": "https://localhost:8080/"
        },
        "id": "05497f89",
        "outputId": "1e6c8b3f-bf5e-4f03-d12c-6f83c7ca74d8"
      },
      "outputs": [
        {
          "output_type": "execute_result",
          "data": {
            "text/plain": [
              "{'mae': 1967.742829436189,\n",
              " 'mse': 7145469.39221058,\n",
              " 'rmse': 2673.101081555013,\n",
              " 'mape': 0.02576487156187364,\n",
              " 'mase': 1.151785458677612}"
            ]
          },
          "metadata": {},
          "execution_count": 288
        }
      ],
      "source": [
        "model_2_metrics= evaluate_preds(y_true=tf.squeeze(test_labels),\n",
        "                               y_pred=model_2_preds)\n",
        "model_2_metrics"
      ]
    },
    {
      "cell_type": "code",
      "execution_count": 289,
      "id": "2ca5343f",
      "metadata": {
        "id": "2ca5343f"
      },
      "outputs": [],
      "source": [
        "list_of_dict = [resultat_preds_naive,model_1_metrics,model_2_metrics]"
      ]
    },
    {
      "cell_type": "code",
      "execution_count": 290,
      "id": "e87ea193",
      "metadata": {
        "colab": {
          "base_uri": "https://localhost:8080/",
          "height": 143
        },
        "id": "e87ea193",
        "outputId": "777370ae-fc6e-4d32-9ef2-27bd1e410306"
      },
      "outputs": [
        {
          "output_type": "execute_result",
          "data": {
            "text/plain": [
              "                                             mae           mse         rmse  \\\n",
              "Modèle naif                          1697.371389  5.585988e+06  2363.469446   \n",
              "Modèle dense (window=7, horizon=1)   1767.815962  5.841422e+06  2416.903300   \n",
              "Modèle dense (window=30, horizon=1)  1967.742829  7.145469e+06  2673.101082   \n",
              "\n",
              "                                         mape      mase  \n",
              "Modèle naif                          0.022247  0.997000  \n",
              "Modèle dense (window=7, horizon=1)   0.023122  1.035026  \n",
              "Modèle dense (window=30, horizon=1)  0.025765  1.151785  "
            ],
            "text/html": [
              "\n",
              "  <div id=\"df-960d5a5c-7883-4c5b-83ff-c29c65827078\" class=\"colab-df-container\">\n",
              "    <div>\n",
              "<style scoped>\n",
              "    .dataframe tbody tr th:only-of-type {\n",
              "        vertical-align: middle;\n",
              "    }\n",
              "\n",
              "    .dataframe tbody tr th {\n",
              "        vertical-align: top;\n",
              "    }\n",
              "\n",
              "    .dataframe thead th {\n",
              "        text-align: right;\n",
              "    }\n",
              "</style>\n",
              "<table border=\"1\" class=\"dataframe\">\n",
              "  <thead>\n",
              "    <tr style=\"text-align: right;\">\n",
              "      <th></th>\n",
              "      <th>mae</th>\n",
              "      <th>mse</th>\n",
              "      <th>rmse</th>\n",
              "      <th>mape</th>\n",
              "      <th>mase</th>\n",
              "    </tr>\n",
              "  </thead>\n",
              "  <tbody>\n",
              "    <tr>\n",
              "      <th>Modèle naif</th>\n",
              "      <td>1697.371389</td>\n",
              "      <td>5.585988e+06</td>\n",
              "      <td>2363.469446</td>\n",
              "      <td>0.022247</td>\n",
              "      <td>0.997000</td>\n",
              "    </tr>\n",
              "    <tr>\n",
              "      <th>Modèle dense (window=7, horizon=1)</th>\n",
              "      <td>1767.815962</td>\n",
              "      <td>5.841422e+06</td>\n",
              "      <td>2416.903300</td>\n",
              "      <td>0.023122</td>\n",
              "      <td>1.035026</td>\n",
              "    </tr>\n",
              "    <tr>\n",
              "      <th>Modèle dense (window=30, horizon=1)</th>\n",
              "      <td>1967.742829</td>\n",
              "      <td>7.145469e+06</td>\n",
              "      <td>2673.101082</td>\n",
              "      <td>0.025765</td>\n",
              "      <td>1.151785</td>\n",
              "    </tr>\n",
              "  </tbody>\n",
              "</table>\n",
              "</div>\n",
              "    <div class=\"colab-df-buttons\">\n",
              "\n",
              "  <div class=\"colab-df-container\">\n",
              "    <button class=\"colab-df-convert\" onclick=\"convertToInteractive('df-960d5a5c-7883-4c5b-83ff-c29c65827078')\"\n",
              "            title=\"Convert this dataframe to an interactive table.\"\n",
              "            style=\"display:none;\">\n",
              "\n",
              "  <svg xmlns=\"http://www.w3.org/2000/svg\" height=\"24px\" viewBox=\"0 -960 960 960\">\n",
              "    <path d=\"M120-120v-720h720v720H120Zm60-500h600v-160H180v160Zm220 220h160v-160H400v160Zm0 220h160v-160H400v160ZM180-400h160v-160H180v160Zm440 0h160v-160H620v160ZM180-180h160v-160H180v160Zm440 0h160v-160H620v160Z\"/>\n",
              "  </svg>\n",
              "    </button>\n",
              "\n",
              "  <style>\n",
              "    .colab-df-container {\n",
              "      display:flex;\n",
              "      gap: 12px;\n",
              "    }\n",
              "\n",
              "    .colab-df-convert {\n",
              "      background-color: #E8F0FE;\n",
              "      border: none;\n",
              "      border-radius: 50%;\n",
              "      cursor: pointer;\n",
              "      display: none;\n",
              "      fill: #1967D2;\n",
              "      height: 32px;\n",
              "      padding: 0 0 0 0;\n",
              "      width: 32px;\n",
              "    }\n",
              "\n",
              "    .colab-df-convert:hover {\n",
              "      background-color: #E2EBFA;\n",
              "      box-shadow: 0px 1px 2px rgba(60, 64, 67, 0.3), 0px 1px 3px 1px rgba(60, 64, 67, 0.15);\n",
              "      fill: #174EA6;\n",
              "    }\n",
              "\n",
              "    .colab-df-buttons div {\n",
              "      margin-bottom: 4px;\n",
              "    }\n",
              "\n",
              "    [theme=dark] .colab-df-convert {\n",
              "      background-color: #3B4455;\n",
              "      fill: #D2E3FC;\n",
              "    }\n",
              "\n",
              "    [theme=dark] .colab-df-convert:hover {\n",
              "      background-color: #434B5C;\n",
              "      box-shadow: 0px 1px 3px 1px rgba(0, 0, 0, 0.15);\n",
              "      filter: drop-shadow(0px 1px 2px rgba(0, 0, 0, 0.3));\n",
              "      fill: #FFFFFF;\n",
              "    }\n",
              "  </style>\n",
              "\n",
              "    <script>\n",
              "      const buttonEl =\n",
              "        document.querySelector('#df-960d5a5c-7883-4c5b-83ff-c29c65827078 button.colab-df-convert');\n",
              "      buttonEl.style.display =\n",
              "        google.colab.kernel.accessAllowed ? 'block' : 'none';\n",
              "\n",
              "      async function convertToInteractive(key) {\n",
              "        const element = document.querySelector('#df-960d5a5c-7883-4c5b-83ff-c29c65827078');\n",
              "        const dataTable =\n",
              "          await google.colab.kernel.invokeFunction('convertToInteractive',\n",
              "                                                    [key], {});\n",
              "        if (!dataTable) return;\n",
              "\n",
              "        const docLinkHtml = 'Like what you see? Visit the ' +\n",
              "          '<a target=\"_blank\" href=https://colab.research.google.com/notebooks/data_table.ipynb>data table notebook</a>'\n",
              "          + ' to learn more about interactive tables.';\n",
              "        element.innerHTML = '';\n",
              "        dataTable['output_type'] = 'display_data';\n",
              "        await google.colab.output.renderOutput(dataTable, element);\n",
              "        const docLink = document.createElement('div');\n",
              "        docLink.innerHTML = docLinkHtml;\n",
              "        element.appendChild(docLink);\n",
              "      }\n",
              "    </script>\n",
              "  </div>\n",
              "\n",
              "\n",
              "    <div id=\"df-8c809d6c-cb20-478f-b266-33091957ec13\">\n",
              "      <button class=\"colab-df-quickchart\" onclick=\"quickchart('df-8c809d6c-cb20-478f-b266-33091957ec13')\"\n",
              "                title=\"Suggest charts\"\n",
              "                style=\"display:none;\">\n",
              "\n",
              "<svg xmlns=\"http://www.w3.org/2000/svg\" height=\"24px\"viewBox=\"0 0 24 24\"\n",
              "     width=\"24px\">\n",
              "    <g>\n",
              "        <path d=\"M19 3H5c-1.1 0-2 .9-2 2v14c0 1.1.9 2 2 2h14c1.1 0 2-.9 2-2V5c0-1.1-.9-2-2-2zM9 17H7v-7h2v7zm4 0h-2V7h2v10zm4 0h-2v-4h2v4z\"/>\n",
              "    </g>\n",
              "</svg>\n",
              "      </button>\n",
              "\n",
              "<style>\n",
              "  .colab-df-quickchart {\n",
              "      --bg-color: #E8F0FE;\n",
              "      --fill-color: #1967D2;\n",
              "      --hover-bg-color: #E2EBFA;\n",
              "      --hover-fill-color: #174EA6;\n",
              "      --disabled-fill-color: #AAA;\n",
              "      --disabled-bg-color: #DDD;\n",
              "  }\n",
              "\n",
              "  [theme=dark] .colab-df-quickchart {\n",
              "      --bg-color: #3B4455;\n",
              "      --fill-color: #D2E3FC;\n",
              "      --hover-bg-color: #434B5C;\n",
              "      --hover-fill-color: #FFFFFF;\n",
              "      --disabled-bg-color: #3B4455;\n",
              "      --disabled-fill-color: #666;\n",
              "  }\n",
              "\n",
              "  .colab-df-quickchart {\n",
              "    background-color: var(--bg-color);\n",
              "    border: none;\n",
              "    border-radius: 50%;\n",
              "    cursor: pointer;\n",
              "    display: none;\n",
              "    fill: var(--fill-color);\n",
              "    height: 32px;\n",
              "    padding: 0;\n",
              "    width: 32px;\n",
              "  }\n",
              "\n",
              "  .colab-df-quickchart:hover {\n",
              "    background-color: var(--hover-bg-color);\n",
              "    box-shadow: 0 1px 2px rgba(60, 64, 67, 0.3), 0 1px 3px 1px rgba(60, 64, 67, 0.15);\n",
              "    fill: var(--button-hover-fill-color);\n",
              "  }\n",
              "\n",
              "  .colab-df-quickchart-complete:disabled,\n",
              "  .colab-df-quickchart-complete:disabled:hover {\n",
              "    background-color: var(--disabled-bg-color);\n",
              "    fill: var(--disabled-fill-color);\n",
              "    box-shadow: none;\n",
              "  }\n",
              "\n",
              "  .colab-df-spinner {\n",
              "    border: 2px solid var(--fill-color);\n",
              "    border-color: transparent;\n",
              "    border-bottom-color: var(--fill-color);\n",
              "    animation:\n",
              "      spin 1s steps(1) infinite;\n",
              "  }\n",
              "\n",
              "  @keyframes spin {\n",
              "    0% {\n",
              "      border-color: transparent;\n",
              "      border-bottom-color: var(--fill-color);\n",
              "      border-left-color: var(--fill-color);\n",
              "    }\n",
              "    20% {\n",
              "      border-color: transparent;\n",
              "      border-left-color: var(--fill-color);\n",
              "      border-top-color: var(--fill-color);\n",
              "    }\n",
              "    30% {\n",
              "      border-color: transparent;\n",
              "      border-left-color: var(--fill-color);\n",
              "      border-top-color: var(--fill-color);\n",
              "      border-right-color: var(--fill-color);\n",
              "    }\n",
              "    40% {\n",
              "      border-color: transparent;\n",
              "      border-right-color: var(--fill-color);\n",
              "      border-top-color: var(--fill-color);\n",
              "    }\n",
              "    60% {\n",
              "      border-color: transparent;\n",
              "      border-right-color: var(--fill-color);\n",
              "    }\n",
              "    80% {\n",
              "      border-color: transparent;\n",
              "      border-right-color: var(--fill-color);\n",
              "      border-bottom-color: var(--fill-color);\n",
              "    }\n",
              "    90% {\n",
              "      border-color: transparent;\n",
              "      border-bottom-color: var(--fill-color);\n",
              "    }\n",
              "  }\n",
              "</style>\n",
              "\n",
              "      <script>\n",
              "        async function quickchart(key) {\n",
              "          const quickchartButtonEl =\n",
              "            document.querySelector('#' + key + ' button');\n",
              "          quickchartButtonEl.disabled = true;  // To prevent multiple clicks.\n",
              "          quickchartButtonEl.classList.add('colab-df-spinner');\n",
              "          try {\n",
              "            const charts = await google.colab.kernel.invokeFunction(\n",
              "                'suggestCharts', [key], {});\n",
              "          } catch (error) {\n",
              "            console.error('Error during call to suggestCharts:', error);\n",
              "          }\n",
              "          quickchartButtonEl.classList.remove('colab-df-spinner');\n",
              "          quickchartButtonEl.classList.add('colab-df-quickchart-complete');\n",
              "        }\n",
              "        (() => {\n",
              "          let quickchartButtonEl =\n",
              "            document.querySelector('#df-8c809d6c-cb20-478f-b266-33091957ec13 button');\n",
              "          quickchartButtonEl.style.display =\n",
              "            google.colab.kernel.accessAllowed ? 'block' : 'none';\n",
              "        })();\n",
              "      </script>\n",
              "    </div>\n",
              "\n",
              "    </div>\n",
              "  </div>\n"
            ],
            "application/vnd.google.colaboratory.intrinsic+json": {
              "type": "dataframe",
              "summary": "{\n  \"name\": \"                                 'Mod\\u00e8le dense (window=30, horizon=1)'])\",\n  \"rows\": 3,\n  \"fields\": [\n    {\n      \"column\": \"mae\",\n      \"properties\": {\n        \"dtype\": \"number\",\n        \"std\": 140.2580395860518,\n        \"min\": 1697.3713890678694,\n        \"max\": 1967.742829436189,\n        \"num_unique_values\": 3,\n        \"samples\": [\n          1697.3713890678694,\n          1767.8159617456897,\n          1967.742829436189\n        ],\n        \"semantic_type\": \"\",\n        \"description\": \"\"\n      }\n    },\n    {\n      \"column\": \"mse\",\n      \"properties\": {\n        \"dtype\": \"number\",\n        \"std\": 836437.8741596823,\n        \"min\": 5585987.822268089,\n        \"max\": 7145469.39221058,\n        \"num_unique_values\": 3,\n        \"samples\": [\n          5585987.822268089,\n          5841421.562900254,\n          7145469.39221058\n        ],\n        \"semantic_type\": \"\",\n        \"description\": \"\"\n      }\n    },\n    {\n      \"column\": \"rmse\",\n      \"properties\": {\n        \"dtype\": \"number\",\n        \"std\": 165.51144453685382,\n        \"min\": 2363.469446019578,\n        \"max\": 2673.101081555013,\n        \"num_unique_values\": 3,\n        \"samples\": [\n          2363.469446019578,\n          2416.903300279151,\n          2673.101081555013\n        ],\n        \"semantic_type\": \"\",\n        \"description\": \"\"\n      }\n    },\n    {\n      \"column\": \"mape\",\n      \"properties\": {\n        \"dtype\": \"number\",\n        \"std\": 0.0018315931349454089,\n        \"min\": 0.022246845536427112,\n        \"max\": 0.02576487156187364,\n        \"num_unique_values\": 3,\n        \"samples\": [\n          0.022246845536427112,\n          0.023121652747796338,\n          0.02576487156187364\n        ],\n        \"semantic_type\": \"\",\n        \"description\": \"\"\n      }\n    },\n    {\n      \"column\": \"mase\",\n      \"properties\": {\n        \"dtype\": \"number\",\n        \"std\": 0.08066090368125221,\n        \"min\": 0.9970004418033657,\n        \"max\": 1.151785458677612,\n        \"num_unique_values\": 3,\n        \"samples\": [\n          0.9970004418033657,\n          1.0350261741284141,\n          1.151785458677612\n        ],\n        \"semantic_type\": \"\",\n        \"description\": \"\"\n      }\n    }\n  ]\n}"
            }
          },
          "metadata": {},
          "execution_count": 290
        }
      ],
      "source": [
        "pd.DataFrame(list_of_dict,index=['Modèle naif',\n",
        "                                 'Modèle dense (window=7, horizon=1)',\n",
        "                                 'Modèle dense (window=30, horizon=1)'])"
      ]
    },
    {
      "cell_type": "markdown",
      "id": "793949f7",
      "metadata": {
        "id": "793949f7"
      },
      "source": [
        "Le modèle dense de 30 jours de données historiques et 1 jour de prédiction fait moins bien que le modèle de 7 jours qui lui meme fait moins bien que le modèle naif. Par conséquent, avoir un plus grand jeu de données historiques n'améliore pas la capacité que l'on a à prédire le prix du __BTC__ selon les modèles de deep learning.  "
      ]
    },
    {
      "cell_type": "code",
      "execution_count": 291,
      "id": "2a135b64",
      "metadata": {
        "colab": {
          "base_uri": "https://localhost:8080/",
          "height": 696
        },
        "id": "2a135b64",
        "outputId": "43b06edd-d0b6-46ba-ec43-d4925643b0e3"
      },
      "outputs": [
        {
          "output_type": "display_data",
          "data": {
            "text/plain": [
              "<Figure size 1200x800 with 1 Axes>"
            ],
            "image/png": "[encoded data removed]"
          },
          "metadata": {}
        }
      ],
      "source": [
        "offset = 10\n",
        "plt.figure(figsize=(12, 8))\n",
        "plot_time_series(timesteps=X_test[-len(test_windows):], values=test_labels[:, 0], start=offset, label=\"test_data\")\n",
        "plot_time_series(timesteps=X_test[-len(test_windows)-4:], values=model_1_preds, start=offset, format=\"-\", label=\"Neurones Denses(window=7, horizon=1)\")\n",
        "plot_time_series(timesteps=X_test[-len(test_windows):], values=model_2_preds, start=offset, format=\"-\", label=\"Neurones Denses(window=30, horizon=1)\")\n",
        "plot_time_series(timesteps=X_test[1:], values=prediction_naive, format=\"-\", start=offset, label=\" Prédictions Naives\")"
      ]
    },
    {
      "cell_type": "markdown",
      "id": "368cccee",
      "metadata": {
        "id": "368cccee"
      },
      "source": [
        "# Modèle 3 : Réseaux de neurones convolutionnels : Conv1D ( window=7, horizon=1)"
      ]
    },
    {
      "cell_type": "markdown",
      "id": "c0d5c3c8",
      "metadata": {
        "id": "c0d5c3c8"
      },
      "source": [
        "Nous allons dans cette partie, nous allons utiliser les réseaux de neurones **séquentiel** pour éssayer de prédire le cours du __BTC__. Ce qui justifie ce choix est la forme première des données. Vu que nous sommes en présence de données séquentielles, utiliser un modèle de réseaux de neurones séquentiel ou **seq2seq** pour prédire la **suite de la séquence d'observation de prix que nous avons** savère judicieux et peut nous permettre en conséquence d'améliorer drastiquement les performances de notre modèle.\n",
        "\n",
        "Les réseaux de neurones convolutionnels sont de base utilisé pour prédire le **computer vision** ou les images. Cependant, les réseaux de neurones convolutionnels peuvent etre utilisé pour prédire des **séquences**. La seule différence est la dimension du réseau de neurones. Pour prédire une séquence, on utilise un réseau de neurones convolutionnel a 1 dimension d'ou le terme **conv1D** alors que pour prédire des images, on utilise un réseau de neurones convolutionnels a deux dimensions d'ou le terme **conv2D**. Nous allons essayer de voir a quel point un réseau convolutionnel 1 dimension est performant pour prédire notre jeu de données."
      ]
    },
    {
      "cell_type": "code",
      "execution_count": 292,
      "id": "135f56f6",
      "metadata": {
        "id": "135f56f6"
      },
      "outputs": [],
      "source": [
        "HORIZON = 1\n",
        "WINDOW = 7"
      ]
    },
    {
      "cell_type": "code",
      "execution_count": 293,
      "id": "030bd264",
      "metadata": {
        "colab": {
          "base_uri": "https://localhost:8080/"
        },
        "id": "030bd264",
        "outputId": "64525f28-8c88-4475-c337-e6eb687ec320"
      },
      "outputs": [
        {
          "output_type": "execute_result",
          "data": {
            "text/plain": [
              "(1450, 1450)"
            ]
          },
          "metadata": {},
          "execution_count": 293
        }
      ],
      "source": [
        "full_windows, full_labels = make_windows(prices, window_size=WINDOW, horizon=HORIZON)\n",
        "len(full_windows), len(full_labels)"
      ]
    },
    {
      "cell_type": "code",
      "execution_count": 294,
      "id": "4ba93a80",
      "metadata": {
        "colab": {
          "base_uri": "https://localhost:8080/"
        },
        "id": "4ba93a80",
        "outputId": "6561c540-2a98-4b6e-edb0-392b101404bd"
      },
      "outputs": [
        {
          "output_type": "execute_result",
          "data": {
            "text/plain": [
              "(1160, 290, 1160, 290)"
            ]
          },
          "metadata": {},
          "execution_count": 294
        }
      ],
      "source": [
        "train_windows, test_windows, train_labels, test_labels = make_train_test_split(full_windows, full_labels)\n",
        "len(train_windows), len(test_windows), len(train_labels), len(test_labels)"
      ]
    },
    {
      "cell_type": "code",
      "execution_count": 295,
      "id": "be7fb96d",
      "metadata": {
        "colab": {
          "base_uri": "https://localhost:8080/"
        },
        "id": "be7fb96d",
        "outputId": "499b55ff-c26c-49dd-bc70-74f943657d6d"
      },
      "outputs": [
        {
          "output_type": "execute_result",
          "data": {
            "text/plain": [
              "(7,)"
            ]
          },
          "metadata": {},
          "execution_count": 295
        }
      ],
      "source": [
        "train_windows[0].shape"
      ]
    },
    {
      "cell_type": "markdown",
      "id": "1e1608ba",
      "metadata": {
        "id": "1e1608ba"
      },
      "source": [
        "Avant de faire entrer la donnée dans un réseau de neurones récurrents, nous devons nous assurer que la dimension des tenseurs coincident parfaitement auquel car Tensorflow va nous retourner des erreurs de dimension et ne pourra pas compiler le modèle. Pour tout modèle de réseaux de neurones récurrents, cela est une étape indispensable."
      ]
    },
    {
      "cell_type": "code",
      "execution_count": 350,
      "id": "b1fec986",
      "metadata": {
        "id": "b1fec986"
      },
      "outputs": [],
      "source": [
        "x= tf.constant(train_windows[0])\n",
        "expand_dims_layer= layers.Lambda(lambda x:tf.expand_dims(x,axis=1))"
      ]
    },
    {
      "cell_type": "code",
      "execution_count": 297,
      "id": "ac06dd81",
      "metadata": {
        "colab": {
          "base_uri": "https://localhost:8080/"
        },
        "id": "ac06dd81",
        "outputId": "4f7eec29-bab9-401d-df79-a7ff7bece2cd"
      },
      "outputs": [
        {
          "output_type": "execute_result",
          "data": {
            "text/plain": [
              "<keras.src.callbacks.history.History at 0x7ec4c6dd7450>"
            ]
          },
          "metadata": {},
          "execution_count": 297
        }
      ],
      "source": [
        "tf.random.set_seed(42)\n",
        "\n",
        "\n",
        "def expand_input(x):\n",
        "    return tf.expand_dims(x, axis=1) #permet d'ajouter une nouvelle dimension\"\"\"\n",
        "\n",
        "model_3 = tf.keras.Sequential([\n",
        "    layers.Lambda(expand_input),\n",
        "    layers.Conv1D(filters=128, kernel_size=5, padding=\"causal\", activation=\"relu\"),\n",
        "    layers.Dense(HORIZON)\n",
        "], name=\"model_3_conv1D\")\n",
        "\n",
        "model_3.compile(loss=\"mae\",\n",
        "                optimizer=tf.keras.optimizers.Adam())\n",
        "\n",
        "\n",
        "model_3.fit(train_windows,\n",
        "            train_labels,\n",
        "            batch_size=128,\n",
        "            epochs=100,\n",
        "            verbose=0,\n",
        "            validation_data=(test_windows, test_labels),\n",
        "            callbacks=[create_model_checkpoint(model_name=model_3.name)])"
      ]
    },
    {
      "cell_type": "code",
      "execution_count": 298,
      "id": "44386817",
      "metadata": {
        "colab": {
          "base_uri": "https://localhost:8080/",
          "height": 255
        },
        "id": "44386817",
        "outputId": "0117d921-bac1-4462-8637-c3fbdb042e88"
      },
      "outputs": [
        {
          "output_type": "display_data",
          "data": {
            "text/plain": [
              "\u001b[1mModel: \"model_3_conv1D\"\u001b[0m\n"
            ],
            "text/html": [
              "<pre style=\"white-space:pre;overflow-x:auto;line-height:normal;font-family:Menlo,'DejaVu Sans Mono',consolas,'Courier New',monospace\"><span style=\"font-weight: bold\">Model: \"model_3_conv1D\"</span>\n",
              "</pre>\n"
            ]
          },
          "metadata": {}
        },
        {
          "output_type": "display_data",
          "data": {
            "text/plain": [
              "┏━━━━━━━━━━━━━━━━━━━━━━━━━━━━━━━━━┳━━━━━━━━━━━━━━━━━━━━━━━━┳━━━━━━━━━━━━━━━┓\n",
              "┃\u001b[1m \u001b[0m\u001b[1mLayer (type)                   \u001b[0m\u001b[1m \u001b[0m┃\u001b[1m \u001b[0m\u001b[1mOutput Shape          \u001b[0m\u001b[1m \u001b[0m┃\u001b[1m \u001b[0m\u001b[1m      Param #\u001b[0m\u001b[1m \u001b[0m┃\n",
              "┡━━━━━━━━━━━━━━━━━━━━━━━━━━━━━━━━━╇━━━━━━━━━━━━━━━━━━━━━━━━╇━━━━━━━━━━━━━━━┩\n",
              "│ lambda_50 (\u001b[38;5;33mLambda\u001b[0m)              │ (\u001b[38;5;45mNone\u001b[0m, \u001b[38;5;34m1\u001b[0m, \u001b[38;5;34m7\u001b[0m)           │             \u001b[38;5;34m0\u001b[0m │\n",
              "├─────────────────────────────────┼────────────────────────┼───────────────┤\n",
              "│ conv1d_3 (\u001b[38;5;33mConv1D\u001b[0m)               │ (\u001b[38;5;45mNone\u001b[0m, \u001b[38;5;34m1\u001b[0m, \u001b[38;5;34m128\u001b[0m)         │         \u001b[38;5;34m4,608\u001b[0m │\n",
              "├─────────────────────────────────┼────────────────────────┼───────────────┤\n",
              "│ dense_66 (\u001b[38;5;33mDense\u001b[0m)                │ (\u001b[38;5;45mNone\u001b[0m, \u001b[38;5;34m1\u001b[0m, \u001b[38;5;34m1\u001b[0m)           │           \u001b[38;5;34m129\u001b[0m │\n",
              "└─────────────────────────────────┴────────────────────────┴───────────────┘\n"
            ],
            "text/html": [
              "<pre style=\"white-space:pre;overflow-x:auto;line-height:normal;font-family:Menlo,'DejaVu Sans Mono',consolas,'Courier New',monospace\">┏━━━━━━━━━━━━━━━━━━━━━━━━━━━━━━━━━┳━━━━━━━━━━━━━━━━━━━━━━━━┳━━━━━━━━━━━━━━━┓\n",
              "┃<span style=\"font-weight: bold\"> Layer (type)                    </span>┃<span style=\"font-weight: bold\"> Output Shape           </span>┃<span style=\"font-weight: bold\">       Param # </span>┃\n",
              "┡━━━━━━━━━━━━━━━━━━━━━━━━━━━━━━━━━╇━━━━━━━━━━━━━━━━━━━━━━━━╇━━━━━━━━━━━━━━━┩\n",
              "│ lambda_50 (<span style=\"color: #0087ff; text-decoration-color: #0087ff\">Lambda</span>)              │ (<span style=\"color: #00d7ff; text-decoration-color: #00d7ff\">None</span>, <span style=\"color: #00af00; text-decoration-color: #00af00\">1</span>, <span style=\"color: #00af00; text-decoration-color: #00af00\">7</span>)           │             <span style=\"color: #00af00; text-decoration-color: #00af00\">0</span> │\n",
              "├─────────────────────────────────┼────────────────────────┼───────────────┤\n",
              "│ conv1d_3 (<span style=\"color: #0087ff; text-decoration-color: #0087ff\">Conv1D</span>)               │ (<span style=\"color: #00d7ff; text-decoration-color: #00d7ff\">None</span>, <span style=\"color: #00af00; text-decoration-color: #00af00\">1</span>, <span style=\"color: #00af00; text-decoration-color: #00af00\">128</span>)         │         <span style=\"color: #00af00; text-decoration-color: #00af00\">4,608</span> │\n",
              "├─────────────────────────────────┼────────────────────────┼───────────────┤\n",
              "│ dense_66 (<span style=\"color: #0087ff; text-decoration-color: #0087ff\">Dense</span>)                │ (<span style=\"color: #00d7ff; text-decoration-color: #00d7ff\">None</span>, <span style=\"color: #00af00; text-decoration-color: #00af00\">1</span>, <span style=\"color: #00af00; text-decoration-color: #00af00\">1</span>)           │           <span style=\"color: #00af00; text-decoration-color: #00af00\">129</span> │\n",
              "└─────────────────────────────────┴────────────────────────┴───────────────┘\n",
              "</pre>\n"
            ]
          },
          "metadata": {}
        },
        {
          "output_type": "display_data",
          "data": {
            "text/plain": [
              "\u001b[1m Total params: \u001b[0m\u001b[38;5;34m14,213\u001b[0m (55.52 KB)\n"
            ],
            "text/html": [
              "<pre style=\"white-space:pre;overflow-x:auto;line-height:normal;font-family:Menlo,'DejaVu Sans Mono',consolas,'Courier New',monospace\"><span style=\"font-weight: bold\"> Total params: </span><span style=\"color: #00af00; text-decoration-color: #00af00\">14,213</span> (55.52 KB)\n",
              "</pre>\n"
            ]
          },
          "metadata": {}
        },
        {
          "output_type": "display_data",
          "data": {
            "text/plain": [
              "\u001b[1m Trainable params: \u001b[0m\u001b[38;5;34m4,737\u001b[0m (18.50 KB)\n"
            ],
            "text/html": [
              "<pre style=\"white-space:pre;overflow-x:auto;line-height:normal;font-family:Menlo,'DejaVu Sans Mono',consolas,'Courier New',monospace\"><span style=\"font-weight: bold\"> Trainable params: </span><span style=\"color: #00af00; text-decoration-color: #00af00\">4,737</span> (18.50 KB)\n",
              "</pre>\n"
            ]
          },
          "metadata": {}
        },
        {
          "output_type": "display_data",
          "data": {
            "text/plain": [
              "\u001b[1m Non-trainable params: \u001b[0m\u001b[38;5;34m0\u001b[0m (0.00 B)\n"
            ],
            "text/html": [
              "<pre style=\"white-space:pre;overflow-x:auto;line-height:normal;font-family:Menlo,'DejaVu Sans Mono',consolas,'Courier New',monospace\"><span style=\"font-weight: bold\"> Non-trainable params: </span><span style=\"color: #00af00; text-decoration-color: #00af00\">0</span> (0.00 B)\n",
              "</pre>\n"
            ]
          },
          "metadata": {}
        },
        {
          "output_type": "display_data",
          "data": {
            "text/plain": [
              "\u001b[1m Optimizer params: \u001b[0m\u001b[38;5;34m9,476\u001b[0m (37.02 KB)\n"
            ],
            "text/html": [
              "<pre style=\"white-space:pre;overflow-x:auto;line-height:normal;font-family:Menlo,'DejaVu Sans Mono',consolas,'Courier New',monospace\"><span style=\"font-weight: bold\"> Optimizer params: </span><span style=\"color: #00af00; text-decoration-color: #00af00\">9,476</span> (37.02 KB)\n",
              "</pre>\n"
            ]
          },
          "metadata": {}
        }
      ],
      "source": [
        "model_3.summary()"
      ]
    },
    {
      "cell_type": "code",
      "execution_count": 299,
      "id": "0a921ac4",
      "metadata": {
        "colab": {
          "base_uri": "https://localhost:8080/"
        },
        "id": "0a921ac4",
        "outputId": "420b1857-c4c7-42a8-b322-72b44112587b"
      },
      "outputs": [
        {
          "output_type": "stream",
          "name": "stdout",
          "text": [
            "\u001b[1m10/10\u001b[0m \u001b[32m━━━━━━━━━━━━━━━━━━━━\u001b[0m\u001b[37m\u001b[0m \u001b[1m0s\u001b[0m 4ms/step - loss: 1719.1063  \n"
          ]
        },
        {
          "output_type": "execute_result",
          "data": {
            "text/plain": [
              "1799.93701171875"
            ]
          },
          "metadata": {},
          "execution_count": 299
        }
      ],
      "source": [
        "from keras.saving import register_keras_serializable\n",
        "import tensorflow as tf\n",
        "\n",
        "@register_keras_serializable()\n",
        "def expand_input(x):\n",
        "    return tf.expand_dims(x, axis=1)\n",
        "\n",
        "# Charger le modèle en précisant la fonction custom dans custom_objects\n",
        "model_3 = tf.keras.models.load_model(\n",
        "    \"model_experiments/model_3_conv1D.keras\",\n",
        "    custom_objects={\"expand_input\": expand_input}\n",
        ")\n",
        "\n",
        "# Maintenant tu peux évaluer\n",
        "model_3.evaluate(test_windows, test_labels)\n"
      ]
    },
    {
      "cell_type": "code",
      "execution_count": 300,
      "id": "3c5cd44d",
      "metadata": {
        "colab": {
          "base_uri": "https://localhost:8080/"
        },
        "id": "3c5cd44d",
        "outputId": "7b7560d6-8366-4dd2-ebb7-8b5b902a3504"
      },
      "outputs": [
        {
          "output_type": "stream",
          "name": "stdout",
          "text": [
            "\u001b[1m10/10\u001b[0m \u001b[32m━━━━━━━━━━━━━━━━━━━━\u001b[0m\u001b[37m\u001b[0m \u001b[1m0s\u001b[0m 7ms/step \n"
          ]
        },
        {
          "output_type": "execute_result",
          "data": {
            "text/plain": [
              "<tf.Tensor: shape=(10,), dtype=float32, numpy=\n",
              "array([60630.453, 60667.246, 59556.004, 57241.777, 57544.99 , 57130.246,\n",
              "       57150.125, 58239.48 , 58694.34 , 57991.758], dtype=float32)>"
            ]
          },
          "metadata": {},
          "execution_count": 300
        }
      ],
      "source": [
        "model_3_preds = make_preds(model_3, test_windows)\n",
        "model_3_preds[:10]"
      ]
    },
    {
      "cell_type": "code",
      "execution_count": 301,
      "id": "dc3aa6f3",
      "metadata": {
        "colab": {
          "base_uri": "https://localhost:8080/"
        },
        "id": "dc3aa6f3",
        "outputId": "e09f7154-33f2-4261-cbe4-a6d34b739779"
      },
      "outputs": [
        {
          "output_type": "execute_result",
          "data": {
            "text/plain": [
              "{'mae': 1799.9371632543102,\n",
              " 'mse': 6072764.530119324,\n",
              " 'rmse': 2464.297979165532,\n",
              " 'mape': 0.02352553719700063,\n",
              " 'mase': 1.0538325912132815}"
            ]
          },
          "metadata": {},
          "execution_count": 301
        }
      ],
      "source": [
        "model_3_metrics = evaluate_preds(y_true=tf.squeeze(test_labels),\n",
        "                                 y_pred=model_3_preds)\n",
        "model_3_metrics"
      ]
    },
    {
      "cell_type": "code",
      "execution_count": 302,
      "id": "c32a31fa",
      "metadata": {
        "id": "c32a31fa"
      },
      "outputs": [],
      "source": [
        "list_of_dict = [resultat_preds_naive,model_1_metrics,model_2_metrics,model_3_metrics]"
      ]
    },
    {
      "cell_type": "code",
      "execution_count": 303,
      "id": "8da876ae",
      "metadata": {
        "colab": {
          "base_uri": "https://localhost:8080/",
          "height": 175
        },
        "id": "8da876ae",
        "outputId": "6589c744-c94d-4a0f-d640-e9770dcb4fea"
      },
      "outputs": [
        {
          "output_type": "execute_result",
          "data": {
            "text/plain": [
              "                                             mae           mse         rmse  \\\n",
              "Modèle naif                          1697.371389  5.585988e+06  2363.469446   \n",
              "Modèle dense (window=7, horizon=1)   1767.815962  5.841422e+06  2416.903300   \n",
              "Modèle dense (window=30, horizon=1)  1967.742829  7.145469e+06  2673.101082   \n",
              "Modèle Conv1D (window=7, horizon=1)  1799.937163  6.072765e+06  2464.297979   \n",
              "\n",
              "                                         mape      mase  \n",
              "Modèle naif                          0.022247  0.997000  \n",
              "Modèle dense (window=7, horizon=1)   0.023122  1.035026  \n",
              "Modèle dense (window=30, horizon=1)  0.025765  1.151785  \n",
              "Modèle Conv1D (window=7, horizon=1)  0.023526  1.053833  "
            ],
            "text/html": [
              "\n",
              "  <div id=\"df-b4f28623-93fb-496e-a377-042195190545\" class=\"colab-df-container\">\n",
              "    <div>\n",
              "<style scoped>\n",
              "    .dataframe tbody tr th:only-of-type {\n",
              "        vertical-align: middle;\n",
              "    }\n",
              "\n",
              "    .dataframe tbody tr th {\n",
              "        vertical-align: top;\n",
              "    }\n",
              "\n",
              "    .dataframe thead th {\n",
              "        text-align: right;\n",
              "    }\n",
              "</style>\n",
              "<table border=\"1\" class=\"dataframe\">\n",
              "  <thead>\n",
              "    <tr style=\"text-align: right;\">\n",
              "      <th></th>\n",
              "      <th>mae</th>\n",
              "      <th>mse</th>\n",
              "      <th>rmse</th>\n",
              "      <th>mape</th>\n",
              "      <th>mase</th>\n",
              "    </tr>\n",
              "  </thead>\n",
              "  <tbody>\n",
              "    <tr>\n",
              "      <th>Modèle naif</th>\n",
              "      <td>1697.371389</td>\n",
              "      <td>5.585988e+06</td>\n",
              "      <td>2363.469446</td>\n",
              "      <td>0.022247</td>\n",
              "      <td>0.997000</td>\n",
              "    </tr>\n",
              "    <tr>\n",
              "      <th>Modèle dense (window=7, horizon=1)</th>\n",
              "      <td>1767.815962</td>\n",
              "      <td>5.841422e+06</td>\n",
              "      <td>2416.903300</td>\n",
              "      <td>0.023122</td>\n",
              "      <td>1.035026</td>\n",
              "    </tr>\n",
              "    <tr>\n",
              "      <th>Modèle dense (window=30, horizon=1)</th>\n",
              "      <td>1967.742829</td>\n",
              "      <td>7.145469e+06</td>\n",
              "      <td>2673.101082</td>\n",
              "      <td>0.025765</td>\n",
              "      <td>1.151785</td>\n",
              "    </tr>\n",
              "    <tr>\n",
              "      <th>Modèle Conv1D (window=7, horizon=1)</th>\n",
              "      <td>1799.937163</td>\n",
              "      <td>6.072765e+06</td>\n",
              "      <td>2464.297979</td>\n",
              "      <td>0.023526</td>\n",
              "      <td>1.053833</td>\n",
              "    </tr>\n",
              "  </tbody>\n",
              "</table>\n",
              "</div>\n",
              "    <div class=\"colab-df-buttons\">\n",
              "\n",
              "  <div class=\"colab-df-container\">\n",
              "    <button class=\"colab-df-convert\" onclick=\"convertToInteractive('df-b4f28623-93fb-496e-a377-042195190545')\"\n",
              "            title=\"Convert this dataframe to an interactive table.\"\n",
              "            style=\"display:none;\">\n",
              "\n",
              "  <svg xmlns=\"http://www.w3.org/2000/svg\" height=\"24px\" viewBox=\"0 -960 960 960\">\n",
              "    <path d=\"M120-120v-720h720v720H120Zm60-500h600v-160H180v160Zm220 220h160v-160H400v160Zm0 220h160v-160H400v160ZM180-400h160v-160H180v160Zm440 0h160v-160H620v160ZM180-180h160v-160H180v160Zm440 0h160v-160H620v160Z\"/>\n",
              "  </svg>\n",
              "    </button>\n",
              "\n",
              "  <style>\n",
              "    .colab-df-container {\n",
              "      display:flex;\n",
              "      gap: 12px;\n",
              "    }\n",
              "\n",
              "    .colab-df-convert {\n",
              "      background-color: #E8F0FE;\n",
              "      border: none;\n",
              "      border-radius: 50%;\n",
              "      cursor: pointer;\n",
              "      display: none;\n",
              "      fill: #1967D2;\n",
              "      height: 32px;\n",
              "      padding: 0 0 0 0;\n",
              "      width: 32px;\n",
              "    }\n",
              "\n",
              "    .colab-df-convert:hover {\n",
              "      background-color: #E2EBFA;\n",
              "      box-shadow: 0px 1px 2px rgba(60, 64, 67, 0.3), 0px 1px 3px 1px rgba(60, 64, 67, 0.15);\n",
              "      fill: #174EA6;\n",
              "    }\n",
              "\n",
              "    .colab-df-buttons div {\n",
              "      margin-bottom: 4px;\n",
              "    }\n",
              "\n",
              "    [theme=dark] .colab-df-convert {\n",
              "      background-color: #3B4455;\n",
              "      fill: #D2E3FC;\n",
              "    }\n",
              "\n",
              "    [theme=dark] .colab-df-convert:hover {\n",
              "      background-color: #434B5C;\n",
              "      box-shadow: 0px 1px 3px 1px rgba(0, 0, 0, 0.15);\n",
              "      filter: drop-shadow(0px 1px 2px rgba(0, 0, 0, 0.3));\n",
              "      fill: #FFFFFF;\n",
              "    }\n",
              "  </style>\n",
              "\n",
              "    <script>\n",
              "      const buttonEl =\n",
              "        document.querySelector('#df-b4f28623-93fb-496e-a377-042195190545 button.colab-df-convert');\n",
              "      buttonEl.style.display =\n",
              "        google.colab.kernel.accessAllowed ? 'block' : 'none';\n",
              "\n",
              "      async function convertToInteractive(key) {\n",
              "        const element = document.querySelector('#df-b4f28623-93fb-496e-a377-042195190545');\n",
              "        const dataTable =\n",
              "          await google.colab.kernel.invokeFunction('convertToInteractive',\n",
              "                                                    [key], {});\n",
              "        if (!dataTable) return;\n",
              "\n",
              "        const docLinkHtml = 'Like what you see? Visit the ' +\n",
              "          '<a target=\"_blank\" href=https://colab.research.google.com/notebooks/data_table.ipynb>data table notebook</a>'\n",
              "          + ' to learn more about interactive tables.';\n",
              "        element.innerHTML = '';\n",
              "        dataTable['output_type'] = 'display_data';\n",
              "        await google.colab.output.renderOutput(dataTable, element);\n",
              "        const docLink = document.createElement('div');\n",
              "        docLink.innerHTML = docLinkHtml;\n",
              "        element.appendChild(docLink);\n",
              "      }\n",
              "    </script>\n",
              "  </div>\n",
              "\n",
              "\n",
              "    <div id=\"df-6d27c696-4da6-45ff-9d09-fca8b0a18d5b\">\n",
              "      <button class=\"colab-df-quickchart\" onclick=\"quickchart('df-6d27c696-4da6-45ff-9d09-fca8b0a18d5b')\"\n",
              "                title=\"Suggest charts\"\n",
              "                style=\"display:none;\">\n",
              "\n",
              "<svg xmlns=\"http://www.w3.org/2000/svg\" height=\"24px\"viewBox=\"0 0 24 24\"\n",
              "     width=\"24px\">\n",
              "    <g>\n",
              "        <path d=\"M19 3H5c-1.1 0-2 .9-2 2v14c0 1.1.9 2 2 2h14c1.1 0 2-.9 2-2V5c0-1.1-.9-2-2-2zM9 17H7v-7h2v7zm4 0h-2V7h2v10zm4 0h-2v-4h2v4z\"/>\n",
              "    </g>\n",
              "</svg>\n",
              "      </button>\n",
              "\n",
              "<style>\n",
              "  .colab-df-quickchart {\n",
              "      --bg-color: #E8F0FE;\n",
              "      --fill-color: #1967D2;\n",
              "      --hover-bg-color: #E2EBFA;\n",
              "      --hover-fill-color: #174EA6;\n",
              "      --disabled-fill-color: #AAA;\n",
              "      --disabled-bg-color: #DDD;\n",
              "  }\n",
              "\n",
              "  [theme=dark] .colab-df-quickchart {\n",
              "      --bg-color: #3B4455;\n",
              "      --fill-color: #D2E3FC;\n",
              "      --hover-bg-color: #434B5C;\n",
              "      --hover-fill-color: #FFFFFF;\n",
              "      --disabled-bg-color: #3B4455;\n",
              "      --disabled-fill-color: #666;\n",
              "  }\n",
              "\n",
              "  .colab-df-quickchart {\n",
              "    background-color: var(--bg-color);\n",
              "    border: none;\n",
              "    border-radius: 50%;\n",
              "    cursor: pointer;\n",
              "    display: none;\n",
              "    fill: var(--fill-color);\n",
              "    height: 32px;\n",
              "    padding: 0;\n",
              "    width: 32px;\n",
              "  }\n",
              "\n",
              "  .colab-df-quickchart:hover {\n",
              "    background-color: var(--hover-bg-color);\n",
              "    box-shadow: 0 1px 2px rgba(60, 64, 67, 0.3), 0 1px 3px 1px rgba(60, 64, 67, 0.15);\n",
              "    fill: var(--button-hover-fill-color);\n",
              "  }\n",
              "\n",
              "  .colab-df-quickchart-complete:disabled,\n",
              "  .colab-df-quickchart-complete:disabled:hover {\n",
              "    background-color: var(--disabled-bg-color);\n",
              "    fill: var(--disabled-fill-color);\n",
              "    box-shadow: none;\n",
              "  }\n",
              "\n",
              "  .colab-df-spinner {\n",
              "    border: 2px solid var(--fill-color);\n",
              "    border-color: transparent;\n",
              "    border-bottom-color: var(--fill-color);\n",
              "    animation:\n",
              "      spin 1s steps(1) infinite;\n",
              "  }\n",
              "\n",
              "  @keyframes spin {\n",
              "    0% {\n",
              "      border-color: transparent;\n",
              "      border-bottom-color: var(--fill-color);\n",
              "      border-left-color: var(--fill-color);\n",
              "    }\n",
              "    20% {\n",
              "      border-color: transparent;\n",
              "      border-left-color: var(--fill-color);\n",
              "      border-top-color: var(--fill-color);\n",
              "    }\n",
              "    30% {\n",
              "      border-color: transparent;\n",
              "      border-left-color: var(--fill-color);\n",
              "      border-top-color: var(--fill-color);\n",
              "      border-right-color: var(--fill-color);\n",
              "    }\n",
              "    40% {\n",
              "      border-color: transparent;\n",
              "      border-right-color: var(--fill-color);\n",
              "      border-top-color: var(--fill-color);\n",
              "    }\n",
              "    60% {\n",
              "      border-color: transparent;\n",
              "      border-right-color: var(--fill-color);\n",
              "    }\n",
              "    80% {\n",
              "      border-color: transparent;\n",
              "      border-right-color: var(--fill-color);\n",
              "      border-bottom-color: var(--fill-color);\n",
              "    }\n",
              "    90% {\n",
              "      border-color: transparent;\n",
              "      border-bottom-color: var(--fill-color);\n",
              "    }\n",
              "  }\n",
              "</style>\n",
              "\n",
              "      <script>\n",
              "        async function quickchart(key) {\n",
              "          const quickchartButtonEl =\n",
              "            document.querySelector('#' + key + ' button');\n",
              "          quickchartButtonEl.disabled = true;  // To prevent multiple clicks.\n",
              "          quickchartButtonEl.classList.add('colab-df-spinner');\n",
              "          try {\n",
              "            const charts = await google.colab.kernel.invokeFunction(\n",
              "                'suggestCharts', [key], {});\n",
              "          } catch (error) {\n",
              "            console.error('Error during call to suggestCharts:', error);\n",
              "          }\n",
              "          quickchartButtonEl.classList.remove('colab-df-spinner');\n",
              "          quickchartButtonEl.classList.add('colab-df-quickchart-complete');\n",
              "        }\n",
              "        (() => {\n",
              "          let quickchartButtonEl =\n",
              "            document.querySelector('#df-6d27c696-4da6-45ff-9d09-fca8b0a18d5b button');\n",
              "          quickchartButtonEl.style.display =\n",
              "            google.colab.kernel.accessAllowed ? 'block' : 'none';\n",
              "        })();\n",
              "      </script>\n",
              "    </div>\n",
              "\n",
              "    </div>\n",
              "  </div>\n"
            ],
            "application/vnd.google.colaboratory.intrinsic+json": {
              "type": "dataframe",
              "summary": "{\n  \"name\": \"                                 'Mod\\u00e8le Conv1D (window=7, horizon=1)'])\",\n  \"rows\": 4,\n  \"fields\": [\n    {\n      \"column\": \"mae\",\n      \"properties\": {\n        \"dtype\": \"number\",\n        \"std\": 114.65315711407614,\n        \"min\": 1697.3713890678694,\n        \"max\": 1967.742829436189,\n        \"num_unique_values\": 4,\n        \"samples\": [\n          1767.8159617456897,\n          1799.9371632543102,\n          1697.3713890678694\n        ],\n        \"semantic_type\": \"\",\n        \"description\": \"\"\n      }\n    },\n    {\n      \"column\": \"mse\",\n      \"properties\": {\n        \"dtype\": \"number\",\n        \"std\": 685500.836184455,\n        \"min\": 5585987.822268089,\n        \"max\": 7145469.39221058,\n        \"num_unique_values\": 4,\n        \"samples\": [\n          5841421.562900254,\n          6072764.530119324,\n          5585987.822268089\n        ],\n        \"semantic_type\": \"\",\n        \"description\": \"\"\n      }\n    },\n    {\n      \"column\": \"rmse\",\n      \"properties\": {\n        \"dtype\": \"number\",\n        \"std\": 135.5161779661492,\n        \"min\": 2363.469446019578,\n        \"max\": 2673.101081555013,\n        \"num_unique_values\": 4,\n        \"samples\": [\n          2416.903300279151,\n          2464.297979165532,\n          2363.469446019578\n        ],\n        \"semantic_type\": \"\",\n        \"description\": \"\"\n      }\n    },\n    {\n      \"column\": \"mape\",\n      \"properties\": {\n        \"dtype\": \"number\",\n        \"std\": 0.0014983656062719757,\n        \"min\": 0.022246845536427112,\n        \"max\": 0.02576487156187364,\n        \"num_unique_values\": 4,\n        \"samples\": [\n          0.023121652747796338,\n          0.02352553719700063,\n          0.022246845536427112\n        ],\n        \"semantic_type\": \"\",\n        \"description\": \"\"\n      }\n    },\n    {\n      \"column\": \"mase\",\n      \"properties\": {\n        \"dtype\": \"number\",\n        \"std\": 0.06596427509813119,\n        \"min\": 0.9970004418033657,\n        \"max\": 1.151785458677612,\n        \"num_unique_values\": 4,\n        \"samples\": [\n          1.0350261741284141,\n          1.0538325912132815,\n          0.9970004418033657\n        ],\n        \"semantic_type\": \"\",\n        \"description\": \"\"\n      }\n    }\n  ]\n}"
            }
          },
          "metadata": {},
          "execution_count": 303
        }
      ],
      "source": [
        "pd.DataFrame(list_of_dict,index=['Modèle naif',\n",
        "                                 'Modèle dense (window=7, horizon=1)',\n",
        "                                 'Modèle dense (window=30, horizon=1)',\n",
        "                                 'Modèle Conv1D (window=7, horizon=1)'])"
      ]
    },
    {
      "cell_type": "markdown",
      "id": "be221d7a",
      "metadata": {
        "id": "be221d7a"
      },
      "source": [
        "Nous voyons clairement que notre modèle de réseaux de neurones récurrents performe mieux que le modèle dense de 30 jours et 1 jour et moins bien toujours que le modèle naif. Le modèle naif est un benchmark et constitue par conséquent un socle sur lequel s'appuyer pour evaluer la performance de nos modèles prédictifs.Jusqu'à l'heure actuelle, il performe mieux que les autres.\n",
        "\n",
        "Nous allons a présent, utiliser un autre type de réseaux de neurones récurrents : les **LSTM**. Les LSTM sont des réseaux de neurones qui conservent la mémoire a court terme de données séquentielles. Autrement dit, comment se comporterait un modèle de DL prédictif du prix du __BTC__ sachant que ce dernier se rappelle de son passé court ? Intuitivement, on se dit qu'il devrait performer mieux que le modèle 1 semaine 1 jour pour **suffisamment** se rapprocher du modèle naif."
      ]
    },
    {
      "cell_type": "markdown",
      "id": "70a569f0",
      "metadata": {
        "id": "70a569f0"
      },
      "source": [
        "# Modèle 4 : Réseaux de neurones récurrents RNN (LSTM)"
      ]
    },
    {
      "cell_type": "markdown",
      "id": "62dd84bf",
      "metadata": {
        "id": "62dd84bf"
      },
      "source": [
        "Le principe d'un RNN est simple : Utiliser des informations du passé pour nous aider avec l'avenir (c'est là que vient le terme \"récurrent\"). En d'autres termes, prendre une entrée (X) et calculer une sortie (y) en fonction de toutes les entrées précédentes.\n",
        "\n",
        "Ce concept est particulièrement utile lorsqu'il s'agit de séquences telles que des passages de texte en langage naturel (comme des tweets). Vu que notre série temporelle est une suite séquentielle nous pouvons donc utiliser un LSTM."
      ]
    },
    {
      "cell_type": "code",
      "execution_count": 405,
      "id": "197e9b30",
      "metadata": {
        "id": "197e9b30"
      },
      "outputs": [],
      "source": [
        "HORIZON = 1\n",
        "WINDOW =7\n",
        "full_windows, full_labels = make_windows(prices, window_size=WINDOW, horizon=HORIZON)\n",
        "train_windows, test_windows, train_labels, test_labels = make_train_test_split(full_windows, full_labels)"
      ]
    },
    {
      "cell_type": "code",
      "execution_count": 411,
      "id": "82edd3fc",
      "metadata": {
        "colab": {
          "base_uri": "https://localhost:8080/"
        },
        "id": "82edd3fc",
        "outputId": "d36d1f98-f3ac-4749-a358-e808e4b833da"
      },
      "outputs": [
        {
          "output_type": "stream",
          "name": "stdout",
          "text": [
            "Epoch 1/300\n",
            "\u001b[1m37/37\u001b[0m \u001b[32m━━━━━━━━━━━━━━━━━━━━\u001b[0m\u001b[37m\u001b[0m \u001b[1m3s\u001b[0m 17ms/step - loss: 27450.5723 - mae: 27450.5723 - val_loss: 50067.4414 - val_mae: 50067.4414\n",
            "Epoch 2/300\n",
            "\u001b[1m37/37\u001b[0m \u001b[32m━━━━━━━━━━━━━━━━━━━━\u001b[0m\u001b[37m\u001b[0m \u001b[1m0s\u001b[0m 7ms/step - loss: 14540.0996 - mae: 14540.0996 - val_loss: 2686.7134 - val_mae: 2686.7134\n",
            "Epoch 3/300\n",
            "\u001b[1m37/37\u001b[0m \u001b[32m━━━━━━━━━━━━━━━━━━━━\u001b[0m\u001b[37m\u001b[0m \u001b[1m0s\u001b[0m 6ms/step - loss: 1623.4054 - mae: 1623.4054 - val_loss: 2704.2271 - val_mae: 2704.2271\n",
            "Epoch 4/300\n",
            "\u001b[1m37/37\u001b[0m \u001b[32m━━━━━━━━━━━━━━━━━━━━\u001b[0m\u001b[37m\u001b[0m \u001b[1m0s\u001b[0m 8ms/step - loss: 1322.3989 - mae: 1322.3989 - val_loss: 2614.0500 - val_mae: 2614.0500\n",
            "Epoch 5/300\n",
            "\u001b[1m37/37\u001b[0m \u001b[32m━━━━━━━━━━━━━━━━━━━━\u001b[0m\u001b[37m\u001b[0m \u001b[1m0s\u001b[0m 8ms/step - loss: 1309.9419 - mae: 1309.9419 - val_loss: 2604.4458 - val_mae: 2604.4458\n",
            "Epoch 6/300\n",
            "\u001b[1m37/37\u001b[0m \u001b[32m━━━━━━━━━━━━━━━━━━━━\u001b[0m\u001b[37m\u001b[0m \u001b[1m1s\u001b[0m 7ms/step - loss: 1302.5438 - mae: 1302.5438 - val_loss: 2588.1211 - val_mae: 2588.1211\n",
            "Epoch 7/300\n",
            "\u001b[1m37/37\u001b[0m \u001b[32m━━━━━━━━━━━━━━━━━━━━\u001b[0m\u001b[37m\u001b[0m \u001b[1m0s\u001b[0m 6ms/step - loss: 1295.5637 - mae: 1295.5637 - val_loss: 2590.2856 - val_mae: 2590.2856\n",
            "Epoch 8/300\n",
            "\u001b[1m37/37\u001b[0m \u001b[32m━━━━━━━━━━━━━━━━━━━━\u001b[0m\u001b[37m\u001b[0m \u001b[1m0s\u001b[0m 7ms/step - loss: 1288.2131 - mae: 1288.2131 - val_loss: 2568.5103 - val_mae: 2568.5103\n",
            "Epoch 9/300\n",
            "\u001b[1m37/37\u001b[0m \u001b[32m━━━━━━━━━━━━━━━━━━━━\u001b[0m\u001b[37m\u001b[0m \u001b[1m0s\u001b[0m 7ms/step - loss: 1278.8923 - mae: 1278.8923 - val_loss: 2554.0417 - val_mae: 2554.0417\n",
            "Epoch 10/300\n",
            "\u001b[1m37/37\u001b[0m \u001b[32m━━━━━━━━━━━━━━━━━━━━\u001b[0m\u001b[37m\u001b[0m \u001b[1m0s\u001b[0m 7ms/step - loss: 1270.2836 - mae: 1270.2836 - val_loss: 2536.9258 - val_mae: 2536.9258\n",
            "Epoch 11/300\n",
            "\u001b[1m37/37\u001b[0m \u001b[32m━━━━━━━━━━━━━━━━━━━━\u001b[0m\u001b[37m\u001b[0m \u001b[1m0s\u001b[0m 7ms/step - loss: 1259.5995 - mae: 1259.5995 - val_loss: 2534.0164 - val_mae: 2534.0164\n",
            "Epoch 12/300\n",
            "\u001b[1m37/37\u001b[0m \u001b[32m━━━━━━━━━━━━━━━━━━━━\u001b[0m\u001b[37m\u001b[0m \u001b[1m0s\u001b[0m 7ms/step - loss: 1250.9260 - mae: 1250.9260 - val_loss: 2510.5908 - val_mae: 2510.5908\n",
            "Epoch 13/300\n",
            "\u001b[1m37/37\u001b[0m \u001b[32m━━━━━━━━━━━━━━━━━━━━\u001b[0m\u001b[37m\u001b[0m \u001b[1m0s\u001b[0m 7ms/step - loss: 1240.6433 - mae: 1240.6433 - val_loss: 2488.0872 - val_mae: 2488.0872\n",
            "Epoch 14/300\n",
            "\u001b[1m37/37\u001b[0m \u001b[32m━━━━━━━━━━━━━━━━━━━━\u001b[0m\u001b[37m\u001b[0m \u001b[1m0s\u001b[0m 7ms/step - loss: 1229.9119 - mae: 1229.9119 - val_loss: 2479.9275 - val_mae: 2479.9275\n",
            "Epoch 15/300\n",
            "\u001b[1m37/37\u001b[0m \u001b[32m━━━━━━━━━━━━━━━━━━━━\u001b[0m\u001b[37m\u001b[0m \u001b[1m0s\u001b[0m 7ms/step - loss: 1220.8995 - mae: 1220.8995 - val_loss: 2447.0312 - val_mae: 2447.0312\n",
            "Epoch 16/300\n",
            "\u001b[1m37/37\u001b[0m \u001b[32m━━━━━━━━━━━━━━━━━━━━\u001b[0m\u001b[37m\u001b[0m \u001b[1m0s\u001b[0m 7ms/step - loss: 1209.3932 - mae: 1209.3932 - val_loss: 2430.3398 - val_mae: 2430.3398\n",
            "Epoch 17/300\n",
            "\u001b[1m37/37\u001b[0m \u001b[32m━━━━━━━━━━━━━━━━━━━━\u001b[0m\u001b[37m\u001b[0m \u001b[1m0s\u001b[0m 7ms/step - loss: 1198.7106 - mae: 1198.7106 - val_loss: 2412.7656 - val_mae: 2412.7656\n",
            "Epoch 18/300\n",
            "\u001b[1m37/37\u001b[0m \u001b[32m━━━━━━━━━━━━━━━━━━━━\u001b[0m\u001b[37m\u001b[0m \u001b[1m0s\u001b[0m 7ms/step - loss: 1189.3607 - mae: 1189.3607 - val_loss: 2385.7544 - val_mae: 2385.7544\n",
            "Epoch 19/300\n",
            "\u001b[1m37/37\u001b[0m \u001b[32m━━━━━━━━━━━━━━━━━━━━\u001b[0m\u001b[37m\u001b[0m \u001b[1m0s\u001b[0m 7ms/step - loss: 1177.8606 - mae: 1177.8606 - val_loss: 2370.3481 - val_mae: 2370.3481\n",
            "Epoch 20/300\n",
            "\u001b[1m37/37\u001b[0m \u001b[32m━━━━━━━━━━━━━━━━━━━━\u001b[0m\u001b[37m\u001b[0m \u001b[1m0s\u001b[0m 7ms/step - loss: 1167.3430 - mae: 1167.3430 - val_loss: 2353.4604 - val_mae: 2353.4604\n",
            "Epoch 21/300\n",
            "\u001b[1m37/37\u001b[0m \u001b[32m━━━━━━━━━━━━━━━━━━━━\u001b[0m\u001b[37m\u001b[0m \u001b[1m0s\u001b[0m 7ms/step - loss: 1158.7902 - mae: 1158.7902 - val_loss: 2336.5835 - val_mae: 2336.5835\n",
            "Epoch 22/300\n",
            "\u001b[1m37/37\u001b[0m \u001b[32m━━━━━━━━━━━━━━━━━━━━\u001b[0m\u001b[37m\u001b[0m \u001b[1m0s\u001b[0m 8ms/step - loss: 1148.7017 - mae: 1148.7017 - val_loss: 2318.8223 - val_mae: 2318.8223\n",
            "Epoch 23/300\n",
            "\u001b[1m37/37\u001b[0m \u001b[32m━━━━━━━━━━━━━━━━━━━━\u001b[0m\u001b[37m\u001b[0m \u001b[1m1s\u001b[0m 7ms/step - loss: 1140.2695 - mae: 1140.2695 - val_loss: 2299.9802 - val_mae: 2299.9802\n",
            "Epoch 24/300\n",
            "\u001b[1m37/37\u001b[0m \u001b[32m━━━━━━━━━━━━━━━━━━━━\u001b[0m\u001b[37m\u001b[0m \u001b[1m0s\u001b[0m 7ms/step - loss: 1129.3176 - mae: 1129.3176 - val_loss: 2279.5449 - val_mae: 2279.5449\n",
            "Epoch 25/300\n",
            "\u001b[1m37/37\u001b[0m \u001b[32m━━━━━━━━━━━━━━━━━━━━\u001b[0m\u001b[37m\u001b[0m \u001b[1m0s\u001b[0m 7ms/step - loss: 1121.1471 - mae: 1121.1471 - val_loss: 2262.1746 - val_mae: 2262.1746\n",
            "Epoch 26/300\n",
            "\u001b[1m37/37\u001b[0m \u001b[32m━━━━━━━━━━━━━━━━━━━━\u001b[0m\u001b[37m\u001b[0m \u001b[1m0s\u001b[0m 11ms/step - loss: 1111.0321 - mae: 1111.0321 - val_loss: 2253.9177 - val_mae: 2253.9177\n",
            "Epoch 27/300\n",
            "\u001b[1m37/37\u001b[0m \u001b[32m━━━━━━━━━━━━━━━━━━━━\u001b[0m\u001b[37m\u001b[0m \u001b[1m0s\u001b[0m 11ms/step - loss: 1101.8142 - mae: 1101.8142 - val_loss: 2237.5476 - val_mae: 2237.5476\n",
            "Epoch 28/300\n",
            "\u001b[1m37/37\u001b[0m \u001b[32m━━━━━━━━━━━━━━━━━━━━\u001b[0m\u001b[37m\u001b[0m \u001b[1m0s\u001b[0m 10ms/step - loss: 1092.8394 - mae: 1092.8394 - val_loss: 2215.8323 - val_mae: 2215.8323\n",
            "Epoch 29/300\n",
            "\u001b[1m37/37\u001b[0m \u001b[32m━━━━━━━━━━━━━━━━━━━━\u001b[0m\u001b[37m\u001b[0m \u001b[1m1s\u001b[0m 14ms/step - loss: 1081.8141 - mae: 1081.8141 - val_loss: 2202.6853 - val_mae: 2202.6853\n",
            "Epoch 30/300\n",
            "\u001b[1m37/37\u001b[0m \u001b[32m━━━━━━━━━━━━━━━━━━━━\u001b[0m\u001b[37m\u001b[0m \u001b[1m0s\u001b[0m 9ms/step - loss: 1076.8560 - mae: 1076.8560 - val_loss: 2177.5010 - val_mae: 2177.5010\n",
            "Epoch 31/300\n",
            "\u001b[1m37/37\u001b[0m \u001b[32m━━━━━━━━━━━━━━━━━━━━\u001b[0m\u001b[37m\u001b[0m \u001b[1m1s\u001b[0m 7ms/step - loss: 1063.9558 - mae: 1063.9558 - val_loss: 2200.9146 - val_mae: 2200.9146\n",
            "Epoch 32/300\n",
            "\u001b[1m37/37\u001b[0m \u001b[32m━━━━━━━━━━━━━━━━━━━━\u001b[0m\u001b[37m\u001b[0m \u001b[1m0s\u001b[0m 7ms/step - loss: 1057.0729 - mae: 1057.0729 - val_loss: 2168.3506 - val_mae: 2168.3506\n",
            "Epoch 33/300\n",
            "\u001b[1m37/37\u001b[0m \u001b[32m━━━━━━━━━━━━━━━━━━━━\u001b[0m\u001b[37m\u001b[0m \u001b[1m0s\u001b[0m 7ms/step - loss: 1051.0636 - mae: 1051.0636 - val_loss: 2134.0576 - val_mae: 2134.0576\n",
            "Epoch 34/300\n",
            "\u001b[1m37/37\u001b[0m \u001b[32m━━━━━━━━━━━━━━━━━━━━\u001b[0m\u001b[37m\u001b[0m \u001b[1m0s\u001b[0m 6ms/step - loss: 1042.8899 - mae: 1042.8899 - val_loss: 2136.3618 - val_mae: 2136.3618\n",
            "Epoch 35/300\n",
            "\u001b[1m37/37\u001b[0m \u001b[32m━━━━━━━━━━━━━━━━━━━━\u001b[0m\u001b[37m\u001b[0m \u001b[1m0s\u001b[0m 6ms/step - loss: 1031.4653 - mae: 1031.4653 - val_loss: 2173.7998 - val_mae: 2173.7998\n",
            "Epoch 36/300\n",
            "\u001b[1m37/37\u001b[0m \u001b[32m━━━━━━━━━━━━━━━━━━━━\u001b[0m\u001b[37m\u001b[0m \u001b[1m0s\u001b[0m 8ms/step - loss: 1023.6106 - mae: 1023.6106 - val_loss: 2105.9927 - val_mae: 2105.9927\n",
            "Epoch 37/300\n",
            "\u001b[1m37/37\u001b[0m \u001b[32m━━━━━━━━━━━━━━━━━━━━\u001b[0m\u001b[37m\u001b[0m \u001b[1m0s\u001b[0m 6ms/step - loss: 1016.2558 - mae: 1016.2558 - val_loss: 2126.8545 - val_mae: 2126.8545\n",
            "Epoch 38/300\n",
            "\u001b[1m37/37\u001b[0m \u001b[32m━━━━━━━━━━━━━━━━━━━━\u001b[0m\u001b[37m\u001b[0m \u001b[1m0s\u001b[0m 7ms/step - loss: 1008.6390 - mae: 1008.6390 - val_loss: 2076.9448 - val_mae: 2076.9448\n",
            "Epoch 39/300\n",
            "\u001b[1m37/37\u001b[0m \u001b[32m━━━━━━━━━━━━━━━━━━━━\u001b[0m\u001b[37m\u001b[0m \u001b[1m0s\u001b[0m 7ms/step - loss: 995.7806 - mae: 995.7806 - val_loss: 2066.3389 - val_mae: 2066.3389\n",
            "Epoch 40/300\n",
            "\u001b[1m37/37\u001b[0m \u001b[32m━━━━━━━━━━━━━━━━━━━━\u001b[0m\u001b[37m\u001b[0m \u001b[1m0s\u001b[0m 7ms/step - loss: 986.8656 - mae: 986.8656 - val_loss: 2061.2212 - val_mae: 2061.2212\n",
            "Epoch 41/300\n",
            "\u001b[1m37/37\u001b[0m \u001b[32m━━━━━━━━━━━━━━━━━━━━\u001b[0m\u001b[37m\u001b[0m \u001b[1m0s\u001b[0m 7ms/step - loss: 982.2853 - mae: 982.2853 - val_loss: 2031.6515 - val_mae: 2031.6515\n",
            "Epoch 42/300\n",
            "\u001b[1m37/37\u001b[0m \u001b[32m━━━━━━━━━━━━━━━━━━━━\u001b[0m\u001b[37m\u001b[0m \u001b[1m0s\u001b[0m 6ms/step - loss: 969.9662 - mae: 969.9662 - val_loss: 2104.6333 - val_mae: 2104.6333\n",
            "Epoch 43/300\n",
            "\u001b[1m37/37\u001b[0m \u001b[32m━━━━━━━━━━━━━━━━━━━━\u001b[0m\u001b[37m\u001b[0m \u001b[1m0s\u001b[0m 6ms/step - loss: 971.5937 - mae: 971.5937 - val_loss: 2049.3574 - val_mae: 2049.3574\n",
            "Epoch 44/300\n",
            "\u001b[1m37/37\u001b[0m \u001b[32m━━━━━━━━━━━━━━━━━━━━\u001b[0m\u001b[37m\u001b[0m \u001b[1m0s\u001b[0m 7ms/step - loss: 962.5130 - mae: 962.5130 - val_loss: 2004.4893 - val_mae: 2004.4893\n",
            "Epoch 45/300\n",
            "\u001b[1m37/37\u001b[0m \u001b[32m━━━━━━━━━━━━━━━━━━━━\u001b[0m\u001b[37m\u001b[0m \u001b[1m0s\u001b[0m 6ms/step - loss: 955.6904 - mae: 955.6904 - val_loss: 2017.4677 - val_mae: 2017.4677\n",
            "Epoch 46/300\n",
            "\u001b[1m37/37\u001b[0m \u001b[32m━━━━━━━━━━━━━━━━━━━━\u001b[0m\u001b[37m\u001b[0m \u001b[1m0s\u001b[0m 7ms/step - loss: 951.1865 - mae: 951.1865 - val_loss: 2002.6580 - val_mae: 2002.6580\n",
            "Epoch 47/300\n",
            "\u001b[1m37/37\u001b[0m \u001b[32m━━━━━━━━━━━━━━━━━━━━\u001b[0m\u001b[37m\u001b[0m \u001b[1m0s\u001b[0m 7ms/step - loss: 945.4934 - mae: 945.4934 - val_loss: 1972.4048 - val_mae: 1972.4048\n",
            "Epoch 48/300\n",
            "\u001b[1m37/37\u001b[0m \u001b[32m━━━━━━━━━━━━━━━━━━━━\u001b[0m\u001b[37m\u001b[0m \u001b[1m0s\u001b[0m 6ms/step - loss: 942.9991 - mae: 942.9991 - val_loss: 1995.2761 - val_mae: 1995.2761\n",
            "Epoch 49/300\n",
            "\u001b[1m37/37\u001b[0m \u001b[32m━━━━━━━━━━━━━━━━━━━━\u001b[0m\u001b[37m\u001b[0m \u001b[1m0s\u001b[0m 7ms/step - loss: 934.1888 - mae: 934.1888 - val_loss: 2003.0002 - val_mae: 2003.0002\n",
            "Epoch 50/300\n",
            "\u001b[1m37/37\u001b[0m \u001b[32m━━━━━━━━━━━━━━━━━━━━\u001b[0m\u001b[37m\u001b[0m \u001b[1m0s\u001b[0m 7ms/step - loss: 928.4405 - mae: 928.4405 - val_loss: 1955.4674 - val_mae: 1955.4674\n",
            "Epoch 51/300\n",
            "\u001b[1m37/37\u001b[0m \u001b[32m━━━━━━━━━━━━━━━━━━━━\u001b[0m\u001b[37m\u001b[0m \u001b[1m0s\u001b[0m 7ms/step - loss: 930.9493 - mae: 930.9493 - val_loss: 1941.6427 - val_mae: 1941.6427\n",
            "Epoch 52/300\n",
            "\u001b[1m37/37\u001b[0m \u001b[32m━━━━━━━━━━━━━━━━━━━━\u001b[0m\u001b[37m\u001b[0m \u001b[1m0s\u001b[0m 6ms/step - loss: 923.8673 - mae: 923.8673 - val_loss: 1962.0242 - val_mae: 1962.0242\n",
            "Epoch 53/300\n",
            "\u001b[1m37/37\u001b[0m \u001b[32m━━━━━━━━━━━━━━━━━━━━\u001b[0m\u001b[37m\u001b[0m \u001b[1m0s\u001b[0m 7ms/step - loss: 919.5677 - mae: 919.5677 - val_loss: 1937.6884 - val_mae: 1937.6884\n",
            "Epoch 54/300\n",
            "\u001b[1m37/37\u001b[0m \u001b[32m━━━━━━━━━━━━━━━━━━━━\u001b[0m\u001b[37m\u001b[0m \u001b[1m0s\u001b[0m 7ms/step - loss: 916.7380 - mae: 916.7380 - val_loss: 1947.5980 - val_mae: 1947.5980\n",
            "Epoch 55/300\n",
            "\u001b[1m37/37\u001b[0m \u001b[32m━━━━━━━━━━━━━━━━━━━━\u001b[0m\u001b[37m\u001b[0m \u001b[1m0s\u001b[0m 7ms/step - loss: 908.5903 - mae: 908.5903 - val_loss: 1932.4429 - val_mae: 1932.4429\n",
            "Epoch 56/300\n",
            "\u001b[1m37/37\u001b[0m \u001b[32m━━━━━━━━━━━━━━━━━━━━\u001b[0m\u001b[37m\u001b[0m \u001b[1m0s\u001b[0m 7ms/step - loss: 905.3899 - mae: 905.3899 - val_loss: 1911.4307 - val_mae: 1911.4307\n",
            "Epoch 57/300\n",
            "\u001b[1m37/37\u001b[0m \u001b[32m━━━━━━━━━━━━━━━━━━━━\u001b[0m\u001b[37m\u001b[0m \u001b[1m0s\u001b[0m 6ms/step - loss: 903.9781 - mae: 903.9781 - val_loss: 1915.7756 - val_mae: 1915.7756\n",
            "Epoch 58/300\n",
            "\u001b[1m37/37\u001b[0m \u001b[32m━━━━━━━━━━━━━━━━━━━━\u001b[0m\u001b[37m\u001b[0m \u001b[1m0s\u001b[0m 6ms/step - loss: 903.0562 - mae: 903.0562 - val_loss: 1934.8781 - val_mae: 1934.8781\n",
            "Epoch 59/300\n",
            "\u001b[1m37/37\u001b[0m \u001b[32m━━━━━━━━━━━━━━━━━━━━\u001b[0m\u001b[37m\u001b[0m \u001b[1m0s\u001b[0m 6ms/step - loss: 905.7888 - mae: 905.7888 - val_loss: 1933.5381 - val_mae: 1933.5381\n",
            "Epoch 60/300\n",
            "\u001b[1m37/37\u001b[0m \u001b[32m━━━━━━━━━━━━━━━━━━━━\u001b[0m\u001b[37m\u001b[0m \u001b[1m0s\u001b[0m 8ms/step - loss: 901.8878 - mae: 901.8878 - val_loss: 1892.5952 - val_mae: 1892.5952\n",
            "Epoch 61/300\n",
            "\u001b[1m37/37\u001b[0m \u001b[32m━━━━━━━━━━━━━━━━━━━━\u001b[0m\u001b[37m\u001b[0m \u001b[1m0s\u001b[0m 6ms/step - loss: 895.6130 - mae: 895.6130 - val_loss: 1935.4338 - val_mae: 1935.4338\n",
            "Epoch 62/300\n",
            "\u001b[1m37/37\u001b[0m \u001b[32m━━━━━━━━━━━━━━━━━━━━\u001b[0m\u001b[37m\u001b[0m \u001b[1m0s\u001b[0m 6ms/step - loss: 887.5886 - mae: 887.5886 - val_loss: 1892.6793 - val_mae: 1892.6793\n",
            "Epoch 63/300\n",
            "\u001b[1m37/37\u001b[0m \u001b[32m━━━━━━━━━━━━━━━━━━━━\u001b[0m\u001b[37m\u001b[0m \u001b[1m0s\u001b[0m 7ms/step - loss: 887.1176 - mae: 887.1176 - val_loss: 1898.8386 - val_mae: 1898.8386\n",
            "Epoch 64/300\n",
            "\u001b[1m37/37\u001b[0m \u001b[32m━━━━━━━━━━━━━━━━━━━━\u001b[0m\u001b[37m\u001b[0m \u001b[1m0s\u001b[0m 7ms/step - loss: 894.2827 - mae: 894.2827 - val_loss: 1943.8148 - val_mae: 1943.8148\n",
            "Epoch 65/300\n",
            "\u001b[1m37/37\u001b[0m \u001b[32m━━━━━━━━━━━━━━━━━━━━\u001b[0m\u001b[37m\u001b[0m \u001b[1m0s\u001b[0m 10ms/step - loss: 884.5355 - mae: 884.5355 - val_loss: 1872.0006 - val_mae: 1872.0006\n",
            "Epoch 66/300\n",
            "\u001b[1m37/37\u001b[0m \u001b[32m━━━━━━━━━━━━━━━━━━━━\u001b[0m\u001b[37m\u001b[0m \u001b[1m1s\u001b[0m 10ms/step - loss: 884.3931 - mae: 884.3931 - val_loss: 1919.2095 - val_mae: 1919.2095\n",
            "Epoch 67/300\n",
            "\u001b[1m37/37\u001b[0m \u001b[32m━━━━━━━━━━━━━━━━━━━━\u001b[0m\u001b[37m\u001b[0m \u001b[1m0s\u001b[0m 9ms/step - loss: 870.8719 - mae: 870.8719 - val_loss: 1872.3112 - val_mae: 1872.3112\n",
            "Epoch 68/300\n",
            "\u001b[1m37/37\u001b[0m \u001b[32m━━━━━━━━━━━━━━━━━━━━\u001b[0m\u001b[37m\u001b[0m \u001b[1m1s\u001b[0m 14ms/step - loss: 873.4218 - mae: 873.4218 - val_loss: 1859.2550 - val_mae: 1859.2550\n",
            "Epoch 69/300\n",
            "\u001b[1m37/37\u001b[0m \u001b[32m━━━━━━━━━━━━━━━━━━━━\u001b[0m\u001b[37m\u001b[0m \u001b[1m0s\u001b[0m 6ms/step - loss: 877.0974 - mae: 877.0974 - val_loss: 1868.6450 - val_mae: 1868.6450\n",
            "Epoch 70/300\n",
            "\u001b[1m37/37\u001b[0m \u001b[32m━━━━━━━━━━━━━━━━━━━━\u001b[0m\u001b[37m\u001b[0m \u001b[1m0s\u001b[0m 7ms/step - loss: 877.9777 - mae: 877.9777 - val_loss: 1884.9578 - val_mae: 1884.9578\n",
            "Epoch 71/300\n",
            "\u001b[1m37/37\u001b[0m \u001b[32m━━━━━━━━━━━━━━━━━━━━\u001b[0m\u001b[37m\u001b[0m \u001b[1m0s\u001b[0m 8ms/step - loss: 868.2295 - mae: 868.2295 - val_loss: 1863.8412 - val_mae: 1863.8412\n",
            "Epoch 72/300\n",
            "\u001b[1m37/37\u001b[0m \u001b[32m━━━━━━━━━━━━━━━━━━━━\u001b[0m\u001b[37m\u001b[0m \u001b[1m0s\u001b[0m 6ms/step - loss: 867.8967 - mae: 867.8967 - val_loss: 1872.8229 - val_mae: 1872.8229\n",
            "Epoch 73/300\n",
            "\u001b[1m37/37\u001b[0m \u001b[32m━━━━━━━━━━━━━━━━━━━━\u001b[0m\u001b[37m\u001b[0m \u001b[1m0s\u001b[0m 7ms/step - loss: 863.2372 - mae: 863.2372 - val_loss: 1861.6284 - val_mae: 1861.6284\n",
            "Epoch 74/300\n",
            "\u001b[1m37/37\u001b[0m \u001b[32m━━━━━━━━━━━━━━━━━━━━\u001b[0m\u001b[37m\u001b[0m \u001b[1m0s\u001b[0m 7ms/step - loss: 865.5401 - mae: 865.5401 - val_loss: 1866.1888 - val_mae: 1866.1888\n",
            "Epoch 75/300\n",
            "\u001b[1m37/37\u001b[0m \u001b[32m━━━━━━━━━━━━━━━━━━━━\u001b[0m\u001b[37m\u001b[0m \u001b[1m0s\u001b[0m 6ms/step - loss: 863.1694 - mae: 863.1694 - val_loss: 1862.5493 - val_mae: 1862.5493\n",
            "Epoch 76/300\n",
            "\u001b[1m37/37\u001b[0m \u001b[32m━━━━━━━━━━━━━━━━━━━━\u001b[0m\u001b[37m\u001b[0m \u001b[1m0s\u001b[0m 8ms/step - loss: 862.3934 - mae: 862.3934 - val_loss: 1844.0437 - val_mae: 1844.0437\n",
            "Epoch 77/300\n",
            "\u001b[1m37/37\u001b[0m \u001b[32m━━━━━━━━━━━━━━━━━━━━\u001b[0m\u001b[37m\u001b[0m \u001b[1m0s\u001b[0m 7ms/step - loss: 861.0375 - mae: 861.0375 - val_loss: 1838.4662 - val_mae: 1838.4662\n",
            "Epoch 78/300\n",
            "\u001b[1m37/37\u001b[0m \u001b[32m━━━━━━━━━━━━━━━━━━━━\u001b[0m\u001b[37m\u001b[0m \u001b[1m0s\u001b[0m 7ms/step - loss: 859.6648 - mae: 859.6648 - val_loss: 1839.1431 - val_mae: 1839.1431\n",
            "Epoch 79/300\n",
            "\u001b[1m37/37\u001b[0m \u001b[32m━━━━━━━━━━━━━━━━━━━━\u001b[0m\u001b[37m\u001b[0m \u001b[1m0s\u001b[0m 7ms/step - loss: 861.6144 - mae: 861.6144 - val_loss: 1835.3004 - val_mae: 1835.3004\n",
            "Epoch 80/300\n",
            "\u001b[1m37/37\u001b[0m \u001b[32m━━━━━━━━━━━━━━━━━━━━\u001b[0m\u001b[37m\u001b[0m \u001b[1m0s\u001b[0m 7ms/step - loss: 856.9939 - mae: 856.9939 - val_loss: 1828.4739 - val_mae: 1828.4739\n",
            "Epoch 81/300\n",
            "\u001b[1m37/37\u001b[0m \u001b[32m━━━━━━━━━━━━━━━━━━━━\u001b[0m\u001b[37m\u001b[0m \u001b[1m0s\u001b[0m 7ms/step - loss: 862.3143 - mae: 862.3143 - val_loss: 1846.8083 - val_mae: 1846.8083\n",
            "Epoch 82/300\n",
            "\u001b[1m37/37\u001b[0m \u001b[32m━━━━━━━━━━━━━━━━━━━━\u001b[0m\u001b[37m\u001b[0m \u001b[1m0s\u001b[0m 7ms/step - loss: 860.4609 - mae: 860.4609 - val_loss: 1828.4659 - val_mae: 1828.4659\n",
            "Epoch 83/300\n",
            "\u001b[1m37/37\u001b[0m \u001b[32m━━━━━━━━━━━━━━━━━━━━\u001b[0m\u001b[37m\u001b[0m \u001b[1m0s\u001b[0m 8ms/step - loss: 858.6869 - mae: 858.6869 - val_loss: 1825.7705 - val_mae: 1825.7705\n",
            "Epoch 84/300\n",
            "\u001b[1m37/37\u001b[0m \u001b[32m━━━━━━━━━━━━━━━━━━━━\u001b[0m\u001b[37m\u001b[0m \u001b[1m0s\u001b[0m 6ms/step - loss: 850.2713 - mae: 850.2713 - val_loss: 1827.8798 - val_mae: 1827.8798\n",
            "Epoch 85/300\n",
            "\u001b[1m37/37\u001b[0m \u001b[32m━━━━━━━━━━━━━━━━━━━━\u001b[0m\u001b[37m\u001b[0m \u001b[1m0s\u001b[0m 7ms/step - loss: 857.6223 - mae: 857.6223 - val_loss: 1839.6125 - val_mae: 1839.6125\n",
            "Epoch 86/300\n",
            "\u001b[1m37/37\u001b[0m \u001b[32m━━━━━━━━━━━━━━━━━━━━\u001b[0m\u001b[37m\u001b[0m \u001b[1m0s\u001b[0m 6ms/step - loss: 852.4363 - mae: 852.4363 - val_loss: 1838.6062 - val_mae: 1838.6062\n",
            "Epoch 87/300\n",
            "\u001b[1m37/37\u001b[0m \u001b[32m━━━━━━━━━━━━━━━━━━━━\u001b[0m\u001b[37m\u001b[0m \u001b[1m0s\u001b[0m 7ms/step - loss: 851.9280 - mae: 851.9280 - val_loss: 1826.7269 - val_mae: 1826.7269\n",
            "Epoch 88/300\n",
            "\u001b[1m37/37\u001b[0m \u001b[32m━━━━━━━━━━━━━━━━━━━━\u001b[0m\u001b[37m\u001b[0m \u001b[1m0s\u001b[0m 6ms/step - loss: 854.4184 - mae: 854.4184 - val_loss: 1848.0239 - val_mae: 1848.0239\n",
            "Epoch 89/300\n",
            "\u001b[1m37/37\u001b[0m \u001b[32m━━━━━━━━━━━━━━━━━━━━\u001b[0m\u001b[37m\u001b[0m \u001b[1m0s\u001b[0m 7ms/step - loss: 843.0643 - mae: 843.0643 - val_loss: 1834.2599 - val_mae: 1834.2599\n",
            "Epoch 90/300\n",
            "\u001b[1m37/37\u001b[0m \u001b[32m━━━━━━━━━━━━━━━━━━━━\u001b[0m\u001b[37m\u001b[0m \u001b[1m0s\u001b[0m 6ms/step - loss: 842.3665 - mae: 842.3665 - val_loss: 1827.1205 - val_mae: 1827.1205\n",
            "Epoch 91/300\n",
            "\u001b[1m37/37\u001b[0m \u001b[32m━━━━━━━━━━━━━━━━━━━━\u001b[0m\u001b[37m\u001b[0m \u001b[1m0s\u001b[0m 6ms/step - loss: 843.1060 - mae: 843.1060 - val_loss: 1817.1205 - val_mae: 1817.1205\n",
            "Epoch 92/300\n",
            "\u001b[1m37/37\u001b[0m \u001b[32m━━━━━━━━━━━━━━━━━━━━\u001b[0m\u001b[37m\u001b[0m \u001b[1m0s\u001b[0m 6ms/step - loss: 850.6163 - mae: 850.6163 - val_loss: 1832.3823 - val_mae: 1832.3823\n",
            "Epoch 93/300\n",
            "\u001b[1m37/37\u001b[0m \u001b[32m━━━━━━━━━━━━━━━━━━━━\u001b[0m\u001b[37m\u001b[0m \u001b[1m0s\u001b[0m 6ms/step - loss: 842.1383 - mae: 842.1383 - val_loss: 1818.6282 - val_mae: 1818.6282\n",
            "Epoch 94/300\n",
            "\u001b[1m37/37\u001b[0m \u001b[32m━━━━━━━━━━━━━━━━━━━━\u001b[0m\u001b[37m\u001b[0m \u001b[1m0s\u001b[0m 6ms/step - loss: 844.8622 - mae: 844.8622 - val_loss: 1884.0901 - val_mae: 1884.0901\n",
            "Epoch 95/300\n",
            "\u001b[1m37/37\u001b[0m \u001b[32m━━━━━━━━━━━━━━━━━━━━\u001b[0m\u001b[37m\u001b[0m \u001b[1m0s\u001b[0m 7ms/step - loss: 832.1669 - mae: 832.1669 - val_loss: 1838.0754 - val_mae: 1838.0754\n",
            "Epoch 96/300\n",
            "\u001b[1m37/37\u001b[0m \u001b[32m━━━━━━━━━━━━━━━━━━━━\u001b[0m\u001b[37m\u001b[0m \u001b[1m0s\u001b[0m 6ms/step - loss: 826.0689 - mae: 826.0689 - val_loss: 1836.7013 - val_mae: 1836.7013\n",
            "Epoch 97/300\n",
            "\u001b[1m37/37\u001b[0m \u001b[32m━━━━━━━━━━━━━━━━━━━━\u001b[0m\u001b[37m\u001b[0m \u001b[1m0s\u001b[0m 7ms/step - loss: 825.2388 - mae: 825.2388 - val_loss: 1828.9254 - val_mae: 1828.9254\n",
            "Epoch 98/300\n",
            "\u001b[1m37/37\u001b[0m \u001b[32m━━━━━━━━━━━━━━━━━━━━\u001b[0m\u001b[37m\u001b[0m \u001b[1m0s\u001b[0m 7ms/step - loss: 825.9667 - mae: 825.9667 - val_loss: 1812.9957 - val_mae: 1812.9957\n",
            "Epoch 99/300\n",
            "\u001b[1m37/37\u001b[0m \u001b[32m━━━━━━━━━━━━━━━━━━━━\u001b[0m\u001b[37m\u001b[0m \u001b[1m0s\u001b[0m 6ms/step - loss: 831.7132 - mae: 831.7132 - val_loss: 1815.2933 - val_mae: 1815.2933\n",
            "Epoch 100/300\n",
            "\u001b[1m37/37\u001b[0m \u001b[32m━━━━━━━━━━━━━━━━━━━━\u001b[0m\u001b[37m\u001b[0m \u001b[1m0s\u001b[0m 7ms/step - loss: 832.6258 - mae: 832.6258 - val_loss: 1801.6711 - val_mae: 1801.6711\n",
            "Epoch 101/300\n",
            "\u001b[1m37/37\u001b[0m \u001b[32m━━━━━━━━━━━━━━━━━━━━\u001b[0m\u001b[37m\u001b[0m \u001b[1m0s\u001b[0m 6ms/step - loss: 839.1481 - mae: 839.1481 - val_loss: 1821.2035 - val_mae: 1821.2035\n",
            "Epoch 102/300\n",
            "\u001b[1m37/37\u001b[0m \u001b[32m━━━━━━━━━━━━━━━━━━━━\u001b[0m\u001b[37m\u001b[0m \u001b[1m0s\u001b[0m 6ms/step - loss: 827.1288 - mae: 827.1288 - val_loss: 1819.3392 - val_mae: 1819.3392\n",
            "Epoch 103/300\n",
            "\u001b[1m37/37\u001b[0m \u001b[32m━━━━━━━━━━━━━━━━━━━━\u001b[0m\u001b[37m\u001b[0m \u001b[1m0s\u001b[0m 6ms/step - loss: 835.9883 - mae: 835.9883 - val_loss: 1828.3967 - val_mae: 1828.3967\n",
            "Epoch 104/300\n",
            "\u001b[1m37/37\u001b[0m \u001b[32m━━━━━━━━━━━━━━━━━━━━\u001b[0m\u001b[37m\u001b[0m \u001b[1m1s\u001b[0m 13ms/step - loss: 832.4601 - mae: 832.4601 - val_loss: 1812.4440 - val_mae: 1812.4440\n",
            "Epoch 105/300\n",
            "\u001b[1m37/37\u001b[0m \u001b[32m━━━━━━━━━━━━━━━━━━━━\u001b[0m\u001b[37m\u001b[0m \u001b[1m0s\u001b[0m 9ms/step - loss: 832.2819 - mae: 832.2819 - val_loss: 1812.0594 - val_mae: 1812.0594\n",
            "Epoch 106/300\n",
            "\u001b[1m37/37\u001b[0m \u001b[32m━━━━━━━━━━━━━━━━━━━━\u001b[0m\u001b[37m\u001b[0m \u001b[1m1s\u001b[0m 10ms/step - loss: 830.2435 - mae: 830.2435 - val_loss: 1832.7478 - val_mae: 1832.7478\n",
            "Epoch 107/300\n",
            "\u001b[1m37/37\u001b[0m \u001b[32m━━━━━━━━━━━━━━━━━━━━\u001b[0m\u001b[37m\u001b[0m \u001b[1m0s\u001b[0m 10ms/step - loss: 829.5405 - mae: 829.5405 - val_loss: 1809.9341 - val_mae: 1809.9341\n",
            "Epoch 108/300\n",
            "\u001b[1m37/37\u001b[0m \u001b[32m━━━━━━━━━━━━━━━━━━━━\u001b[0m\u001b[37m\u001b[0m \u001b[1m0s\u001b[0m 12ms/step - loss: 829.6533 - mae: 829.6533 - val_loss: 1795.2900 - val_mae: 1795.2900\n",
            "Epoch 109/300\n",
            "\u001b[1m37/37\u001b[0m \u001b[32m━━━━━━━━━━━━━━━━━━━━\u001b[0m\u001b[37m\u001b[0m \u001b[1m0s\u001b[0m 7ms/step - loss: 837.0687 - mae: 837.0687 - val_loss: 1815.2590 - val_mae: 1815.2590\n",
            "Epoch 110/300\n",
            "\u001b[1m37/37\u001b[0m \u001b[32m━━━━━━━━━━━━━━━━━━━━\u001b[0m\u001b[37m\u001b[0m \u001b[1m0s\u001b[0m 6ms/step - loss: 821.0851 - mae: 821.0851 - val_loss: 1810.2683 - val_mae: 1810.2683\n",
            "Epoch 111/300\n",
            "\u001b[1m37/37\u001b[0m \u001b[32m━━━━━━━━━━━━━━━━━━━━\u001b[0m\u001b[37m\u001b[0m \u001b[1m0s\u001b[0m 7ms/step - loss: 820.0525 - mae: 820.0525 - val_loss: 1804.6041 - val_mae: 1804.6041\n",
            "Epoch 112/300\n",
            "\u001b[1m37/37\u001b[0m \u001b[32m━━━━━━━━━━━━━━━━━━━━\u001b[0m\u001b[37m\u001b[0m \u001b[1m0s\u001b[0m 6ms/step - loss: 824.9175 - mae: 824.9175 - val_loss: 1806.8912 - val_mae: 1806.8912\n",
            "Epoch 113/300\n",
            "\u001b[1m37/37\u001b[0m \u001b[32m━━━━━━━━━━━━━━━━━━━━\u001b[0m\u001b[37m\u001b[0m \u001b[1m0s\u001b[0m 6ms/step - loss: 828.2068 - mae: 828.2068 - val_loss: 1820.1760 - val_mae: 1820.1760\n",
            "Epoch 114/300\n",
            "\u001b[1m37/37\u001b[0m \u001b[32m━━━━━━━━━━━━━━━━━━━━\u001b[0m\u001b[37m\u001b[0m \u001b[1m0s\u001b[0m 6ms/step - loss: 826.4335 - mae: 826.4335 - val_loss: 1819.5496 - val_mae: 1819.5496\n",
            "Epoch 115/300\n",
            "\u001b[1m37/37\u001b[0m \u001b[32m━━━━━━━━━━━━━━━━━━━━\u001b[0m\u001b[37m\u001b[0m \u001b[1m0s\u001b[0m 6ms/step - loss: 821.9898 - mae: 821.9898 - val_loss: 1797.4288 - val_mae: 1797.4288\n",
            "Epoch 116/300\n",
            "\u001b[1m37/37\u001b[0m \u001b[32m━━━━━━━━━━━━━━━━━━━━\u001b[0m\u001b[37m\u001b[0m \u001b[1m0s\u001b[0m 6ms/step - loss: 818.9409 - mae: 818.9409 - val_loss: 1819.8420 - val_mae: 1819.8420\n",
            "Epoch 117/300\n",
            "\u001b[1m37/37\u001b[0m \u001b[32m━━━━━━━━━━━━━━━━━━━━\u001b[0m\u001b[37m\u001b[0m \u001b[1m0s\u001b[0m 6ms/step - loss: 822.8002 - mae: 822.8002 - val_loss: 1818.1604 - val_mae: 1818.1604\n",
            "Epoch 118/300\n",
            "\u001b[1m37/37\u001b[0m \u001b[32m━━━━━━━━━━━━━━━━━━━━\u001b[0m\u001b[37m\u001b[0m \u001b[1m0s\u001b[0m 7ms/step - loss: 815.1507 - mae: 815.1507 - val_loss: 1795.1526 - val_mae: 1795.1526\n",
            "Epoch 119/300\n",
            "\u001b[1m37/37\u001b[0m \u001b[32m━━━━━━━━━━━━━━━━━━━━\u001b[0m\u001b[37m\u001b[0m \u001b[1m0s\u001b[0m 6ms/step - loss: 820.4443 - mae: 820.4443 - val_loss: 1809.9584 - val_mae: 1809.9584\n",
            "Epoch 120/300\n",
            "\u001b[1m37/37\u001b[0m \u001b[32m━━━━━━━━━━━━━━━━━━━━\u001b[0m\u001b[37m\u001b[0m \u001b[1m0s\u001b[0m 6ms/step - loss: 816.8586 - mae: 816.8586 - val_loss: 1805.0507 - val_mae: 1805.0507\n",
            "Epoch 121/300\n",
            "\u001b[1m37/37\u001b[0m \u001b[32m━━━━━━━━━━━━━━━━━━━━\u001b[0m\u001b[37m\u001b[0m \u001b[1m0s\u001b[0m 6ms/step - loss: 816.4369 - mae: 816.4369 - val_loss: 1817.9972 - val_mae: 1817.9972\n",
            "Epoch 122/300\n",
            "\u001b[1m37/37\u001b[0m \u001b[32m━━━━━━━━━━━━━━━━━━━━\u001b[0m\u001b[37m\u001b[0m \u001b[1m0s\u001b[0m 7ms/step - loss: 813.1710 - mae: 813.1710 - val_loss: 1803.5116 - val_mae: 1803.5116\n",
            "Epoch 123/300\n",
            "\u001b[1m37/37\u001b[0m \u001b[32m━━━━━━━━━━━━━━━━━━━━\u001b[0m\u001b[37m\u001b[0m \u001b[1m0s\u001b[0m 6ms/step - loss: 814.5316 - mae: 814.5316 - val_loss: 1832.2505 - val_mae: 1832.2505\n",
            "Epoch 124/300\n",
            "\u001b[1m37/37\u001b[0m \u001b[32m━━━━━━━━━━━━━━━━━━━━\u001b[0m\u001b[37m\u001b[0m \u001b[1m0s\u001b[0m 8ms/step - loss: 812.4746 - mae: 812.4746 - val_loss: 1790.3228 - val_mae: 1790.3228\n",
            "Epoch 125/300\n",
            "\u001b[1m37/37\u001b[0m \u001b[32m━━━━━━━━━━━━━━━━━━━━\u001b[0m\u001b[37m\u001b[0m \u001b[1m0s\u001b[0m 6ms/step - loss: 813.2335 - mae: 813.2335 - val_loss: 1823.5194 - val_mae: 1823.5194\n",
            "Epoch 126/300\n",
            "\u001b[1m37/37\u001b[0m \u001b[32m━━━━━━━━━━━━━━━━━━━━\u001b[0m\u001b[37m\u001b[0m \u001b[1m0s\u001b[0m 7ms/step - loss: 811.5861 - mae: 811.5861 - val_loss: 1790.0822 - val_mae: 1790.0822\n",
            "Epoch 127/300\n",
            "\u001b[1m37/37\u001b[0m \u001b[32m━━━━━━━━━━━━━━━━━━━━\u001b[0m\u001b[37m\u001b[0m \u001b[1m0s\u001b[0m 6ms/step - loss: 818.8480 - mae: 818.8480 - val_loss: 1823.2064 - val_mae: 1823.2064\n",
            "Epoch 128/300\n",
            "\u001b[1m37/37\u001b[0m \u001b[32m━━━━━━━━━━━━━━━━━━━━\u001b[0m\u001b[37m\u001b[0m \u001b[1m0s\u001b[0m 8ms/step - loss: 813.6430 - mae: 813.6430 - val_loss: 1788.7941 - val_mae: 1788.7941\n",
            "Epoch 129/300\n",
            "\u001b[1m37/37\u001b[0m \u001b[32m━━━━━━━━━━━━━━━━━━━━\u001b[0m\u001b[37m\u001b[0m \u001b[1m0s\u001b[0m 7ms/step - loss: 818.0306 - mae: 818.0306 - val_loss: 1821.2802 - val_mae: 1821.2802\n",
            "Epoch 130/300\n",
            "\u001b[1m37/37\u001b[0m \u001b[32m━━━━━━━━━━━━━━━━━━━━\u001b[0m\u001b[37m\u001b[0m \u001b[1m0s\u001b[0m 6ms/step - loss: 813.7339 - mae: 813.7339 - val_loss: 1797.7651 - val_mae: 1797.7651\n",
            "Epoch 131/300\n",
            "\u001b[1m37/37\u001b[0m \u001b[32m━━━━━━━━━━━━━━━━━━━━\u001b[0m\u001b[37m\u001b[0m \u001b[1m0s\u001b[0m 6ms/step - loss: 811.5981 - mae: 811.5981 - val_loss: 1832.7266 - val_mae: 1832.7266\n",
            "Epoch 132/300\n",
            "\u001b[1m37/37\u001b[0m \u001b[32m━━━━━━━━━━━━━━━━━━━━\u001b[0m\u001b[37m\u001b[0m \u001b[1m0s\u001b[0m 7ms/step - loss: 814.9029 - mae: 814.9029 - val_loss: 1804.0717 - val_mae: 1804.0717\n",
            "Epoch 133/300\n",
            "\u001b[1m37/37\u001b[0m \u001b[32m━━━━━━━━━━━━━━━━━━━━\u001b[0m\u001b[37m\u001b[0m \u001b[1m0s\u001b[0m 7ms/step - loss: 803.6679 - mae: 803.6679 - val_loss: 1778.3893 - val_mae: 1778.3893\n",
            "Epoch 134/300\n",
            "\u001b[1m37/37\u001b[0m \u001b[32m━━━━━━━━━━━━━━━━━━━━\u001b[0m\u001b[37m\u001b[0m \u001b[1m0s\u001b[0m 6ms/step - loss: 814.1074 - mae: 814.1074 - val_loss: 1803.2085 - val_mae: 1803.2085\n",
            "Epoch 135/300\n",
            "\u001b[1m37/37\u001b[0m \u001b[32m━━━━━━━━━━━━━━━━━━━━\u001b[0m\u001b[37m\u001b[0m \u001b[1m0s\u001b[0m 6ms/step - loss: 815.7853 - mae: 815.7853 - val_loss: 1786.4628 - val_mae: 1786.4628\n",
            "Epoch 136/300\n",
            "\u001b[1m37/37\u001b[0m \u001b[32m━━━━━━━━━━━━━━━━━━━━\u001b[0m\u001b[37m\u001b[0m \u001b[1m0s\u001b[0m 6ms/step - loss: 801.1699 - mae: 801.1699 - val_loss: 1783.6758 - val_mae: 1783.6758\n",
            "Epoch 137/300\n",
            "\u001b[1m37/37\u001b[0m \u001b[32m━━━━━━━━━━━━━━━━━━━━\u001b[0m\u001b[37m\u001b[0m \u001b[1m0s\u001b[0m 6ms/step - loss: 813.7181 - mae: 813.7181 - val_loss: 1840.4608 - val_mae: 1840.4608\n",
            "Epoch 138/300\n",
            "\u001b[1m37/37\u001b[0m \u001b[32m━━━━━━━━━━━━━━━━━━━━\u001b[0m\u001b[37m\u001b[0m \u001b[1m0s\u001b[0m 6ms/step - loss: 813.2397 - mae: 813.2397 - val_loss: 1781.7955 - val_mae: 1781.7955\n",
            "Epoch 139/300\n",
            "\u001b[1m37/37\u001b[0m \u001b[32m━━━━━━━━━━━━━━━━━━━━\u001b[0m\u001b[37m\u001b[0m \u001b[1m0s\u001b[0m 6ms/step - loss: 812.0335 - mae: 812.0335 - val_loss: 1825.1714 - val_mae: 1825.1714\n",
            "Epoch 140/300\n",
            "\u001b[1m37/37\u001b[0m \u001b[32m━━━━━━━━━━━━━━━━━━━━\u001b[0m\u001b[37m\u001b[0m \u001b[1m0s\u001b[0m 7ms/step - loss: 811.4191 - mae: 811.4191 - val_loss: 1780.4403 - val_mae: 1780.4403\n",
            "Epoch 141/300\n",
            "\u001b[1m37/37\u001b[0m \u001b[32m━━━━━━━━━━━━━━━━━━━━\u001b[0m\u001b[37m\u001b[0m \u001b[1m0s\u001b[0m 6ms/step - loss: 807.7806 - mae: 807.7806 - val_loss: 1813.5813 - val_mae: 1813.5813\n",
            "Epoch 142/300\n",
            "\u001b[1m37/37\u001b[0m \u001b[32m━━━━━━━━━━━━━━━━━━━━\u001b[0m\u001b[37m\u001b[0m \u001b[1m0s\u001b[0m 6ms/step - loss: 809.6570 - mae: 809.6570 - val_loss: 1780.9879 - val_mae: 1780.9879\n",
            "Epoch 143/300\n",
            "\u001b[1m37/37\u001b[0m \u001b[32m━━━━━━━━━━━━━━━━━━━━\u001b[0m\u001b[37m\u001b[0m \u001b[1m0s\u001b[0m 7ms/step - loss: 802.3969 - mae: 802.3969 - val_loss: 1791.3022 - val_mae: 1791.3022\n",
            "Epoch 144/300\n",
            "\u001b[1m37/37\u001b[0m \u001b[32m━━━━━━━━━━━━━━━━━━━━\u001b[0m\u001b[37m\u001b[0m \u001b[1m0s\u001b[0m 10ms/step - loss: 798.9187 - mae: 798.9187 - val_loss: 1795.0336 - val_mae: 1795.0336\n",
            "Epoch 145/300\n",
            "\u001b[1m37/37\u001b[0m \u001b[32m━━━━━━━━━━━━━━━━━━━━\u001b[0m\u001b[37m\u001b[0m \u001b[1m0s\u001b[0m 12ms/step - loss: 803.2482 - mae: 803.2482 - val_loss: 1778.0575 - val_mae: 1778.0575\n",
            "Epoch 146/300\n",
            "\u001b[1m37/37\u001b[0m \u001b[32m━━━━━━━━━━━━━━━━━━━━\u001b[0m\u001b[37m\u001b[0m \u001b[1m1s\u001b[0m 10ms/step - loss: 798.9221 - mae: 798.9221 - val_loss: 1791.6732 - val_mae: 1791.6732\n",
            "Epoch 147/300\n",
            "\u001b[1m37/37\u001b[0m \u001b[32m━━━━━━━━━━━━━━━━━━━━\u001b[0m\u001b[37m\u001b[0m \u001b[1m0s\u001b[0m 10ms/step - loss: 802.7264 - mae: 802.7264 - val_loss: 1778.2427 - val_mae: 1778.2427\n",
            "Epoch 148/300\n",
            "\u001b[1m37/37\u001b[0m \u001b[32m━━━━━━━━━━━━━━━━━━━━\u001b[0m\u001b[37m\u001b[0m \u001b[1m1s\u001b[0m 10ms/step - loss: 806.6519 - mae: 806.6519 - val_loss: 1801.8942 - val_mae: 1801.8942\n",
            "Epoch 149/300\n",
            "\u001b[1m37/37\u001b[0m \u001b[32m━━━━━━━━━━━━━━━━━━━━\u001b[0m\u001b[37m\u001b[0m \u001b[1m0s\u001b[0m 6ms/step - loss: 806.0892 - mae: 806.0892 - val_loss: 1787.5890 - val_mae: 1787.5890\n",
            "Epoch 150/300\n",
            "\u001b[1m37/37\u001b[0m \u001b[32m━━━━━━━━━━━━━━━━━━━━\u001b[0m\u001b[37m\u001b[0m \u001b[1m0s\u001b[0m 8ms/step - loss: 802.3809 - mae: 802.3809 - val_loss: 1775.4502 - val_mae: 1775.4502\n",
            "Epoch 151/300\n",
            "\u001b[1m37/37\u001b[0m \u001b[32m━━━━━━━━━━━━━━━━━━━━\u001b[0m\u001b[37m\u001b[0m \u001b[1m0s\u001b[0m 6ms/step - loss: 804.3593 - mae: 804.3593 - val_loss: 1794.6495 - val_mae: 1794.6495\n",
            "Epoch 152/300\n",
            "\u001b[1m37/37\u001b[0m \u001b[32m━━━━━━━━━━━━━━━━━━━━\u001b[0m\u001b[37m\u001b[0m \u001b[1m0s\u001b[0m 6ms/step - loss: 804.7263 - mae: 804.7263 - val_loss: 1776.7778 - val_mae: 1776.7778\n",
            "Epoch 153/300\n",
            "\u001b[1m37/37\u001b[0m \u001b[32m━━━━━━━━━━━━━━━━━━━━\u001b[0m\u001b[37m\u001b[0m \u001b[1m0s\u001b[0m 6ms/step - loss: 802.2216 - mae: 802.2216 - val_loss: 1783.2279 - val_mae: 1783.2279\n",
            "Epoch 154/300\n",
            "\u001b[1m37/37\u001b[0m \u001b[32m━━━━━━━━━━━━━━━━━━━━\u001b[0m\u001b[37m\u001b[0m \u001b[1m0s\u001b[0m 7ms/step - loss: 799.2109 - mae: 799.2109 - val_loss: 1775.4631 - val_mae: 1775.4631\n",
            "Epoch 155/300\n",
            "\u001b[1m37/37\u001b[0m \u001b[32m━━━━━━━━━━━━━━━━━━━━\u001b[0m\u001b[37m\u001b[0m \u001b[1m0s\u001b[0m 6ms/step - loss: 801.6088 - mae: 801.6088 - val_loss: 1787.6890 - val_mae: 1787.6890\n",
            "Epoch 156/300\n",
            "\u001b[1m37/37\u001b[0m \u001b[32m━━━━━━━━━━━━━━━━━━━━\u001b[0m\u001b[37m\u001b[0m \u001b[1m0s\u001b[0m 6ms/step - loss: 800.7119 - mae: 800.7119 - val_loss: 1783.6409 - val_mae: 1783.6409\n",
            "Epoch 157/300\n",
            "\u001b[1m37/37\u001b[0m \u001b[32m━━━━━━━━━━━━━━━━━━━━\u001b[0m\u001b[37m\u001b[0m \u001b[1m0s\u001b[0m 6ms/step - loss: 799.1556 - mae: 799.1556 - val_loss: 1779.0754 - val_mae: 1779.0754\n",
            "Epoch 158/300\n",
            "\u001b[1m37/37\u001b[0m \u001b[32m━━━━━━━━━━━━━━━━━━━━\u001b[0m\u001b[37m\u001b[0m \u001b[1m0s\u001b[0m 7ms/step - loss: 809.2227 - mae: 809.2227 - val_loss: 1783.9956 - val_mae: 1783.9956\n",
            "Epoch 159/300\n",
            "\u001b[1m37/37\u001b[0m \u001b[32m━━━━━━━━━━━━━━━━━━━━\u001b[0m\u001b[37m\u001b[0m \u001b[1m0s\u001b[0m 7ms/step - loss: 801.4169 - mae: 801.4169 - val_loss: 1774.1503 - val_mae: 1774.1503\n",
            "Epoch 160/300\n",
            "\u001b[1m37/37\u001b[0m \u001b[32m━━━━━━━━━━━━━━━━━━━━\u001b[0m\u001b[37m\u001b[0m \u001b[1m0s\u001b[0m 6ms/step - loss: 801.0016 - mae: 801.0016 - val_loss: 1783.8862 - val_mae: 1783.8862\n",
            "Epoch 161/300\n",
            "\u001b[1m37/37\u001b[0m \u001b[32m━━━━━━━━━━━━━━━━━━━━\u001b[0m\u001b[37m\u001b[0m \u001b[1m0s\u001b[0m 7ms/step - loss: 797.8793 - mae: 797.8793 - val_loss: 1777.6801 - val_mae: 1777.6801\n",
            "Epoch 162/300\n",
            "\u001b[1m37/37\u001b[0m \u001b[32m━━━━━━━━━━━━━━━━━━━━\u001b[0m\u001b[37m\u001b[0m \u001b[1m0s\u001b[0m 6ms/step - loss: 799.5173 - mae: 799.5173 - val_loss: 1785.5146 - val_mae: 1785.5146\n",
            "Epoch 163/300\n",
            "\u001b[1m37/37\u001b[0m \u001b[32m━━━━━━━━━━━━━━━━━━━━\u001b[0m\u001b[37m\u001b[0m \u001b[1m0s\u001b[0m 6ms/step - loss: 799.7476 - mae: 799.7476 - val_loss: 1795.5291 - val_mae: 1795.5291\n",
            "Epoch 164/300\n",
            "\u001b[1m37/37\u001b[0m \u001b[32m━━━━━━━━━━━━━━━━━━━━\u001b[0m\u001b[37m\u001b[0m \u001b[1m0s\u001b[0m 6ms/step - loss: 797.7516 - mae: 797.7516 - val_loss: 1775.9696 - val_mae: 1775.9696\n",
            "Epoch 165/300\n",
            "\u001b[1m37/37\u001b[0m \u001b[32m━━━━━━━━━━━━━━━━━━━━\u001b[0m\u001b[37m\u001b[0m \u001b[1m0s\u001b[0m 8ms/step - loss: 797.2343 - mae: 797.2343 - val_loss: 1773.8473 - val_mae: 1773.8473\n",
            "Epoch 166/300\n",
            "\u001b[1m37/37\u001b[0m \u001b[32m━━━━━━━━━━━━━━━━━━━━\u001b[0m\u001b[37m\u001b[0m \u001b[1m0s\u001b[0m 6ms/step - loss: 796.3325 - mae: 796.3325 - val_loss: 1779.7100 - val_mae: 1779.7100\n",
            "Epoch 167/300\n",
            "\u001b[1m37/37\u001b[0m \u001b[32m━━━━━━━━━━━━━━━━━━━━\u001b[0m\u001b[37m\u001b[0m \u001b[1m0s\u001b[0m 6ms/step - loss: 797.4229 - mae: 797.4229 - val_loss: 1778.5498 - val_mae: 1778.5498\n",
            "Epoch 168/300\n",
            "\u001b[1m37/37\u001b[0m \u001b[32m━━━━━━━━━━━━━━━━━━━━\u001b[0m\u001b[37m\u001b[0m \u001b[1m0s\u001b[0m 7ms/step - loss: 794.8591 - mae: 794.8591 - val_loss: 1768.6898 - val_mae: 1768.6898\n",
            "Epoch 169/300\n",
            "\u001b[1m37/37\u001b[0m \u001b[32m━━━━━━━━━━━━━━━━━━━━\u001b[0m\u001b[37m\u001b[0m \u001b[1m0s\u001b[0m 7ms/step - loss: 793.6501 - mae: 793.6501 - val_loss: 1771.7357 - val_mae: 1771.7357\n",
            "Epoch 170/300\n",
            "\u001b[1m37/37\u001b[0m \u001b[32m━━━━━━━━━━━━━━━━━━━━\u001b[0m\u001b[37m\u001b[0m \u001b[1m0s\u001b[0m 6ms/step - loss: 799.4537 - mae: 799.4537 - val_loss: 1777.9879 - val_mae: 1777.9879\n",
            "Epoch 171/300\n",
            "\u001b[1m37/37\u001b[0m \u001b[32m━━━━━━━━━━━━━━━━━━━━\u001b[0m\u001b[37m\u001b[0m \u001b[1m0s\u001b[0m 6ms/step - loss: 795.1658 - mae: 795.1658 - val_loss: 1775.8463 - val_mae: 1775.8463\n",
            "Epoch 172/300\n",
            "\u001b[1m37/37\u001b[0m \u001b[32m━━━━━━━━━━━━━━━━━━━━\u001b[0m\u001b[37m\u001b[0m \u001b[1m0s\u001b[0m 6ms/step - loss: 797.1766 - mae: 797.1766 - val_loss: 1777.1827 - val_mae: 1777.1827\n",
            "Epoch 173/300\n",
            "\u001b[1m37/37\u001b[0m \u001b[32m━━━━━━━━━━━━━━━━━━━━\u001b[0m\u001b[37m\u001b[0m \u001b[1m0s\u001b[0m 7ms/step - loss: 797.3870 - mae: 797.3870 - val_loss: 1775.6031 - val_mae: 1775.6031\n",
            "Epoch 174/300\n",
            "\u001b[1m37/37\u001b[0m \u001b[32m━━━━━━━━━━━━━━━━━━━━\u001b[0m\u001b[37m\u001b[0m \u001b[1m0s\u001b[0m 6ms/step - loss: 793.2693 - mae: 793.2693 - val_loss: 1775.6182 - val_mae: 1775.6182\n",
            "Epoch 175/300\n",
            "\u001b[1m37/37\u001b[0m \u001b[32m━━━━━━━━━━━━━━━━━━━━\u001b[0m\u001b[37m\u001b[0m \u001b[1m0s\u001b[0m 6ms/step - loss: 794.6901 - mae: 794.6901 - val_loss: 1776.5057 - val_mae: 1776.5057\n",
            "Epoch 176/300\n",
            "\u001b[1m37/37\u001b[0m \u001b[32m━━━━━━━━━━━━━━━━━━━━\u001b[0m\u001b[37m\u001b[0m \u001b[1m0s\u001b[0m 7ms/step - loss: 795.2530 - mae: 795.2530 - val_loss: 1771.6511 - val_mae: 1771.6511\n",
            "Epoch 177/300\n",
            "\u001b[1m37/37\u001b[0m \u001b[32m━━━━━━━━━━━━━━━━━━━━\u001b[0m\u001b[37m\u001b[0m \u001b[1m0s\u001b[0m 6ms/step - loss: 801.5891 - mae: 801.5891 - val_loss: 1773.6340 - val_mae: 1773.6340\n",
            "Epoch 178/300\n",
            "\u001b[1m37/37\u001b[0m \u001b[32m━━━━━━━━━━━━━━━━━━━━\u001b[0m\u001b[37m\u001b[0m \u001b[1m0s\u001b[0m 6ms/step - loss: 802.0414 - mae: 802.0414 - val_loss: 1790.9064 - val_mae: 1790.9064\n",
            "Epoch 179/300\n",
            "\u001b[1m37/37\u001b[0m \u001b[32m━━━━━━━━━━━━━━━━━━━━\u001b[0m\u001b[37m\u001b[0m \u001b[1m0s\u001b[0m 6ms/step - loss: 797.7376 - mae: 797.7376 - val_loss: 1779.7700 - val_mae: 1779.7700\n",
            "Epoch 180/300\n",
            "\u001b[1m37/37\u001b[0m \u001b[32m━━━━━━━━━━━━━━━━━━━━\u001b[0m\u001b[37m\u001b[0m \u001b[1m0s\u001b[0m 6ms/step - loss: 790.7875 - mae: 790.7875 - val_loss: 1780.7345 - val_mae: 1780.7345\n",
            "Epoch 181/300\n",
            "\u001b[1m37/37\u001b[0m \u001b[32m━━━━━━━━━━━━━━━━━━━━\u001b[0m\u001b[37m\u001b[0m \u001b[1m0s\u001b[0m 7ms/step - loss: 794.6672 - mae: 794.6672 - val_loss: 1764.0565 - val_mae: 1764.0565\n",
            "Epoch 182/300\n",
            "\u001b[1m37/37\u001b[0m \u001b[32m━━━━━━━━━━━━━━━━━━━━\u001b[0m\u001b[37m\u001b[0m \u001b[1m0s\u001b[0m 7ms/step - loss: 797.0344 - mae: 797.0344 - val_loss: 1766.2275 - val_mae: 1766.2275\n",
            "Epoch 183/300\n",
            "\u001b[1m37/37\u001b[0m \u001b[32m━━━━━━━━━━━━━━━━━━━━\u001b[0m\u001b[37m\u001b[0m \u001b[1m0s\u001b[0m 7ms/step - loss: 796.5099 - mae: 796.5099 - val_loss: 1764.3116 - val_mae: 1764.3116\n",
            "Epoch 184/300\n",
            "\u001b[1m37/37\u001b[0m \u001b[32m━━━━━━━━━━━━━━━━━━━━\u001b[0m\u001b[37m\u001b[0m \u001b[1m0s\u001b[0m 10ms/step - loss: 796.7597 - mae: 796.7597 - val_loss: 1765.2830 - val_mae: 1765.2830\n",
            "Epoch 185/300\n",
            "\u001b[1m37/37\u001b[0m \u001b[32m━━━━━━━━━━━━━━━━━━━━\u001b[0m\u001b[37m\u001b[0m \u001b[1m0s\u001b[0m 10ms/step - loss: 795.8605 - mae: 795.8605 - val_loss: 1776.6281 - val_mae: 1776.6281\n",
            "Epoch 186/300\n",
            "\u001b[1m37/37\u001b[0m \u001b[32m━━━━━━━━━━━━━━━━━━━━\u001b[0m\u001b[37m\u001b[0m \u001b[1m0s\u001b[0m 10ms/step - loss: 796.5817 - mae: 796.5817 - val_loss: 1781.7579 - val_mae: 1781.7579\n",
            "Epoch 187/300\n",
            "\u001b[1m37/37\u001b[0m \u001b[32m━━━━━━━━━━━━━━━━━━━━\u001b[0m\u001b[37m\u001b[0m \u001b[1m0s\u001b[0m 8ms/step - loss: 794.0469 - mae: 794.0469 - val_loss: 1778.3795 - val_mae: 1778.3795\n",
            "Epoch 188/300\n",
            "\u001b[1m37/37\u001b[0m \u001b[32m━━━━━━━━━━━━━━━━━━━━\u001b[0m\u001b[37m\u001b[0m \u001b[1m1s\u001b[0m 12ms/step - loss: 794.3757 - mae: 794.3757 - val_loss: 1774.2406 - val_mae: 1774.2406\n",
            "Epoch 189/300\n",
            "\u001b[1m37/37\u001b[0m \u001b[32m━━━━━━━━━━━━━━━━━━━━\u001b[0m\u001b[37m\u001b[0m \u001b[1m0s\u001b[0m 7ms/step - loss: 794.0150 - mae: 794.0150 - val_loss: 1755.4874 - val_mae: 1755.4874\n",
            "Epoch 190/300\n",
            "\u001b[1m37/37\u001b[0m \u001b[32m━━━━━━━━━━━━━━━━━━━━\u001b[0m\u001b[37m\u001b[0m \u001b[1m0s\u001b[0m 6ms/step - loss: 804.3920 - mae: 804.3920 - val_loss: 1773.3986 - val_mae: 1773.3986\n",
            "Epoch 191/300\n",
            "\u001b[1m37/37\u001b[0m \u001b[32m━━━━━━━━━━━━━━━━━━━━\u001b[0m\u001b[37m\u001b[0m \u001b[1m0s\u001b[0m 7ms/step - loss: 796.9766 - mae: 796.9766 - val_loss: 1765.6692 - val_mae: 1765.6692\n",
            "Epoch 192/300\n",
            "\u001b[1m37/37\u001b[0m \u001b[32m━━━━━━━━━━━━━━━━━━━━\u001b[0m\u001b[37m\u001b[0m \u001b[1m0s\u001b[0m 6ms/step - loss: 795.5855 - mae: 795.5855 - val_loss: 1761.6918 - val_mae: 1761.6918\n",
            "Epoch 193/300\n",
            "\u001b[1m37/37\u001b[0m \u001b[32m━━━━━━━━━━━━━━━━━━━━\u001b[0m\u001b[37m\u001b[0m \u001b[1m0s\u001b[0m 6ms/step - loss: 801.6563 - mae: 801.6563 - val_loss: 1856.6591 - val_mae: 1856.6591\n",
            "Epoch 194/300\n",
            "\u001b[1m37/37\u001b[0m \u001b[32m━━━━━━━━━━━━━━━━━━━━\u001b[0m\u001b[37m\u001b[0m \u001b[1m0s\u001b[0m 7ms/step - loss: 803.9669 - mae: 803.9669 - val_loss: 1784.2058 - val_mae: 1784.2058\n",
            "Epoch 195/300\n",
            "\u001b[1m37/37\u001b[0m \u001b[32m━━━━━━━━━━━━━━━━━━━━\u001b[0m\u001b[37m\u001b[0m \u001b[1m0s\u001b[0m 7ms/step - loss: 794.7404 - mae: 794.7404 - val_loss: 1758.6277 - val_mae: 1758.6277\n",
            "Epoch 196/300\n",
            "\u001b[1m37/37\u001b[0m \u001b[32m━━━━━━━━━━━━━━━━━━━━\u001b[0m\u001b[37m\u001b[0m \u001b[1m0s\u001b[0m 6ms/step - loss: 792.6929 - mae: 792.6929 - val_loss: 1757.9600 - val_mae: 1757.9600\n",
            "Epoch 197/300\n",
            "\u001b[1m37/37\u001b[0m \u001b[32m━━━━━━━━━━━━━━━━━━━━\u001b[0m\u001b[37m\u001b[0m \u001b[1m0s\u001b[0m 6ms/step - loss: 792.6901 - mae: 792.6901 - val_loss: 1759.4025 - val_mae: 1759.4025\n",
            "Epoch 198/300\n",
            "\u001b[1m37/37\u001b[0m \u001b[32m━━━━━━━━━━━━━━━━━━━━\u001b[0m\u001b[37m\u001b[0m \u001b[1m0s\u001b[0m 7ms/step - loss: 802.1287 - mae: 802.1287 - val_loss: 1828.8793 - val_mae: 1828.8793\n",
            "Epoch 199/300\n",
            "\u001b[1m37/37\u001b[0m \u001b[32m━━━━━━━━━━━━━━━━━━━━\u001b[0m\u001b[37m\u001b[0m \u001b[1m0s\u001b[0m 7ms/step - loss: 795.0548 - mae: 795.0548 - val_loss: 1755.5433 - val_mae: 1755.5433\n",
            "Epoch 200/300\n",
            "\u001b[1m37/37\u001b[0m \u001b[32m━━━━━━━━━━━━━━━━━━━━\u001b[0m\u001b[37m\u001b[0m \u001b[1m0s\u001b[0m 6ms/step - loss: 793.9893 - mae: 793.9893 - val_loss: 1771.8585 - val_mae: 1771.8585\n",
            "Epoch 201/300\n",
            "\u001b[1m37/37\u001b[0m \u001b[32m━━━━━━━━━━━━━━━━━━━━\u001b[0m\u001b[37m\u001b[0m \u001b[1m0s\u001b[0m 8ms/step - loss: 792.3937 - mae: 792.3937 - val_loss: 1752.0345 - val_mae: 1752.0345\n",
            "Epoch 202/300\n",
            "\u001b[1m37/37\u001b[0m \u001b[32m━━━━━━━━━━━━━━━━━━━━\u001b[0m\u001b[37m\u001b[0m \u001b[1m0s\u001b[0m 7ms/step - loss: 803.3213 - mae: 803.3213 - val_loss: 1828.5125 - val_mae: 1828.5125\n",
            "Epoch 203/300\n",
            "\u001b[1m37/37\u001b[0m \u001b[32m━━━━━━━━━━━━━━━━━━━━\u001b[0m\u001b[37m\u001b[0m \u001b[1m0s\u001b[0m 6ms/step - loss: 795.5178 - mae: 795.5178 - val_loss: 1799.4425 - val_mae: 1799.4425\n",
            "Epoch 204/300\n",
            "\u001b[1m37/37\u001b[0m \u001b[32m━━━━━━━━━━━━━━━━━━━━\u001b[0m\u001b[37m\u001b[0m \u001b[1m0s\u001b[0m 6ms/step - loss: 791.5268 - mae: 791.5268 - val_loss: 1773.1075 - val_mae: 1773.1075\n",
            "Epoch 205/300\n",
            "\u001b[1m37/37\u001b[0m \u001b[32m━━━━━━━━━━━━━━━━━━━━\u001b[0m\u001b[37m\u001b[0m \u001b[1m0s\u001b[0m 6ms/step - loss: 794.0995 - mae: 794.0995 - val_loss: 1772.6178 - val_mae: 1772.6178\n",
            "Epoch 206/300\n",
            "\u001b[1m37/37\u001b[0m \u001b[32m━━━━━━━━━━━━━━━━━━━━\u001b[0m\u001b[37m\u001b[0m \u001b[1m0s\u001b[0m 6ms/step - loss: 791.9226 - mae: 791.9226 - val_loss: 1772.9808 - val_mae: 1772.9808\n",
            "Epoch 207/300\n",
            "\u001b[1m37/37\u001b[0m \u001b[32m━━━━━━━━━━━━━━━━━━━━\u001b[0m\u001b[37m\u001b[0m \u001b[1m0s\u001b[0m 6ms/step - loss: 791.6071 - mae: 791.6071 - val_loss: 1753.1724 - val_mae: 1753.1724\n",
            "Epoch 208/300\n",
            "\u001b[1m37/37\u001b[0m \u001b[32m━━━━━━━━━━━━━━━━━━━━\u001b[0m\u001b[37m\u001b[0m \u001b[1m0s\u001b[0m 6ms/step - loss: 795.4809 - mae: 795.4809 - val_loss: 1758.4156 - val_mae: 1758.4156\n",
            "Epoch 209/300\n",
            "\u001b[1m37/37\u001b[0m \u001b[32m━━━━━━━━━━━━━━━━━━━━\u001b[0m\u001b[37m\u001b[0m \u001b[1m0s\u001b[0m 6ms/step - loss: 793.1770 - mae: 793.1770 - val_loss: 1760.2219 - val_mae: 1760.2219\n",
            "Epoch 210/300\n",
            "\u001b[1m37/37\u001b[0m \u001b[32m━━━━━━━━━━━━━━━━━━━━\u001b[0m\u001b[37m\u001b[0m \u001b[1m0s\u001b[0m 7ms/step - loss: 793.3050 - mae: 793.3050 - val_loss: 1764.6265 - val_mae: 1764.6265\n",
            "Epoch 211/300\n",
            "\u001b[1m37/37\u001b[0m \u001b[32m━━━━━━━━━━━━━━━━━━━━\u001b[0m\u001b[37m\u001b[0m \u001b[1m0s\u001b[0m 6ms/step - loss: 792.7917 - mae: 792.7917 - val_loss: 1756.9095 - val_mae: 1756.9095\n",
            "Epoch 212/300\n",
            "\u001b[1m37/37\u001b[0m \u001b[32m━━━━━━━━━━━━━━━━━━━━\u001b[0m\u001b[37m\u001b[0m \u001b[1m0s\u001b[0m 6ms/step - loss: 791.2006 - mae: 791.2006 - val_loss: 1766.6875 - val_mae: 1766.6875\n",
            "Epoch 213/300\n",
            "\u001b[1m37/37\u001b[0m \u001b[32m━━━━━━━━━━━━━━━━━━━━\u001b[0m\u001b[37m\u001b[0m \u001b[1m0s\u001b[0m 7ms/step - loss: 792.0404 - mae: 792.0404 - val_loss: 1758.5471 - val_mae: 1758.5471\n",
            "Epoch 214/300\n",
            "\u001b[1m37/37\u001b[0m \u001b[32m━━━━━━━━━━━━━━━━━━━━\u001b[0m\u001b[37m\u001b[0m \u001b[1m0s\u001b[0m 7ms/step - loss: 792.1260 - mae: 792.1260 - val_loss: 1751.6296 - val_mae: 1751.6296\n",
            "Epoch 215/300\n",
            "\u001b[1m37/37\u001b[0m \u001b[32m━━━━━━━━━━━━━━━━━━━━\u001b[0m\u001b[37m\u001b[0m \u001b[1m0s\u001b[0m 6ms/step - loss: 790.7296 - mae: 790.7296 - val_loss: 1757.8640 - val_mae: 1757.8640\n",
            "Epoch 216/300\n",
            "\u001b[1m37/37\u001b[0m \u001b[32m━━━━━━━━━━━━━━━━━━━━\u001b[0m\u001b[37m\u001b[0m \u001b[1m0s\u001b[0m 6ms/step - loss: 794.0620 - mae: 794.0620 - val_loss: 1773.7560 - val_mae: 1773.7560\n",
            "Epoch 217/300\n",
            "\u001b[1m37/37\u001b[0m \u001b[32m━━━━━━━━━━━━━━━━━━━━\u001b[0m\u001b[37m\u001b[0m \u001b[1m0s\u001b[0m 7ms/step - loss: 795.1406 - mae: 795.1406 - val_loss: 1758.5814 - val_mae: 1758.5814\n",
            "Epoch 218/300\n",
            "\u001b[1m37/37\u001b[0m \u001b[32m━━━━━━━━━━━━━━━━━━━━\u001b[0m\u001b[37m\u001b[0m \u001b[1m0s\u001b[0m 6ms/step - loss: 790.2015 - mae: 790.2015 - val_loss: 1755.7418 - val_mae: 1755.7418\n",
            "Epoch 219/300\n",
            "\u001b[1m37/37\u001b[0m \u001b[32m━━━━━━━━━━━━━━━━━━━━\u001b[0m\u001b[37m\u001b[0m \u001b[1m0s\u001b[0m 6ms/step - loss: 792.6347 - mae: 792.6347 - val_loss: 1773.7211 - val_mae: 1773.7211\n",
            "Epoch 220/300\n",
            "\u001b[1m37/37\u001b[0m \u001b[32m━━━━━━━━━━━━━━━━━━━━\u001b[0m\u001b[37m\u001b[0m \u001b[1m0s\u001b[0m 6ms/step - loss: 789.2524 - mae: 789.2524 - val_loss: 1751.8687 - val_mae: 1751.8687\n",
            "Epoch 221/300\n",
            "\u001b[1m37/37\u001b[0m \u001b[32m━━━━━━━━━━━━━━━━━━━━\u001b[0m\u001b[37m\u001b[0m \u001b[1m0s\u001b[0m 6ms/step - loss: 795.0718 - mae: 795.0718 - val_loss: 1788.5795 - val_mae: 1788.5795\n",
            "Epoch 222/300\n",
            "\u001b[1m37/37\u001b[0m \u001b[32m━━━━━━━━━━━━━━━━━━━━\u001b[0m\u001b[37m\u001b[0m \u001b[1m0s\u001b[0m 8ms/step - loss: 788.5024 - mae: 788.5024 - val_loss: 1749.7753 - val_mae: 1749.7753\n",
            "Epoch 223/300\n",
            "\u001b[1m37/37\u001b[0m \u001b[32m━━━━━━━━━━━━━━━━━━━━\u001b[0m\u001b[37m\u001b[0m \u001b[1m0s\u001b[0m 7ms/step - loss: 790.6789 - mae: 790.6789 - val_loss: 1756.4879 - val_mae: 1756.4879\n",
            "Epoch 224/300\n",
            "\u001b[1m37/37\u001b[0m \u001b[32m━━━━━━━━━━━━━━━━━━━━\u001b[0m\u001b[37m\u001b[0m \u001b[1m0s\u001b[0m 11ms/step - loss: 792.1523 - mae: 792.1523 - val_loss: 1757.0009 - val_mae: 1757.0009\n",
            "Epoch 225/300\n",
            "\u001b[1m37/37\u001b[0m \u001b[32m━━━━━━━━━━━━━━━━━━━━\u001b[0m\u001b[37m\u001b[0m \u001b[1m0s\u001b[0m 10ms/step - loss: 791.8768 - mae: 791.8768 - val_loss: 1757.3856 - val_mae: 1757.3856\n",
            "Epoch 226/300\n",
            "\u001b[1m37/37\u001b[0m \u001b[32m━━━━━━━━━━━━━━━━━━━━\u001b[0m\u001b[37m\u001b[0m \u001b[1m1s\u001b[0m 11ms/step - loss: 791.6793 - mae: 791.6793 - val_loss: 1752.0858 - val_mae: 1752.0858\n",
            "Epoch 227/300\n",
            "\u001b[1m37/37\u001b[0m \u001b[32m━━━━━━━━━━━━━━━━━━━━\u001b[0m\u001b[37m\u001b[0m \u001b[1m1s\u001b[0m 14ms/step - loss: 792.5590 - mae: 792.5590 - val_loss: 1777.6776 - val_mae: 1777.6776\n",
            "Epoch 228/300\n",
            "\u001b[1m37/37\u001b[0m \u001b[32m━━━━━━━━━━━━━━━━━━━━\u001b[0m\u001b[37m\u001b[0m \u001b[1m0s\u001b[0m 8ms/step - loss: 789.6620 - mae: 789.6620 - val_loss: 1747.5378 - val_mae: 1747.5378\n",
            "Epoch 229/300\n",
            "\u001b[1m37/37\u001b[0m \u001b[32m━━━━━━━━━━━━━━━━━━━━\u001b[0m\u001b[37m\u001b[0m \u001b[1m1s\u001b[0m 6ms/step - loss: 791.9531 - mae: 791.9531 - val_loss: 1764.4031 - val_mae: 1764.4031\n",
            "Epoch 230/300\n",
            "\u001b[1m37/37\u001b[0m \u001b[32m━━━━━━━━━━━━━━━━━━━━\u001b[0m\u001b[37m\u001b[0m \u001b[1m0s\u001b[0m 7ms/step - loss: 795.4563 - mae: 795.4563 - val_loss: 1765.8586 - val_mae: 1765.8586\n",
            "Epoch 231/300\n",
            "\u001b[1m37/37\u001b[0m \u001b[32m━━━━━━━━━━━━━━━━━━━━\u001b[0m\u001b[37m\u001b[0m \u001b[1m0s\u001b[0m 7ms/step - loss: 791.9216 - mae: 791.9216 - val_loss: 1767.9862 - val_mae: 1767.9862\n",
            "Epoch 232/300\n",
            "\u001b[1m37/37\u001b[0m \u001b[32m━━━━━━━━━━━━━━━━━━━━\u001b[0m\u001b[37m\u001b[0m \u001b[1m0s\u001b[0m 7ms/step - loss: 788.6594 - mae: 788.6594 - val_loss: 1754.1052 - val_mae: 1754.1052\n",
            "Epoch 233/300\n",
            "\u001b[1m37/37\u001b[0m \u001b[32m━━━━━━━━━━━━━━━━━━━━\u001b[0m\u001b[37m\u001b[0m \u001b[1m0s\u001b[0m 7ms/step - loss: 794.3218 - mae: 794.3218 - val_loss: 1773.9440 - val_mae: 1773.9440\n",
            "Epoch 234/300\n",
            "\u001b[1m37/37\u001b[0m \u001b[32m━━━━━━━━━━━━━━━━━━━━\u001b[0m\u001b[37m\u001b[0m \u001b[1m0s\u001b[0m 7ms/step - loss: 790.4333 - mae: 790.4333 - val_loss: 1779.5709 - val_mae: 1779.5709\n",
            "Epoch 235/300\n",
            "\u001b[1m37/37\u001b[0m \u001b[32m━━━━━━━━━━━━━━━━━━━━\u001b[0m\u001b[37m\u001b[0m \u001b[1m0s\u001b[0m 6ms/step - loss: 788.2774 - mae: 788.2774 - val_loss: 1755.4338 - val_mae: 1755.4338\n",
            "Epoch 236/300\n",
            "\u001b[1m37/37\u001b[0m \u001b[32m━━━━━━━━━━━━━━━━━━━━\u001b[0m\u001b[37m\u001b[0m \u001b[1m0s\u001b[0m 6ms/step - loss: 795.4302 - mae: 795.4302 - val_loss: 1768.9458 - val_mae: 1768.9458\n",
            "Epoch 237/300\n",
            "\u001b[1m37/37\u001b[0m \u001b[32m━━━━━━━━━━━━━━━━━━━━\u001b[0m\u001b[37m\u001b[0m \u001b[1m0s\u001b[0m 8ms/step - loss: 790.6835 - mae: 790.6835 - val_loss: 1759.3175 - val_mae: 1759.3175\n",
            "Epoch 238/300\n",
            "\u001b[1m37/37\u001b[0m \u001b[32m━━━━━━━━━━━━━━━━━━━━\u001b[0m\u001b[37m\u001b[0m \u001b[1m1s\u001b[0m 6ms/step - loss: 793.9715 - mae: 793.9715 - val_loss: 1766.8748 - val_mae: 1766.8748\n",
            "Epoch 239/300\n",
            "\u001b[1m37/37\u001b[0m \u001b[32m━━━━━━━━━━━━━━━━━━━━\u001b[0m\u001b[37m\u001b[0m \u001b[1m0s\u001b[0m 7ms/step - loss: 787.5693 - mae: 787.5693 - val_loss: 1766.4192 - val_mae: 1766.4192\n",
            "Epoch 240/300\n",
            "\u001b[1m37/37\u001b[0m \u001b[32m━━━━━━━━━━━━━━━━━━━━\u001b[0m\u001b[37m\u001b[0m \u001b[1m0s\u001b[0m 7ms/step - loss: 791.7234 - mae: 791.7234 - val_loss: 1768.3842 - val_mae: 1768.3842\n",
            "Epoch 241/300\n",
            "\u001b[1m37/37\u001b[0m \u001b[32m━━━━━━━━━━━━━━━━━━━━\u001b[0m\u001b[37m\u001b[0m \u001b[1m0s\u001b[0m 8ms/step - loss: 791.0240 - mae: 791.0240 - val_loss: 1744.9281 - val_mae: 1744.9281\n",
            "Epoch 242/300\n",
            "\u001b[1m37/37\u001b[0m \u001b[32m━━━━━━━━━━━━━━━━━━━━\u001b[0m\u001b[37m\u001b[0m \u001b[1m0s\u001b[0m 8ms/step - loss: 788.1011 - mae: 788.1011 - val_loss: 1770.1155 - val_mae: 1770.1155\n",
            "Epoch 243/300\n",
            "\u001b[1m37/37\u001b[0m \u001b[32m━━━━━━━━━━━━━━━━━━━━\u001b[0m\u001b[37m\u001b[0m \u001b[1m0s\u001b[0m 7ms/step - loss: 796.7593 - mae: 796.7593 - val_loss: 1771.8420 - val_mae: 1771.8420\n",
            "Epoch 244/300\n",
            "\u001b[1m37/37\u001b[0m \u001b[32m━━━━━━━━━━━━━━━━━━━━\u001b[0m\u001b[37m\u001b[0m \u001b[1m0s\u001b[0m 6ms/step - loss: 794.9584 - mae: 794.9584 - val_loss: 1764.6940 - val_mae: 1764.6940\n",
            "Epoch 245/300\n",
            "\u001b[1m37/37\u001b[0m \u001b[32m━━━━━━━━━━━━━━━━━━━━\u001b[0m\u001b[37m\u001b[0m \u001b[1m0s\u001b[0m 7ms/step - loss: 792.2115 - mae: 792.2115 - val_loss: 1767.2148 - val_mae: 1767.2148\n",
            "Epoch 246/300\n",
            "\u001b[1m37/37\u001b[0m \u001b[32m━━━━━━━━━━━━━━━━━━━━\u001b[0m\u001b[37m\u001b[0m \u001b[1m0s\u001b[0m 7ms/step - loss: 789.2260 - mae: 789.2260 - val_loss: 1763.2980 - val_mae: 1763.2980\n",
            "Epoch 247/300\n",
            "\u001b[1m37/37\u001b[0m \u001b[32m━━━━━━━━━━━━━━━━━━━━\u001b[0m\u001b[37m\u001b[0m \u001b[1m0s\u001b[0m 7ms/step - loss: 787.8599 - mae: 787.8599 - val_loss: 1758.3020 - val_mae: 1758.3020\n",
            "Epoch 248/300\n",
            "\u001b[1m37/37\u001b[0m \u001b[32m━━━━━━━━━━━━━━━━━━━━\u001b[0m\u001b[37m\u001b[0m \u001b[1m0s\u001b[0m 7ms/step - loss: 789.2784 - mae: 789.2784 - val_loss: 1755.4441 - val_mae: 1755.4441\n",
            "Epoch 249/300\n",
            "\u001b[1m37/37\u001b[0m \u001b[32m━━━━━━━━━━━━━━━━━━━━\u001b[0m\u001b[37m\u001b[0m \u001b[1m0s\u001b[0m 7ms/step - loss: 788.5607 - mae: 788.5607 - val_loss: 1762.8480 - val_mae: 1762.8480\n",
            "Epoch 250/300\n",
            "\u001b[1m37/37\u001b[0m \u001b[32m━━━━━━━━━━━━━━━━━━━━\u001b[0m\u001b[37m\u001b[0m \u001b[1m0s\u001b[0m 7ms/step - loss: 790.7786 - mae: 790.7786 - val_loss: 1745.0709 - val_mae: 1745.0709\n",
            "Epoch 251/300\n",
            "\u001b[1m37/37\u001b[0m \u001b[32m━━━━━━━━━━━━━━━━━━━━\u001b[0m\u001b[37m\u001b[0m \u001b[1m0s\u001b[0m 6ms/step - loss: 787.6151 - mae: 787.6151 - val_loss: 1756.2452 - val_mae: 1756.2452\n",
            "Epoch 252/300\n",
            "\u001b[1m37/37\u001b[0m \u001b[32m━━━━━━━━━━━━━━━━━━━━\u001b[0m\u001b[37m\u001b[0m \u001b[1m0s\u001b[0m 6ms/step - loss: 796.9347 - mae: 796.9347 - val_loss: 1773.5275 - val_mae: 1773.5275\n",
            "Epoch 253/300\n",
            "\u001b[1m37/37\u001b[0m \u001b[32m━━━━━━━━━━━━━━━━━━━━\u001b[0m\u001b[37m\u001b[0m \u001b[1m0s\u001b[0m 7ms/step - loss: 789.6285 - mae: 789.6285 - val_loss: 1758.4037 - val_mae: 1758.4037\n",
            "Epoch 254/300\n",
            "\u001b[1m37/37\u001b[0m \u001b[32m━━━━━━━━━━━━━━━━━━━━\u001b[0m\u001b[37m\u001b[0m \u001b[1m0s\u001b[0m 6ms/step - loss: 787.1603 - mae: 787.1603 - val_loss: 1755.2010 - val_mae: 1755.2010\n",
            "Epoch 255/300\n",
            "\u001b[1m37/37\u001b[0m \u001b[32m━━━━━━━━━━━━━━━━━━━━\u001b[0m\u001b[37m\u001b[0m \u001b[1m0s\u001b[0m 7ms/step - loss: 790.2830 - mae: 790.2830 - val_loss: 1737.9203 - val_mae: 1737.9203\n",
            "Epoch 256/300\n",
            "\u001b[1m37/37\u001b[0m \u001b[32m━━━━━━━━━━━━━━━━━━━━\u001b[0m\u001b[37m\u001b[0m \u001b[1m0s\u001b[0m 6ms/step - loss: 799.9310 - mae: 799.9310 - val_loss: 1768.7136 - val_mae: 1768.7136\n",
            "Epoch 257/300\n",
            "\u001b[1m37/37\u001b[0m \u001b[32m━━━━━━━━━━━━━━━━━━━━\u001b[0m\u001b[37m\u001b[0m \u001b[1m0s\u001b[0m 8ms/step - loss: 792.2966 - mae: 792.2966 - val_loss: 1756.0438 - val_mae: 1756.0438\n",
            "Epoch 258/300\n",
            "\u001b[1m37/37\u001b[0m \u001b[32m━━━━━━━━━━━━━━━━━━━━\u001b[0m\u001b[37m\u001b[0m \u001b[1m0s\u001b[0m 6ms/step - loss: 793.5404 - mae: 793.5404 - val_loss: 1766.5586 - val_mae: 1766.5586\n",
            "Epoch 259/300\n",
            "\u001b[1m37/37\u001b[0m \u001b[32m━━━━━━━━━━━━━━━━━━━━\u001b[0m\u001b[37m\u001b[0m \u001b[1m0s\u001b[0m 6ms/step - loss: 788.6942 - mae: 788.6942 - val_loss: 1743.0259 - val_mae: 1743.0259\n",
            "Epoch 260/300\n",
            "\u001b[1m37/37\u001b[0m \u001b[32m━━━━━━━━━━━━━━━━━━━━\u001b[0m\u001b[37m\u001b[0m \u001b[1m0s\u001b[0m 11ms/step - loss: 787.0802 - mae: 787.0802 - val_loss: 1753.3545 - val_mae: 1753.3545\n",
            "Epoch 261/300\n",
            "\u001b[1m37/37\u001b[0m \u001b[32m━━━━━━━━━━━━━━━━━━━━\u001b[0m\u001b[37m\u001b[0m \u001b[1m0s\u001b[0m 10ms/step - loss: 788.7678 - mae: 788.7678 - val_loss: 1754.7635 - val_mae: 1754.7635\n",
            "Epoch 262/300\n",
            "\u001b[1m37/37\u001b[0m \u001b[32m━━━━━━━━━━━━━━━━━━━━\u001b[0m\u001b[37m\u001b[0m \u001b[1m0s\u001b[0m 9ms/step - loss: 788.7317 - mae: 788.7317 - val_loss: 1755.5699 - val_mae: 1755.5699\n",
            "Epoch 263/300\n",
            "\u001b[1m37/37\u001b[0m \u001b[32m━━━━━━━━━━━━━━━━━━━━\u001b[0m\u001b[37m\u001b[0m \u001b[1m1s\u001b[0m 10ms/step - loss: 797.3918 - mae: 797.3918 - val_loss: 1754.9532 - val_mae: 1754.9532\n",
            "Epoch 264/300\n",
            "\u001b[1m37/37\u001b[0m \u001b[32m━━━━━━━━━━━━━━━━━━━━\u001b[0m\u001b[37m\u001b[0m \u001b[1m1s\u001b[0m 11ms/step - loss: 793.6361 - mae: 793.6361 - val_loss: 1753.3384 - val_mae: 1753.3384\n",
            "Epoch 265/300\n",
            "\u001b[1m37/37\u001b[0m \u001b[32m━━━━━━━━━━━━━━━━━━━━\u001b[0m\u001b[37m\u001b[0m \u001b[1m0s\u001b[0m 6ms/step - loss: 795.7045 - mae: 795.7045 - val_loss: 1768.6713 - val_mae: 1768.6713\n",
            "Epoch 266/300\n",
            "\u001b[1m37/37\u001b[0m \u001b[32m━━━━━━━━━━━━━━━━━━━━\u001b[0m\u001b[37m\u001b[0m \u001b[1m0s\u001b[0m 7ms/step - loss: 790.0970 - mae: 790.0970 - val_loss: 1759.6841 - val_mae: 1759.6841\n",
            "Epoch 267/300\n",
            "\u001b[1m37/37\u001b[0m \u001b[32m━━━━━━━━━━━━━━━━━━━━\u001b[0m\u001b[37m\u001b[0m \u001b[1m0s\u001b[0m 7ms/step - loss: 793.7682 - mae: 793.7682 - val_loss: 1764.8832 - val_mae: 1764.8832\n",
            "Epoch 268/300\n",
            "\u001b[1m37/37\u001b[0m \u001b[32m━━━━━━━━━━━━━━━━━━━━\u001b[0m\u001b[37m\u001b[0m \u001b[1m0s\u001b[0m 6ms/step - loss: 789.0248 - mae: 789.0248 - val_loss: 1767.1034 - val_mae: 1767.1034\n",
            "Epoch 269/300\n",
            "\u001b[1m37/37\u001b[0m \u001b[32m━━━━━━━━━━━━━━━━━━━━\u001b[0m\u001b[37m\u001b[0m \u001b[1m0s\u001b[0m 6ms/step - loss: 793.3973 - mae: 793.3973 - val_loss: 1750.8528 - val_mae: 1750.8528\n",
            "Epoch 270/300\n",
            "\u001b[1m37/37\u001b[0m \u001b[32m━━━━━━━━━━━━━━━━━━━━\u001b[0m\u001b[37m\u001b[0m \u001b[1m0s\u001b[0m 7ms/step - loss: 788.4883 - mae: 788.4883 - val_loss: 1746.7090 - val_mae: 1746.7090\n",
            "Epoch 271/300\n",
            "\u001b[1m37/37\u001b[0m \u001b[32m━━━━━━━━━━━━━━━━━━━━\u001b[0m\u001b[37m\u001b[0m \u001b[1m0s\u001b[0m 6ms/step - loss: 784.4908 - mae: 784.4908 - val_loss: 1745.6117 - val_mae: 1745.6117\n",
            "Epoch 272/300\n",
            "\u001b[1m37/37\u001b[0m \u001b[32m━━━━━━━━━━━━━━━━━━━━\u001b[0m\u001b[37m\u001b[0m \u001b[1m0s\u001b[0m 7ms/step - loss: 783.9190 - mae: 783.9190 - val_loss: 1743.4310 - val_mae: 1743.4310\n",
            "Epoch 273/300\n",
            "\u001b[1m37/37\u001b[0m \u001b[32m━━━━━━━━━━━━━━━━━━━━\u001b[0m\u001b[37m\u001b[0m \u001b[1m0s\u001b[0m 7ms/step - loss: 786.1593 - mae: 786.1593 - val_loss: 1750.8170 - val_mae: 1750.8170\n",
            "Epoch 274/300\n",
            "\u001b[1m37/37\u001b[0m \u001b[32m━━━━━━━━━━━━━━━━━━━━\u001b[0m\u001b[37m\u001b[0m \u001b[1m0s\u001b[0m 7ms/step - loss: 785.2264 - mae: 785.2264 - val_loss: 1762.8148 - val_mae: 1762.8148\n",
            "Epoch 275/300\n",
            "\u001b[1m37/37\u001b[0m \u001b[32m━━━━━━━━━━━━━━━━━━━━\u001b[0m\u001b[37m\u001b[0m \u001b[1m0s\u001b[0m 6ms/step - loss: 791.1667 - mae: 791.1667 - val_loss: 1757.7886 - val_mae: 1757.7886\n",
            "Epoch 276/300\n",
            "\u001b[1m37/37\u001b[0m \u001b[32m━━━━━━━━━━━━━━━━━━━━\u001b[0m\u001b[37m\u001b[0m \u001b[1m0s\u001b[0m 6ms/step - loss: 793.2266 - mae: 793.2266 - val_loss: 1771.9879 - val_mae: 1771.9879\n",
            "Epoch 277/300\n",
            "\u001b[1m37/37\u001b[0m \u001b[32m━━━━━━━━━━━━━━━━━━━━\u001b[0m\u001b[37m\u001b[0m \u001b[1m0s\u001b[0m 6ms/step - loss: 790.0089 - mae: 790.0089 - val_loss: 1781.8981 - val_mae: 1781.8981\n",
            "Epoch 278/300\n",
            "\u001b[1m37/37\u001b[0m \u001b[32m━━━━━━━━━━━━━━━━━━━━\u001b[0m\u001b[37m\u001b[0m \u001b[1m0s\u001b[0m 8ms/step - loss: 795.9426 - mae: 795.9426 - val_loss: 1805.5370 - val_mae: 1805.5370\n",
            "Epoch 279/300\n",
            "\u001b[1m37/37\u001b[0m \u001b[32m━━━━━━━━━━━━━━━━━━━━\u001b[0m\u001b[37m\u001b[0m \u001b[1m0s\u001b[0m 6ms/step - loss: 790.9160 - mae: 790.9160 - val_loss: 1796.7661 - val_mae: 1796.7661\n",
            "Epoch 280/300\n",
            "\u001b[1m37/37\u001b[0m \u001b[32m━━━━━━━━━━━━━━━━━━━━\u001b[0m\u001b[37m\u001b[0m \u001b[1m0s\u001b[0m 7ms/step - loss: 792.5232 - mae: 792.5232 - val_loss: 1785.6503 - val_mae: 1785.6503\n",
            "Epoch 281/300\n",
            "\u001b[1m37/37\u001b[0m \u001b[32m━━━━━━━━━━━━━━━━━━━━\u001b[0m\u001b[37m\u001b[0m \u001b[1m0s\u001b[0m 7ms/step - loss: 788.7635 - mae: 788.7635 - val_loss: 1776.5070 - val_mae: 1776.5070\n",
            "Epoch 282/300\n",
            "\u001b[1m37/37\u001b[0m \u001b[32m━━━━━━━━━━━━━━━━━━━━\u001b[0m\u001b[37m\u001b[0m \u001b[1m0s\u001b[0m 7ms/step - loss: 788.0883 - mae: 788.0883 - val_loss: 1759.3209 - val_mae: 1759.3209\n",
            "Epoch 283/300\n",
            "\u001b[1m37/37\u001b[0m \u001b[32m━━━━━━━━━━━━━━━━━━━━\u001b[0m\u001b[37m\u001b[0m \u001b[1m0s\u001b[0m 6ms/step - loss: 788.9890 - mae: 788.9890 - val_loss: 1747.4744 - val_mae: 1747.4744\n",
            "Epoch 284/300\n",
            "\u001b[1m37/37\u001b[0m \u001b[32m━━━━━━━━━━━━━━━━━━━━\u001b[0m\u001b[37m\u001b[0m \u001b[1m0s\u001b[0m 6ms/step - loss: 784.1328 - mae: 784.1328 - val_loss: 1747.2817 - val_mae: 1747.2817\n",
            "Epoch 285/300\n",
            "\u001b[1m37/37\u001b[0m \u001b[32m━━━━━━━━━━━━━━━━━━━━\u001b[0m\u001b[37m\u001b[0m \u001b[1m0s\u001b[0m 7ms/step - loss: 784.0783 - mae: 784.0783 - val_loss: 1738.1207 - val_mae: 1738.1207\n",
            "Epoch 286/300\n",
            "\u001b[1m37/37\u001b[0m \u001b[32m━━━━━━━━━━━━━━━━━━━━\u001b[0m\u001b[37m\u001b[0m \u001b[1m0s\u001b[0m 6ms/step - loss: 783.7048 - mae: 783.7048 - val_loss: 1754.8259 - val_mae: 1754.8259\n",
            "Epoch 287/300\n",
            "\u001b[1m37/37\u001b[0m \u001b[32m━━━━━━━━━━━━━━━━━━━━\u001b[0m\u001b[37m\u001b[0m \u001b[1m0s\u001b[0m 6ms/step - loss: 792.1198 - mae: 792.1198 - val_loss: 1766.5513 - val_mae: 1766.5513\n",
            "Epoch 288/300\n",
            "\u001b[1m37/37\u001b[0m \u001b[32m━━━━━━━━━━━━━━━━━━━━\u001b[0m\u001b[37m\u001b[0m \u001b[1m0s\u001b[0m 7ms/step - loss: 791.0461 - mae: 791.0461 - val_loss: 1737.7412 - val_mae: 1737.7412\n",
            "Epoch 289/300\n",
            "\u001b[1m37/37\u001b[0m \u001b[32m━━━━━━━━━━━━━━━━━━━━\u001b[0m\u001b[37m\u001b[0m \u001b[1m0s\u001b[0m 7ms/step - loss: 784.5983 - mae: 784.5983 - val_loss: 1757.9828 - val_mae: 1757.9828\n",
            "Epoch 290/300\n",
            "\u001b[1m37/37\u001b[0m \u001b[32m━━━━━━━━━━━━━━━━━━━━\u001b[0m\u001b[37m\u001b[0m \u001b[1m0s\u001b[0m 7ms/step - loss: 793.2346 - mae: 793.2346 - val_loss: 1764.9534 - val_mae: 1764.9534\n",
            "Epoch 291/300\n",
            "\u001b[1m37/37\u001b[0m \u001b[32m━━━━━━━━━━━━━━━━━━━━\u001b[0m\u001b[37m\u001b[0m \u001b[1m0s\u001b[0m 6ms/step - loss: 789.8251 - mae: 789.8251 - val_loss: 1768.7726 - val_mae: 1768.7726\n",
            "Epoch 292/300\n",
            "\u001b[1m37/37\u001b[0m \u001b[32m━━━━━━━━━━━━━━━━━━━━\u001b[0m\u001b[37m\u001b[0m \u001b[1m0s\u001b[0m 7ms/step - loss: 790.8040 - mae: 790.8040 - val_loss: 1759.9752 - val_mae: 1759.9752\n",
            "Epoch 293/300\n",
            "\u001b[1m37/37\u001b[0m \u001b[32m━━━━━━━━━━━━━━━━━━━━\u001b[0m\u001b[37m\u001b[0m \u001b[1m0s\u001b[0m 6ms/step - loss: 786.7133 - mae: 786.7133 - val_loss: 1757.0076 - val_mae: 1757.0076\n",
            "Epoch 294/300\n",
            "\u001b[1m37/37\u001b[0m \u001b[32m━━━━━━━━━━━━━━━━━━━━\u001b[0m\u001b[37m\u001b[0m \u001b[1m0s\u001b[0m 6ms/step - loss: 788.9199 - mae: 788.9199 - val_loss: 1759.9373 - val_mae: 1759.9373\n",
            "Epoch 295/300\n",
            "\u001b[1m37/37\u001b[0m \u001b[32m━━━━━━━━━━━━━━━━━━━━\u001b[0m\u001b[37m\u001b[0m \u001b[1m0s\u001b[0m 6ms/step - loss: 787.8697 - mae: 787.8697 - val_loss: 1751.4711 - val_mae: 1751.4711\n",
            "Epoch 296/300\n",
            "\u001b[1m37/37\u001b[0m \u001b[32m━━━━━━━━━━━━━━━━━━━━\u001b[0m\u001b[37m\u001b[0m \u001b[1m0s\u001b[0m 7ms/step - loss: 783.1917 - mae: 783.1917 - val_loss: 1755.5161 - val_mae: 1755.5161\n",
            "Epoch 297/300\n",
            "\u001b[1m37/37\u001b[0m \u001b[32m━━━━━━━━━━━━━━━━━━━━\u001b[0m\u001b[37m\u001b[0m \u001b[1m0s\u001b[0m 6ms/step - loss: 782.9846 - mae: 782.9846 - val_loss: 1751.7748 - val_mae: 1751.7748\n",
            "Epoch 298/300\n",
            "\u001b[1m37/37\u001b[0m \u001b[32m━━━━━━━━━━━━━━━━━━━━\u001b[0m\u001b[37m\u001b[0m \u001b[1m0s\u001b[0m 8ms/step - loss: 786.3334 - mae: 786.3334 - val_loss: 1760.6442 - val_mae: 1760.6442\n",
            "Epoch 299/300\n",
            "\u001b[1m37/37\u001b[0m \u001b[32m━━━━━━━━━━━━━━━━━━━━\u001b[0m\u001b[37m\u001b[0m \u001b[1m1s\u001b[0m 11ms/step - loss: 788.9967 - mae: 788.9967 - val_loss: 1792.3844 - val_mae: 1792.3844\n",
            "Epoch 300/300\n",
            "\u001b[1m37/37\u001b[0m \u001b[32m━━━━━━━━━━━━━━━━━━━━\u001b[0m\u001b[37m\u001b[0m \u001b[1m1s\u001b[0m 11ms/step - loss: 791.1646 - mae: 791.1646 - val_loss: 1758.1328 - val_mae: 1758.1328\n"
          ]
        },
        {
          "output_type": "execute_result",
          "data": {
            "text/plain": [
              "<keras.src.callbacks.history.History at 0x7ec4bfd41dd0>"
            ]
          },
          "metadata": {},
          "execution_count": 411
        }
      ],
      "source": [
        "\n",
        "\n",
        "import tensorflow as tf\n",
        "from tensorflow.keras import layers\n",
        "from tensorflow.keras.callbacks import EarlyStopping\n",
        "\n",
        "tf.random.set_seed(42)\n",
        "\n",
        "# ---------------------------\n",
        "# Définition du modèle\n",
        "# ---------------------------\n",
        "inputs = layers.Input(shape=(WINDOW,))\n",
        "x = layers.Lambda(lambda x: tf.expand_dims(x, axis=1))(inputs)\n",
        "x = layers.LSTM(128, activation=\"relu\")(x)\n",
        "output = layers.Dense(HORIZON)(x)\n",
        "\n",
        "model_4 = tf.keras.Model(inputs=inputs, outputs=output, name=\"model_4_lstm\")\n",
        "\n",
        "model_4.compile(loss='mae',\n",
        "                optimizer=tf.keras.optimizers.Adam(),\n",
        "                metrics=[\"mae\"])\n",
        "\n",
        "\n",
        "# ---------------------------\n",
        "# Callbacks\n",
        "# ---------------------------\n",
        "# early_stop = EarlyStopping(\n",
        "#     monitor='val_loss',\n",
        "#     patience=10,\n",
        "#     restore_best_weights=True\n",
        "# )\n",
        "\n",
        "# ---------------------------\n",
        "# Entraînement\n",
        "# ---------------------------\n",
        "model_4.fit(\n",
        "    train_windows,\n",
        "    train_labels,\n",
        "    epochs=300,\n",
        "    batch_size=32,\n",
        "    verbose=1,\n",
        "    validation_data=(test_windows, test_labels),\n",
        "    callbacks=[ create_model_checkpoint(model_name=model_4.name)]\n",
        ")\n",
        "\n",
        "\n"
      ]
    },
    {
      "cell_type": "code",
      "source": [],
      "metadata": {
        "id": "xuzwUFab-f-B"
      },
      "id": "xuzwUFab-f-B",
      "execution_count": 406,
      "outputs": []
    },
    {
      "cell_type": "code",
      "execution_count": 412,
      "id": "3c5bd542",
      "metadata": {
        "colab": {
          "base_uri": "https://localhost:8080/"
        },
        "id": "3c5bd542",
        "outputId": "7fa68bab-984a-4267-ef43-f6ace36256b4"
      },
      "outputs": [
        {
          "output_type": "stream",
          "name": "stdout",
          "text": [
            "\u001b[1m10/10\u001b[0m \u001b[32m━━━━━━━━━━━━━━━━━━━━\u001b[0m\u001b[37m\u001b[0m \u001b[1m0s\u001b[0m 25ms/step\n"
          ]
        }
      ],
      "source": [
        "model_4_preds = make_preds(model_4, test_windows)"
      ]
    },
    {
      "cell_type": "code",
      "execution_count": 413,
      "id": "7d58573f",
      "metadata": {
        "colab": {
          "base_uri": "https://localhost:8080/"
        },
        "id": "7d58573f",
        "outputId": "cef7a91a-83c9-4ae5-b732-41e1d3bbeb13"
      },
      "outputs": [
        {
          "output_type": "execute_result",
          "data": {
            "text/plain": [
              "{'mae': 1758.1328259698275,\n",
              " 'mse': 5748392.62643964,\n",
              " 'rmse': 2397.5805776740103,\n",
              " 'mape': 0.02311329982598816,\n",
              " 'mase': 1.0293568628468486}"
            ]
          },
          "metadata": {},
          "execution_count": 413
        }
      ],
      "source": [
        "model_4_metrics = evaluate_preds(y_true=tf.squeeze(test_labels),\n",
        "                                 y_pred=model_4_preds)\n",
        "model_4_metrics"
      ]
    },
    {
      "cell_type": "code",
      "execution_count": 414,
      "id": "34d0d3d1",
      "metadata": {
        "id": "34d0d3d1"
      },
      "outputs": [],
      "source": [
        "list_of_dict = [resultat_preds_naive,model_1_metrics,model_2_metrics,model_3_metrics,model_4_metrics]"
      ]
    },
    {
      "cell_type": "code",
      "execution_count": 415,
      "id": "365606ff",
      "metadata": {
        "colab": {
          "base_uri": "https://localhost:8080/",
          "height": 206
        },
        "id": "365606ff",
        "outputId": "7978f203-9bae-4104-9c97-9dcee8d18622"
      },
      "outputs": [
        {
          "output_type": "execute_result",
          "data": {
            "text/plain": [
              "                                                 mae           mse  \\\n",
              "Modèle naif                              1697.371389  5.585988e+06   \n",
              "Modèle dense (window=7, horizon=1)       1767.815962  5.841422e+06   \n",
              "Modèle dense (window=30, horizon=1)      1967.742829  7.145469e+06   \n",
              "Modèle Conv1D (window=7, horizon=1)      1799.937163  6.072765e+06   \n",
              "Modèle RNN (LSTM) (window=7, horizon=1)  1758.132826  5.748393e+06   \n",
              "\n",
              "                                                rmse      mape      mase  \n",
              "Modèle naif                              2363.469446  0.022247  0.997000  \n",
              "Modèle dense (window=7, horizon=1)       2416.903300  0.023122  1.035026  \n",
              "Modèle dense (window=30, horizon=1)      2673.101082  0.025765  1.151785  \n",
              "Modèle Conv1D (window=7, horizon=1)      2464.297979  0.023526  1.053833  \n",
              "Modèle RNN (LSTM) (window=7, horizon=1)  2397.580578  0.023113  1.029357  "
            ],
            "text/html": [
              "\n",
              "  <div id=\"df-1b628bdd-6e1d-45d0-a2f0-7ffeb089e666\" class=\"colab-df-container\">\n",
              "    <div>\n",
              "<style scoped>\n",
              "    .dataframe tbody tr th:only-of-type {\n",
              "        vertical-align: middle;\n",
              "    }\n",
              "\n",
              "    .dataframe tbody tr th {\n",
              "        vertical-align: top;\n",
              "    }\n",
              "\n",
              "    .dataframe thead th {\n",
              "        text-align: right;\n",
              "    }\n",
              "</style>\n",
              "<table border=\"1\" class=\"dataframe\">\n",
              "  <thead>\n",
              "    <tr style=\"text-align: right;\">\n",
              "      <th></th>\n",
              "      <th>mae</th>\n",
              "      <th>mse</th>\n",
              "      <th>rmse</th>\n",
              "      <th>mape</th>\n",
              "      <th>mase</th>\n",
              "    </tr>\n",
              "  </thead>\n",
              "  <tbody>\n",
              "    <tr>\n",
              "      <th>Modèle naif</th>\n",
              "      <td>1697.371389</td>\n",
              "      <td>5.585988e+06</td>\n",
              "      <td>2363.469446</td>\n",
              "      <td>0.022247</td>\n",
              "      <td>0.997000</td>\n",
              "    </tr>\n",
              "    <tr>\n",
              "      <th>Modèle dense (window=7, horizon=1)</th>\n",
              "      <td>1767.815962</td>\n",
              "      <td>5.841422e+06</td>\n",
              "      <td>2416.903300</td>\n",
              "      <td>0.023122</td>\n",
              "      <td>1.035026</td>\n",
              "    </tr>\n",
              "    <tr>\n",
              "      <th>Modèle dense (window=30, horizon=1)</th>\n",
              "      <td>1967.742829</td>\n",
              "      <td>7.145469e+06</td>\n",
              "      <td>2673.101082</td>\n",
              "      <td>0.025765</td>\n",
              "      <td>1.151785</td>\n",
              "    </tr>\n",
              "    <tr>\n",
              "      <th>Modèle Conv1D (window=7, horizon=1)</th>\n",
              "      <td>1799.937163</td>\n",
              "      <td>6.072765e+06</td>\n",
              "      <td>2464.297979</td>\n",
              "      <td>0.023526</td>\n",
              "      <td>1.053833</td>\n",
              "    </tr>\n",
              "    <tr>\n",
              "      <th>Modèle RNN (LSTM) (window=7, horizon=1)</th>\n",
              "      <td>1758.132826</td>\n",
              "      <td>5.748393e+06</td>\n",
              "      <td>2397.580578</td>\n",
              "      <td>0.023113</td>\n",
              "      <td>1.029357</td>\n",
              "    </tr>\n",
              "  </tbody>\n",
              "</table>\n",
              "</div>\n",
              "    <div class=\"colab-df-buttons\">\n",
              "\n",
              "  <div class=\"colab-df-container\">\n",
              "    <button class=\"colab-df-convert\" onclick=\"convertToInteractive('df-1b628bdd-6e1d-45d0-a2f0-7ffeb089e666')\"\n",
              "            title=\"Convert this dataframe to an interactive table.\"\n",
              "            style=\"display:none;\">\n",
              "\n",
              "  <svg xmlns=\"http://www.w3.org/2000/svg\" height=\"24px\" viewBox=\"0 -960 960 960\">\n",
              "    <path d=\"M120-120v-720h720v720H120Zm60-500h600v-160H180v160Zm220 220h160v-160H400v160Zm0 220h160v-160H400v160ZM180-400h160v-160H180v160Zm440 0h160v-160H620v160ZM180-180h160v-160H180v160Zm440 0h160v-160H620v160Z\"/>\n",
              "  </svg>\n",
              "    </button>\n",
              "\n",
              "  <style>\n",
              "    .colab-df-container {\n",
              "      display:flex;\n",
              "      gap: 12px;\n",
              "    }\n",
              "\n",
              "    .colab-df-convert {\n",
              "      background-color: #E8F0FE;\n",
              "      border: none;\n",
              "      border-radius: 50%;\n",
              "      cursor: pointer;\n",
              "      display: none;\n",
              "      fill: #1967D2;\n",
              "      height: 32px;\n",
              "      padding: 0 0 0 0;\n",
              "      width: 32px;\n",
              "    }\n",
              "\n",
              "    .colab-df-convert:hover {\n",
              "      background-color: #E2EBFA;\n",
              "      box-shadow: 0px 1px 2px rgba(60, 64, 67, 0.3), 0px 1px 3px 1px rgba(60, 64, 67, 0.15);\n",
              "      fill: #174EA6;\n",
              "    }\n",
              "\n",
              "    .colab-df-buttons div {\n",
              "      margin-bottom: 4px;\n",
              "    }\n",
              "\n",
              "    [theme=dark] .colab-df-convert {\n",
              "      background-color: #3B4455;\n",
              "      fill: #D2E3FC;\n",
              "    }\n",
              "\n",
              "    [theme=dark] .colab-df-convert:hover {\n",
              "      background-color: #434B5C;\n",
              "      box-shadow: 0px 1px 3px 1px rgba(0, 0, 0, 0.15);\n",
              "      filter: drop-shadow(0px 1px 2px rgba(0, 0, 0, 0.3));\n",
              "      fill: #FFFFFF;\n",
              "    }\n",
              "  </style>\n",
              "\n",
              "    <script>\n",
              "      const buttonEl =\n",
              "        document.querySelector('#df-1b628bdd-6e1d-45d0-a2f0-7ffeb089e666 button.colab-df-convert');\n",
              "      buttonEl.style.display =\n",
              "        google.colab.kernel.accessAllowed ? 'block' : 'none';\n",
              "\n",
              "      async function convertToInteractive(key) {\n",
              "        const element = document.querySelector('#df-1b628bdd-6e1d-45d0-a2f0-7ffeb089e666');\n",
              "        const dataTable =\n",
              "          await google.colab.kernel.invokeFunction('convertToInteractive',\n",
              "                                                    [key], {});\n",
              "        if (!dataTable) return;\n",
              "\n",
              "        const docLinkHtml = 'Like what you see? Visit the ' +\n",
              "          '<a target=\"_blank\" href=https://colab.research.google.com/notebooks/data_table.ipynb>data table notebook</a>'\n",
              "          + ' to learn more about interactive tables.';\n",
              "        element.innerHTML = '';\n",
              "        dataTable['output_type'] = 'display_data';\n",
              "        await google.colab.output.renderOutput(dataTable, element);\n",
              "        const docLink = document.createElement('div');\n",
              "        docLink.innerHTML = docLinkHtml;\n",
              "        element.appendChild(docLink);\n",
              "      }\n",
              "    </script>\n",
              "  </div>\n",
              "\n",
              "\n",
              "    <div id=\"df-95489fa6-c3d4-4d63-8de6-2949debce028\">\n",
              "      <button class=\"colab-df-quickchart\" onclick=\"quickchart('df-95489fa6-c3d4-4d63-8de6-2949debce028')\"\n",
              "                title=\"Suggest charts\"\n",
              "                style=\"display:none;\">\n",
              "\n",
              "<svg xmlns=\"http://www.w3.org/2000/svg\" height=\"24px\"viewBox=\"0 0 24 24\"\n",
              "     width=\"24px\">\n",
              "    <g>\n",
              "        <path d=\"M19 3H5c-1.1 0-2 .9-2 2v14c0 1.1.9 2 2 2h14c1.1 0 2-.9 2-2V5c0-1.1-.9-2-2-2zM9 17H7v-7h2v7zm4 0h-2V7h2v10zm4 0h-2v-4h2v4z\"/>\n",
              "    </g>\n",
              "</svg>\n",
              "      </button>\n",
              "\n",
              "<style>\n",
              "  .colab-df-quickchart {\n",
              "      --bg-color: #E8F0FE;\n",
              "      --fill-color: #1967D2;\n",
              "      --hover-bg-color: #E2EBFA;\n",
              "      --hover-fill-color: #174EA6;\n",
              "      --disabled-fill-color: #AAA;\n",
              "      --disabled-bg-color: #DDD;\n",
              "  }\n",
              "\n",
              "  [theme=dark] .colab-df-quickchart {\n",
              "      --bg-color: #3B4455;\n",
              "      --fill-color: #D2E3FC;\n",
              "      --hover-bg-color: #434B5C;\n",
              "      --hover-fill-color: #FFFFFF;\n",
              "      --disabled-bg-color: #3B4455;\n",
              "      --disabled-fill-color: #666;\n",
              "  }\n",
              "\n",
              "  .colab-df-quickchart {\n",
              "    background-color: var(--bg-color);\n",
              "    border: none;\n",
              "    border-radius: 50%;\n",
              "    cursor: pointer;\n",
              "    display: none;\n",
              "    fill: var(--fill-color);\n",
              "    height: 32px;\n",
              "    padding: 0;\n",
              "    width: 32px;\n",
              "  }\n",
              "\n",
              "  .colab-df-quickchart:hover {\n",
              "    background-color: var(--hover-bg-color);\n",
              "    box-shadow: 0 1px 2px rgba(60, 64, 67, 0.3), 0 1px 3px 1px rgba(60, 64, 67, 0.15);\n",
              "    fill: var(--button-hover-fill-color);\n",
              "  }\n",
              "\n",
              "  .colab-df-quickchart-complete:disabled,\n",
              "  .colab-df-quickchart-complete:disabled:hover {\n",
              "    background-color: var(--disabled-bg-color);\n",
              "    fill: var(--disabled-fill-color);\n",
              "    box-shadow: none;\n",
              "  }\n",
              "\n",
              "  .colab-df-spinner {\n",
              "    border: 2px solid var(--fill-color);\n",
              "    border-color: transparent;\n",
              "    border-bottom-color: var(--fill-color);\n",
              "    animation:\n",
              "      spin 1s steps(1) infinite;\n",
              "  }\n",
              "\n",
              "  @keyframes spin {\n",
              "    0% {\n",
              "      border-color: transparent;\n",
              "      border-bottom-color: var(--fill-color);\n",
              "      border-left-color: var(--fill-color);\n",
              "    }\n",
              "    20% {\n",
              "      border-color: transparent;\n",
              "      border-left-color: var(--fill-color);\n",
              "      border-top-color: var(--fill-color);\n",
              "    }\n",
              "    30% {\n",
              "      border-color: transparent;\n",
              "      border-left-color: var(--fill-color);\n",
              "      border-top-color: var(--fill-color);\n",
              "      border-right-color: var(--fill-color);\n",
              "    }\n",
              "    40% {\n",
              "      border-color: transparent;\n",
              "      border-right-color: var(--fill-color);\n",
              "      border-top-color: var(--fill-color);\n",
              "    }\n",
              "    60% {\n",
              "      border-color: transparent;\n",
              "      border-right-color: var(--fill-color);\n",
              "    }\n",
              "    80% {\n",
              "      border-color: transparent;\n",
              "      border-right-color: var(--fill-color);\n",
              "      border-bottom-color: var(--fill-color);\n",
              "    }\n",
              "    90% {\n",
              "      border-color: transparent;\n",
              "      border-bottom-color: var(--fill-color);\n",
              "    }\n",
              "  }\n",
              "</style>\n",
              "\n",
              "      <script>\n",
              "        async function quickchart(key) {\n",
              "          const quickchartButtonEl =\n",
              "            document.querySelector('#' + key + ' button');\n",
              "          quickchartButtonEl.disabled = true;  // To prevent multiple clicks.\n",
              "          quickchartButtonEl.classList.add('colab-df-spinner');\n",
              "          try {\n",
              "            const charts = await google.colab.kernel.invokeFunction(\n",
              "                'suggestCharts', [key], {});\n",
              "          } catch (error) {\n",
              "            console.error('Error during call to suggestCharts:', error);\n",
              "          }\n",
              "          quickchartButtonEl.classList.remove('colab-df-spinner');\n",
              "          quickchartButtonEl.classList.add('colab-df-quickchart-complete');\n",
              "        }\n",
              "        (() => {\n",
              "          let quickchartButtonEl =\n",
              "            document.querySelector('#df-95489fa6-c3d4-4d63-8de6-2949debce028 button');\n",
              "          quickchartButtonEl.style.display =\n",
              "            google.colab.kernel.accessAllowed ? 'block' : 'none';\n",
              "        })();\n",
              "      </script>\n",
              "    </div>\n",
              "\n",
              "    </div>\n",
              "  </div>\n"
            ],
            "application/vnd.google.colaboratory.intrinsic+json": {
              "type": "dataframe",
              "summary": "{\n  \"name\": \"                                 'Mod\\u00e8le RNN (LSTM) (window=7, horizon=1)'])\",\n  \"rows\": 5,\n  \"fields\": [\n    {\n      \"column\": \"mae\",\n      \"properties\": {\n        \"dtype\": \"number\",\n        \"std\": 101.78748172946112,\n        \"min\": 1697.3713890678694,\n        \"max\": 1967.742829436189,\n        \"num_unique_values\": 5,\n        \"samples\": [\n          1767.8159617456897,\n          1758.1328259698275,\n          1967.742829436189\n        ],\n        \"semantic_type\": \"\",\n        \"description\": \"\"\n      }\n    },\n    {\n      \"column\": \"mse\",\n      \"properties\": {\n        \"dtype\": \"number\",\n        \"std\": 621731.738039237,\n        \"min\": 5585987.822268089,\n        \"max\": 7145469.39221058,\n        \"num_unique_values\": 5,\n        \"samples\": [\n          5841421.562900254,\n          5748392.62643964,\n          7145469.39221058\n        ],\n        \"semantic_type\": \"\",\n        \"description\": \"\"\n      }\n    },\n    {\n      \"column\": \"rmse\",\n      \"properties\": {\n        \"dtype\": \"number\",\n        \"std\": 122.938055645695,\n        \"min\": 2363.469446019578,\n        \"max\": 2673.101081555013,\n        \"num_unique_values\": 5,\n        \"samples\": [\n          2416.903300279151,\n          2397.5805776740103,\n          2673.101081555013\n        ],\n        \"semantic_type\": \"\",\n        \"description\": \"\"\n      }\n    },\n    {\n      \"column\": \"mape\",\n      \"properties\": {\n        \"dtype\": \"number\",\n        \"std\": 0.0013208478150133897,\n        \"min\": 0.022246845536427112,\n        \"max\": 0.02576487156187364,\n        \"num_unique_values\": 5,\n        \"samples\": [\n          0.023121652747796338,\n          0.02311329982598816,\n          0.02576487156187364\n        ],\n        \"semantic_type\": \"\",\n        \"description\": \"\"\n      }\n    },\n    {\n      \"column\": \"mase\",\n      \"properties\": {\n        \"dtype\": \"number\",\n        \"std\": 0.05868659493443687,\n        \"min\": 0.9970004418033657,\n        \"max\": 1.151785458677612,\n        \"num_unique_values\": 5,\n        \"samples\": [\n          1.0350261741284141,\n          1.0293568628468486,\n          1.151785458677612\n        ],\n        \"semantic_type\": \"\",\n        \"description\": \"\"\n      }\n    }\n  ]\n}"
            }
          },
          "metadata": {},
          "execution_count": 415
        }
      ],
      "source": [
        "pd.DataFrame(list_of_dict,index=['Modèle naif',\n",
        "                                 'Modèle dense (window=7, horizon=1)',\n",
        "                                 'Modèle dense (window=30, horizon=1)',\n",
        "                                 'Modèle Conv1D (window=7, horizon=1)',\n",
        "                                 'Modèle RNN (LSTM) (window=7, horizon=1)'])"
      ]
    },
    {
      "cell_type": "markdown",
      "id": "86614996",
      "metadata": {
        "id": "86614996"
      },
      "source": [
        "comme dit précédemment, le LSTM performe nettement bien, se rapproche suffisamment du modèle dense de 1 semaine et 1 jour. On remarque également que ce dernier challenge meme sur certaines mésures le modèle naif. C'est pourquoi il reste par conséquent, l'un des modèles les plus utlisés sur les données séquentielles. Ainsi, le modèle des RNN challenge sérieusement et se rapproche suffisamment du modèle naif. Par conséquent, ce modèle représente un candidat potentiel pour prédire le prix du __BTC__.\n",
        "\n",
        "Tout ce que l'on vient de voir sont des algorithmes de deep learning classiques pour la modélisation des données séquentielles comme les séries temporelles. Comment alors se comportent les algorithmes récents de deep learning qui ont performé dans des compétitons internationales qui sont maintenant des références ?"
      ]
    },
    {
      "cell_type": "code",
      "execution_count": null,
      "id": "b0cf848d",
      "metadata": {
        "id": "b0cf848d"
      },
      "outputs": [],
      "source": []
    }
  ],
  "metadata": {
    "kernelspec": {
      "display_name": "Python (env_stable)",
      "language": "python",
      "name": "env_stable"
    },
    "language_info": {
      "codemirror_mode": {
        "name": "ipython",
        "version": 3
      },
      "file_extension": ".py",
      "mimetype": "text/x-python",
      "name": "python",
      "nbconvert_exporter": "python",
      "pygments_lexer": "ipython3",
      "version": "3.10.16"
    },
    "colab": {
      "provenance": []
    }
  },
  "nbformat": 4,
  "nbformat_minor": 5
}